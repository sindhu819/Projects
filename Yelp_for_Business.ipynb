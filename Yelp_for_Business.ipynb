{
  "nbformat": 4,
  "nbformat_minor": 0,
  "metadata": {
    "colab": {
      "name": "YelpSuggest for BusinessOwners",
      "provenance": [],
      "collapsed_sections": [],
      "include_colab_link": true
    },
    "kernelspec": {
      "name": "python3",
      "display_name": "Python 3"
    }
  },
  "cells": [
    {
      "cell_type": "markdown",
      "metadata": {
        "id": "view-in-github",
        "colab_type": "text"
      },
      "source": [
        "<a href=\"https://colab.research.google.com/github/sindhu819/Projects/blob/master/Yelp_for_Business.ipynb\" target=\"_parent\"><img src=\"https://colab.research.google.com/assets/colab-badge.svg\" alt=\"Open In Colab\"/></a>"
      ]
    },
    {
      "cell_type": "markdown",
      "metadata": {
        "id": "8cM_Gnr1o9d7",
        "colab_type": "text"
      },
      "source": [
        "#Initiating the required modules in notebook"
      ]
    },
    {
      "cell_type": "code",
      "metadata": {
        "id": "Fjg_hBKg-FsK",
        "colab_type": "code",
        "colab": {}
      },
      "source": [
        "!apt-get install openjdk-8-jdk-headless -qq > /dev/null"
      ],
      "execution_count": 0,
      "outputs": []
    },
    {
      "cell_type": "code",
      "metadata": {
        "id": "ikNnEYk4-Hux",
        "colab_type": "code",
        "colab": {}
      },
      "source": [
        "!wget -q https://www-us.apache.org/dist/spark/spark-2.4.4/spark-2.4.4-bin-hadoop2.7.tgz"
      ],
      "execution_count": 0,
      "outputs": []
    },
    {
      "cell_type": "code",
      "metadata": {
        "id": "2iaIMPwp-I8l",
        "colab_type": "code",
        "colab": {}
      },
      "source": [
        "!tar xf spark-2.4.4-bin-hadoop2.7.tgz"
      ],
      "execution_count": 0,
      "outputs": []
    },
    {
      "cell_type": "code",
      "metadata": {
        "id": "ojx-cEwv_ic7",
        "colab_type": "code",
        "outputId": "26283be9-215d-436b-9949-3df3a448f610",
        "colab": {
          "base_uri": "https://localhost:8080/",
          "height": 258
        }
      },
      "source": [
        "!pip install pyspark"
      ],
      "execution_count": 0,
      "outputs": [
        {
          "output_type": "stream",
          "text": [
            "Collecting pyspark\n",
            "\u001b[?25l  Downloading https://files.pythonhosted.org/packages/87/21/f05c186f4ddb01d15d0ddc36ef4b7e3cedbeb6412274a41f26b55a650ee5/pyspark-2.4.4.tar.gz (215.7MB)\n",
            "\u001b[K     |████████████████████████████████| 215.7MB 51kB/s \n",
            "\u001b[?25hCollecting py4j==0.10.7\n",
            "\u001b[?25l  Downloading https://files.pythonhosted.org/packages/e3/53/c737818eb9a7dc32a7cd4f1396e787bd94200c3997c72c1dbe028587bd76/py4j-0.10.7-py2.py3-none-any.whl (197kB)\n",
            "\u001b[K     |████████████████████████████████| 204kB 49.0MB/s \n",
            "\u001b[?25hBuilding wheels for collected packages: pyspark\n",
            "  Building wheel for pyspark (setup.py) ... \u001b[?25l\u001b[?25hdone\n",
            "  Created wheel for pyspark: filename=pyspark-2.4.4-py2.py3-none-any.whl size=216130387 sha256=847e9abc40e3eb9998079e72124e137b4352000df12daca204803492f91c56e5\n",
            "  Stored in directory: /root/.cache/pip/wheels/ab/09/4d/0d184230058e654eb1b04467dbc1292f00eaa186544604b471\n",
            "Successfully built pyspark\n",
            "Installing collected packages: py4j, pyspark\n",
            "Successfully installed py4j-0.10.7 pyspark-2.4.4\n"
          ],
          "name": "stdout"
        }
      ]
    },
    {
      "cell_type": "code",
      "metadata": {
        "id": "jO4qE9f9-KgI",
        "colab_type": "code",
        "colab": {}
      },
      "source": [
        "!pip install -q findspark"
      ],
      "execution_count": 0,
      "outputs": []
    },
    {
      "cell_type": "code",
      "metadata": {
        "id": "s0jx_QW6-MC_",
        "colab_type": "code",
        "colab": {}
      },
      "source": [
        "import findspark\n",
        "findspark.init(\"spark-2.4.4-bin-hadoop2.7\")# SPARK_HOME"
      ],
      "execution_count": 0,
      "outputs": []
    },
    {
      "cell_type": "code",
      "metadata": {
        "id": "fwuDSz_u5Bkj",
        "colab_type": "code",
        "colab": {}
      },
      "source": [
        "import os\n",
        "os.environ[\"JAVA_HOME\"] = \"/usr/lib/jvm/java-8-openjdk-amd64\"\n",
        "os.environ[\"SPARK_HOME\"] = \"/content/spark-2.4.4-bin-hadoop2.7\""
      ],
      "execution_count": 0,
      "outputs": []
    },
    {
      "cell_type": "code",
      "metadata": {
        "id": "uhi7264q-P6N",
        "colab_type": "code",
        "colab": {}
      },
      "source": [
        "import numpy as np\n",
        "import pandas as pd\n",
        "import matplotlib.pyplot as plt\n",
        "%matplotlib inline\n",
        "\n",
        "import seaborn as sns\n",
        "sns.set(style=\"darkgrid\")\n",
        "\n",
        "from pyspark.ml.linalg import DenseVector\n",
        "\n",
        "from pyspark.ml import Pipeline\n",
        "from pyspark.sql.functions import *\n",
        "from pyspark.sql.types import *\n",
        "\n",
        "from operator import add\n",
        "from pyspark.ml.feature import RegexTokenizer, CountVectorizer\n",
        "from pyspark.ml.feature import StopWordsRemover\n",
        "from pyspark.ml.feature import HashingTF, IDF\n",
        "from pyspark.ml.feature import Word2Vec, Word2VecModel\n",
        "from pyspark.ml.clustering import LDA, LDAModel, LocalLDAModel\n",
        "from wordcloud import WordCloud\n"
      ],
      "execution_count": 0,
      "outputs": []
    },
    {
      "cell_type": "code",
      "metadata": {
        "id": "CWerbfSl-SHW",
        "colab_type": "code",
        "colab": {}
      },
      "source": [
        "import findspark\n",
        "findspark.init()\n",
        "from pyspark.sql import SparkSession\n",
        "spark = SparkSession.builder.master(\"local[*]\").getOrCreate()"
      ],
      "execution_count": 0,
      "outputs": []
    },
    {
      "cell_type": "code",
      "metadata": {
        "id": "ZOaBWH6N-NZE",
        "colab_type": "code",
        "colab": {}
      },
      "source": [
        "import os\n",
        "os.environ[\"JAVA_HOME\"] = \"/usr/lib/jvm/java-8-openjdk-amd64\"\n",
        "os.environ[\"SPARK_HOME\"] = \"/content/spark-2.4.4-bin-hadoop2.7\""
      ],
      "execution_count": 0,
      "outputs": []
    },
    {
      "cell_type": "markdown",
      "metadata": {
        "id": "p7WDff0IpOsi",
        "colab_type": "text"
      },
      "source": [
        "# Mounting the local drive which has our data files"
      ]
    },
    {
      "cell_type": "code",
      "metadata": {
        "id": "82HfvT1a9gVG",
        "colab_type": "code",
        "outputId": "791fa9e2-6c14-450c-f3d7-ac3e7a9b0882",
        "colab": {
          "base_uri": "https://localhost:8080/",
          "height": 122
        }
      },
      "source": [
        "from google.colab import drive\n",
        "drive.mount('/content/drive')"
      ],
      "execution_count": 0,
      "outputs": [
        {
          "output_type": "stream",
          "text": [
            "Go to this URL in a browser: https://accounts.google.com/o/oauth2/auth?client_id=947318989803-6bn6qk8qdgf4n4g3pfee6491hc0brc4i.apps.googleusercontent.com&redirect_uri=urn%3aietf%3awg%3aoauth%3a2.0%3aoob&response_type=code&scope=email%20https%3a%2f%2fwww.googleapis.com%2fauth%2fdocs.test%20https%3a%2f%2fwww.googleapis.com%2fauth%2fdrive%20https%3a%2f%2fwww.googleapis.com%2fauth%2fdrive.photos.readonly%20https%3a%2f%2fwww.googleapis.com%2fauth%2fpeopleapi.readonly\n",
            "\n",
            "Enter your authorization code:\n",
            "··········\n",
            "Mounted at /content/drive\n"
          ],
          "name": "stdout"
        }
      ]
    },
    {
      "cell_type": "markdown",
      "metadata": {
        "id": "ocZhtpv9phJu",
        "colab_type": "text"
      },
      "source": [
        "#Loading the reviews paraquet files"
      ]
    },
    {
      "cell_type": "code",
      "metadata": {
        "id": "lpkFY7x29pca",
        "colab_type": "code",
        "colab": {}
      },
      "source": [
        "file1=r'drive/My Drive/Dataset/Yelp_Reviews.parquet'\n",
        "reviews=spark.read.parquet(file1)"
      ],
      "execution_count": 0,
      "outputs": []
    },
    {
      "cell_type": "code",
      "metadata": {
        "id": "F0wX3T3UtvIC",
        "colab_type": "code",
        "outputId": "88e3a0a1-b556-461d-a67c-c72ff0ecc464",
        "colab": {
          "base_uri": "https://localhost:8080/",
          "height": 34
        }
      },
      "source": [
        "reviews.count()"
      ],
      "execution_count": 0,
      "outputs": [
        {
          "output_type": "execute_result",
          "data": {
            "text/plain": [
              "1076129"
            ]
          },
          "metadata": {
            "tags": []
          },
          "execution_count": 13
        }
      ]
    },
    {
      "cell_type": "code",
      "metadata": {
        "id": "bzzf6bxc_q0j",
        "colab_type": "code",
        "outputId": "113b2803-4b63-451b-f981-8ddf1d7f615f",
        "colab": {
          "base_uri": "https://localhost:8080/",
          "height": 204
        }
      },
      "source": [
        "reviews.printSchema()"
      ],
      "execution_count": 0,
      "outputs": [
        {
          "output_type": "stream",
          "text": [
            "root\n",
            " |-- review_id: string (nullable = true)\n",
            " |-- user_id: string (nullable = true)\n",
            " |-- business_id: string (nullable = true)\n",
            " |-- stars: double (nullable = true)\n",
            " |-- review_date: string (nullable = true)\n",
            " |-- review_text: string (nullable = true)\n",
            " |-- useful: long (nullable = true)\n",
            " |-- funny: long (nullable = true)\n",
            " |-- cool: long (nullable = true)\n",
            "\n"
          ],
          "name": "stdout"
        }
      ]
    },
    {
      "cell_type": "markdown",
      "metadata": {
        "id": "xaEwJApxp99P",
        "colab_type": "text"
      },
      "source": [
        "#Loading Business file"
      ]
    },
    {
      "cell_type": "code",
      "metadata": {
        "id": "iPTkC9V09yWh",
        "colab_type": "code",
        "colab": {}
      },
      "source": [
        "file2=r'drive/My Drive/Dataset/Yelp_Business.csv'\n",
        "business=spark.read.csv(file2,header=True)"
      ],
      "execution_count": 0,
      "outputs": []
    },
    {
      "cell_type": "code",
      "metadata": {
        "id": "POXMbzLU_Po3",
        "colab_type": "code",
        "outputId": "2e6e1799-5244-4a98-bd85-56d2eb112f7f",
        "colab": {
          "base_uri": "https://localhost:8080/",
          "height": 238
        }
      },
      "source": [
        "# check the dataframe schema\n",
        "business.printSchema()"
      ],
      "execution_count": 0,
      "outputs": [
        {
          "output_type": "stream",
          "text": [
            "root\n",
            " |-- business_id: string (nullable = true)\n",
            " |-- business_name: string (nullable = true)\n",
            " |-- address: string (nullable = true)\n",
            " |-- city: string (nullable = true)\n",
            " |-- state: string (nullable = true)\n",
            " |-- postal_code: string (nullable = true)\n",
            " |-- latitude: string (nullable = true)\n",
            " |-- longitude: string (nullable = true)\n",
            " |-- stars: string (nullable = true)\n",
            " |-- review_count: string (nullable = true)\n",
            " |-- categories: string (nullable = true)\n",
            "\n"
          ],
          "name": "stdout"
        }
      ]
    },
    {
      "cell_type": "code",
      "metadata": {
        "id": "AU4DEUgn_fsK",
        "colab_type": "code",
        "colab": {}
      },
      "source": [
        "business.createOrReplaceTempView(\"businesses\")\n",
        "reviews.createOrReplaceTempView(\"reviews\")"
      ],
      "execution_count": 0,
      "outputs": []
    },
    {
      "cell_type": "markdown",
      "metadata": {
        "id": "ZX-YebzqqNGz",
        "colab_type": "text"
      },
      "source": [
        "## Selecting required columns from business file"
      ]
    },
    {
      "cell_type": "code",
      "metadata": {
        "id": "xeINwAQsADas",
        "colab_type": "code",
        "colab": {}
      },
      "source": [
        "query = \"\"\"\n",
        "SELECT business_id, business_name as Name,Review_count,stars as Rating,categories FROM businesses\n",
        "\"\"\""
      ],
      "execution_count": 0,
      "outputs": []
    },
    {
      "cell_type": "code",
      "metadata": {
        "id": "VhgMiyHEBBZd",
        "colab_type": "code",
        "outputId": "7aa95f45-cbf5-4d77-bd64-e88f3642fb53",
        "colab": {
          "base_uri": "https://localhost:8080/",
          "height": 204
        }
      },
      "source": [
        "tmp = spark.sql(query).limit(10).toPandas()\n",
        "tmp.head()"
      ],
      "execution_count": 0,
      "outputs": [
        {
          "output_type": "execute_result",
          "data": {
            "text/html": [
              "<div>\n",
              "<style scoped>\n",
              "    .dataframe tbody tr th:only-of-type {\n",
              "        vertical-align: middle;\n",
              "    }\n",
              "\n",
              "    .dataframe tbody tr th {\n",
              "        vertical-align: top;\n",
              "    }\n",
              "\n",
              "    .dataframe thead th {\n",
              "        text-align: right;\n",
              "    }\n",
              "</style>\n",
              "<table border=\"1\" class=\"dataframe\">\n",
              "  <thead>\n",
              "    <tr style=\"text-align: right;\">\n",
              "      <th></th>\n",
              "      <th>business_id</th>\n",
              "      <th>Name</th>\n",
              "      <th>Review_count</th>\n",
              "      <th>Rating</th>\n",
              "      <th>categories</th>\n",
              "    </tr>\n",
              "  </thead>\n",
              "  <tbody>\n",
              "    <tr>\n",
              "      <th>0</th>\n",
              "      <td>PZ-LZzSlhSe9utkQYU8pFg</td>\n",
              "      <td>Carluccio's Tivoli Gardens</td>\n",
              "      <td>40</td>\n",
              "      <td>4.0</td>\n",
              "      <td>Restaurants, Italian</td>\n",
              "    </tr>\n",
              "    <tr>\n",
              "      <th>1</th>\n",
              "      <td>tstimHoMcYbkSC4eBA1wEg</td>\n",
              "      <td>Maria's Mexican Restaurant &amp; Bakery</td>\n",
              "      <td>184</td>\n",
              "      <td>4.5</td>\n",
              "      <td>Mexican, Restaurants, Patisserie/Cake Shop, Fo...</td>\n",
              "    </tr>\n",
              "    <tr>\n",
              "      <th>2</th>\n",
              "      <td>kANF0dbeoW34s2vwh6Umfw</td>\n",
              "      <td>Dairy Queen</td>\n",
              "      <td>33</td>\n",
              "      <td>2.0</td>\n",
              "      <td>Fast Food, Food, Restaurants, Ice Cream &amp; Froz...</td>\n",
              "    </tr>\n",
              "    <tr>\n",
              "      <th>3</th>\n",
              "      <td>X8mtoSxY8whtmbDlj0D3Aw</td>\n",
              "      <td>Imperial Asian Buffet</td>\n",
              "      <td>4</td>\n",
              "      <td>2.0</td>\n",
              "      <td>Restaurants, Chinese</td>\n",
              "    </tr>\n",
              "    <tr>\n",
              "      <th>4</th>\n",
              "      <td>bJP4l_BGq2CudEu0m-wNjg</td>\n",
              "      <td>Artisan Fine Dining Room</td>\n",
              "      <td>3</td>\n",
              "      <td>2.0</td>\n",
              "      <td>Restaurants, Pizza, Italian, American (New)</td>\n",
              "    </tr>\n",
              "  </tbody>\n",
              "</table>\n",
              "</div>"
            ],
            "text/plain": [
              "              business_id  ...                                         categories\n",
              "0  PZ-LZzSlhSe9utkQYU8pFg  ...                               Restaurants, Italian\n",
              "1  tstimHoMcYbkSC4eBA1wEg  ...  Mexican, Restaurants, Patisserie/Cake Shop, Fo...\n",
              "2  kANF0dbeoW34s2vwh6Umfw  ...  Fast Food, Food, Restaurants, Ice Cream & Froz...\n",
              "3  X8mtoSxY8whtmbDlj0D3Aw  ...                               Restaurants, Chinese\n",
              "4  bJP4l_BGq2CudEu0m-wNjg  ...        Restaurants, Pizza, Italian, American (New)\n",
              "\n",
              "[5 rows x 5 columns]"
            ]
          },
          "metadata": {
            "tags": []
          },
          "execution_count": 19
        }
      ]
    },
    {
      "cell_type": "code",
      "metadata": {
        "id": "mz8kYvZdHyZE",
        "colab_type": "code",
        "colab": {}
      },
      "source": [
        "business_df = spark.sql(query)"
      ],
      "execution_count": 0,
      "outputs": []
    },
    {
      "cell_type": "code",
      "metadata": {
        "id": "760fx63sEeOh",
        "colab_type": "code",
        "outputId": "6165988b-dc41-4189-aa9a-8db460a4fc57",
        "colab": {
          "base_uri": "https://localhost:8080/",
          "height": 204
        }
      },
      "source": [
        "business_df.show(5)"
      ],
      "execution_count": 0,
      "outputs": [
        {
          "output_type": "stream",
          "text": [
            "+--------------------+--------------------+------------+------+--------------------+\n",
            "|         business_id|                Name|Review_count|Rating|          categories|\n",
            "+--------------------+--------------------+------------+------+--------------------+\n",
            "|PZ-LZzSlhSe9utkQY...|Carluccio's Tivol...|          40|   4.0|Restaurants, Italian|\n",
            "|tstimHoMcYbkSC4eB...|Maria's Mexican R...|         184|   4.5|Mexican, Restaura...|\n",
            "|kANF0dbeoW34s2vwh...|         Dairy Queen|          33|   2.0|Fast Food, Food, ...|\n",
            "|X8mtoSxY8whtmbDlj...|Imperial Asian Bu...|           4|   2.0|Restaurants, Chinese|\n",
            "|bJP4l_BGq2CudEu0m...|Artisan Fine Dini...|           3|   2.0|Restaurants, Pizz...|\n",
            "+--------------------+--------------------+------------+------+--------------------+\n",
            "only showing top 5 rows\n",
            "\n"
          ],
          "name": "stdout"
        }
      ]
    },
    {
      "cell_type": "code",
      "metadata": {
        "colab_type": "code",
        "id": "O1bWH_Nyt2-e",
        "colab": {}
      },
      "source": [
        "query = \"\"\"\n",
        "SELECT business_id, review_text, review_date as dates, stars as rating  FROM reviews\n",
        "\"\"\""
      ],
      "execution_count": 0,
      "outputs": []
    },
    {
      "cell_type": "code",
      "metadata": {
        "id": "I3jS1i3OfLmS",
        "colab_type": "code",
        "colab": {}
      },
      "source": [
        "reviews_df = spark.sql(query)"
      ],
      "execution_count": 0,
      "outputs": []
    },
    {
      "cell_type": "code",
      "metadata": {
        "id": "n3D4WQi5d-HN",
        "colab_type": "code",
        "outputId": "d910f009-20b0-4e3d-af63-2e6cb2400958",
        "colab": {
          "base_uri": "https://localhost:8080/",
          "height": 54
        }
      },
      "source": [
        "import string\n",
        "reviews_df.select('review_text').take(1)"
      ],
      "execution_count": 0,
      "outputs": [
        {
          "output_type": "execute_result",
          "data": {
            "text/plain": [
              "[Row(review_text=\"The food is always good and the prices are reasonable.  Although it's not exactly a restaurant -- more like a snack bar, limited menu and you walk up to the counter, place your order, wait a minute or so for them to prepare your order, and pay the cashier, then search for a table.  Kind of like a sandwich shop.  Still a much better choice for value than the other hotel Deli's on the strip.\")]"
            ]
          },
          "metadata": {
            "tags": []
          },
          "execution_count": 25
        }
      ]
    },
    {
      "cell_type": "code",
      "metadata": {
        "id": "13goipGFXwL5",
        "colab_type": "code",
        "outputId": "f86c1291-5b64-40d6-fcb9-cc19959ebce3",
        "colab": {
          "base_uri": "https://localhost:8080/",
          "height": 54
        }
      },
      "source": [
        "reviews_df.take(1)"
      ],
      "execution_count": 0,
      "outputs": [
        {
          "output_type": "execute_result",
          "data": {
            "text/plain": [
              "[Row(business_id='I4Nr-MVc26qWr08-S3Q1ow', review_text=\"The food is always good and the prices are reasonable.  Although it's not exactly a restaurant -- more like a snack bar, limited menu and you walk up to the counter, place your order, wait a minute or so for them to prepare your order, and pay the cashier, then search for a table.  Kind of like a sandwich shop.  Still a much better choice for value than the other hotel Deli's on the strip.\", dates='2016-01-17 05:26:22', rating=4.0)]"
            ]
          },
          "metadata": {
            "tags": []
          },
          "execution_count": 31
        }
      ]
    },
    {
      "cell_type": "code",
      "metadata": {
        "colab_type": "code",
        "id": "OBwtJNdPZy1O",
        "colab": {}
      },
      "source": [
        "import string\n",
        "from pyspark.sql.functions import udf\n",
        "customudf = udf(lambda s: s.translate(str.maketrans('', '', string.punctuation)), StringType())"
      ],
      "execution_count": 0,
      "outputs": []
    },
    {
      "cell_type": "code",
      "metadata": {
        "id": "7re_iqSCiiyX",
        "colab_type": "code",
        "colab": {}
      },
      "source": [
        "reviewstmp =reviews_df.withColumn(\"reviews_text\",customudf(reviews_df.review_text))"
      ],
      "execution_count": 0,
      "outputs": []
    },
    {
      "cell_type": "code",
      "metadata": {
        "id": "-8IcXQMIr4aS",
        "colab_type": "code",
        "outputId": "aa516a84-175b-4921-aa74-f44d021c109d",
        "colab": {
          "base_uri": "https://localhost:8080/",
          "height": 54
        }
      },
      "source": [
        "reviewstmp.take(1)"
      ],
      "execution_count": 0,
      "outputs": [
        {
          "output_type": "execute_result",
          "data": {
            "text/plain": [
              "[Row(business_id='I4Nr-MVc26qWr08-S3Q1ow', review_text=\"The food is always good and the prices are reasonable.  Although it's not exactly a restaurant -- more like a snack bar, limited menu and you walk up to the counter, place your order, wait a minute or so for them to prepare your order, and pay the cashier, then search for a table.  Kind of like a sandwich shop.  Still a much better choice for value than the other hotel Deli's on the strip.\", dates='2016-01-17 05:26:22', rating=4.0, reviews_text='The food is always good and the prices are reasonable  Although its not exactly a restaurant  more like a snack bar limited menu and you walk up to the counter place your order wait a minute or so for them to prepare your order and pay the cashier then search for a table  Kind of like a sandwich shop  Still a much better choice for value than the other hotel Delis on the strip')]"
            ]
          },
          "metadata": {
            "tags": []
          },
          "execution_count": 30
        }
      ]
    },
    {
      "cell_type": "markdown",
      "metadata": {
        "id": "mTHDX4x_3UWi",
        "colab_type": "text"
      },
      "source": [
        "### Taking the top review counts - 2680 restaurants out of 5909 total restaurants in las vegas "
      ]
    },
    {
      "cell_type": "markdown",
      "metadata": {
        "id": "DHdzLxUqZ_dc",
        "colab_type": "text"
      },
      "source": [
        "Doing this to restrict total number of reviews to 1 Million -- As Auto ML (Amazon comprehend) can process only 1M records at a time"
      ]
    },
    {
      "cell_type": "code",
      "metadata": {
        "id": "nvbs-O3Bw4TG",
        "colab_type": "code",
        "colab": {}
      },
      "source": [
        "business_list = reviews_df.groupBy(\"business_id\").agg(count(\"review_text\")).orderBy(desc(\"count(review_text)\")).select(\"business_id\").limit(2680)"
      ],
      "execution_count": 0,
      "outputs": []
    },
    {
      "cell_type": "code",
      "metadata": {
        "id": "PXYcZUFFj9fu",
        "colab_type": "code",
        "colab": {}
      },
      "source": [
        "filtered_business = business_df.filter(business_df['categories'].isin(['Restaurants']))"
      ],
      "execution_count": 0,
      "outputs": []
    },
    {
      "cell_type": "code",
      "metadata": {
        "id": "mOrWebnrk1SS",
        "colab_type": "code",
        "colab": {}
      },
      "source": [
        "filtered_business.createOrReplaceTempView(\"filtered_business\")"
      ],
      "execution_count": 0,
      "outputs": []
    },
    {
      "cell_type": "code",
      "metadata": {
        "colab_type": "code",
        "outputId": "5d9d507b-899a-45e1-a25e-c4f49d79ccd0",
        "id": "8bsQ4cc44ZnB",
        "colab": {
          "base_uri": "https://localhost:8080/",
          "height": 136
        }
      },
      "source": [
        "filtered_business.printSchema()"
      ],
      "execution_count": 0,
      "outputs": [
        {
          "output_type": "stream",
          "text": [
            "root\n",
            " |-- business_id: string (nullable = true)\n",
            " |-- Name: string (nullable = true)\n",
            " |-- Review_count: string (nullable = true)\n",
            " |-- Rating: string (nullable = true)\n",
            " |-- categories: string (nullable = true)\n",
            "\n"
          ],
          "name": "stdout"
        }
      ]
    },
    {
      "cell_type": "code",
      "metadata": {
        "id": "ieGKSzpX8g79",
        "colab_type": "code",
        "colab": {}
      },
      "source": [
        "business_pandas = business_list.limit(10000000).toPandas()"
      ],
      "execution_count": 0,
      "outputs": []
    },
    {
      "cell_type": "code",
      "metadata": {
        "id": "hLlGReK59Pgm",
        "colab_type": "code",
        "colab": {}
      },
      "source": [
        "blist = list(business_pandas['business_id'])"
      ],
      "execution_count": 0,
      "outputs": []
    },
    {
      "cell_type": "code",
      "metadata": {
        "id": "Hpjl7PgK-L1-",
        "colab_type": "code",
        "colab": {}
      },
      "source": [
        "filtered_reviews = reviews_df.filter(reviews_df['business_id'].isin(blist))"
      ],
      "execution_count": 0,
      "outputs": []
    },
    {
      "cell_type": "code",
      "metadata": {
        "id": "g163tfJHaE0M",
        "colab_type": "code",
        "outputId": "41344d7a-799b-4d0a-cd47-ecb4c8e273f2",
        "colab": {
          "base_uri": "https://localhost:8080/",
          "height": 119
        }
      },
      "source": [
        "filtered_reviews.printSchema()"
      ],
      "execution_count": 0,
      "outputs": [
        {
          "output_type": "stream",
          "text": [
            "root\n",
            " |-- business_id: string (nullable = true)\n",
            " |-- review_text: string (nullable = true)\n",
            " |-- dates: string (nullable = true)\n",
            " |-- rating: double (nullable = true)\n",
            "\n"
          ],
          "name": "stdout"
        }
      ]
    },
    {
      "cell_type": "code",
      "metadata": {
        "id": "_YB_xwG3oJx0",
        "colab_type": "code",
        "outputId": "51e7fc8b-557d-42d9-99e7-6d2ddcd918ec",
        "colab": {
          "base_uri": "https://localhost:8080/",
          "height": 34
        }
      },
      "source": [
        "filtered_reviews.count()"
      ],
      "execution_count": 0,
      "outputs": [
        {
          "output_type": "execute_result",
          "data": {
            "text/plain": [
              "999453"
            ]
          },
          "metadata": {
            "tags": []
          },
          "execution_count": 39
        }
      ]
    },
    {
      "cell_type": "markdown",
      "metadata": {
        "id": "bBSAEo_HJ3SK",
        "colab_type": "text"
      },
      "source": [
        "### Add index column for easy interpretation of comprehend "
      ]
    },
    {
      "cell_type": "code",
      "metadata": {
        "id": "vDEPX2eIJ2hH",
        "colab_type": "code",
        "colab": {}
      },
      "source": [
        "from pyspark.sql.window import Window  \n",
        "w = Window.orderBy(\"business_id\") \n",
        "filtered_reviews = filtered_reviews.withColumn(\"id\", row_number().over(w)-1)\n",
        "filtered_reviews.filter(filtered_reviews['id']==0).show()"
      ],
      "execution_count": 0,
      "outputs": []
    },
    {
      "cell_type": "markdown",
      "metadata": {
        "id": "y8UDxtLY0w-3",
        "colab_type": "text"
      },
      "source": [
        "### Write filtered_reviews to a seperate file"
      ]
    },
    {
      "cell_type": "code",
      "metadata": {
        "id": "9DiHBf7lp-vD",
        "colab_type": "code",
        "colab": {}
      },
      "source": [
        "filtered_reviews.coalesce(1).write.option(\"header\",\"true\").csv(\"drive/My Drive/Data Mining/restaurantstotal.csv\")"
      ],
      "execution_count": 0,
      "outputs": []
    },
    {
      "cell_type": "markdown",
      "metadata": {
        "id": "EpW-1dH4BE0F",
        "colab_type": "text"
      },
      "source": [
        "### Tokenize and join to properly remove unnecessary characters in reviews"
      ]
    },
    {
      "cell_type": "code",
      "metadata": {
        "id": "rkE24Gxgas1g",
        "colab_type": "code",
        "colab": {}
      },
      "source": [
        "def tokenize(c):\n",
        "   return split(regexp_replace(lower(c), \"[^a-zA-Z0-9\\\\s]\", \"\"), \"\\\\s+\")\n",
        "res = filtered_reviews.withColumn('review_text',tokenize(filtered_reviews.review_text))"
      ],
      "execution_count": 0,
      "outputs": []
    },
    {
      "cell_type": "code",
      "metadata": {
        "id": "6kBSKl4GedmG",
        "colab_type": "code",
        "outputId": "1e7086f8-1cd7-493d-d7b6-141125284a77",
        "colab": {
          "base_uri": "https://localhost:8080/",
          "height": 54
        }
      },
      "source": [
        "res.take(1)"
      ],
      "execution_count": 0,
      "outputs": [
        {
          "output_type": "execute_result",
          "data": {
            "text/plain": [
              "[Row(business_id='I4Nr-MVc26qWr08-S3Q1ow', review_text=['the', 'food', 'is', 'always', 'good', 'and', 'the', 'prices', 'are', 'reasonable', 'although', 'its', 'not', 'exactly', 'a', 'restaurant', 'more', 'like', 'a', 'snack', 'bar', 'limited', 'menu', 'and', 'you', 'walk', 'up', 'to', 'the', 'counter', 'place', 'your', 'order', 'wait', 'a', 'minute', 'or', 'so', 'for', 'them', 'to', 'prepare', 'your', 'order', 'and', 'pay', 'the', 'cashier', 'then', 'search', 'for', 'a', 'table', 'kind', 'of', 'like', 'a', 'sandwich', 'shop', 'still', 'a', 'much', 'better', 'choice', 'for', 'value', 'than', 'the', 'other', 'hotel', 'delis', 'on', 'the', 'strip'], dates='2016-01-17 05:26:22', rating=4.0)]"
            ]
          },
          "metadata": {
            "tags": []
          },
          "execution_count": 41
        }
      ]
    },
    {
      "cell_type": "code",
      "metadata": {
        "id": "CNV5IkjRfXjJ",
        "colab_type": "code",
        "colab": {}
      },
      "source": [
        "join_udf = udf(lambda x: \" \".join(x))\n",
        "out = res.withColumn(\"review_text\", join_udf(col(\"review_text\")))"
      ],
      "execution_count": 0,
      "outputs": []
    },
    {
      "cell_type": "code",
      "metadata": {
        "id": "6sUkhhZpfhyL",
        "colab_type": "code",
        "outputId": "c59173ba-fa9a-45eb-be57-35218c02f37a",
        "colab": {
          "base_uri": "https://localhost:8080/",
          "height": 54
        }
      },
      "source": [
        "out.take(1)"
      ],
      "execution_count": 0,
      "outputs": [
        {
          "output_type": "execute_result",
          "data": {
            "text/plain": [
              "[Row(business_id='I4Nr-MVc26qWr08-S3Q1ow', review_text='the food is always good and the prices are reasonable although its not exactly a restaurant more like a snack bar limited menu and you walk up to the counter place your order wait a minute or so for them to prepare your order and pay the cashier then search for a table kind of like a sandwich shop still a much better choice for value than the other hotel delis on the strip', dates='2016-01-17 05:26:22', rating=4.0)]"
            ]
          },
          "metadata": {
            "tags": []
          },
          "execution_count": 43
        }
      ]
    },
    {
      "cell_type": "code",
      "metadata": {
        "id": "vA-C7q3iORMO",
        "colab_type": "code",
        "colab": {}
      },
      "source": [
        "out2 = out.select('review_text')"
      ],
      "execution_count": 0,
      "outputs": []
    },
    {
      "cell_type": "code",
      "metadata": {
        "id": "rp4ALWq0DMRT",
        "colab_type": "code",
        "outputId": "1885b3a0-2b7e-4660-b0f1-865148c73827",
        "colab": {
          "base_uri": "https://localhost:8080/",
          "height": 35
        }
      },
      "source": [
        "out2.count()"
      ],
      "execution_count": 0,
      "outputs": [
        {
          "output_type": "execute_result",
          "data": {
            "text/plain": [
              "999453"
            ]
          },
          "metadata": {
            "tags": []
          },
          "execution_count": 77
        }
      ]
    },
    {
      "cell_type": "markdown",
      "metadata": {
        "id": "bwJfqbC2BYvR",
        "colab_type": "text"
      },
      "source": [
        "### out2 has only reviews column -- Input for Amazon comprehend"
      ]
    },
    {
      "cell_type": "code",
      "metadata": {
        "id": "iWrRF4oFwxX2",
        "colab_type": "code",
        "colab": {}
      },
      "source": [
        "out2.coalesce(1).write.option(\"header\",\"true\").csv(\"drive/My Drive/Data Mining/restauranttokens2.csv\")"
      ],
      "execution_count": 0,
      "outputs": []
    },
    {
      "cell_type": "markdown",
      "metadata": {
        "id": "bBmhUk-EFUri",
        "colab_type": "text"
      },
      "source": [
        "###### Next Steps:\n",
        "###### -Upload to S3 \n",
        "###### -Submit reviews(out2) as input to comprehend job \n",
        "###### -Download the output and interpret the topics (Human Intervension)\n",
        "\n",
        "Interpreted topics based on the output words :   \n",
        "Varieties   \n",
        "Ambience   \n",
        "Management   \n",
        "Service   \n",
        "Value  \n",
        "\n",
        "Intension behind interpretation is to assign words which are also common deciding factors for telling if a restaurant is good/bad"
      ]
    },
    {
      "cell_type": "markdown",
      "metadata": {
        "id": "tTerCPTgQtup",
        "colab_type": "text"
      },
      "source": [
        "##### Code to upload file in amazon s3. Filenamehere we give the above  saved file (out2)"
      ]
    },
    {
      "cell_type": "code",
      "metadata": {
        "id": "PFoWhHgZnVzY",
        "colab_type": "code",
        "colab": {}
      },
      "source": [
        "import logging\n",
        "import boto3\n",
        "from botocore.exceptions import ClientError\n",
        "\n",
        "def upload_file(file_name, bucket, object_name=None):\n",
        "    \"\"\"Upload a file to an S3 bucket\n",
        "\n",
        "    :param file_name: File to upload\n",
        "    :param bucket: Bucket to upload to\n",
        "    :param object_name: S3 object name. If not specified then file_name is used\n",
        "    :return: True if file was uploaded, else False\n",
        "    \"\"\"\n",
        "\n",
        "    # If S3 object_name was not specified, use file_name\n",
        "    if object_name is None:\n",
        "        object_name = file_name\n",
        "\n",
        "    # Upload the file\n",
        "    s3_client = boto3.client('s3',aws_access_key_id='*******', aws_secret_access_key='******')\n",
        "    try:\n",
        "        response = s3_client.upload_file(file_name, bucket, object_name)\n",
        "    except ClientError as e:\n",
        "        logging.error(e)\n",
        "        return False\n",
        "    return True"
      ],
      "execution_count": 0,
      "outputs": []
    },
    {
      "cell_type": "markdown",
      "metadata": {
        "id": "QyLQjUW7SKEW",
        "colab_type": "text"
      },
      "source": [
        "# Auto ML (Amazon Comprehend)  -- Job time: 35 mins for 1M reviews."
      ]
    },
    {
      "cell_type": "markdown",
      "metadata": {
        "id": "4_JfQEasaWQz",
        "colab_type": "text"
      },
      "source": [
        "---- If productionized or scaled to other regions. We should submit Amazon comprehend jobs for all the reviews in each region and work on corresponding outputs, Region wise. (Deploy Region wise Topic modelling Jobs in Amazon Comprehend)"
      ]
    },
    {
      "cell_type": "code",
      "metadata": {
        "id": "UUFI--OYrvsS",
        "colab_type": "code",
        "outputId": "aa919a22-8679-4b4d-f8b9-0292b3df44cc",
        "colab": {
          "base_uri": "https://localhost:8080/",
          "height": 110
        }
      },
      "source": [
        "import boto3\n",
        "import json\n",
        "from bson import json_util\n",
        " \n",
        "comprehend = boto3.client(aws_access_key_id='*******',aws_secret_access_key='*****', service_name='comprehend', region_name='us-west-2')\n",
        "                \n",
        "input_s3_url = \"s3://yelpsuggest/las_vegas_reviews.csv\"\n",
        "input_doc_format = \"ONE_DOC_PER_LINE\"\n",
        "output_s3_url = \"s3://yelpsuggest/las_vegas_topics.csv\"\n",
        "data_access_role_arn = \"arn:aws:iam::844760149411:role/yelp+suggest\"\n",
        "number_of_topics = 5\n",
        " \n",
        "input_data_config = {\"S3Uri\": input_s3_url, \"InputFormat\": input_doc_format}\n",
        "output_data_config = {\"S3Uri\": output_s3_url}\n",
        " \n",
        "start_topics_detection_job_result = comprehend.start_topics_detection_job(NumberOfTopics=number_of_topics,\n",
        "                                                                              InputDataConfig=input_data_config,\n",
        "                                                                              OutputDataConfig=output_data_config,\n",
        "                                                                              DataAccessRoleArn=data_access_role_arn)\n",
        " \n",
        "print('start_topics_detection_job_result: ' + json.dumps(start_topics_detection_job_result))\n",
        " \n",
        "job_id = start_topics_detection_job_result[\"JobId\"]\n",
        " \n",
        "print('job_id: ' + job_id)\n",
        " \n",
        "describe_topics_detection_job_result = comprehend.describe_topics_detection_job(JobId=job_id)\n",
        " \n",
        "print('describe_topics_detection_job_result: ' + json.dumps(describe_topics_detection_job_result, default=json_util.default))\n",
        " \n",
        "list_topics_detection_jobs_result = comprehend.list_topics_detection_jobs()\n",
        " \n",
        "print('list_topics_detection_jobs_result: ' + json.dumps(list_topics_detection_jobs_result, default=json_util.default))\n"
      ],
      "execution_count": 0,
      "outputs": [
        {
          "output_type": "stream",
          "text": [
            "start_topics_detection_job_result: {\"JobId\": \"34fa6597931e583f4d05bfee08bc0c8d\", \"JobStatus\": \"SUBMITTED\", \"ResponseMetadata\": {\"RequestId\": \"03a28c82-1dfa-480c-8656-687cd9c8fd95\", \"HTTPStatusCode\": 200, \"HTTPHeaders\": {\"x-amzn-requestid\": \"03a28c82-1dfa-480c-8656-687cd9c8fd95\", \"content-type\": \"application/x-amz-json-1.1\", \"content-length\": \"68\", \"date\": \"Thu, 31 Oct 2019 10:05:16 GMT\"}, \"RetryAttempts\": 0}}\n",
            "job_id: 34fa6597931e583f4d05bfee08bc0c8d\n",
            "describe_topics_detection_job_result: {\"TopicsDetectionJobProperties\": {\"JobId\": \"34fa6597931e583f4d05bfee08bc0c8d\", \"JobStatus\": \"SUBMITTED\", \"SubmitTime\": {\"$date\": 1572516316641}, \"InputDataConfig\": {\"S3Uri\": \"s3://yelpsuggest/las_vegas_reviews.csv\", \"InputFormat\": \"ONE_DOC_PER_LINE\"}, \"OutputDataConfig\": {\"S3Uri\": \"s3://yelpsuggest/las_vegas_topics.csv/844760149411-TOPICS-34fa6597931e583f4d05bfee08bc0c8d/output/output.tar.gz\"}, \"NumberOfTopics\": 5, \"DataAccessRoleArn\": \"arn:aws:iam::844760149411:role/yelp+suggest\"}, \"ResponseMetadata\": {\"RequestId\": \"3d148943-955c-4da8-ba55-b8e10303bc3f\", \"HTTPStatusCode\": 200, \"HTTPHeaders\": {\"x-amzn-requestid\": \"3d148943-955c-4da8-ba55-b8e10303bc3f\", \"content-type\": \"application/x-amz-json-1.1\", \"content-length\": \"461\", \"date\": \"Thu, 31 Oct 2019 10:05:16 GMT\"}, \"RetryAttempts\": 0}}\n",
            "list_topics_detection_jobs_result: {\"TopicsDetectionJobPropertiesList\": [{\"JobId\": \"4a5826de45fbaa2877bf7991642a7a5b\", \"JobName\": \"Test\", \"JobStatus\": \"COMPLETED\", \"SubmitTime\": {\"$date\": 1572510324335}, \"EndTime\": {\"$date\": 1572511957587}, \"InputDataConfig\": {\"S3Uri\": \"s3://yelpsuggest/las_vegas_reviews.csv\", \"InputFormat\": \"ONE_DOC_PER_LINE\"}, \"OutputDataConfig\": {\"S3Uri\": \"s3://yelpsuggest/844760149411-TOPICS-4a5826de45fbaa2877bf7991642a7a5b/output/output.tar.gz\"}, \"NumberOfTopics\": 5, \"DataAccessRoleArn\": \"arn:aws:iam::844760149411:role/yelp+suggest\"}, {\"JobId\": \"34fa6597931e583f4d05bfee08bc0c8d\", \"JobStatus\": \"SUBMITTED\", \"SubmitTime\": {\"$date\": 1572516316641}, \"InputDataConfig\": {\"S3Uri\": \"s3://yelpsuggest/las_vegas_reviews.csv\", \"InputFormat\": \"ONE_DOC_PER_LINE\"}, \"OutputDataConfig\": {\"S3Uri\": \"s3://yelpsuggest/las_vegas_topics.csv/844760149411-TOPICS-34fa6597931e583f4d05bfee08bc0c8d/output/output.tar.gz\"}, \"NumberOfTopics\": 5, \"DataAccessRoleArn\": \"arn:aws:iam::844760149411:role/yelp+suggest\"}], \"ResponseMetadata\": {\"RequestId\": \"1872d0e5-bcc6-40ad-9360-6b1fcf862efd\", \"HTTPStatusCode\": 200, \"HTTPHeaders\": {\"x-amzn-requestid\": \"1872d0e5-bcc6-40ad-9360-6b1fcf862efd\", \"content-type\": \"application/x-amz-json-1.1\", \"content-length\": \"919\", \"date\": \"Thu, 31 Oct 2019 10:05:16 GMT\"}, \"RetryAttempts\": 0}}\n"
          ],
          "name": "stdout"
        }
      ]
    },
    {
      "cell_type": "markdown",
      "metadata": {
        "id": "OvHBHnRwRm0J",
        "colab_type": "text"
      },
      "source": [
        "### Code to download the file from amazon s3"
      ]
    },
    {
      "cell_type": "code",
      "metadata": {
        "id": "aQEqZBWXRP7P",
        "colab_type": "code",
        "colab": {}
      },
      "source": [
        "s3r = boto3.resource('s3', aws_access_key_id='*******', aws_secret_access_key='******')\n",
        "buck = s3r.Bucket('bucket name')\n",
        "buck.download_file(remotefilename,localfilename)"
      ],
      "execution_count": 0,
      "outputs": []
    },
    {
      "cell_type": "markdown",
      "metadata": {
        "id": "o-u7ktp2Kj3n",
        "colab_type": "text"
      },
      "source": [
        "### Here after downloading the files of Amazon comprehend output, we transformed the data using the easy MS excel \"pivot tables\" feature to get aggreted data."
      ]
    },
    {
      "cell_type": "markdown",
      "metadata": {
        "id": "8xw3GNEyLVs1",
        "colab_type": "text"
      },
      "source": [
        "##### Average ratings for each business under each topic."
      ]
    },
    {
      "cell_type": "code",
      "metadata": {
        "id": "S636PBKtZoM_",
        "colab_type": "code",
        "outputId": "70763dcc-21d2-462b-cd02-1652ea52a0a8",
        "colab": {
          "base_uri": "https://localhost:8080/",
          "height": 228
        }
      },
      "source": [
        "finalres = pd.read_csv(\"drive/My Drive/Data Mining/finalres.csv\",index_col=\"business_id\")\n",
        "finalres.head()"
      ],
      "execution_count": 0,
      "outputs": [
        {
          "output_type": "execute_result",
          "data": {
            "text/html": [
              "<div>\n",
              "<style scoped>\n",
              "    .dataframe tbody tr th:only-of-type {\n",
              "        vertical-align: middle;\n",
              "    }\n",
              "\n",
              "    .dataframe tbody tr th {\n",
              "        vertical-align: top;\n",
              "    }\n",
              "\n",
              "    .dataframe thead th {\n",
              "        text-align: right;\n",
              "    }\n",
              "</style>\n",
              "<table border=\"1\" class=\"dataframe\">\n",
              "  <thead>\n",
              "    <tr style=\"text-align: right;\">\n",
              "      <th></th>\n",
              "      <th>varieties</th>\n",
              "      <th>ambience</th>\n",
              "      <th>management</th>\n",
              "      <th>service</th>\n",
              "      <th>value</th>\n",
              "    </tr>\n",
              "    <tr>\n",
              "      <th>business_id</th>\n",
              "      <th></th>\n",
              "      <th></th>\n",
              "      <th></th>\n",
              "      <th></th>\n",
              "      <th></th>\n",
              "    </tr>\n",
              "  </thead>\n",
              "  <tbody>\n",
              "    <tr>\n",
              "      <th>_0x7W6fizaPP76xNBxBLAQ</th>\n",
              "      <td>4.130178</td>\n",
              "      <td>4.187500</td>\n",
              "      <td>4.209302</td>\n",
              "      <td>3.948718</td>\n",
              "      <td>3.666667</td>\n",
              "    </tr>\n",
              "    <tr>\n",
              "      <th>_2fjiOHfu-S7fS2n4wfySw</th>\n",
              "      <td>4.225806</td>\n",
              "      <td>3.766667</td>\n",
              "      <td>4.125000</td>\n",
              "      <td>3.714286</td>\n",
              "      <td>2.000000</td>\n",
              "    </tr>\n",
              "    <tr>\n",
              "      <th>_3FxLxdg1unUQc3QqIgJuA</th>\n",
              "      <td>3.677291</td>\n",
              "      <td>3.704403</td>\n",
              "      <td>3.813559</td>\n",
              "      <td>3.800000</td>\n",
              "      <td>3.250000</td>\n",
              "    </tr>\n",
              "    <tr>\n",
              "      <th>_4tCeVrLRmI18BscMiHr7Q</th>\n",
              "      <td>4.275862</td>\n",
              "      <td>4.225806</td>\n",
              "      <td>4.400000</td>\n",
              "      <td>4.333333</td>\n",
              "      <td>4.333333</td>\n",
              "    </tr>\n",
              "    <tr>\n",
              "      <th>_6UaHEnDDbUla3Pa3VVu3Q</th>\n",
              "      <td>4.672727</td>\n",
              "      <td>4.680851</td>\n",
              "      <td>4.377778</td>\n",
              "      <td>4.846154</td>\n",
              "      <td>4.333333</td>\n",
              "    </tr>\n",
              "  </tbody>\n",
              "</table>\n",
              "</div>"
            ],
            "text/plain": [
              "                        varieties  ambience  management   service     value\n",
              "business_id                                                                \n",
              "_0x7W6fizaPP76xNBxBLAQ   4.130178  4.187500    4.209302  3.948718  3.666667\n",
              "_2fjiOHfu-S7fS2n4wfySw   4.225806  3.766667    4.125000  3.714286  2.000000\n",
              "_3FxLxdg1unUQc3QqIgJuA   3.677291  3.704403    3.813559  3.800000  3.250000\n",
              "_4tCeVrLRmI18BscMiHr7Q   4.275862  4.225806    4.400000  4.333333  4.333333\n",
              "_6UaHEnDDbUla3Pa3VVu3Q   4.672727  4.680851    4.377778  4.846154  4.333333"
            ]
          },
          "metadata": {
            "tags": []
          },
          "execution_count": 335
        }
      ]
    },
    {
      "cell_type": "markdown",
      "metadata": {
        "id": "rU_Q29shLxEQ",
        "colab_type": "text"
      },
      "source": [
        "##### Count of each business under each topic."
      ]
    },
    {
      "cell_type": "code",
      "metadata": {
        "id": "lAKNKJhAWjls",
        "colab_type": "code",
        "outputId": "535a7458-5fcb-4760-f2cf-d41c75af1fb3",
        "colab": {
          "base_uri": "https://localhost:8080/",
          "height": 228
        }
      },
      "source": [
        "finalrescnt = pd.read_csv(\"drive/My Drive/Data Mining/finalrescnt.csv\",index_col=\"business_id\")\n",
        "finalrescnt.head()"
      ],
      "execution_count": 0,
      "outputs": [
        {
          "output_type": "execute_result",
          "data": {
            "text/html": [
              "<div>\n",
              "<style scoped>\n",
              "    .dataframe tbody tr th:only-of-type {\n",
              "        vertical-align: middle;\n",
              "    }\n",
              "\n",
              "    .dataframe tbody tr th {\n",
              "        vertical-align: top;\n",
              "    }\n",
              "\n",
              "    .dataframe thead th {\n",
              "        text-align: right;\n",
              "    }\n",
              "</style>\n",
              "<table border=\"1\" class=\"dataframe\">\n",
              "  <thead>\n",
              "    <tr style=\"text-align: right;\">\n",
              "      <th></th>\n",
              "      <th>varieties</th>\n",
              "      <th>ambience</th>\n",
              "      <th>management</th>\n",
              "      <th>service</th>\n",
              "      <th>value</th>\n",
              "    </tr>\n",
              "    <tr>\n",
              "      <th>business_id</th>\n",
              "      <th></th>\n",
              "      <th></th>\n",
              "      <th></th>\n",
              "      <th></th>\n",
              "      <th></th>\n",
              "    </tr>\n",
              "  </thead>\n",
              "  <tbody>\n",
              "    <tr>\n",
              "      <th>_0x7W6fizaPP76xNBxBLAQ</th>\n",
              "      <td>169</td>\n",
              "      <td>112</td>\n",
              "      <td>129</td>\n",
              "      <td>39</td>\n",
              "      <td>6</td>\n",
              "    </tr>\n",
              "    <tr>\n",
              "      <th>_2fjiOHfu-S7fS2n4wfySw</th>\n",
              "      <td>31</td>\n",
              "      <td>30</td>\n",
              "      <td>24</td>\n",
              "      <td>7</td>\n",
              "      <td>2</td>\n",
              "    </tr>\n",
              "    <tr>\n",
              "      <th>_3FxLxdg1unUQc3QqIgJuA</th>\n",
              "      <td>251</td>\n",
              "      <td>159</td>\n",
              "      <td>177</td>\n",
              "      <td>55</td>\n",
              "      <td>8</td>\n",
              "    </tr>\n",
              "    <tr>\n",
              "      <th>_4tCeVrLRmI18BscMiHr7Q</th>\n",
              "      <td>58</td>\n",
              "      <td>31</td>\n",
              "      <td>40</td>\n",
              "      <td>15</td>\n",
              "      <td>3</td>\n",
              "    </tr>\n",
              "    <tr>\n",
              "      <th>_6UaHEnDDbUla3Pa3VVu3Q</th>\n",
              "      <td>55</td>\n",
              "      <td>47</td>\n",
              "      <td>45</td>\n",
              "      <td>13</td>\n",
              "      <td>3</td>\n",
              "    </tr>\n",
              "  </tbody>\n",
              "</table>\n",
              "</div>"
            ],
            "text/plain": [
              "                        varieties  ambience  management  service  value\n",
              "business_id                                                            \n",
              "_0x7W6fizaPP76xNBxBLAQ        169       112         129       39      6\n",
              "_2fjiOHfu-S7fS2n4wfySw         31        30          24        7      2\n",
              "_3FxLxdg1unUQc3QqIgJuA        251       159         177       55      8\n",
              "_4tCeVrLRmI18BscMiHr7Q         58        31          40       15      3\n",
              "_6UaHEnDDbUla3Pa3VVu3Q         55        47          45       13      3"
            ]
          },
          "metadata": {
            "tags": []
          },
          "execution_count": 336
        }
      ]
    },
    {
      "cell_type": "code",
      "metadata": {
        "id": "l6v8nv5EWv2b",
        "colab_type": "code",
        "colab": {}
      },
      "source": [
        "threshold = avg_topic_rating(finalres,finalrescnt)"
      ],
      "execution_count": 0,
      "outputs": []
    },
    {
      "cell_type": "code",
      "metadata": {
        "id": "aLjF24WBY7Sj",
        "colab_type": "code",
        "outputId": "4483d0c9-9ac6-4e0b-e43b-fa0f987cdf3a",
        "colab": {
          "base_uri": "https://localhost:8080/",
          "height": 35
        }
      },
      "source": [
        "threshold['varieties'][0]"
      ],
      "execution_count": 0,
      "outputs": [
        {
          "output_type": "execute_result",
          "data": {
            "text/plain": [
              "3.825991741303466"
            ]
          },
          "metadata": {
            "tags": []
          },
          "execution_count": 351
        }
      ]
    },
    {
      "cell_type": "markdown",
      "metadata": {
        "id": "Gx7A5ONBLKJZ",
        "colab_type": "text"
      },
      "source": [
        "### Example: for a given bussiness Id, we represent each topic as red card or green card in UI"
      ]
    },
    {
      "cell_type": "code",
      "metadata": {
        "id": "kZqKdGzsXQHH",
        "colab_type": "code",
        "outputId": "9cea5190-2d8d-4960-8f8d-113c4fc13a2c",
        "colab": {
          "base_uri": "https://localhost:8080/",
          "height": 35
        }
      },
      "source": [
        "id = \"_3FxLxdg1unUQc3QqIgJuA\"\n",
        "if(finalres[finalres.index == id]['varieties'][0] < threshold['varieties'][0]):\n",
        "  print(\"Red\")\n",
        "else:\n",
        "  print(\"Green\")  "
      ],
      "execution_count": 0,
      "outputs": [
        {
          "output_type": "stream",
          "text": [
            "Red\n"
          ],
          "name": "stdout"
        }
      ]
    },
    {
      "cell_type": "markdown",
      "metadata": {
        "id": "050I7tZ2WFgG",
        "colab_type": "text"
      },
      "source": [
        "___________________________________________________________________________________"
      ]
    },
    {
      "cell_type": "markdown",
      "metadata": {
        "id": "LboLPFRHWLC9",
        "colab_type": "text"
      },
      "source": [
        "### Python trails for transformation instead of MS Excel \"Pivot Table\" feature"
      ]
    },
    {
      "cell_type": "code",
      "metadata": {
        "id": "ObwCXvcbQjAt",
        "colab_type": "code",
        "colab": {}
      },
      "source": [
        "file=r'drive/My Drive/Dataset/Yelp_Reviews.parquet'\n",
        "reviews=spark.read.parquet(file)\n",
        "file1=r'drive/My Drive/Data Mining/restauranttokens2.csv/doc-topics.csv'\n",
        "topics=spark.read.csv(file1,header=True)\n",
        "# create a temporary view to be used in SQL queries\n",
        "reviews.createOrReplaceTempView(\"reviews\")\n",
        "# create a temporary view to be used in SQL queries\n",
        "topics.createOrReplaceTempView(\"topics\")"
      ],
      "execution_count": 0,
      "outputs": []
    },
    {
      "cell_type": "code",
      "metadata": {
        "id": "KNPbkyYJQ8oE",
        "colab_type": "code",
        "colab": {}
      },
      "source": [
        "def tokenize(c):\n",
        "   return split(c,\":\")[1]\n",
        "\n",
        "res = topics.withColumn('doc',tokenize(topics.docname)).drop(\"docname\")"
      ],
      "execution_count": 0,
      "outputs": []
    },
    {
      "cell_type": "code",
      "metadata": {
        "id": "7tSV2g2EV9H-",
        "colab_type": "code",
        "colab": {}
      },
      "source": [
        "res = res.withColumn('doc',res.doc.cast(LongType()))"
      ],
      "execution_count": 0,
      "outputs": []
    },
    {
      "cell_type": "code",
      "metadata": {
        "id": "515VGS5TURZu",
        "colab_type": "code",
        "outputId": "9a025ff3-72b2-4a4c-cc3f-e302d45b5741",
        "colab": {
          "base_uri": "https://localhost:8080/",
          "height": 459
        }
      },
      "source": [
        "res.select([\"doc\",\"topic\"]).orderBy(\"doc\").show()"
      ],
      "execution_count": 0,
      "outputs": [
        {
          "output_type": "stream",
          "text": [
            "+---+-----+\n",
            "|doc|topic|\n",
            "+---+-----+\n",
            "|  0|  002|\n",
            "|  1|  001|\n",
            "|  2|  000|\n",
            "|  3|  000|\n",
            "|  4|  002|\n",
            "|  4|  000|\n",
            "|  5|  000|\n",
            "|  6|  002|\n",
            "|  6|  004|\n",
            "|  7|  000|\n",
            "|  7|  001|\n",
            "|  8|  000|\n",
            "|  9|  002|\n",
            "| 10|  002|\n",
            "| 10|  004|\n",
            "| 11|  000|\n",
            "| 12|  001|\n",
            "| 13|  002|\n",
            "| 14|  003|\n",
            "| 15|  000|\n",
            "+---+-----+\n",
            "only showing top 20 rows\n",
            "\n"
          ],
          "name": "stdout"
        }
      ]
    },
    {
      "cell_type": "code",
      "metadata": {
        "id": "AtbQPetPk09E",
        "colab_type": "code",
        "colab": {}
      },
      "source": [
        "from pyspark.sql.window import Window  \n",
        "w = Window.orderBy(\"business_id\") \n",
        "filtered_reviews = filtered_reviews.withColumn(\"id\", row_number().over(w)-1)\n",
        "filtered_reviews.filter(filtered_reviews['id']==0).show()"
      ],
      "execution_count": 0,
      "outputs": []
    },
    {
      "cell_type": "code",
      "metadata": {
        "id": "KTaA1JDZW3T3",
        "colab_type": "code",
        "outputId": "93e9f492-451c-47ac-ba8c-1c2526a0dd96",
        "colab": {
          "base_uri": "https://localhost:8080/",
          "height": 119
        }
      },
      "source": [
        "filtered_reviews.filter(filtered_reviews['id']==0).show()"
      ],
      "execution_count": 0,
      "outputs": [
        {
          "output_type": "stream",
          "text": [
            "+--------------------+--------------------+-------------------+------+---+\n",
            "|         business_id|         review_text|              dates|rating| id|\n",
            "+--------------------+--------------------+-------------------+------+---+\n",
            "|--9e1ONYQuAa-CB_R...|Very busy and noi...|2015-10-23 13:23:34|   2.0|  0|\n",
            "+--------------------+--------------------+-------------------+------+---+\n",
            "\n"
          ],
          "name": "stdout"
        }
      ]
    },
    {
      "cell_type": "code",
      "metadata": {
        "id": "kam-OQzTiB3X",
        "colab_type": "code",
        "outputId": "94b5cefe-2556-4c85-e748-1f1c51d4f482",
        "colab": {
          "base_uri": "https://localhost:8080/",
          "height": 35
        }
      },
      "source": [
        "filtered_reviews.count()"
      ],
      "execution_count": 0,
      "outputs": [
        {
          "output_type": "execute_result",
          "data": {
            "text/plain": [
              "999453"
            ]
          },
          "metadata": {
            "tags": []
          },
          "execution_count": 313
        }
      ]
    },
    {
      "cell_type": "code",
      "metadata": {
        "id": "mnr45zLfXTih",
        "colab_type": "code",
        "outputId": "5116d3ca-2846-4931-c2be-e7b3a407e3a2",
        "colab": {
          "base_uri": "https://localhost:8080/",
          "height": 108
        }
      },
      "source": [
        "res.printSchema()"
      ],
      "execution_count": 0,
      "outputs": [
        {
          "output_type": "stream",
          "text": [
            "root\n",
            " |-- topic: string (nullable = true)\n",
            " |-- proportion: string (nullable = true)\n",
            " |-- doc: long (nullable = true)\n",
            "\n"
          ],
          "name": "stdout"
        }
      ]
    },
    {
      "cell_type": "code",
      "metadata": {
        "id": "r4T-wO1UiUWx",
        "colab_type": "code",
        "outputId": "e57cd6a5-da08-4bf2-8866-5d80e5dbb284",
        "colab": {
          "base_uri": "https://localhost:8080/",
          "height": 35
        }
      },
      "source": [
        "filtered_reviews.select(\"id\").rdd.max()"
      ],
      "execution_count": 0,
      "outputs": [
        {
          "output_type": "execute_result",
          "data": {
            "text/plain": [
              "Row(id=999452)"
            ]
          },
          "metadata": {
            "tags": []
          },
          "execution_count": 315
        }
      ]
    },
    {
      "cell_type": "code",
      "metadata": {
        "id": "TRbPTXV_sIZY",
        "colab_type": "code",
        "outputId": "55c67ba6-eb35-4efd-ebf6-c1aa1aa96c47",
        "colab": {
          "base_uri": "https://localhost:8080/",
          "height": 35
        }
      },
      "source": [
        "res.select(\"doc\").distinct().count()"
      ],
      "execution_count": 0,
      "outputs": [
        {
          "output_type": "execute_result",
          "data": {
            "text/plain": [
              "999453"
            ]
          },
          "metadata": {
            "tags": []
          },
          "execution_count": 316
        }
      ]
    },
    {
      "cell_type": "code",
      "metadata": {
        "id": "6GRMUk0Lqeko",
        "colab_type": "code",
        "colab": {}
      },
      "source": [
        "# create a temporary view to be used in SQL queries\n",
        "filtered_reviews.createOrReplaceTempView(\"filtered_reviews\")"
      ],
      "execution_count": 0,
      "outputs": []
    },
    {
      "cell_type": "markdown",
      "metadata": {
        "id": "FrPEO01BXksD",
        "colab_type": "text"
      },
      "source": [
        "##### Note: Right outer join here (Perfect example!) "
      ]
    },
    {
      "cell_type": "code",
      "metadata": {
        "id": "8uvxpN0hRZV6",
        "colab_type": "code",
        "colab": {}
      },
      "source": [
        "query = \"\"\"\n",
        "SELECT filtered_reviews.id,filtered_reviews.business_id,res.topic,filtered_reviews.rating FROM res right outer join filtered_reviews on res.doc = filtered_reviews.id\n",
        "\"\"\"\n",
        "# convert the result to Pandas dataframe\n",
        "merge = spark.sql(query)"
      ],
      "execution_count": 0,
      "outputs": []
    },
    {
      "cell_type": "code",
      "metadata": {
        "id": "JNYO8NZwekW_",
        "colab_type": "code",
        "outputId": "37d6268c-93af-48c2-e8e8-f18bc05012da",
        "colab": {
          "base_uri": "https://localhost:8080/",
          "height": 126
        }
      },
      "source": [
        "merge.printSchema()"
      ],
      "execution_count": 0,
      "outputs": [
        {
          "output_type": "stream",
          "text": [
            "root\n",
            " |-- id: integer (nullable = true)\n",
            " |-- business_id: string (nullable = true)\n",
            " |-- topic: string (nullable = true)\n",
            " |-- rating: double (nullable = true)\n",
            "\n"
          ],
          "name": "stdout"
        }
      ]
    },
    {
      "cell_type": "code",
      "metadata": {
        "id": "PgmFVYUMHbG9",
        "colab_type": "code",
        "outputId": "388dee91-8116-4045-8816-83ac50fa6df2",
        "colab": {
          "base_uri": "https://localhost:8080/",
          "height": 490
        }
      },
      "source": [
        "merge.select(\"business_id\",\"topic\").orderBy(\"business_id\",\"topic\").show()"
      ],
      "execution_count": 0,
      "outputs": [
        {
          "output_type": "stream",
          "text": [
            "+--------------------+-----+\n",
            "|         business_id|topic|\n",
            "+--------------------+-----+\n",
            "|--9e1ONYQuAa-CB_R...|  000|\n",
            "|--9e1ONYQuAa-CB_R...|  000|\n",
            "|--9e1ONYQuAa-CB_R...|  000|\n",
            "|--9e1ONYQuAa-CB_R...|  000|\n",
            "|--9e1ONYQuAa-CB_R...|  000|\n",
            "|--9e1ONYQuAa-CB_R...|  000|\n",
            "|--9e1ONYQuAa-CB_R...|  000|\n",
            "|--9e1ONYQuAa-CB_R...|  000|\n",
            "|--9e1ONYQuAa-CB_R...|  000|\n",
            "|--9e1ONYQuAa-CB_R...|  000|\n",
            "|--9e1ONYQuAa-CB_R...|  000|\n",
            "|--9e1ONYQuAa-CB_R...|  000|\n",
            "|--9e1ONYQuAa-CB_R...|  000|\n",
            "|--9e1ONYQuAa-CB_R...|  000|\n",
            "|--9e1ONYQuAa-CB_R...|  000|\n",
            "|--9e1ONYQuAa-CB_R...|  000|\n",
            "|--9e1ONYQuAa-CB_R...|  000|\n",
            "|--9e1ONYQuAa-CB_R...|  000|\n",
            "|--9e1ONYQuAa-CB_R...|  000|\n",
            "|--9e1ONYQuAa-CB_R...|  000|\n",
            "+--------------------+-----+\n",
            "only showing top 20 rows\n",
            "\n"
          ],
          "name": "stdout"
        }
      ]
    },
    {
      "cell_type": "code",
      "metadata": {
        "id": "IZtwuo7KeOQ2",
        "colab_type": "code",
        "outputId": "5b0c1ab8-af25-4594-fe6f-1abeda851b2b",
        "colab": {
          "base_uri": "https://localhost:8080/",
          "height": 35
        }
      },
      "source": [
        "merge.count()"
      ],
      "execution_count": 0,
      "outputs": [
        {
          "output_type": "execute_result",
          "data": {
            "text/plain": [
              "1471432"
            ]
          },
          "metadata": {
            "tags": []
          },
          "execution_count": 321
        }
      ]
    },
    {
      "cell_type": "code",
      "metadata": {
        "id": "T220rCiUdSKW",
        "colab_type": "code",
        "colab": {}
      },
      "source": [
        "# create a temporary view to be used in SQL queries\n",
        "merge.createOrReplaceTempView(\"merge\")\n",
        "\n",
        "query = \"\"\"\n",
        "SELECT business_id,topic,avg(rating) FROM merge group by business_id,topic order by business_id,topic\n",
        "\"\"\"\n",
        "# convert the result to Pandas dataframe\n",
        "mergegrp = spark.sql(query)"
      ],
      "execution_count": 0,
      "outputs": []
    },
    {
      "cell_type": "code",
      "metadata": {
        "id": "GrZrr8_Xne4y",
        "colab_type": "code",
        "outputId": "d0cfd0b7-fb8b-4edd-9629-74c65773e806",
        "colab": {
          "base_uri": "https://localhost:8080/",
          "height": 35
        }
      },
      "source": [
        "mergegrp.count()"
      ],
      "execution_count": 0,
      "outputs": [
        {
          "output_type": "execute_result",
          "data": {
            "text/plain": [
              "13331"
            ]
          },
          "metadata": {
            "tags": []
          },
          "execution_count": 323
        }
      ]
    },
    {
      "cell_type": "code",
      "metadata": {
        "id": "OoqVslGqLgBJ",
        "colab_type": "code",
        "colab": {}
      },
      "source": [
        "# create a temporary view to be used in SQL queries\n",
        "merge.createOrReplaceTempView(\"merge\")\n",
        "\n",
        "query = \"\"\"\n",
        "SELECT business_id,topic,count(rating) FROM merge group by business_id,topic order by business_id,topic\n",
        "\"\"\"\n",
        "# convert the result to Pandas dataframe\n",
        "mergegrpcnt = spark.sql(query)"
      ],
      "execution_count": 0,
      "outputs": []
    },
    {
      "cell_type": "code",
      "metadata": {
        "id": "FcbJSyIWLkJR",
        "colab_type": "code",
        "outputId": "af06ba03-c1be-46d4-b05d-2e5db5d7abc8",
        "colab": {
          "base_uri": "https://localhost:8080/",
          "height": 35
        }
      },
      "source": [
        "mergegrpcnt.count()"
      ],
      "execution_count": 0,
      "outputs": [
        {
          "output_type": "execute_result",
          "data": {
            "text/plain": [
              "13331"
            ]
          },
          "metadata": {
            "tags": []
          },
          "execution_count": 325
        }
      ]
    },
    {
      "cell_type": "code",
      "metadata": {
        "id": "xetEytNzLf7H",
        "colab_type": "code",
        "outputId": "277835ca-19df-4471-cc44-a868e2e82579",
        "colab": {
          "base_uri": "https://localhost:8080/",
          "height": 490
        }
      },
      "source": [
        "mergegrpcnt.show()"
      ],
      "execution_count": 0,
      "outputs": [
        {
          "output_type": "stream",
          "text": [
            "+--------------------+-----+-------------+\n",
            "|         business_id|topic|count(rating)|\n",
            "+--------------------+-----+-------------+\n",
            "|--9e1ONYQuAa-CB_R...|  000|          889|\n",
            "|--9e1ONYQuAa-CB_R...|  001|          598|\n",
            "|--9e1ONYQuAa-CB_R...|  002|          627|\n",
            "|--9e1ONYQuAa-CB_R...|  003|          224|\n",
            "|--9e1ONYQuAa-CB_R...|  004|           64|\n",
            "|-1m9o3vGRA8IBPNvN...|  000|          147|\n",
            "|-1m9o3vGRA8IBPNvN...|  001|           85|\n",
            "|-1m9o3vGRA8IBPNvN...|  002|           94|\n",
            "|-1m9o3vGRA8IBPNvN...|  003|           36|\n",
            "|-1m9o3vGRA8IBPNvN...|  004|           10|\n",
            "|-1vfRrlnNnNJ5boOV...|  000|           39|\n",
            "|-1vfRrlnNnNJ5boOV...|  001|           31|\n",
            "|-1vfRrlnNnNJ5boOV...|  002|           35|\n",
            "|-1vfRrlnNnNJ5boOV...|  003|           12|\n",
            "|-1vfRrlnNnNJ5boOV...|  004|            3|\n",
            "|-3zffZUHoY8bQjGfP...|  000|          365|\n",
            "|-3zffZUHoY8bQjGfP...|  001|          222|\n",
            "|-3zffZUHoY8bQjGfP...|  002|          241|\n",
            "|-3zffZUHoY8bQjGfP...|  003|           85|\n",
            "|-3zffZUHoY8bQjGfP...|  004|           37|\n",
            "+--------------------+-----+-------------+\n",
            "only showing top 20 rows\n",
            "\n"
          ],
          "name": "stdout"
        }
      ]
    },
    {
      "cell_type": "markdown",
      "metadata": {
        "id": "JeAZNj07ZHZf",
        "colab_type": "text"
      },
      "source": [
        "#### After merging make sure this count is same as the business considered initially"
      ]
    },
    {
      "cell_type": "code",
      "metadata": {
        "id": "TzYIvnHisdVK",
        "colab_type": "code",
        "outputId": "916e4785-567a-4042-c79a-20a2b496e2e9",
        "colab": {
          "base_uri": "https://localhost:8080/",
          "height": 35
        }
      },
      "source": [
        "mergegrp.select(\"business_id\").distinct().count()"
      ],
      "execution_count": 0,
      "outputs": [
        {
          "output_type": "execute_result",
          "data": {
            "text/plain": [
              "2680"
            ]
          },
          "metadata": {
            "tags": []
          },
          "execution_count": 267
        }
      ]
    },
    {
      "cell_type": "code",
      "metadata": {
        "id": "2zTHQp5QjM7W",
        "colab_type": "code",
        "colab": {}
      },
      "source": [
        "mergegrpcnt.coalesce(1).write.option(\"header\",\"true\").csv(\"drive/My Drive/Data Mining/finalcnt.csv\")"
      ],
      "execution_count": 0,
      "outputs": []
    },
    {
      "cell_type": "code",
      "metadata": {
        "id": "4JrGcmyDeRjl",
        "colab_type": "code",
        "outputId": "49035449-00b0-453e-bea7-ef1cf5bff1f2",
        "colab": {
          "base_uri": "https://localhost:8080/",
          "height": 490
        }
      },
      "source": [
        "import pyspark.sql.functions as f \n",
        "merge.groupby(\"business_id\").agg(f.collect_list(\"topic\").alias(\"topics\")).show()"
      ],
      "execution_count": 0,
      "outputs": [
        {
          "output_type": "stream",
          "text": [
            "+--------------------+--------------------+\n",
            "|         business_id|              topics|\n",
            "+--------------------+--------------------+\n",
            "|--9e1ONYQuAa-CB_R...|[002, 000, 001, 0...|\n",
            "|BMAflH82OUIMl2mHt...|[001, 000, 002, 0...|\n",
            "|Cl-xl1vTUwHeaGgBx...|[001, 000, 000, 0...|\n",
            "|Ipkl7KtlqxCe8bMMk...|[001, 000, 001, 0...|\n",
            "|RSOinkOUpxm0mGw1I...|[002, 000, 003, 0...|\n",
            "|_ixV2SWDy7w8jzEAH...|[004, 001, 001, 0...|\n",
            "|dk1MV0MP32Xq-iBxz...|[000, 001, 001, 0...|\n",
            "|nt2-Zk4FmGY2SYSDB...|[001, 002, 001, 0...|\n",
            "|rbH0HuTcBvZBbiAnq...|[000, 003, 001, 0...|\n",
            "|x1fx7C_tc064cFATj...|[000, 000, 001, 0...|\n",
            "|MgSd4P3ATkiywbbra...|[000, 000, 001, 0...|\n",
            "|G58YATMKnn-M-RUDW...|[001, 000, 002, 0...|\n",
            "|5JNvfPfd6mcpwNoek...|[000, 001, 000, 0...|\n",
            "|JJAwT9R6Fp2yyWHtW...|[002, 001, 000, 0...|\n",
            "|L6qd3x0bHymyxub9d...|[001, 001, 000, 0...|\n",
            "|PBZyumZ_0vSijc2zO...|[001, 002, 002, 0...|\n",
            "|S6apFS5ghsQg69rcB...|[000, 001, 001, 0...|\n",
            "|Sovgwq-E-n6wLqNh3...|[000, 001, 002, 0...|\n",
            "|eJCDUkFa7wl-BHYKZ...|[001, 000, 002, 0...|\n",
            "|mjhwLcuoenVW8oFhc...|[000, 001, 003, 0...|\n",
            "+--------------------+--------------------+\n",
            "only showing top 20 rows\n",
            "\n"
          ],
          "name": "stdout"
        }
      ]
    },
    {
      "cell_type": "markdown",
      "metadata": {
        "id": "v329ZQuCX4pb",
        "colab_type": "text"
      },
      "source": [
        "Still more transformations are required....... However since we have restricted to las vegas businesses / Restarants. Extracting output and working with pivot tables was easier."
      ]
    },
    {
      "cell_type": "markdown",
      "metadata": {
        "id": "0qSK0EYbEP4n",
        "colab_type": "text"
      },
      "source": [
        "### Trails : Below Functions Definitions -- for use in smaller datasets and for local LDA topic modelling."
      ]
    },
    {
      "cell_type": "code",
      "metadata": {
        "id": "DtT0JT2vE6To",
        "colab_type": "code",
        "colab": {}
      },
      "source": [
        "# setup library imports\n",
        "import io, time, json\n",
        "import requests\n",
        "from bs4 import BeautifulSoup\n",
        "import pandas as pd\n",
        "import numpy as np\n",
        "import nltk\n",
        "import string\n",
        "from collections import Counter\n",
        "from gensim import corpora, models\n",
        "from nltk.tokenize import word_tokenize\n",
        "import gensim\n",
        "from textblob import TextBlob\n",
        "from itertools import*\n",
        "from collections import Counter"
      ],
      "execution_count": 0,
      "outputs": []
    },
    {
      "cell_type": "code",
      "metadata": {
        "id": "BZ911G8HnwqD",
        "colab_type": "code",
        "colab": {}
      },
      "source": [
        "import logging\n",
        "import boto3\n",
        "from botocore.exceptions import ClientError\n",
        "\n",
        "\n",
        "def upload_file(file_name, bucket, object_name=None):\n",
        "    \"\"\"Upload a file to an S3 bucket\n",
        "\n",
        "    :param file_name: File to upload\n",
        "    :param bucket: Bucket to upload to\n",
        "    :param object_name: S3 object name. If not specified then file_name is used\n",
        "    :return: True if file was uploaded, else False\n",
        "    \"\"\"\n",
        "\n",
        "    # If S3 object_name was not specified, use file_name\n",
        "    if object_name is None:\n",
        "        object_name = file_name\n",
        "\n",
        "    # Upload the file\n",
        "    s3_client = boto3.client('s3')\n",
        "    try:\n",
        "        response = s3_client.upload_file(file_name, bucket, object_name)\n",
        "    except ClientError as e:\n",
        "        logging.error(e)\n",
        "        return False\n",
        "    return True"
      ],
      "execution_count": 0,
      "outputs": []
    },
    {
      "cell_type": "code",
      "metadata": {
        "id": "AE26mxQKe_RU",
        "colab_type": "code",
        "outputId": "d5919c5e-a571-4e58-ff66-8742ec1322c4",
        "colab": {
          "base_uri": "https://localhost:8080/",
          "height": 145
        }
      },
      "source": [
        "import nltk\n",
        "nltk.download('punkt')\n",
        "nltk.download('stopwords')\n",
        "nltk.download('wordnet')"
      ],
      "execution_count": 0,
      "outputs": [
        {
          "output_type": "stream",
          "text": [
            "[nltk_data] Downloading package punkt to /root/nltk_data...\n",
            "[nltk_data]   Unzipping tokenizers/punkt.zip.\n",
            "[nltk_data] Downloading package stopwords to /root/nltk_data...\n",
            "[nltk_data]   Unzipping corpora/stopwords.zip.\n",
            "[nltk_data] Downloading package wordnet to /root/nltk_data...\n",
            "[nltk_data]   Unzipping corpora/wordnet.zip.\n"
          ],
          "name": "stdout"
        },
        {
          "output_type": "execute_result",
          "data": {
            "text/plain": [
              "True"
            ]
          },
          "metadata": {
            "tags": []
          },
          "execution_count": 67
        }
      ]
    },
    {
      "cell_type": "code",
      "metadata": {
        "id": "mMd4KRdDbcVF",
        "colab_type": "code",
        "colab": {}
      },
      "source": [
        "def categorical_reviews(category):\n",
        "  filtered_business = business_df.filter(business_df['categories']==category)\n",
        "  business_pandas = filtered_business.limit(100000).toPandas()\n",
        "  business_list = list(business_pandas['business_id'])\n",
        "  filtered_reviews = reviews_df.filter(reviews_df['business_id'].isin(business_list))\n",
        "  reviews_pandas = filtered_reviews.limit(100000).toPandas()\n",
        "  return reviews_pandas"
      ],
      "execution_count": 0,
      "outputs": []
    },
    {
      "cell_type": "markdown",
      "metadata": {
        "id": "qXYHUBPpcDRn",
        "colab_type": "text"
      },
      "source": [
        "#### Web scraping -- Takes a lot of time (If number of reviews are more for a particular restaurant)"
      ]
    },
    {
      "cell_type": "code",
      "metadata": {
        "id": "e0v_s4rVexVK",
        "colab_type": "code",
        "colab": {}
      },
      "source": [
        "def process(text, lemmatizer=nltk.stem.wordnet.WordNetLemmatizer()):\n",
        "    \"\"\" Normalizes case, handles punctuation and removes Stop words \n",
        "    Inputs:\n",
        "        text: str: raw text\n",
        "        lemmatizer: an instance of a class implementing the lemmatize() method\n",
        "                    (the default argument is of type nltk.stem.wordnet.WordNetLemmatizer)\n",
        "    Outputs:\n",
        "        list(str): tokenized text\n",
        "    \"\"\"\n",
        "    # To remove any tags present in the review \n",
        "    soup = BeautifulSoup(text,'html.parser')\n",
        "    text = soup.get_text()\n",
        "    \n",
        "    tspt = text.lower()\n",
        "    tspt = tspt.replace(\"'s\",'')\n",
        "    tspt = tspt.replace(\"'\",'')\n",
        "    for ii in string.punctuation:\n",
        "        tspt = tspt.replace(ii, ' ')\n",
        "    tspt = nltk.word_tokenize(tspt) \n",
        "    \n",
        "    # To remove the stop words \n",
        "    stopwords=nltk.corpus.stopwords.words('english')\n",
        "\n",
        "    wrds = []\n",
        "    for tt in tspt : \n",
        "        if tt not in stopwords:\n",
        "            try :\n",
        "                wrd = lemmatizer.lemmatize(tt)\n",
        "            except :\n",
        "                continue\n",
        "\n",
        "            wrds.append( wrd)\n",
        "    \n",
        "    return wrds"
      ],
      "execution_count": 0,
      "outputs": []
    },
    {
      "cell_type": "code",
      "metadata": {
        "id": "ra8X-c2zbjlD",
        "colab_type": "code",
        "colab": {}
      },
      "source": [
        "def tokenize_review(df,field_name):\n",
        "    lemm_text =  [process(row[field_name]) for ind, row in df.iterrows()]\n",
        "    df = df.assign(reviews_token = lemm_text)\n",
        "    return df "
      ],
      "execution_count": 0,
      "outputs": []
    },
    {
      "cell_type": "code",
      "metadata": {
        "id": "MlwkHDQafLl4",
        "colab_type": "code",
        "colab": {}
      },
      "source": [
        "def get_rare_words(processed_reviews,field_name):\n",
        "    \"\"\" use the word count information across all reviews to come up with a feature list\n",
        "    Inputs:\n",
        "        processed_reviews: pd.DataFrame\n",
        "    Outputs:\n",
        "        list(str): list of rare words, sorted alphabetically.\n",
        "    \"\"\"\n",
        "    \n",
        "    out = []\n",
        "    for ii in processed_reviews.iterrows() :\n",
        "        out = out + ii[1][field_name]\n",
        "    \n",
        "    outfi = []\n",
        "    of = Counter(out)\n",
        "    for kk in of.keys() :\n",
        "        if of[kk] == 1:\n",
        "            outfi.append(kk)\n",
        "\n",
        "    outfi = sorted(outfi)\n",
        "    \n",
        "    return outfi\n"
      ],
      "execution_count": 0,
      "outputs": []
    },
    {
      "cell_type": "code",
      "metadata": {
        "id": "5niR4_CTfW7-",
        "colab_type": "code",
        "colab": {}
      },
      "source": [
        "def remove_rare(text, rare_wrds):\n",
        "    \"\"\"Removes rare words from the review tokens\n",
        "    Inputs:\n",
        "        text(list): tokenized review\n",
        "        rare_wrds (list): rare words  \n",
        "    Outputs:\n",
        "        list of words, without the rare words.\n",
        "    \"\"\"\n",
        "    output = []\n",
        "    for wrd in text:\n",
        "        if wrd not in rare_wrds:\n",
        "            output.append(wrd)\n",
        "    return output"
      ],
      "execution_count": 0,
      "outputs": []
    },
    {
      "cell_type": "code",
      "metadata": {
        "id": "o8Rj_nqjfl5S",
        "colab_type": "code",
        "colab": {}
      },
      "source": [
        "def reviews_without_rare_words (df, token_field,  rare_words):\n",
        "    \"\"\"To get the tokenized review without the rare words\n",
        "    Inputs: \n",
        "        df(dataframe): Reviews dataframe\n",
        "        token_field (String) : field containing the tokenized reviews\n",
        "        rare_words (list) : List of rarewords \n",
        "    Returns : \n",
        "        Dataframe with other column named 'reviews_without_rare_words' \n",
        "    \"\"\"\n",
        "    remove_rare_wrds = df[token_field].apply( lambda x: remove_rare(x, rare_wrds))\n",
        "    df = df.assign(reviews_without_rare_words = remove_rare_wrds)\n",
        "    return df "
      ],
      "execution_count": 0,
      "outputs": []
    },
    {
      "cell_type": "code",
      "metadata": {
        "id": "W25-N4ukf3KW",
        "colab_type": "code",
        "colab": {}
      },
      "source": [
        "def topic_model_prep(category):\n",
        "  #for cat in toplist:\n",
        "  df = categorical_reviews(category)\n",
        "  df = tokenize_review(df,'review_text')\n",
        "  rare_wrds = get_rare_words(df, 'reviews_token')\n",
        "  df = reviews_without_rare_words(df,'reviews_token',rare_wrds)\n",
        "  return df"
      ],
      "execution_count": 0,
      "outputs": []
    },
    {
      "cell_type": "code",
      "metadata": {
        "id": "1pGjTZUrm7LG",
        "colab_type": "code",
        "colab": {}
      },
      "source": [
        "df = categorical_reviews('Pizza')"
      ],
      "execution_count": 0,
      "outputs": []
    },
    {
      "cell_type": "code",
      "metadata": {
        "id": "ozMHP_5aW8vS",
        "colab_type": "code",
        "outputId": "3d2bdf5c-edfc-4d9c-de56-3258dc4ed71a",
        "colab": {
          "base_uri": "https://localhost:8080/",
          "height": 74
        }
      },
      "source": [
        "df = tokenize_review(df,'review_text')"
      ],
      "execution_count": 0,
      "outputs": [
        {
          "output_type": "stream",
          "text": [
            "/usr/local/lib/python3.6/dist-packages/bs4/__init__.py:273: UserWarning: \"b'..'\" looks like a filename, not markup. You should probably open this file and pass the filehandle into Beautiful Soup.\n",
            "  ' Beautiful Soup.' % markup)\n"
          ],
          "name": "stderr"
        }
      ]
    },
    {
      "cell_type": "code",
      "metadata": {
        "id": "qNJpOpmDW_SE",
        "colab_type": "code",
        "outputId": "99cadcbf-9f24-4487-fead-23e4ec0582ae",
        "colab": {
          "base_uri": "https://localhost:8080/",
          "height": 198
        }
      },
      "source": [
        "df.head()"
      ],
      "execution_count": 0,
      "outputs": [
        {
          "output_type": "execute_result",
          "data": {
            "text/html": [
              "<div>\n",
              "<style scoped>\n",
              "    .dataframe tbody tr th:only-of-type {\n",
              "        vertical-align: middle;\n",
              "    }\n",
              "\n",
              "    .dataframe tbody tr th {\n",
              "        vertical-align: top;\n",
              "    }\n",
              "\n",
              "    .dataframe thead th {\n",
              "        text-align: right;\n",
              "    }\n",
              "</style>\n",
              "<table border=\"1\" class=\"dataframe\">\n",
              "  <thead>\n",
              "    <tr style=\"text-align: right;\">\n",
              "      <th></th>\n",
              "      <th>business_id</th>\n",
              "      <th>review_text</th>\n",
              "      <th>dates</th>\n",
              "      <th>rating</th>\n",
              "      <th>reviews_token</th>\n",
              "    </tr>\n",
              "  </thead>\n",
              "  <tbody>\n",
              "    <tr>\n",
              "      <th>0</th>\n",
              "      <td>I4Nr-MVc26qWr08-S3Q1ow</td>\n",
              "      <td>The food is always good and the prices are rea...</td>\n",
              "      <td>2016-01-17 05:26:22</td>\n",
              "      <td>4.0</td>\n",
              "      <td>[food, always, good, price, reasonable, althou...</td>\n",
              "    </tr>\n",
              "    <tr>\n",
              "      <th>1</th>\n",
              "      <td>d_L-rfS1vT3JMzgCUGtiow</td>\n",
              "      <td>Pick any meat on the planet and the chef will ...</td>\n",
              "      <td>2016-07-25 03:57:19</td>\n",
              "      <td>5.0</td>\n",
              "      <td>[pick, meat, planet, chef, make, mexican, styl...</td>\n",
              "    </tr>\n",
              "    <tr>\n",
              "      <th>2</th>\n",
              "      <td>Sfc8Haz2Yri8Mo1L0E0TsA</td>\n",
              "      <td>Great food, great service. Obviously fried chi...</td>\n",
              "      <td>2012-11-06 03:41:43</td>\n",
              "      <td>5.0</td>\n",
              "      <td>[great, food, great, service, obviously, fried...</td>\n",
              "    </tr>\n",
              "    <tr>\n",
              "      <th>3</th>\n",
              "      <td>Gyrez6K8f1AyR7dzW9fvAw</td>\n",
              "      <td>their pettuccine was fresh-made in the morning...</td>\n",
              "      <td>2013-12-28 22:28:08</td>\n",
              "      <td>5.0</td>\n",
              "      <td>[pettuccine, fresh, made, morning, delicate, y...</td>\n",
              "    </tr>\n",
              "    <tr>\n",
              "      <th>4</th>\n",
              "      <td>dm6sO_Y8JdKTE1ZM955yug</td>\n",
              "      <td>ended up here because Raku was closed and it r...</td>\n",
              "      <td>2014-12-17 19:04:33</td>\n",
              "      <td>5.0</td>\n",
              "      <td>[ended, raku, closed, received, great, rating,...</td>\n",
              "    </tr>\n",
              "  </tbody>\n",
              "</table>\n",
              "</div>"
            ],
            "text/plain": [
              "              business_id  ...                                      reviews_token\n",
              "0  I4Nr-MVc26qWr08-S3Q1ow  ...  [food, always, good, price, reasonable, althou...\n",
              "1  d_L-rfS1vT3JMzgCUGtiow  ...  [pick, meat, planet, chef, make, mexican, styl...\n",
              "2  Sfc8Haz2Yri8Mo1L0E0TsA  ...  [great, food, great, service, obviously, fried...\n",
              "3  Gyrez6K8f1AyR7dzW9fvAw  ...  [pettuccine, fresh, made, morning, delicate, y...\n",
              "4  dm6sO_Y8JdKTE1ZM955yug  ...  [ended, raku, closed, received, great, rating,...\n",
              "\n",
              "[5 rows x 5 columns]"
            ]
          },
          "metadata": {
            "tags": []
          },
          "execution_count": 54
        }
      ]
    },
    {
      "cell_type": "code",
      "metadata": {
        "id": "XNv4OccBYc02",
        "colab_type": "code",
        "colab": {}
      },
      "source": [
        "rare_wrds = get_rare_words(df, 'reviews_token')"
      ],
      "execution_count": 0,
      "outputs": []
    },
    {
      "cell_type": "code",
      "metadata": {
        "id": "RUAPJnrbnESZ",
        "colab_type": "code",
        "colab": {}
      },
      "source": [
        "filtered_business = business_df.filter(business_df['categories']=='Restaurants')\n",
        "business_pandas = filtered_business.limit(100000).toPandas()\n",
        "business_list = list(business_pandas['business_id'])\n",
        "filtered_reviews = reviews_df.filter(reviews_df['business_id'].isin(business_list))\n",
        "reviews_pandas = filtered_reviews.limit(100000).toPandas()"
      ],
      "execution_count": 0,
      "outputs": []
    },
    {
      "cell_type": "code",
      "metadata": {
        "id": "9tnPg_Ban2_g",
        "colab_type": "code",
        "outputId": "438e2c74-ae66-4742-c659-9340dd915479",
        "colab": {
          "base_uri": "https://localhost:8080/",
          "height": 198
        }
      },
      "source": [
        "reviews_pandas.head()"
      ],
      "execution_count": 0,
      "outputs": [
        {
          "output_type": "execute_result",
          "data": {
            "text/html": [
              "<div>\n",
              "<style scoped>\n",
              "    .dataframe tbody tr th:only-of-type {\n",
              "        vertical-align: middle;\n",
              "    }\n",
              "\n",
              "    .dataframe tbody tr th {\n",
              "        vertical-align: top;\n",
              "    }\n",
              "\n",
              "    .dataframe thead th {\n",
              "        text-align: right;\n",
              "    }\n",
              "</style>\n",
              "<table border=\"1\" class=\"dataframe\">\n",
              "  <thead>\n",
              "    <tr style=\"text-align: right;\">\n",
              "      <th></th>\n",
              "      <th>business_id</th>\n",
              "      <th>review_text</th>\n",
              "      <th>dates</th>\n",
              "      <th>rating</th>\n",
              "    </tr>\n",
              "  </thead>\n",
              "  <tbody>\n",
              "    <tr>\n",
              "      <th>0</th>\n",
              "      <td>I4Nr-MVc26qWr08-S3Q1ow</td>\n",
              "      <td>The food is always good and the prices are rea...</td>\n",
              "      <td>2016-01-17 05:26:22</td>\n",
              "      <td>4.0</td>\n",
              "    </tr>\n",
              "    <tr>\n",
              "      <th>1</th>\n",
              "      <td>d_L-rfS1vT3JMzgCUGtiow</td>\n",
              "      <td>Pick any meat on the planet and the chef will ...</td>\n",
              "      <td>2016-07-25 03:57:19</td>\n",
              "      <td>5.0</td>\n",
              "    </tr>\n",
              "    <tr>\n",
              "      <th>2</th>\n",
              "      <td>Sfc8Haz2Yri8Mo1L0E0TsA</td>\n",
              "      <td>Great food, great service. Obviously fried chi...</td>\n",
              "      <td>2012-11-06 03:41:43</td>\n",
              "      <td>5.0</td>\n",
              "    </tr>\n",
              "    <tr>\n",
              "      <th>3</th>\n",
              "      <td>Gyrez6K8f1AyR7dzW9fvAw</td>\n",
              "      <td>their pettuccine was fresh-made in the morning...</td>\n",
              "      <td>2013-12-28 22:28:08</td>\n",
              "      <td>5.0</td>\n",
              "    </tr>\n",
              "    <tr>\n",
              "      <th>4</th>\n",
              "      <td>dm6sO_Y8JdKTE1ZM955yug</td>\n",
              "      <td>ended up here because Raku was closed and it r...</td>\n",
              "      <td>2014-12-17 19:04:33</td>\n",
              "      <td>5.0</td>\n",
              "    </tr>\n",
              "  </tbody>\n",
              "</table>\n",
              "</div>"
            ],
            "text/plain": [
              "              business_id  ... rating\n",
              "0  I4Nr-MVc26qWr08-S3Q1ow  ...    4.0\n",
              "1  d_L-rfS1vT3JMzgCUGtiow  ...    5.0\n",
              "2  Sfc8Haz2Yri8Mo1L0E0TsA  ...    5.0\n",
              "3  Gyrez6K8f1AyR7dzW9fvAw  ...    5.0\n",
              "4  dm6sO_Y8JdKTE1ZM955yug  ...    5.0\n",
              "\n",
              "[5 rows x 4 columns]"
            ]
          },
          "metadata": {
            "tags": []
          },
          "execution_count": 91
        }
      ]
    },
    {
      "cell_type": "code",
      "metadata": {
        "id": "8_0AV9VvxLwL",
        "colab_type": "code",
        "colab": {}
      },
      "source": [
        "def create_LDA_model(df, review_field, no_topics, no_passes):\n",
        "    \"\"\"creates LDA model \n",
        "    Inputs:\n",
        "        df (dataframe) : Reviews dataframe\n",
        "        review_field (String) : tokenized reviews column\n",
        "        no_topics (integer) : number of topics for LDA model\n",
        "        no_passes(integer) : number of passes for LDA model\n",
        "    Returns :\n",
        "            tuple (corpusm, gensim.models.ldamodel.LdaModel, Dictionary)  \n",
        "    \"\"\"\n",
        "    text = list(df[review_field])\n",
        "    dictionary = corpora.Dictionary(text)\n",
        "    corpus = [dictionary.doc2bow(txt) for txt in text]\n",
        "    ldamodel = gensim.models.ldamodel.LdaModel(corpus, num_topics=no_topics, id2word = dictionary, passes=no_passes)\n",
        "    return (corpus, ldamodel, dictionary)"
      ],
      "execution_count": 0,
      "outputs": []
    },
    {
      "cell_type": "code",
      "metadata": {
        "id": "Oe3pxdT9Ptj6",
        "colab_type": "code",
        "colab": {}
      },
      "source": [
        "np.random.seed(1)\n",
        "def train_test_split(df, train_size):\n",
        "    \"\"\"Splits the dataframe to train and test according to the given size \n",
        "    Inputs: \n",
        "        df(dataframe) : Reviews dataframe\n",
        "        train_size(float) : ratio of train size\n",
        "    Returns: \n",
        "        tuple(train,test) dataframes\n",
        "    \"\"\"\n",
        "    random_perm = np.random.permutation(len(df))\n",
        "    train = df.iloc[random_perm[:int(train_size*len(df))]]\n",
        "    test = df.iloc[random_perm[int(train_size*len(df)):]]\n",
        "    return (train,test)"
      ],
      "execution_count": 0,
      "outputs": []
    },
    {
      "cell_type": "code",
      "metadata": {
        "id": "AHbNeY0SPxf-",
        "colab_type": "code",
        "colab": {}
      },
      "source": [
        "pizza_train,pizza_test = train_test_split(df,0.9)"
      ],
      "execution_count": 0,
      "outputs": []
    },
    {
      "cell_type": "code",
      "metadata": {
        "id": "bERMXESkUpH-",
        "colab_type": "code",
        "colab": {}
      },
      "source": [
        "pizza_corpus, pizza_train_model, pizza_dictionary = create_LDA_model(pizza_train, 'reviews_token', 6, 10)"
      ],
      "execution_count": 0,
      "outputs": []
    },
    {
      "cell_type": "code",
      "metadata": {
        "id": "7J2yJxAxP0ED",
        "colab_type": "code",
        "outputId": "71bcb4b3-5d96-4bbf-904f-636fee68cfbe",
        "colab": {
          "base_uri": "https://localhost:8080/",
          "height": 255
        }
      },
      "source": [
        "pizza_train_model.print_topics(num_topics = 6 ,num_words = 10)"
      ],
      "execution_count": 0,
      "outputs": [
        {
          "output_type": "execute_result",
          "data": {
            "text/plain": [
              "[(0,\n",
              "  '0.010*\"dish\" + 0.010*\"sushi\" + 0.009*\"good\" + 0.008*\"salad\" + 0.008*\"dessert\" + 0.008*\"shrimp\" + 0.007*\"roll\" + 0.007*\"steak\" + 0.006*\"dinner\" + 0.006*\"ordered\"'),\n",
              " (1,\n",
              "  '0.017*\"chicken\" + 0.016*\"cheese\" + 0.016*\"burger\" + 0.014*\"good\" + 0.014*\"pizza\" + 0.012*\"sandwich\" + 0.012*\"fry\" + 0.011*\"egg\" + 0.008*\"ordered\" + 0.008*\"like\"'),\n",
              " (2,\n",
              "  '0.036*\"great\" + 0.035*\"food\" + 0.025*\"place\" + 0.024*\"service\" + 0.015*\"good\" + 0.013*\"time\" + 0.013*\"amazing\" + 0.013*\"vega\" + 0.011*\"best\" + 0.011*\"back\"'),\n",
              " (3,\n",
              "  '0.016*\"good\" + 0.014*\"place\" + 0.014*\"rice\" + 0.013*\"chicken\" + 0.013*\"food\" + 0.011*\"soup\" + 0.011*\"noodle\" + 0.010*\"dish\" + 0.010*\"like\" + 0.008*\"beef\"'),\n",
              " (4,\n",
              "  '0.015*\"food\" + 0.014*\"u\" + 0.012*\"time\" + 0.012*\"order\" + 0.010*\"service\" + 0.008*\"table\" + 0.008*\"back\" + 0.008*\"one\" + 0.008*\"came\" + 0.008*\"get\"'),\n",
              " (5,\n",
              "  '0.019*\"food\" + 0.015*\"good\" + 0.014*\"buffet\" + 0.013*\"place\" + 0.011*\"vega\" + 0.010*\"like\" + 0.010*\"get\" + 0.009*\"price\" + 0.008*\"go\" + 0.007*\"one\"')]"
            ]
          },
          "metadata": {
            "tags": []
          },
          "execution_count": 83
        }
      ]
    },
    {
      "cell_type": "code",
      "metadata": {
        "id": "lzpj1TfwUiCr",
        "colab_type": "code",
        "colab": {}
      },
      "source": [
        "def get_topic_distribution(ldamodel, dictionary, tokenized_text):\n",
        "    \"\"\"\n",
        "    Returns topic distribution for the given tokenized review\n",
        "    \"\"\"\n",
        "    bag_of_words = dictionary.doc2bow(tokenized_text)\n",
        "    topic_dist = ldamodel[bag_of_words]\n",
        "    return topic_dist"
      ],
      "execution_count": 0,
      "outputs": []
    },
    {
      "cell_type": "code",
      "metadata": {
        "id": "qJ1wINdhXUc8",
        "colab_type": "code",
        "colab": {}
      },
      "source": [
        "def topic_ratings_all(dictionary,ldamodel, df, review_field, no_topics ):\n",
        "\n",
        "    df = df.copy()\n",
        "    text = list(df[review_field])\n",
        "    corpus = [dictionary.doc2bow(txt) for txt in text]\n",
        "\n",
        "    topic_ratings = [ldamodel[i] for i in corpus]\n",
        "    names = ['Topic '+ str(i) for i in range(no_topics)]\n",
        "    for i in range(len(names)):\n",
        "        df[names[i]] =  [np.nan]*len(df)\n",
        "    for i , j in enumerate(df.index):\n",
        "        rating = df.ix[j]['rating']\n",
        "        for k in topic_ratings[i]:\n",
        "            df.set_value( j, 'Topic ' + str(k[0]), rating )\n",
        "    df_topic_ratings = df.groupby('business_id').mean()[names]\n",
        "    df_topic_counts = df.groupby('business_id').count()[names]\n",
        "    return df_topic_ratings , df_topic_counts"
      ],
      "execution_count": 0,
      "outputs": []
    },
    {
      "cell_type": "code",
      "metadata": {
        "id": "-7-HukzZXbqh",
        "colab_type": "code",
        "outputId": "e18867a1-0588-429a-8b9f-4bec9896cdfb",
        "colab": {
          "base_uri": "https://localhost:8080/",
          "height": 219
        }
      },
      "source": [
        "pizza_ratings, pizza_counts = topic_ratings_all(pizza_dictionary, pizza_train_model, df, 'reviews_token', 6)"
      ],
      "execution_count": 0,
      "outputs": [
        {
          "output_type": "stream",
          "text": [
            "/usr/local/lib/python3.6/dist-packages/ipykernel_launcher.py:12: FutureWarning: \n",
            ".ix is deprecated. Please use\n",
            ".loc for label based indexing or\n",
            ".iloc for positional indexing\n",
            "\n",
            "See the documentation here:\n",
            "http://pandas.pydata.org/pandas-docs/stable/user_guide/indexing.html#ix-indexer-is-deprecated\n",
            "  if sys.path[0] == '':\n",
            "/usr/local/lib/python3.6/dist-packages/ipykernel_launcher.py:14: FutureWarning: set_value is deprecated and will be removed in a future release. Please use .at[] or .iat[] accessors instead\n",
            "  \n"
          ],
          "name": "stderr"
        }
      ]
    },
    {
      "cell_type": "code",
      "metadata": {
        "id": "XILhJ1XaXhLQ",
        "colab_type": "code",
        "outputId": "913fa2b6-28a0-42ec-a104-73eede299b23",
        "colab": {
          "base_uri": "https://localhost:8080/",
          "height": 228
        }
      },
      "source": [
        "pizza_ratings.head()"
      ],
      "execution_count": 0,
      "outputs": [
        {
          "output_type": "execute_result",
          "data": {
            "text/html": [
              "<div>\n",
              "<style scoped>\n",
              "    .dataframe tbody tr th:only-of-type {\n",
              "        vertical-align: middle;\n",
              "    }\n",
              "\n",
              "    .dataframe tbody tr th {\n",
              "        vertical-align: top;\n",
              "    }\n",
              "\n",
              "    .dataframe thead th {\n",
              "        text-align: right;\n",
              "    }\n",
              "</style>\n",
              "<table border=\"1\" class=\"dataframe\">\n",
              "  <thead>\n",
              "    <tr style=\"text-align: right;\">\n",
              "      <th></th>\n",
              "      <th>Topic 0</th>\n",
              "      <th>Topic 1</th>\n",
              "      <th>Topic 2</th>\n",
              "      <th>Topic 3</th>\n",
              "      <th>Topic 4</th>\n",
              "      <th>Topic 5</th>\n",
              "      <th>Topic 6</th>\n",
              "      <th>Topic 7</th>\n",
              "      <th>Topic 8</th>\n",
              "      <th>Topic 9</th>\n",
              "    </tr>\n",
              "    <tr>\n",
              "      <th>business_id</th>\n",
              "      <th></th>\n",
              "      <th></th>\n",
              "      <th></th>\n",
              "      <th></th>\n",
              "      <th></th>\n",
              "      <th></th>\n",
              "      <th></th>\n",
              "      <th></th>\n",
              "      <th></th>\n",
              "      <th></th>\n",
              "    </tr>\n",
              "  </thead>\n",
              "  <tbody>\n",
              "    <tr>\n",
              "      <th>-9YyInW1wapzdNZrhQJ9dg</th>\n",
              "      <td>2.696078</td>\n",
              "      <td>2.529412</td>\n",
              "      <td>3.000000</td>\n",
              "      <td>2.093750</td>\n",
              "      <td>2.345794</td>\n",
              "      <td>2.494382</td>\n",
              "      <td>NaN</td>\n",
              "      <td>NaN</td>\n",
              "      <td>NaN</td>\n",
              "      <td>NaN</td>\n",
              "    </tr>\n",
              "    <tr>\n",
              "      <th>-AGdGGCeTS-njB_8GkUmjQ</th>\n",
              "      <td>4.166667</td>\n",
              "      <td>4.166667</td>\n",
              "      <td>4.250000</td>\n",
              "      <td>4.250000</td>\n",
              "      <td>4.000000</td>\n",
              "      <td>4.000000</td>\n",
              "      <td>NaN</td>\n",
              "      <td>NaN</td>\n",
              "      <td>NaN</td>\n",
              "      <td>NaN</td>\n",
              "    </tr>\n",
              "    <tr>\n",
              "      <th>-BmqghX1sv7sgsxOIS2yAg</th>\n",
              "      <td>4.020979</td>\n",
              "      <td>4.076923</td>\n",
              "      <td>4.160839</td>\n",
              "      <td>4.033898</td>\n",
              "      <td>3.901408</td>\n",
              "      <td>4.033784</td>\n",
              "      <td>NaN</td>\n",
              "      <td>NaN</td>\n",
              "      <td>NaN</td>\n",
              "      <td>NaN</td>\n",
              "    </tr>\n",
              "    <tr>\n",
              "      <th>-U7tvCtaraTQ9b0zBhpBMA</th>\n",
              "      <td>2.744914</td>\n",
              "      <td>2.728938</td>\n",
              "      <td>3.055446</td>\n",
              "      <td>2.566298</td>\n",
              "      <td>2.495007</td>\n",
              "      <td>2.624438</td>\n",
              "      <td>NaN</td>\n",
              "      <td>NaN</td>\n",
              "      <td>NaN</td>\n",
              "      <td>NaN</td>\n",
              "    </tr>\n",
              "    <tr>\n",
              "      <th>-xX-Vjol_fwWaN2mn1F1wg</th>\n",
              "      <td>4.285714</td>\n",
              "      <td>3.444444</td>\n",
              "      <td>3.857143</td>\n",
              "      <td>3.714286</td>\n",
              "      <td>3.071429</td>\n",
              "      <td>3.352941</td>\n",
              "      <td>NaN</td>\n",
              "      <td>NaN</td>\n",
              "      <td>NaN</td>\n",
              "      <td>NaN</td>\n",
              "    </tr>\n",
              "  </tbody>\n",
              "</table>\n",
              "</div>"
            ],
            "text/plain": [
              "                         Topic 0   Topic 1   Topic 2  ...  Topic 7  Topic 8  Topic 9\n",
              "business_id                                           ...                           \n",
              "-9YyInW1wapzdNZrhQJ9dg  2.696078  2.529412  3.000000  ...      NaN      NaN      NaN\n",
              "-AGdGGCeTS-njB_8GkUmjQ  4.166667  4.166667  4.250000  ...      NaN      NaN      NaN\n",
              "-BmqghX1sv7sgsxOIS2yAg  4.020979  4.076923  4.160839  ...      NaN      NaN      NaN\n",
              "-U7tvCtaraTQ9b0zBhpBMA  2.744914  2.728938  3.055446  ...      NaN      NaN      NaN\n",
              "-xX-Vjol_fwWaN2mn1F1wg  4.285714  3.444444  3.857143  ...      NaN      NaN      NaN\n",
              "\n",
              "[5 rows x 10 columns]"
            ]
          },
          "metadata": {
            "tags": []
          },
          "execution_count": 93
        }
      ]
    },
    {
      "cell_type": "code",
      "metadata": {
        "id": "AwLVoslUXvCh",
        "colab_type": "code",
        "outputId": "9c7f98c1-d64c-429c-b0ec-8bdd3bcb03a7",
        "colab": {
          "base_uri": "https://localhost:8080/",
          "height": 228
        }
      },
      "source": [
        "pizza_counts.head()"
      ],
      "execution_count": 0,
      "outputs": [
        {
          "output_type": "execute_result",
          "data": {
            "text/html": [
              "<div>\n",
              "<style scoped>\n",
              "    .dataframe tbody tr th:only-of-type {\n",
              "        vertical-align: middle;\n",
              "    }\n",
              "\n",
              "    .dataframe tbody tr th {\n",
              "        vertical-align: top;\n",
              "    }\n",
              "\n",
              "    .dataframe thead th {\n",
              "        text-align: right;\n",
              "    }\n",
              "</style>\n",
              "<table border=\"1\" class=\"dataframe\">\n",
              "  <thead>\n",
              "    <tr style=\"text-align: right;\">\n",
              "      <th></th>\n",
              "      <th>Topic 0</th>\n",
              "      <th>Topic 1</th>\n",
              "      <th>Topic 2</th>\n",
              "      <th>Topic 3</th>\n",
              "      <th>Topic 4</th>\n",
              "      <th>Topic 5</th>\n",
              "      <th>Topic 6</th>\n",
              "      <th>Topic 7</th>\n",
              "      <th>Topic 8</th>\n",
              "      <th>Topic 9</th>\n",
              "    </tr>\n",
              "    <tr>\n",
              "      <th>business_id</th>\n",
              "      <th></th>\n",
              "      <th></th>\n",
              "      <th></th>\n",
              "      <th></th>\n",
              "      <th></th>\n",
              "      <th></th>\n",
              "      <th></th>\n",
              "      <th></th>\n",
              "      <th></th>\n",
              "      <th></th>\n",
              "    </tr>\n",
              "  </thead>\n",
              "  <tbody>\n",
              "    <tr>\n",
              "      <th>-9YyInW1wapzdNZrhQJ9dg</th>\n",
              "      <td>102</td>\n",
              "      <td>102</td>\n",
              "      <td>75</td>\n",
              "      <td>64</td>\n",
              "      <td>107</td>\n",
              "      <td>178</td>\n",
              "      <td>0</td>\n",
              "      <td>0</td>\n",
              "      <td>0</td>\n",
              "      <td>0</td>\n",
              "    </tr>\n",
              "    <tr>\n",
              "      <th>-AGdGGCeTS-njB_8GkUmjQ</th>\n",
              "      <td>6</td>\n",
              "      <td>6</td>\n",
              "      <td>8</td>\n",
              "      <td>8</td>\n",
              "      <td>5</td>\n",
              "      <td>5</td>\n",
              "      <td>0</td>\n",
              "      <td>0</td>\n",
              "      <td>0</td>\n",
              "      <td>0</td>\n",
              "    </tr>\n",
              "    <tr>\n",
              "      <th>-BmqghX1sv7sgsxOIS2yAg</th>\n",
              "      <td>143</td>\n",
              "      <td>78</td>\n",
              "      <td>143</td>\n",
              "      <td>118</td>\n",
              "      <td>142</td>\n",
              "      <td>148</td>\n",
              "      <td>0</td>\n",
              "      <td>0</td>\n",
              "      <td>0</td>\n",
              "      <td>0</td>\n",
              "    </tr>\n",
              "    <tr>\n",
              "      <th>-U7tvCtaraTQ9b0zBhpBMA</th>\n",
              "      <td>639</td>\n",
              "      <td>546</td>\n",
              "      <td>505</td>\n",
              "      <td>362</td>\n",
              "      <td>701</td>\n",
              "      <td>1113</td>\n",
              "      <td>0</td>\n",
              "      <td>0</td>\n",
              "      <td>0</td>\n",
              "      <td>0</td>\n",
              "    </tr>\n",
              "    <tr>\n",
              "      <th>-xX-Vjol_fwWaN2mn1F1wg</th>\n",
              "      <td>7</td>\n",
              "      <td>18</td>\n",
              "      <td>14</td>\n",
              "      <td>7</td>\n",
              "      <td>14</td>\n",
              "      <td>17</td>\n",
              "      <td>0</td>\n",
              "      <td>0</td>\n",
              "      <td>0</td>\n",
              "      <td>0</td>\n",
              "    </tr>\n",
              "  </tbody>\n",
              "</table>\n",
              "</div>"
            ],
            "text/plain": [
              "                        Topic 0  Topic 1  Topic 2  ...  Topic 7  Topic 8  Topic 9\n",
              "business_id                                        ...                           \n",
              "-9YyInW1wapzdNZrhQJ9dg      102      102       75  ...        0        0        0\n",
              "-AGdGGCeTS-njB_8GkUmjQ        6        6        8  ...        0        0        0\n",
              "-BmqghX1sv7sgsxOIS2yAg      143       78      143  ...        0        0        0\n",
              "-U7tvCtaraTQ9b0zBhpBMA      639      546      505  ...        0        0        0\n",
              "-xX-Vjol_fwWaN2mn1F1wg        7       18       14  ...        0        0        0\n",
              "\n",
              "[5 rows x 10 columns]"
            ]
          },
          "metadata": {
            "tags": []
          },
          "execution_count": 94
        }
      ]
    },
    {
      "cell_type": "code",
      "metadata": {
        "id": "sS8pCwkvXxf0",
        "colab_type": "code",
        "colab": {}
      },
      "source": [
        "def avg_topic_rating (ratings_df , counts_df):\n",
        "    \"\"\"\n",
        "    Gets the average rating per topic \n",
        "    \"\"\"\n",
        "    ratings_array = np.array(ratings_df)\n",
        "    counts_array = np.array(counts_df)\n",
        "    mult = np.multiply(ratings_array,counts_array)\n",
        "    sum_ratings = np.sum(np.nan_to_num(mult),axis=0)\n",
        "    avg_ratings = sum_ratings / np.sum(counts_array,axis = 0)\n",
        "    avg_ratings_df = pd.DataFrame(avg_ratings.reshape(1, len(avg_ratings)) ,\n",
        "                                  columns= ratings_df.columns, index=['Avg Topic Rating'])\n",
        "    return avg_ratings_df"
      ],
      "execution_count": 0,
      "outputs": []
    },
    {
      "cell_type": "code",
      "metadata": {
        "id": "DFhtvTB5X0I1",
        "colab_type": "code",
        "outputId": "cbd5d389-8c46-404b-d5c4-f732bd2bada4",
        "colab": {
          "base_uri": "https://localhost:8080/",
          "height": 115
        }
      },
      "source": [
        "avg_topic_rating(pizza_ratings,pizza_counts)"
      ],
      "execution_count": 0,
      "outputs": [
        {
          "output_type": "stream",
          "text": [
            "/usr/local/lib/python3.6/dist-packages/ipykernel_launcher.py:9: RuntimeWarning: invalid value encountered in true_divide\n",
            "  if __name__ == '__main__':\n"
          ],
          "name": "stderr"
        },
        {
          "output_type": "execute_result",
          "data": {
            "text/html": [
              "<div>\n",
              "<style scoped>\n",
              "    .dataframe tbody tr th:only-of-type {\n",
              "        vertical-align: middle;\n",
              "    }\n",
              "\n",
              "    .dataframe tbody tr th {\n",
              "        vertical-align: top;\n",
              "    }\n",
              "\n",
              "    .dataframe thead th {\n",
              "        text-align: right;\n",
              "    }\n",
              "</style>\n",
              "<table border=\"1\" class=\"dataframe\">\n",
              "  <thead>\n",
              "    <tr style=\"text-align: right;\">\n",
              "      <th></th>\n",
              "      <th>Topic 0</th>\n",
              "      <th>Topic 1</th>\n",
              "      <th>Topic 2</th>\n",
              "      <th>Topic 3</th>\n",
              "      <th>Topic 4</th>\n",
              "      <th>Topic 5</th>\n",
              "      <th>Topic 6</th>\n",
              "      <th>Topic 7</th>\n",
              "      <th>Topic 8</th>\n",
              "      <th>Topic 9</th>\n",
              "    </tr>\n",
              "  </thead>\n",
              "  <tbody>\n",
              "    <tr>\n",
              "      <th>Avg Topic Rating</th>\n",
              "      <td>3.845176</td>\n",
              "      <td>3.778254</td>\n",
              "      <td>4.096603</td>\n",
              "      <td>3.79759</td>\n",
              "      <td>3.504256</td>\n",
              "      <td>3.628002</td>\n",
              "      <td>NaN</td>\n",
              "      <td>NaN</td>\n",
              "      <td>NaN</td>\n",
              "      <td>NaN</td>\n",
              "    </tr>\n",
              "  </tbody>\n",
              "</table>\n",
              "</div>"
            ],
            "text/plain": [
              "                   Topic 0   Topic 1   Topic 2  ...  Topic 7  Topic 8  Topic 9\n",
              "Avg Topic Rating  3.845176  3.778254  4.096603  ...      NaN      NaN      NaN\n",
              "\n",
              "[1 rows x 10 columns]"
            ]
          },
          "metadata": {
            "tags": []
          },
          "execution_count": 96
        }
      ]
    }
  ]
}