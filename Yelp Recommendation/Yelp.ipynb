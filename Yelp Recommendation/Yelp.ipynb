{
 "cells": [
  {
   "cell_type": "markdown",
   "metadata": {},
   "source": [
    "##  Yelp Recommendation system"
   ]
  },
  {
   "cell_type": "markdown",
   "metadata": {},
   "source": [
    "Yelp contains reviews about a particular restaurant, and also it helps user to choose the restaurants nearby based on location. But it doesn't recommend any restaurants to users. In this project, text reviews are used to recommend restaurants to the users. Based on rating predictions recommendation models are developed. Users restaurants preferences can be decoded based on the users reviews about restaurants that they have visited previously.\n",
    "\n",
    "\n",
    "## Description of the Dataset\n",
    "\n",
    "The dataset is obtained from [yelp.com](http://www.yelp.com/datasetchallenge), which consists of 1.6M reviews by 366K users for 61K businesses. The dataset consists of 5 files - bussiness, review,user,check -in and tip. Bussiness and review files are mainly used for this project. All the files are in JSON format.\n"
   ]
  },
  {
   "cell_type": "markdown",
   "metadata": {},
   "source": [
    "# importing the libraries"
   ]
  },
  {
   "cell_type": "code",
   "execution_count": 1,
   "metadata": {},
   "outputs": [],
   "source": [
    "import pandas as pd\n",
    "import numpy as np\n",
    "import matplotlib.pyplot as plt\n",
    "import seaborn as sns\n",
    "%matplotlib inline\n",
    "\n",
    "import json\n",
    "\n",
    "import warnings\n",
    "warnings.filterwarnings(\"ignore\")\n",
    "\n",
    "\n"
   ]
  },
  {
   "cell_type": "markdown",
   "metadata": {},
   "source": [
    "# Business data"
   ]
  },
  {
   "cell_type": "code",
   "execution_count": 2,
   "metadata": {},
   "outputs": [],
   "source": [
    "businesses=[]\n",
    "for line in open(\"yelp_dataset/business.json\",'r'):\n",
    "    businesses.append(json.loads(line))"
   ]
  },
  {
   "cell_type": "code",
   "execution_count": 3,
   "metadata": {},
   "outputs": [
    {
     "data": {
      "text/plain": [
       "192609"
      ]
     },
     "execution_count": 3,
     "metadata": {},
     "output_type": "execute_result"
    }
   ],
   "source": [
    "len(businesses)"
   ]
  },
  {
   "cell_type": "code",
   "execution_count": 4,
   "metadata": {},
   "outputs": [
    {
     "data": {
      "text/plain": [
       "74587"
      ]
     },
     "execution_count": 4,
     "metadata": {},
     "output_type": "execute_result"
    }
   ],
   "source": [
    "withcategories=list(filter(lambda x:x['categories']!=None,businesses))\n",
    "restaurants=list(filter(lambda x:'food' in x['categories'].lower() or 'restaurants' in x['categories'].lower(),withcategories))\n",
    "len(restaurants)"
   ]
  },
  {
   "cell_type": "code",
   "execution_count": 5,
   "metadata": {},
   "outputs": [
    {
     "data": {
      "text/plain": [
       "{'business_id': 'QXAEGFB4oINsVuTFxEYKFQ',\n",
       " 'name': 'Emerald Chinese Restaurant',\n",
       " 'address': '30 Eglinton Avenue W',\n",
       " 'city': 'Mississauga',\n",
       " 'state': 'ON',\n",
       " 'postal_code': 'L5R 3E7',\n",
       " 'latitude': 43.6054989743,\n",
       " 'longitude': -79.652288909,\n",
       " 'stars': 2.5,\n",
       " 'review_count': 128,\n",
       " 'is_open': 1,\n",
       " 'attributes': {'RestaurantsReservations': 'True',\n",
       "  'GoodForMeal': \"{'dessert': False, 'latenight': False, 'lunch': True, 'dinner': True, 'brunch': False, 'breakfast': False}\",\n",
       "  'BusinessParking': \"{'garage': False, 'street': False, 'validated': False, 'lot': True, 'valet': False}\",\n",
       "  'Caters': 'True',\n",
       "  'NoiseLevel': \"u'loud'\",\n",
       "  'RestaurantsTableService': 'True',\n",
       "  'RestaurantsTakeOut': 'True',\n",
       "  'RestaurantsPriceRange2': '2',\n",
       "  'OutdoorSeating': 'False',\n",
       "  'BikeParking': 'False',\n",
       "  'Ambience': \"{'romantic': False, 'intimate': False, 'classy': False, 'hipster': False, 'divey': False, 'touristy': False, 'trendy': False, 'upscale': False, 'casual': True}\",\n",
       "  'HasTV': 'False',\n",
       "  'WiFi': \"u'no'\",\n",
       "  'GoodForKids': 'True',\n",
       "  'Alcohol': \"u'full_bar'\",\n",
       "  'RestaurantsAttire': \"u'casual'\",\n",
       "  'RestaurantsGoodForGroups': 'True',\n",
       "  'RestaurantsDelivery': 'False'},\n",
       " 'categories': 'Specialty Food, Restaurants, Dim Sum, Imported Food, Food, Chinese, Ethnic Food, Seafood',\n",
       " 'hours': {'Monday': '9:0-0:0',\n",
       "  'Tuesday': '9:0-0:0',\n",
       "  'Wednesday': '9:0-0:0',\n",
       "  'Thursday': '9:0-0:0',\n",
       "  'Friday': '9:0-1:0',\n",
       "  'Saturday': '9:0-1:0',\n",
       "  'Sunday': '9:0-0:0'}}"
      ]
     },
     "execution_count": 5,
     "metadata": {},
     "output_type": "execute_result"
    }
   ],
   "source": [
    "restaurants[0]"
   ]
  },
  {
   "cell_type": "code",
   "execution_count": 6,
   "metadata": {},
   "outputs": [],
   "source": [
    "restaurants_ids=[r['business_id'] for r in restaurants]"
   ]
  },
  {
   "cell_type": "markdown",
   "metadata": {},
   "source": [
    "# Review data"
   ]
  },
  {
   "cell_type": "code",
   "execution_count": 7,
   "metadata": {},
   "outputs": [],
   "source": [
    "reviews=[]\n",
    "for line in open(\"yelp_dataset/review.json\"):\n",
    "     reviews.append(json.loads(line))"
   ]
  },
  {
   "cell_type": "code",
   "execution_count": 8,
   "metadata": {},
   "outputs": [
    {
     "data": {
      "text/plain": [
       "6685900"
      ]
     },
     "execution_count": 8,
     "metadata": {},
     "output_type": "execute_result"
    }
   ],
   "source": [
    "len(reviews)\n"
   ]
  },
  {
   "cell_type": "code",
   "execution_count": null,
   "metadata": {},
   "outputs": [],
   "source": [
    "reviews[1]"
   ]
  },
  {
   "cell_type": "code",
   "execution_count": null,
   "metadata": {},
   "outputs": [],
   "source": [
    "restaurant_reviews=list(filter(lambda x:x['business_id'] in restaurants_ids,reviews))"
   ]
  },
  {
   "cell_type": "code",
   "execution_count": null,
   "metadata": {},
   "outputs": [],
   "source": []
  }
 ],
 "metadata": {
  "kernelspec": {
   "display_name": "Python 3",
   "language": "python",
   "name": "python3"
  },
  "language_info": {
   "codemirror_mode": {
    "name": "ipython",
    "version": 3
   },
   "file_extension": ".py",
   "mimetype": "text/x-python",
   "name": "python",
   "nbconvert_exporter": "python",
   "pygments_lexer": "ipython3",
   "version": "3.7.1"
  }
 },
 "nbformat": 4,
 "nbformat_minor": 2
}
