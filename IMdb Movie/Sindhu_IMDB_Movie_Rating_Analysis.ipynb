{
 "cells": [
  {
   "cell_type": "markdown",
   "metadata": {},
   "source": [
    "# <font color=blue> 1 Introduction\n",
    "\n",
    "### 1.1 Background\n",
    "\n",
    "A commercial success movie not only entertains audience, but also enables film companies to gain tremendous profit. A lot of factors such as good directors, experienced actors are considerable for creating good movies. However, famous directors and actors can always bring an expected box-office income but cannot guarantee a highly rated imdb score.\n",
    "\n",
    "### 1.2 Data Description\n",
    "\n",
    "The dataset is from Kaggle website. It contains 28 variables for 5043 movies, spanning across 100 years in 66 countries. There are 2399 unique director names, and thousands of actors/actresses. “imdb_score” is the response variable while the other 27 variables are possible predictors.\n",
    "\n",
    "The original dataset has been replaced in Kaggle, here’s the link for the original dataset from Dataworld:\n",
    "\n",
    "https://data.world/data-society/imdb-5000-movie-dataset\n",
    "\n",
    "\n",
    "### 1.3 Problem Statement\n",
    "\n",
    "Based on the massive movie information, it would be interesting to understand what are the important factors that make a movie more successful than others. So, we would like to analyze what kind of movies are more successful, in other words, get higher IMDB score. We also want to show the results of this analysis in an intuitive way by visualizing outcome using Python libraries\n",
    "\n",
    "In this project, we take IMDB scores as response variable and focus on operating predictions by analyzing the rest of variables in the IMDB 5000 movie data. The results can help film companies to understand the secret of generating a commercial success movie.\n",
    "\n",
    "\n",
    "\n",
    "\n"
   ]
  },
  {
   "cell_type": "markdown",
   "metadata": {},
   "source": [
    "# <font color=blue> 2 Data Exploration"
   ]
  },
  {
   "cell_type": "markdown",
   "metadata": {},
   "source": [
    "### 2.1 Importing the libraries"
   ]
  },
  {
   "cell_type": "code",
   "execution_count": 63,
   "metadata": {
    "ExecuteTime": {
     "end_time": "2020-06-09T09:26:46.528652Z",
     "start_time": "2020-06-09T09:26:46.518232Z"
    },
    "collapsed": true
   },
   "outputs": [],
   "source": [
    "# loading the required libraries\n",
    "import pandas as pd\n",
    "import numpy as np\n",
    "import matplotlib.pyplot as plt\n",
    "import seaborn as sns\n",
    "%matplotlib inline\n",
    "import plotly.express as px\n",
    "np.warnings.filterwarnings('ignore')"
   ]
  },
  {
   "cell_type": "markdown",
   "metadata": {},
   "source": [
    "### 2.2 Loading the data"
   ]
  },
  {
   "cell_type": "code",
   "execution_count": 64,
   "metadata": {
    "ExecuteTime": {
     "end_time": "2020-06-09T09:26:46.618134Z",
     "start_time": "2020-06-09T09:26:46.531926Z"
    },
    "collapsed": true
   },
   "outputs": [],
   "source": [
    "#reading the csv file\n",
    "data=pd.read_csv(\"movie_metadata.csv\")"
   ]
  },
  {
   "cell_type": "code",
   "execution_count": 65,
   "metadata": {
    "ExecuteTime": {
     "end_time": "2020-06-09T09:26:46.666706Z",
     "start_time": "2020-06-09T09:26:46.620443Z"
    }
   },
   "outputs": [
    {
     "data": {
      "text/html": [
       "<div>\n",
       "<style scoped>\n",
       "    .dataframe tbody tr th:only-of-type {\n",
       "        vertical-align: middle;\n",
       "    }\n",
       "\n",
       "    .dataframe tbody tr th {\n",
       "        vertical-align: top;\n",
       "    }\n",
       "\n",
       "    .dataframe thead th {\n",
       "        text-align: right;\n",
       "    }\n",
       "</style>\n",
       "<table border=\"1\" class=\"dataframe\">\n",
       "  <thead>\n",
       "    <tr style=\"text-align: right;\">\n",
       "      <th></th>\n",
       "      <th>color</th>\n",
       "      <th>director_name</th>\n",
       "      <th>num_critic_for_reviews</th>\n",
       "      <th>duration</th>\n",
       "      <th>director_facebook_likes</th>\n",
       "      <th>actor_3_facebook_likes</th>\n",
       "      <th>actor_2_name</th>\n",
       "      <th>actor_1_facebook_likes</th>\n",
       "      <th>gross</th>\n",
       "      <th>genres</th>\n",
       "      <th>...</th>\n",
       "      <th>num_user_for_reviews</th>\n",
       "      <th>language</th>\n",
       "      <th>country</th>\n",
       "      <th>content_rating</th>\n",
       "      <th>budget</th>\n",
       "      <th>title_year</th>\n",
       "      <th>actor_2_facebook_likes</th>\n",
       "      <th>imdb_score</th>\n",
       "      <th>aspect_ratio</th>\n",
       "      <th>movie_facebook_likes</th>\n",
       "    </tr>\n",
       "  </thead>\n",
       "  <tbody>\n",
       "    <tr>\n",
       "      <th>0</th>\n",
       "      <td>Color</td>\n",
       "      <td>James Cameron</td>\n",
       "      <td>723.0</td>\n",
       "      <td>178.0</td>\n",
       "      <td>0.0</td>\n",
       "      <td>855.0</td>\n",
       "      <td>Joel David Moore</td>\n",
       "      <td>1000.0</td>\n",
       "      <td>760505847.0</td>\n",
       "      <td>Action|Adventure|Fantasy|Sci-Fi</td>\n",
       "      <td>...</td>\n",
       "      <td>3054.0</td>\n",
       "      <td>English</td>\n",
       "      <td>USA</td>\n",
       "      <td>PG-13</td>\n",
       "      <td>237000000.0</td>\n",
       "      <td>2009.0</td>\n",
       "      <td>936.0</td>\n",
       "      <td>7.9</td>\n",
       "      <td>1.78</td>\n",
       "      <td>33000</td>\n",
       "    </tr>\n",
       "    <tr>\n",
       "      <th>1</th>\n",
       "      <td>Color</td>\n",
       "      <td>Gore Verbinski</td>\n",
       "      <td>302.0</td>\n",
       "      <td>169.0</td>\n",
       "      <td>563.0</td>\n",
       "      <td>1000.0</td>\n",
       "      <td>Orlando Bloom</td>\n",
       "      <td>40000.0</td>\n",
       "      <td>309404152.0</td>\n",
       "      <td>Action|Adventure|Fantasy</td>\n",
       "      <td>...</td>\n",
       "      <td>1238.0</td>\n",
       "      <td>English</td>\n",
       "      <td>USA</td>\n",
       "      <td>PG-13</td>\n",
       "      <td>300000000.0</td>\n",
       "      <td>2007.0</td>\n",
       "      <td>5000.0</td>\n",
       "      <td>7.1</td>\n",
       "      <td>2.35</td>\n",
       "      <td>0</td>\n",
       "    </tr>\n",
       "    <tr>\n",
       "      <th>2</th>\n",
       "      <td>Color</td>\n",
       "      <td>Sam Mendes</td>\n",
       "      <td>602.0</td>\n",
       "      <td>148.0</td>\n",
       "      <td>0.0</td>\n",
       "      <td>161.0</td>\n",
       "      <td>Rory Kinnear</td>\n",
       "      <td>11000.0</td>\n",
       "      <td>200074175.0</td>\n",
       "      <td>Action|Adventure|Thriller</td>\n",
       "      <td>...</td>\n",
       "      <td>994.0</td>\n",
       "      <td>English</td>\n",
       "      <td>UK</td>\n",
       "      <td>PG-13</td>\n",
       "      <td>245000000.0</td>\n",
       "      <td>2015.0</td>\n",
       "      <td>393.0</td>\n",
       "      <td>6.8</td>\n",
       "      <td>2.35</td>\n",
       "      <td>85000</td>\n",
       "    </tr>\n",
       "    <tr>\n",
       "      <th>3</th>\n",
       "      <td>Color</td>\n",
       "      <td>Christopher Nolan</td>\n",
       "      <td>813.0</td>\n",
       "      <td>164.0</td>\n",
       "      <td>22000.0</td>\n",
       "      <td>23000.0</td>\n",
       "      <td>Christian Bale</td>\n",
       "      <td>27000.0</td>\n",
       "      <td>448130642.0</td>\n",
       "      <td>Action|Thriller</td>\n",
       "      <td>...</td>\n",
       "      <td>2701.0</td>\n",
       "      <td>English</td>\n",
       "      <td>USA</td>\n",
       "      <td>PG-13</td>\n",
       "      <td>250000000.0</td>\n",
       "      <td>2012.0</td>\n",
       "      <td>23000.0</td>\n",
       "      <td>8.5</td>\n",
       "      <td>2.35</td>\n",
       "      <td>164000</td>\n",
       "    </tr>\n",
       "    <tr>\n",
       "      <th>4</th>\n",
       "      <td>NaN</td>\n",
       "      <td>Doug Walker</td>\n",
       "      <td>NaN</td>\n",
       "      <td>NaN</td>\n",
       "      <td>131.0</td>\n",
       "      <td>NaN</td>\n",
       "      <td>Rob Walker</td>\n",
       "      <td>131.0</td>\n",
       "      <td>NaN</td>\n",
       "      <td>Documentary</td>\n",
       "      <td>...</td>\n",
       "      <td>NaN</td>\n",
       "      <td>NaN</td>\n",
       "      <td>NaN</td>\n",
       "      <td>NaN</td>\n",
       "      <td>NaN</td>\n",
       "      <td>NaN</td>\n",
       "      <td>12.0</td>\n",
       "      <td>7.1</td>\n",
       "      <td>NaN</td>\n",
       "      <td>0</td>\n",
       "    </tr>\n",
       "  </tbody>\n",
       "</table>\n",
       "<p>5 rows × 28 columns</p>\n",
       "</div>"
      ],
      "text/plain": [
       "   color      director_name  num_critic_for_reviews  duration  \\\n",
       "0  Color      James Cameron                   723.0     178.0   \n",
       "1  Color     Gore Verbinski                   302.0     169.0   \n",
       "2  Color         Sam Mendes                   602.0     148.0   \n",
       "3  Color  Christopher Nolan                   813.0     164.0   \n",
       "4    NaN        Doug Walker                     NaN       NaN   \n",
       "\n",
       "   director_facebook_likes  actor_3_facebook_likes      actor_2_name  \\\n",
       "0                      0.0                   855.0  Joel David Moore   \n",
       "1                    563.0                  1000.0     Orlando Bloom   \n",
       "2                      0.0                   161.0      Rory Kinnear   \n",
       "3                  22000.0                 23000.0    Christian Bale   \n",
       "4                    131.0                     NaN        Rob Walker   \n",
       "\n",
       "   actor_1_facebook_likes        gross                           genres  ...  \\\n",
       "0                  1000.0  760505847.0  Action|Adventure|Fantasy|Sci-Fi  ...   \n",
       "1                 40000.0  309404152.0         Action|Adventure|Fantasy  ...   \n",
       "2                 11000.0  200074175.0        Action|Adventure|Thriller  ...   \n",
       "3                 27000.0  448130642.0                  Action|Thriller  ...   \n",
       "4                   131.0          NaN                      Documentary  ...   \n",
       "\n",
       "  num_user_for_reviews language  country  content_rating       budget  \\\n",
       "0               3054.0  English      USA           PG-13  237000000.0   \n",
       "1               1238.0  English      USA           PG-13  300000000.0   \n",
       "2                994.0  English       UK           PG-13  245000000.0   \n",
       "3               2701.0  English      USA           PG-13  250000000.0   \n",
       "4                  NaN      NaN      NaN             NaN          NaN   \n",
       "\n",
       "   title_year actor_2_facebook_likes imdb_score  aspect_ratio  \\\n",
       "0      2009.0                  936.0        7.9          1.78   \n",
       "1      2007.0                 5000.0        7.1          2.35   \n",
       "2      2015.0                  393.0        6.8          2.35   \n",
       "3      2012.0                23000.0        8.5          2.35   \n",
       "4         NaN                   12.0        7.1           NaN   \n",
       "\n",
       "  movie_facebook_likes  \n",
       "0                33000  \n",
       "1                    0  \n",
       "2                85000  \n",
       "3               164000  \n",
       "4                    0  \n",
       "\n",
       "[5 rows x 28 columns]"
      ]
     },
     "execution_count": 65,
     "metadata": {},
     "output_type": "execute_result"
    }
   ],
   "source": [
    "#getting top 5 records\n",
    "data.head()"
   ]
  },
  {
   "cell_type": "markdown",
   "metadata": {},
   "source": [
    "## 2.3 Initial summary statistics"
   ]
  },
  {
   "cell_type": "code",
   "execution_count": 66,
   "metadata": {
    "ExecuteTime": {
     "end_time": "2020-06-09T09:26:46.686765Z",
     "start_time": "2020-06-09T09:26:46.668586Z"
    }
   },
   "outputs": [
    {
     "name": "stdout",
     "output_type": "stream",
     "text": [
      "<class 'pandas.core.frame.DataFrame'>\n",
      "RangeIndex: 5043 entries, 0 to 5042\n",
      "Data columns (total 28 columns):\n",
      "color                        5024 non-null object\n",
      "director_name                4939 non-null object\n",
      "num_critic_for_reviews       4993 non-null float64\n",
      "duration                     5028 non-null float64\n",
      "director_facebook_likes      4939 non-null float64\n",
      "actor_3_facebook_likes       5020 non-null float64\n",
      "actor_2_name                 5030 non-null object\n",
      "actor_1_facebook_likes       5036 non-null float64\n",
      "gross                        4159 non-null float64\n",
      "genres                       5043 non-null object\n",
      "actor_1_name                 5036 non-null object\n",
      "movie_title                  5043 non-null object\n",
      "num_voted_users              5043 non-null int64\n",
      "cast_total_facebook_likes    5043 non-null int64\n",
      "actor_3_name                 5020 non-null object\n",
      "facenumber_in_poster         5030 non-null float64\n",
      "plot_keywords                4890 non-null object\n",
      "movie_imdb_link              5043 non-null object\n",
      "num_user_for_reviews         5022 non-null float64\n",
      "language                     5031 non-null object\n",
      "country                      5038 non-null object\n",
      "content_rating               4740 non-null object\n",
      "budget                       4551 non-null float64\n",
      "title_year                   4935 non-null float64\n",
      "actor_2_facebook_likes       5030 non-null float64\n",
      "imdb_score                   5043 non-null float64\n",
      "aspect_ratio                 4714 non-null float64\n",
      "movie_facebook_likes         5043 non-null int64\n",
      "dtypes: float64(13), int64(3), object(12)\n",
      "memory usage: 1.1+ MB\n"
     ]
    }
   ],
   "source": [
    "# getting the column values and data types\n",
    "data.info()"
   ]
  },
  {
   "cell_type": "code",
   "execution_count": 67,
   "metadata": {
    "ExecuteTime": {
     "end_time": "2020-06-09T09:26:46.692720Z",
     "start_time": "2020-06-09T09:26:46.688771Z"
    }
   },
   "outputs": [
    {
     "data": {
      "text/plain": [
       "(5043, 28)"
      ]
     },
     "execution_count": 67,
     "metadata": {},
     "output_type": "execute_result"
    }
   ],
   "source": [
    "# shape of the dataset\n",
    "data.shape"
   ]
  },
  {
   "cell_type": "code",
   "execution_count": 68,
   "metadata": {
    "ExecuteTime": {
     "end_time": "2020-06-09T09:26:46.701005Z",
     "start_time": "2020-06-09T09:26:46.694783Z"
    }
   },
   "outputs": [
    {
     "data": {
      "text/plain": [
       "color                         object\n",
       "director_name                 object\n",
       "num_critic_for_reviews       float64\n",
       "duration                     float64\n",
       "director_facebook_likes      float64\n",
       "actor_3_facebook_likes       float64\n",
       "actor_2_name                  object\n",
       "actor_1_facebook_likes       float64\n",
       "gross                        float64\n",
       "genres                        object\n",
       "actor_1_name                  object\n",
       "movie_title                   object\n",
       "num_voted_users                int64\n",
       "cast_total_facebook_likes      int64\n",
       "actor_3_name                  object\n",
       "facenumber_in_poster         float64\n",
       "plot_keywords                 object\n",
       "movie_imdb_link               object\n",
       "num_user_for_reviews         float64\n",
       "language                      object\n",
       "country                       object\n",
       "content_rating                object\n",
       "budget                       float64\n",
       "title_year                   float64\n",
       "actor_2_facebook_likes       float64\n",
       "imdb_score                   float64\n",
       "aspect_ratio                 float64\n",
       "movie_facebook_likes           int64\n",
       "dtype: object"
      ]
     },
     "execution_count": 68,
     "metadata": {},
     "output_type": "execute_result"
    }
   ],
   "source": [
    "#column data types\n",
    "data.dtypes"
   ]
  },
  {
   "cell_type": "code",
   "execution_count": 69,
   "metadata": {
    "ExecuteTime": {
     "end_time": "2020-06-09T09:26:46.786370Z",
     "start_time": "2020-06-09T09:26:46.703075Z"
    }
   },
   "outputs": [
    {
     "data": {
      "text/html": [
       "<div>\n",
       "<style scoped>\n",
       "    .dataframe tbody tr th:only-of-type {\n",
       "        vertical-align: middle;\n",
       "    }\n",
       "\n",
       "    .dataframe tbody tr th {\n",
       "        vertical-align: top;\n",
       "    }\n",
       "\n",
       "    .dataframe thead th {\n",
       "        text-align: right;\n",
       "    }\n",
       "</style>\n",
       "<table border=\"1\" class=\"dataframe\">\n",
       "  <thead>\n",
       "    <tr style=\"text-align: right;\">\n",
       "      <th></th>\n",
       "      <th>count</th>\n",
       "      <th>mean</th>\n",
       "      <th>std</th>\n",
       "      <th>min</th>\n",
       "      <th>25%</th>\n",
       "      <th>50%</th>\n",
       "      <th>75%</th>\n",
       "      <th>max</th>\n",
       "    </tr>\n",
       "  </thead>\n",
       "  <tbody>\n",
       "    <tr>\n",
       "      <th>num_critic_for_reviews</th>\n",
       "      <td>4993.0</td>\n",
       "      <td>1.401943e+02</td>\n",
       "      <td>1.216017e+02</td>\n",
       "      <td>1.00</td>\n",
       "      <td>50.00</td>\n",
       "      <td>110.00</td>\n",
       "      <td>195.00</td>\n",
       "      <td>8.130000e+02</td>\n",
       "    </tr>\n",
       "    <tr>\n",
       "      <th>duration</th>\n",
       "      <td>5028.0</td>\n",
       "      <td>1.072011e+02</td>\n",
       "      <td>2.519744e+01</td>\n",
       "      <td>7.00</td>\n",
       "      <td>93.00</td>\n",
       "      <td>103.00</td>\n",
       "      <td>118.00</td>\n",
       "      <td>5.110000e+02</td>\n",
       "    </tr>\n",
       "    <tr>\n",
       "      <th>director_facebook_likes</th>\n",
       "      <td>4939.0</td>\n",
       "      <td>6.865092e+02</td>\n",
       "      <td>2.813329e+03</td>\n",
       "      <td>0.00</td>\n",
       "      <td>7.00</td>\n",
       "      <td>49.00</td>\n",
       "      <td>194.50</td>\n",
       "      <td>2.300000e+04</td>\n",
       "    </tr>\n",
       "    <tr>\n",
       "      <th>actor_3_facebook_likes</th>\n",
       "      <td>5020.0</td>\n",
       "      <td>6.450098e+02</td>\n",
       "      <td>1.665042e+03</td>\n",
       "      <td>0.00</td>\n",
       "      <td>133.00</td>\n",
       "      <td>371.50</td>\n",
       "      <td>636.00</td>\n",
       "      <td>2.300000e+04</td>\n",
       "    </tr>\n",
       "    <tr>\n",
       "      <th>actor_1_facebook_likes</th>\n",
       "      <td>5036.0</td>\n",
       "      <td>6.560047e+03</td>\n",
       "      <td>1.502076e+04</td>\n",
       "      <td>0.00</td>\n",
       "      <td>614.00</td>\n",
       "      <td>988.00</td>\n",
       "      <td>11000.00</td>\n",
       "      <td>6.400000e+05</td>\n",
       "    </tr>\n",
       "    <tr>\n",
       "      <th>gross</th>\n",
       "      <td>4159.0</td>\n",
       "      <td>4.846841e+07</td>\n",
       "      <td>6.845299e+07</td>\n",
       "      <td>162.00</td>\n",
       "      <td>5340987.50</td>\n",
       "      <td>25517500.00</td>\n",
       "      <td>62309437.50</td>\n",
       "      <td>7.605058e+08</td>\n",
       "    </tr>\n",
       "    <tr>\n",
       "      <th>num_voted_users</th>\n",
       "      <td>5043.0</td>\n",
       "      <td>8.366816e+04</td>\n",
       "      <td>1.384853e+05</td>\n",
       "      <td>5.00</td>\n",
       "      <td>8593.50</td>\n",
       "      <td>34359.00</td>\n",
       "      <td>96309.00</td>\n",
       "      <td>1.689764e+06</td>\n",
       "    </tr>\n",
       "    <tr>\n",
       "      <th>cast_total_facebook_likes</th>\n",
       "      <td>5043.0</td>\n",
       "      <td>9.699064e+03</td>\n",
       "      <td>1.816380e+04</td>\n",
       "      <td>0.00</td>\n",
       "      <td>1411.00</td>\n",
       "      <td>3090.00</td>\n",
       "      <td>13756.50</td>\n",
       "      <td>6.567300e+05</td>\n",
       "    </tr>\n",
       "    <tr>\n",
       "      <th>facenumber_in_poster</th>\n",
       "      <td>5030.0</td>\n",
       "      <td>1.371173e+00</td>\n",
       "      <td>2.013576e+00</td>\n",
       "      <td>0.00</td>\n",
       "      <td>0.00</td>\n",
       "      <td>1.00</td>\n",
       "      <td>2.00</td>\n",
       "      <td>4.300000e+01</td>\n",
       "    </tr>\n",
       "    <tr>\n",
       "      <th>num_user_for_reviews</th>\n",
       "      <td>5022.0</td>\n",
       "      <td>2.727708e+02</td>\n",
       "      <td>3.779829e+02</td>\n",
       "      <td>1.00</td>\n",
       "      <td>65.00</td>\n",
       "      <td>156.00</td>\n",
       "      <td>326.00</td>\n",
       "      <td>5.060000e+03</td>\n",
       "    </tr>\n",
       "    <tr>\n",
       "      <th>budget</th>\n",
       "      <td>4551.0</td>\n",
       "      <td>3.975262e+07</td>\n",
       "      <td>2.061149e+08</td>\n",
       "      <td>218.00</td>\n",
       "      <td>6000000.00</td>\n",
       "      <td>20000000.00</td>\n",
       "      <td>45000000.00</td>\n",
       "      <td>1.221550e+10</td>\n",
       "    </tr>\n",
       "    <tr>\n",
       "      <th>title_year</th>\n",
       "      <td>4935.0</td>\n",
       "      <td>2.002471e+03</td>\n",
       "      <td>1.247460e+01</td>\n",
       "      <td>1916.00</td>\n",
       "      <td>1999.00</td>\n",
       "      <td>2005.00</td>\n",
       "      <td>2011.00</td>\n",
       "      <td>2.016000e+03</td>\n",
       "    </tr>\n",
       "    <tr>\n",
       "      <th>actor_2_facebook_likes</th>\n",
       "      <td>5030.0</td>\n",
       "      <td>1.651754e+03</td>\n",
       "      <td>4.042439e+03</td>\n",
       "      <td>0.00</td>\n",
       "      <td>281.00</td>\n",
       "      <td>595.00</td>\n",
       "      <td>918.00</td>\n",
       "      <td>1.370000e+05</td>\n",
       "    </tr>\n",
       "    <tr>\n",
       "      <th>imdb_score</th>\n",
       "      <td>5043.0</td>\n",
       "      <td>6.442138e+00</td>\n",
       "      <td>1.125116e+00</td>\n",
       "      <td>1.60</td>\n",
       "      <td>5.80</td>\n",
       "      <td>6.60</td>\n",
       "      <td>7.20</td>\n",
       "      <td>9.500000e+00</td>\n",
       "    </tr>\n",
       "    <tr>\n",
       "      <th>aspect_ratio</th>\n",
       "      <td>4714.0</td>\n",
       "      <td>2.220403e+00</td>\n",
       "      <td>1.385113e+00</td>\n",
       "      <td>1.18</td>\n",
       "      <td>1.85</td>\n",
       "      <td>2.35</td>\n",
       "      <td>2.35</td>\n",
       "      <td>1.600000e+01</td>\n",
       "    </tr>\n",
       "    <tr>\n",
       "      <th>movie_facebook_likes</th>\n",
       "      <td>5043.0</td>\n",
       "      <td>7.525965e+03</td>\n",
       "      <td>1.932045e+04</td>\n",
       "      <td>0.00</td>\n",
       "      <td>0.00</td>\n",
       "      <td>166.00</td>\n",
       "      <td>3000.00</td>\n",
       "      <td>3.490000e+05</td>\n",
       "    </tr>\n",
       "  </tbody>\n",
       "</table>\n",
       "</div>"
      ],
      "text/plain": [
       "                            count          mean           std      min  \\\n",
       "num_critic_for_reviews     4993.0  1.401943e+02  1.216017e+02     1.00   \n",
       "duration                   5028.0  1.072011e+02  2.519744e+01     7.00   \n",
       "director_facebook_likes    4939.0  6.865092e+02  2.813329e+03     0.00   \n",
       "actor_3_facebook_likes     5020.0  6.450098e+02  1.665042e+03     0.00   \n",
       "actor_1_facebook_likes     5036.0  6.560047e+03  1.502076e+04     0.00   \n",
       "gross                      4159.0  4.846841e+07  6.845299e+07   162.00   \n",
       "num_voted_users            5043.0  8.366816e+04  1.384853e+05     5.00   \n",
       "cast_total_facebook_likes  5043.0  9.699064e+03  1.816380e+04     0.00   \n",
       "facenumber_in_poster       5030.0  1.371173e+00  2.013576e+00     0.00   \n",
       "num_user_for_reviews       5022.0  2.727708e+02  3.779829e+02     1.00   \n",
       "budget                     4551.0  3.975262e+07  2.061149e+08   218.00   \n",
       "title_year                 4935.0  2.002471e+03  1.247460e+01  1916.00   \n",
       "actor_2_facebook_likes     5030.0  1.651754e+03  4.042439e+03     0.00   \n",
       "imdb_score                 5043.0  6.442138e+00  1.125116e+00     1.60   \n",
       "aspect_ratio               4714.0  2.220403e+00  1.385113e+00     1.18   \n",
       "movie_facebook_likes       5043.0  7.525965e+03  1.932045e+04     0.00   \n",
       "\n",
       "                                  25%          50%          75%           max  \n",
       "num_critic_for_reviews          50.00       110.00       195.00  8.130000e+02  \n",
       "duration                        93.00       103.00       118.00  5.110000e+02  \n",
       "director_facebook_likes          7.00        49.00       194.50  2.300000e+04  \n",
       "actor_3_facebook_likes         133.00       371.50       636.00  2.300000e+04  \n",
       "actor_1_facebook_likes         614.00       988.00     11000.00  6.400000e+05  \n",
       "gross                      5340987.50  25517500.00  62309437.50  7.605058e+08  \n",
       "num_voted_users               8593.50     34359.00     96309.00  1.689764e+06  \n",
       "cast_total_facebook_likes     1411.00      3090.00     13756.50  6.567300e+05  \n",
       "facenumber_in_poster             0.00         1.00         2.00  4.300000e+01  \n",
       "num_user_for_reviews            65.00       156.00       326.00  5.060000e+03  \n",
       "budget                     6000000.00  20000000.00  45000000.00  1.221550e+10  \n",
       "title_year                    1999.00      2005.00      2011.00  2.016000e+03  \n",
       "actor_2_facebook_likes         281.00       595.00       918.00  1.370000e+05  \n",
       "imdb_score                       5.80         6.60         7.20  9.500000e+00  \n",
       "aspect_ratio                     1.85         2.35         2.35  1.600000e+01  \n",
       "movie_facebook_likes             0.00       166.00      3000.00  3.490000e+05  "
      ]
     },
     "execution_count": 69,
     "metadata": {},
     "output_type": "execute_result"
    }
   ],
   "source": [
    "# summary statistics of numerical columns\n",
    "data.describe().T"
   ]
  },
  {
   "cell_type": "markdown",
   "metadata": {},
   "source": [
    "# <font color=blue>3 Data Cleaning"
   ]
  },
  {
   "cell_type": "markdown",
   "metadata": {},
   "source": [
    "## 3.1 Remove unnecessary columns"
   ]
  },
  {
   "cell_type": "code",
   "execution_count": 70,
   "metadata": {
    "ExecuteTime": {
     "end_time": "2020-06-09T09:26:46.792834Z",
     "start_time": "2020-06-09T09:26:46.788174Z"
    },
    "collapsed": true
   },
   "outputs": [],
   "source": [
    "#Dropping the Imdb link from the dataset as it doesn't contribute anything for score prediction \n",
    "\n",
    "data.drop('movie_imdb_link', axis=1, inplace=True)\n",
    "\n"
   ]
  },
  {
   "cell_type": "code",
   "execution_count": 71,
   "metadata": {
    "ExecuteTime": {
     "end_time": "2020-06-09T09:26:46.802001Z",
     "start_time": "2020-06-09T09:26:46.794685Z"
    },
    "collapsed": true
   },
   "outputs": [],
   "source": [
    "#Removing the color section as most of the movies is colored\n",
    "\n",
    "data[\"color\"].value_counts()\n",
    "\n",
    "data.drop('color',axis=1,inplace=True)\n",
    "\n"
   ]
  },
  {
   "cell_type": "code",
   "execution_count": 72,
   "metadata": {
    "ExecuteTime": {
     "end_time": "2020-06-09T09:26:46.810608Z",
     "start_time": "2020-06-09T09:26:46.803793Z"
    }
   },
   "outputs": [
    {
     "data": {
      "text/plain": [
       "English      4704\n",
       "French         73\n",
       "Spanish        40\n",
       "Hindi          28\n",
       "Mandarin       26\n",
       "German         19\n",
       "Japanese       18\n",
       "Italian        11\n",
       "Cantonese      11\n",
       "Russian        11\n",
       "Name: language, dtype: int64"
      ]
     },
     "execution_count": 72,
     "metadata": {},
     "output_type": "execute_result"
    }
   ],
   "source": [
    "# Removing the language column as most of the movies are English\n",
    "\n",
    "data['language'].value_counts().head(10)\n"
   ]
  },
  {
   "cell_type": "code",
   "execution_count": 73,
   "metadata": {
    "ExecuteTime": {
     "end_time": "2020-06-09T09:26:46.816537Z",
     "start_time": "2020-06-09T09:26:46.812348Z"
    },
    "collapsed": true
   },
   "outputs": [],
   "source": [
    "data.drop('language',axis=1,inplace=True)"
   ]
  },
  {
   "cell_type": "code",
   "execution_count": 74,
   "metadata": {
    "ExecuteTime": {
     "end_time": "2020-06-09T09:26:46.822776Z",
     "start_time": "2020-06-09T09:26:46.818290Z"
    }
   },
   "outputs": [],
   "source": [
    "# removing the country column\n",
    "data.drop('country',axis=1,inplace=True)"
   ]
  },
  {
   "cell_type": "code",
   "execution_count": 75,
   "metadata": {
    "ExecuteTime": {
     "end_time": "2020-06-09T09:26:46.828765Z",
     "start_time": "2020-06-09T09:26:46.824335Z"
    },
    "collapsed": true
   },
   "outputs": [],
   "source": [
    "#removing the content_rating\n",
    "data.drop('content_rating',axis=1,inplace=True)\n"
   ]
  },
  {
   "cell_type": "code",
   "execution_count": 76,
   "metadata": {
    "ExecuteTime": {
     "end_time": "2020-06-09T09:26:46.834630Z",
     "start_time": "2020-06-09T09:26:46.830315Z"
    },
    "collapsed": true
   },
   "outputs": [],
   "source": [
    "#removing the aspect_ratio\n",
    "data.drop('aspect_ratio',axis=1,inplace=True)"
   ]
  },
  {
   "cell_type": "markdown",
   "metadata": {},
   "source": [
    "## 3.2 Checking the null values"
   ]
  },
  {
   "cell_type": "code",
   "execution_count": null,
   "metadata": {
    "collapsed": true
   },
   "outputs": [],
   "source": []
  },
  {
   "cell_type": "code",
   "execution_count": 77,
   "metadata": {
    "ExecuteTime": {
     "end_time": "2020-06-09T09:26:46.844468Z",
     "start_time": "2020-06-09T09:26:46.836300Z"
    }
   },
   "outputs": [
    {
     "data": {
      "text/plain": [
       "director_name                104\n",
       "num_critic_for_reviews        50\n",
       "duration                      15\n",
       "director_facebook_likes      104\n",
       "actor_3_facebook_likes        23\n",
       "actor_2_name                  13\n",
       "actor_1_facebook_likes         7\n",
       "gross                        884\n",
       "genres                         0\n",
       "actor_1_name                   7\n",
       "movie_title                    0\n",
       "num_voted_users                0\n",
       "cast_total_facebook_likes      0\n",
       "actor_3_name                  23\n",
       "facenumber_in_poster          13\n",
       "plot_keywords                153\n",
       "num_user_for_reviews          21\n",
       "budget                       492\n",
       "title_year                   108\n",
       "actor_2_facebook_likes        13\n",
       "imdb_score                     0\n",
       "movie_facebook_likes           0\n",
       "dtype: int64"
      ]
     },
     "execution_count": 77,
     "metadata": {},
     "output_type": "execute_result"
    }
   ],
   "source": [
    "data.isnull().sum()"
   ]
  },
  {
   "cell_type": "markdown",
   "metadata": {},
   "source": [
    "### 3.2.1 Removing the null values from few columns"
   ]
  },
  {
   "cell_type": "code",
   "execution_count": 78,
   "metadata": {
    "ExecuteTime": {
     "end_time": "2020-06-09T09:26:46.855429Z",
     "start_time": "2020-06-09T09:26:46.846084Z"
    },
    "collapsed": true
   },
   "outputs": [],
   "source": [
    "# We can remove the null values from the dataset where the count is less . so that we don't loose much data \n",
    "\n",
    "data.dropna(axis=0,subset=['director_name', 'num_critic_for_reviews','duration','director_facebook_likes','actor_3_facebook_likes','actor_2_name','actor_1_facebook_likes','actor_1_name','actor_3_name','facenumber_in_poster','num_user_for_reviews','actor_2_facebook_likes'],inplace=True)"
   ]
  },
  {
   "cell_type": "markdown",
   "metadata": {
    "ExecuteTime": {
     "end_time": "2020-06-07T21:28:52.752503Z",
     "start_time": "2020-06-07T21:28:52.746572Z"
    }
   },
   "source": [
    "### 3.2.2 Imputing other columns values with missing data imputation methods like mean,median and mode values"
   ]
  },
  {
   "cell_type": "code",
   "execution_count": 79,
   "metadata": {
    "ExecuteTime": {
     "end_time": "2020-06-09T09:26:46.862116Z",
     "start_time": "2020-06-09T09:26:46.857057Z"
    },
    "collapsed": true
   },
   "outputs": [],
   "source": [
    "\n",
    "\n",
    "#We need to replace the value in budget with the median of the value\n",
    "\n",
    "data[\"budget\"].fillna(data[\"budget\"].median(),inplace=True)\n",
    "\n",
    "\n",
    "# We need to replace the value in gross with the median of the value \n",
    "\n",
    "data['gross'].fillna(data['gross'].median(),inplace=True)"
   ]
  },
  {
   "cell_type": "markdown",
   "metadata": {},
   "source": [
    "### 3.2.3 Validating the null values"
   ]
  },
  {
   "cell_type": "code",
   "execution_count": 80,
   "metadata": {
    "ExecuteTime": {
     "end_time": "2020-06-09T09:26:46.871960Z",
     "start_time": "2020-06-09T09:26:46.863785Z"
    }
   },
   "outputs": [
    {
     "data": {
      "text/plain": [
       "director_name                  0\n",
       "num_critic_for_reviews         0\n",
       "duration                       0\n",
       "director_facebook_likes        0\n",
       "actor_3_facebook_likes         0\n",
       "actor_2_name                   0\n",
       "actor_1_facebook_likes         0\n",
       "gross                          0\n",
       "genres                         0\n",
       "actor_1_name                   0\n",
       "movie_title                    0\n",
       "num_voted_users                0\n",
       "cast_total_facebook_likes      0\n",
       "actor_3_name                   0\n",
       "facenumber_in_poster           0\n",
       "plot_keywords                112\n",
       "num_user_for_reviews           0\n",
       "budget                         0\n",
       "title_year                     0\n",
       "actor_2_facebook_likes         0\n",
       "imdb_score                     0\n",
       "movie_facebook_likes           0\n",
       "dtype: int64"
      ]
     },
     "execution_count": 80,
     "metadata": {},
     "output_type": "execute_result"
    }
   ],
   "source": [
    "# Recheck that all the null values are removed\n",
    "\n",
    "data.isna().sum()"
   ]
  },
  {
   "cell_type": "markdown",
   "metadata": {},
   "source": [
    "## 3.3 Checking the duplicates"
   ]
  },
  {
   "cell_type": "code",
   "execution_count": 81,
   "metadata": {
    "ExecuteTime": {
     "end_time": "2020-06-09T09:26:46.894369Z",
     "start_time": "2020-06-09T09:26:46.873628Z"
    }
   },
   "outputs": [
    {
     "data": {
      "text/plain": [
       "43"
      ]
     },
     "execution_count": 81,
     "metadata": {},
     "output_type": "execute_result"
    }
   ],
   "source": [
    "# checking the duplicate rows in the dataset\n",
    "data.duplicated().sum()\n",
    "\n"
   ]
  },
  {
   "cell_type": "markdown",
   "metadata": {},
   "source": [
    "### 3.3.1 Removing the duplicates"
   ]
  },
  {
   "cell_type": "code",
   "execution_count": 82,
   "metadata": {
    "ExecuteTime": {
     "end_time": "2020-06-09T09:26:46.932428Z",
     "start_time": "2020-06-09T09:26:46.896030Z"
    }
   },
   "outputs": [
    {
     "data": {
      "text/plain": [
       "0"
      ]
     },
     "execution_count": 82,
     "metadata": {},
     "output_type": "execute_result"
    }
   ],
   "source": [
    "# replacing the duplicate rows\n",
    "data.drop_duplicates(inplace=True)\n",
    "data.duplicated().sum()\n"
   ]
  },
  {
   "cell_type": "code",
   "execution_count": 83,
   "metadata": {
    "ExecuteTime": {
     "end_time": "2020-06-09T09:26:46.937451Z",
     "start_time": "2020-06-09T09:26:46.934200Z"
    }
   },
   "outputs": [
    {
     "data": {
      "text/plain": [
       "(4814, 22)"
      ]
     },
     "execution_count": 83,
     "metadata": {},
     "output_type": "execute_result"
    }
   ],
   "source": [
    "data.shape"
   ]
  },
  {
   "cell_type": "markdown",
   "metadata": {},
   "source": []
  },
  {
   "cell_type": "code",
   "execution_count": null,
   "metadata": {
    "ExecuteTime": {
     "end_time": "2020-06-09T08:57:47.234654Z",
     "start_time": "2020-06-09T08:57:46.510791Z"
    }
   },
   "outputs": [],
   "source": []
  },
  {
   "cell_type": "code",
   "execution_count": null,
   "metadata": {
    "ExecuteTime": {
     "end_time": "2020-06-09T08:57:49.613108Z",
     "start_time": "2020-06-09T08:57:49.599743Z"
    }
   },
   "outputs": [],
   "source": []
  },
  {
   "cell_type": "markdown",
   "metadata": {},
   "source": [
    "# <font color =blue> 4 Data Visuaization"
   ]
  },
  {
   "cell_type": "markdown",
   "metadata": {},
   "source": [
    "## 4.1 IMDB rating score\n",
    "From the below histogram we can infer that 90% of the movies fall in the category of 5-8 imdb score"
   ]
  },
  {
   "cell_type": "code",
   "execution_count": 84,
   "metadata": {
    "ExecuteTime": {
     "end_time": "2020-06-09T09:26:47.207132Z",
     "start_time": "2020-06-09T09:26:46.939376Z"
    }
   },
   "outputs": [
    {
     "data": {
      "image/png": "[encoded data removed]",
      "text/plain": [
       "<Figure size 576x360 with 1 Axes>"
      ]
     },
     "metadata": {},
     "output_type": "display_data"
    }
   ],
   "source": [
    "# let's check the imdb rating score\n",
    "plt.figure(figsize=(8,5))\n",
    "\n",
    "data['imdb_score'].hist(color='g')\n",
    "plt.xlabel('IMDB score',fontsize =14)\n",
    "plt.ylabel('Frequency',fontsize =14);\n",
    "plt.title(\"Histogram of IMDB score\",fontsize =14);"
   ]
  },
  {
   "cell_type": "markdown",
   "metadata": {},
   "source": [
    "## 4.2 IMDB score VS movie facebook popularity\n",
    "\n",
    "The social network is a good way to estimate the popularity of certain phenomena. Therefore it is interesting to know how does the IMDB score correlate with the movie popularity in the social network. From the scatter plot below, we can find that overall, the movies that have very high facebook likes tend to be the ones that have IMDB scores around 8.0"
   ]
  },
  {
   "cell_type": "code",
   "execution_count": 85,
   "metadata": {
    "ExecuteTime": {
     "end_time": "2020-06-09T09:26:47.495038Z",
     "start_time": "2020-06-09T09:26:47.208905Z"
    }
   },
   "outputs": [
    {
     "data": {
      "image/png": "[encoded data removed]",
      "text/plain": [
       "<Figure size 576x360 with 1 Axes>"
      ]
     },
     "metadata": {},
     "output_type": "display_data"
    }
   ],
   "source": [
    "plt.figure(figsize=(8,5))\n",
    "plt.scatter(x=data['movie_facebook_likes'], y=data['imdb_score'],color='r');\n",
    "plt.xlabel('Movie facebook likes',fontsize =14)\n",
    "plt.ylabel('IMDB_score',fontsize =14);\n",
    "plt.title(\"Relation between fb likes vs IMDB score\",fontsize =14);"
   ]
  },
  {
   "cell_type": "markdown",
   "metadata": {},
   "source": [
    "## 4.3 IMDB score VS director facebook popularity and top 3 actors/actresses facebook popularity\n",
    "\n",
    "From the plot below, it can be seen that the directors who directed movies of rating higher than 6.0 tend to have more facebook popularity than the ones who directed movies of rating lower than 6.0.\n",
    "\n",
    "The top first actor/actress has the most number of facebook popularity, while the second and the third actor/actress have much lower popularity. But it can also be shown that, high facebook popularity of the leading actor/actress does not mean that a movie is of high rating."
   ]
  },
  {
   "cell_type": "code",
   "execution_count": 86,
   "metadata": {
    "ExecuteTime": {
     "end_time": "2020-06-09T09:26:49.867708Z",
     "start_time": "2020-06-09T09:26:47.496770Z"
    }
   },
   "outputs": [
    {
     "data": {
      "text/plain": [
       "(0, 600000)"
      ]
     },
     "execution_count": 86,
     "metadata": {},
     "output_type": "execute_result"
    },
    {
     "data": {
      "image/png": "[encoded data removed]",
      "text/plain": [
       "<Figure size 936x576 with 4 Axes>"
      ]
     },
     "metadata": {},
     "output_type": "display_data"
    }
   ],
   "source": [
    "\n",
    "fig,ax=plt.subplots(2,2,figsize=(13,8));\n",
    "plt.subplot(2,2,1)\n",
    "plt.ylim(0,600000)\n",
    "sns.regplot(data['imdb_score'],data['director_facebook_likes'],color='r');\n",
    "plt.subplot(2,2,2)\n",
    "sns.regplot(data['imdb_score'],data['actor_1_facebook_likes'],color='g');\n",
    "plt.subplot(2,2,3)\n",
    "sns.regplot(data['imdb_score'],data['actor_2_facebook_likes']);\n",
    "plt.ylim(0,600000)\n",
    "plt.subplot(2,2,4)\n",
    "sns.regplot(data['imdb_score'],data['actor_3_facebook_likes'],color='orange');\n",
    "plt.ylim(0,600000)"
   ]
  },
  {
   "cell_type": "markdown",
   "metadata": {
    "collapsed": true
   },
   "source": [
    "# <font color=blue> 4 Data Preparation"
   ]
  },
  {
   "cell_type": "markdown",
   "metadata": {
    "ExecuteTime": {
     "end_time": "2020-06-07T19:35:05.111506Z",
     "start_time": "2020-06-07T19:35:05.108275Z"
    },
    "collapsed": true
   },
   "source": [
    "## 4.1 Removing the columns with names"
   ]
  },
  {
   "cell_type": "code",
   "execution_count": 87,
   "metadata": {
    "ExecuteTime": {
     "end_time": "2020-06-09T09:26:49.883822Z",
     "start_time": "2020-06-09T09:26:49.869384Z"
    },
    "collapsed": true
   },
   "outputs": [],
   "source": [
    "#Removing the director name column\n",
    "\n",
    "data.drop('director_name', axis=1, inplace=True)\n",
    "\n",
    "#Removing the actor1 ,actor 2 and actor 3 names \n",
    "\n",
    "data.drop('actor_1_name',axis=1,inplace=True)\n",
    "\n",
    "data.drop('actor_2_name',axis=1,inplace=True)\n",
    "\n",
    "data.drop('actor_3_name',axis=1,inplace=True)\n",
    "\n",
    "#Dropping the movie title \n",
    "\n",
    "data.drop('movie_title',axis=1,inplace=True)\n",
    "\n",
    "# Dropping the plot keywords\n",
    "data.drop('plot_keywords',axis=1,inplace=True)"
   ]
  },
  {
   "cell_type": "code",
   "execution_count": 88,
   "metadata": {
    "ExecuteTime": {
     "end_time": "2020-06-09T09:26:49.892024Z",
     "start_time": "2020-06-09T09:26:49.885427Z"
    }
   },
   "outputs": [
    {
     "data": {
      "text/plain": [
       "Drama                          224\n",
       "Comedy                         193\n",
       "Comedy|Drama                   185\n",
       "Comedy|Drama|Romance           183\n",
       "Comedy|Romance                 153\n",
       "Drama|Romance                  148\n",
       "Crime|Drama|Thriller            94\n",
       "Horror                          68\n",
       "Action|Crime|Thriller           64\n",
       "Action|Crime|Drama|Thriller     63\n",
       "Name: genres, dtype: int64"
      ]
     },
     "execution_count": 88,
     "metadata": {},
     "output_type": "execute_result"
    }
   ],
   "source": [
    "#Value count of genres\n",
    "\n",
    "data['genres'].value_counts()[:10]"
   ]
  },
  {
   "cell_type": "code",
   "execution_count": 89,
   "metadata": {
    "ExecuteTime": {
     "end_time": "2020-06-09T09:26:49.896825Z",
     "start_time": "2020-06-09T09:26:49.893522Z"
    },
    "collapsed": true
   },
   "outputs": [],
   "source": [
    "#Most of the values are equally distributed in genres column ,so we can remove the genres column\n",
    "\n",
    "data.drop('genres',axis=1,inplace =True)"
   ]
  },
  {
   "cell_type": "markdown",
   "metadata": {},
   "source": [
    "## 4.2 Removing the highly correlated variables"
   ]
  },
  {
   "cell_type": "code",
   "execution_count": 90,
   "metadata": {
    "ExecuteTime": {
     "end_time": "2020-06-09T09:26:50.788004Z",
     "start_time": "2020-06-09T09:26:49.898344Z"
    }
   },
   "outputs": [
    {
     "data": {
      "image/png": "[encoded data removed]",
      "text/plain": [
       "<Figure size 1008x504 with 2 Axes>"
      ]
     },
     "metadata": {},
     "output_type": "display_data"
    }
   ],
   "source": [
    "# Correlation with heat map\n",
    "import matplotlib.pyplot as plt\n",
    "import seaborn as sns\n",
    "corr = data.corr()\n",
    "\n",
    "sns.set_context(\"notebook\", font_scale=1.0, rc={\"lines.linewidth\": 2.5})\n",
    "plt.figure(figsize=(14,7))\n",
    "# create a mask so we only see the correlation values once\n",
    "mask = np.zeros_like(corr)\n",
    "mask[np.triu_indices_from(mask, 1)] = True\n",
    "a = sns.heatmap(corr,mask=mask, annot=True, fmt='.2f',cmap='PiYG_r')\n",
    "rotx = a.set_xticklabels(a.get_xticklabels(), rotation=90)\n",
    "roty = a.set_yticklabels(a.get_yticklabels(), rotation=30)"
   ]
  },
  {
   "cell_type": "markdown",
   "metadata": {},
   "source": [
    "The “imdb_score” has very small but positive correlation with the “director_facebook_likes”, meaning a popular director does not necessarily mean his directed movie is great.\n",
    "\n",
    "The “imdb_score” has very small but positive correlation with the “actor_1_facebook_likes”, meaning that an actor is popular in social network does not mean that a movie is high rating if he is the leading actor. So do supporting actors.\n",
    "\n",
    "The “imdb_score” has small but positive correlation with “duration”. Long movies tend to have high rating.\n",
    "\n",
    "The “imdb_score” has small but negative correlation with “facenumber_in_poster”. It is perhaps not a good idea to have many faces in movie poster if a movie wants to be great.\n",
    "\n",
    "The “imdb_score” has almost no correlation with “budget”. Throwing money at a movie will not necessarily make it great.\n",
    "\n",
    "We can see that the cast_total_facebook_likes and actor_1_facebook_like are highly correlated to each other. Both actor2 and actor3 are also somehow correlated to the total. So we want to modify them into two variables: actor_1_facebook_likes and other_actors_facebook_likes.\n",
    "\n",
    "There are high correlations among num_voted_users, num_user_for_reviews and num_critic_for_reviews. We want to keep num_voted_users and take the ratio of num_user_for_reviews and num_critic_for_reviews."
   ]
  },
  {
   "cell_type": "code",
   "execution_count": 91,
   "metadata": {
    "ExecuteTime": {
     "end_time": "2020-06-09T09:26:50.802443Z",
     "start_time": "2020-06-09T09:26:50.789429Z"
    }
   },
   "outputs": [],
   "source": [
    "#Adding the facebook likes of actor 2 and actor 3 together \n",
    "data['Other_actor_facebbok_likes']=data[\"actor_2_facebook_likes\"] + data['actor_3_facebook_likes']\n",
    "\n",
    "#Dropping the actor 2 and actor 3 facebook likes columns as they have been added together \n",
    "\n",
    "data.drop('actor_2_facebook_likes',axis=1,inplace=True)\n",
    "\n",
    "data.drop('actor_3_facebook_likes',axis=1,inplace=True)\n",
    "\n",
    "data.drop('cast_total_facebook_likes',axis=1,inplace=True)\n",
    "data.drop('gross',axis=1,inplace=True)\n",
    "data.drop('num_voted_users',axis=1,inplace=True)\n",
    "data.drop('title_year',axis=1,inplace=True)\n"
   ]
  },
  {
   "cell_type": "code",
   "execution_count": 92,
   "metadata": {
    "ExecuteTime": {
     "end_time": "2020-06-09T09:26:50.810897Z",
     "start_time": "2020-06-09T09:26:50.804007Z"
    },
    "collapsed": true
   },
   "outputs": [],
   "source": [
    "#Ratio of the ratio of num_user_for_reviews and num_critic_for_reviews.\n",
    "\n",
    "data['critic_review_ratio']=data['num_critic_for_reviews']/data['num_user_for_reviews']\n",
    "\n",
    "#Dropping the num_critic_for_review\n",
    "\n",
    "data.drop('num_critic_for_reviews',axis=1,inplace=True)\n",
    "data.drop('num_user_for_reviews',axis=1,inplace=True)"
   ]
  },
  {
   "cell_type": "code",
   "execution_count": 93,
   "metadata": {
    "ExecuteTime": {
     "end_time": "2020-06-09T09:26:51.351201Z",
     "start_time": "2020-06-09T09:26:50.812580Z"
    }
   },
   "outputs": [
    {
     "data": {
      "image/png": "[encoded data removed]",
      "text/plain": [
       "<Figure size 936x504 with 2 Axes>"
      ]
     },
     "metadata": {},
     "output_type": "display_data"
    }
   ],
   "source": [
    "# New Correlation matrix shown in the figure \n",
    "\n",
    "import matplotlib.pyplot as plt\n",
    "import seaborn as sns\n",
    "corr = data.corr()\n",
    "sns.set_context(\"notebook\", font_scale=1.0, rc={\"lines.linewidth\": 2.5})\n",
    "plt.figure(figsize=(13,7))\n",
    "# create a mask so we only see the correlation values once\n",
    "mask = np.zeros_like(corr)\n",
    "mask[np.triu_indices_from(mask, 1)] = True\n",
    "a = sns.heatmap(corr,mask=mask, annot=True, fmt='.2f',cmap='PiYG_r')\n",
    "rotx = a.set_xticklabels(a.get_xticklabels(), rotation=90)\n",
    "roty = a.set_yticklabels(a.get_yticklabels(), rotation=30)"
   ]
  },
  {
   "cell_type": "markdown",
   "metadata": {},
   "source": [
    "Now we can see none of the attributes are not much correlated to each other.All are below 0.7"
   ]
  },
  {
   "cell_type": "code",
   "execution_count": 94,
   "metadata": {
    "ExecuteTime": {
     "end_time": "2020-06-09T09:26:59.797754Z",
     "start_time": "2020-06-09T09:26:59.779688Z"
    }
   },
   "outputs": [
    {
     "name": "stdout",
     "output_type": "stream",
     "text": [
      "<class 'pandas.core.frame.DataFrame'>\n",
      "Int64Index: 4814 entries, 0 to 5042\n",
      "Data columns (total 9 columns):\n",
      "duration                      4814 non-null float64\n",
      "director_facebook_likes       4814 non-null float64\n",
      "actor_1_facebook_likes        4814 non-null float64\n",
      "facenumber_in_poster          4814 non-null float64\n",
      "budget                        4814 non-null float64\n",
      "imdb_score                    4814 non-null float64\n",
      "movie_facebook_likes          4814 non-null int64\n",
      "Other_actor_facebbok_likes    4814 non-null float64\n",
      "critic_review_ratio           4814 non-null float64\n",
      "dtypes: float64(8), int64(1)\n",
      "memory usage: 376.1 KB\n"
     ]
    }
   ],
   "source": [
    "data.info()"
   ]
  },
  {
   "cell_type": "markdown",
   "metadata": {},
   "source": [
    "## 4.4 Spliting the data into train test split\n"
   ]
  },
  {
   "cell_type": "code",
   "execution_count": 96,
   "metadata": {
    "ExecuteTime": {
     "end_time": "2020-06-09T09:29:37.009552Z",
     "start_time": "2020-06-09T09:29:36.999184Z"
    },
    "collapsed": true
   },
   "outputs": [],
   "source": [
    "X=pd.DataFrame(columns=['duration','director_facebook_likes','actor_1_facebook_likes','facenumber_in_poster','budget','movie_facebook_likes','Other_actor_facebbok_likes','critic_review_ratio'],data=data)\n",
    "y=pd.DataFrame(columns=['imdb_score'],data=data)"
   ]
  },
  {
   "cell_type": "code",
   "execution_count": 97,
   "metadata": {
    "ExecuteTime": {
     "end_time": "2020-06-09T09:29:40.745181Z",
     "start_time": "2020-06-09T09:29:39.866556Z"
    },
    "collapsed": true
   },
   "outputs": [],
   "source": [
    "from sklearn.model_selection import train_test_split\n",
    "X_train, X_test, y_train, y_test=train_test_split(X,y,test_size=0.3,random_state=100)"
   ]
  },
  {
   "cell_type": "markdown",
   "metadata": {},
   "source": [
    "## 4.5 Feature scaling"
   ]
  },
  {
   "cell_type": "code",
   "execution_count": 98,
   "metadata": {
    "ExecuteTime": {
     "end_time": "2020-06-09T09:29:43.458172Z",
     "start_time": "2020-06-09T09:29:43.443395Z"
    },
    "collapsed": true
   },
   "outputs": [],
   "source": [
    "from sklearn.preprocessing import StandardScaler\n",
    "\n",
    "sc_X = StandardScaler()\n",
    "X_train = sc_X.fit_transform(X_train)\n",
    "X_test = sc_X.transform(X_test)"
   ]
  },
  {
   "cell_type": "markdown",
   "metadata": {},
   "source": [
    "# <font color=blue>5 Model selection"
   ]
  },
  {
   "cell_type": "markdown",
   "metadata": {},
   "source": [
    "## 5.1 Ridge Regression - 86.5% score"
   ]
  },
  {
   "cell_type": "code",
   "execution_count": 99,
   "metadata": {
    "ExecuteTime": {
     "end_time": "2020-06-09T09:29:47.185954Z",
     "start_time": "2020-06-09T09:29:45.999841Z"
    },
    "collapsed": true
   },
   "outputs": [],
   "source": [
    "# Import scikit-learn modules\n",
    "from sklearn.model_selection import cross_validate\n",
    "from sklearn import linear_model,svm\n",
    "from sklearn.tree import DecisionTreeRegressor\n",
    "from sklearn.ensemble import RandomForestRegressor, AdaBoostRegressor"
   ]
  },
  {
   "cell_type": "code",
   "execution_count": 100,
   "metadata": {
    "ExecuteTime": {
     "end_time": "2020-06-09T09:29:50.456579Z",
     "start_time": "2020-06-09T09:29:50.017884Z"
    }
   },
   "outputs": [
    {
     "name": "stdout",
     "output_type": "stream",
     "text": [
      "0.15805477489646597\n",
      "Ridge(alpha=1.0, copy_X=True, fit_intercept=True, max_iter=None,\n",
      "      normalize=False, random_state=None, solver='auto', tol=0.001)\n"
     ]
    }
   ],
   "source": [
    "\n",
    "# Grid Search for Algorithm Tuning\n",
    "import numpy as np\n",
    "from sklearn import datasets\n",
    "from sklearn.linear_model import Ridge\n",
    "from sklearn.model_selection import GridSearchCV\n",
    "from sklearn.model_selection import RandomizedSearchCV\n",
    "from sklearn import linear_model, svm\n",
    "from sklearn.tree import DecisionTreeRegressor\n",
    "from sklearn.ensemble import RandomForestRegressor, AdaBoostRegressor,ExtraTreesRegressor\n",
    "\n",
    "# prepare a range of alpha values to test\n",
    "alphas = np.array([1,0.1,0.01,0.001,0.0001,0])\n",
    "# create and fit a ridge regression model, testing each alpha\n",
    "model = Ridge()\n",
    "ridge = GridSearchCV(estimator=model, param_grid=dict(alpha=alphas))\n",
    "ridge.fit(X_train, y_train)\n",
    "\n",
    "# summarize the results of the grid search\n",
    "print(ridge.best_score_)\n",
    "print(ridge.best_estimator_)\n"
   ]
  },
  {
   "cell_type": "code",
   "execution_count": 101,
   "metadata": {
    "ExecuteTime": {
     "end_time": "2020-06-09T09:29:53.785631Z",
     "start_time": "2020-06-09T09:29:53.781150Z"
    },
    "collapsed": true
   },
   "outputs": [],
   "source": [
    "ridge_best=ridge.best_estimator_\n",
    "y_pred=ridge_best.predict(X_test)"
   ]
  },
  {
   "cell_type": "code",
   "execution_count": 102,
   "metadata": {
    "ExecuteTime": {
     "end_time": "2020-06-09T09:29:58.117924Z",
     "start_time": "2020-06-09T09:29:58.092417Z"
    }
   },
   "outputs": [
    {
     "name": "stdout",
     "output_type": "stream",
     "text": [
      "R^2: 0.2054882603520234\n",
      "MAE: 0.7613331481442316\n",
      "MAPE: 13.410282328028137\n",
      "MSE: 0.9457129105224056\n",
      "RMSE: 0.9724777172369584\n"
     ]
    }
   ],
   "source": [
    "from sklearn import metrics\n",
    "from sklearn.metrics import accuracy_score\n",
    "def mean_absolute_percentage_error(y_true, y_pred):\n",
    "    y_true, y_pred = np.array(y_true), np.array(y_pred)\n",
    "    return np.mean(np.abs((y_true - y_pred) / y_true)) * 100\n",
    "\n",
    "# Model Evaluation\n",
    "print('R^2:',metrics.r2_score(y_test,y_pred))\n",
    "#print('Adjusted R^2:',1 - (1-metrics.r2_score(train_y, y_pred))*(len(train_y)-1)/(len(train_y)-train_X.shape[1]-1))\n",
    "print('MAE:',metrics.mean_absolute_error(y_test, y_pred))\n",
    "print('MAPE:',mean_absolute_percentage_error(y_test, y_pred))\n",
    "print('MSE:',metrics.mean_squared_error(y_test, y_pred))\n",
    "print('RMSE:',np.sqrt(metrics.mean_squared_error(y_test, y_pred)))"
   ]
  },
  {
   "cell_type": "code",
   "execution_count": 103,
   "metadata": {
    "ExecuteTime": {
     "end_time": "2020-06-09T09:30:09.512707Z",
     "start_time": "2020-06-09T09:30:09.488616Z"
    }
   },
   "outputs": [
    {
     "name": "stdout",
     "output_type": "stream",
     "text": [
      "Model Performance\n",
      "imdb_score    86.589718\n",
      "dtype: float64\n"
     ]
    }
   ],
   "source": [
    "def evaluate(model, test_features, test_labels):\n",
    "    predictions = model.predict(test_features)\n",
    "    errors = abs(predictions - test_labels)\n",
    "    mape = 100 * np.mean(errors / test_labels)\n",
    "    accuracy = 100 - mape\n",
    "    print('Model Performance')\n",
    "    #print('Average Error: {:0.4f} degrees.'.format(np.mean(errors)))\n",
    "    #print('Accuracy = {:0.2f}%.'.format(accuracy))\n",
    "    \n",
    "    return accuracy\n",
    "\n",
    "base_accuracy = evaluate(ridge_best, X_test,y_test)\n",
    "print(base_accuracy)"
   ]
  },
  {
   "cell_type": "markdown",
   "metadata": {},
   "source": [
    "## 5.2 Random Forest - 88% score"
   ]
  },
  {
   "cell_type": "code",
   "execution_count": 104,
   "metadata": {
    "ExecuteTime": {
     "end_time": "2020-06-09T09:30:26.477597Z",
     "start_time": "2020-06-09T09:30:13.292546Z"
    }
   },
   "outputs": [
    {
     "name": "stdout",
     "output_type": "stream",
     "text": [
      "Fitting 5 folds for each of 216 candidates, totalling 1080 fits\n"
     ]
    },
    {
     "name": "stderr",
     "output_type": "stream",
     "text": [
      "[Parallel(n_jobs=-1)]: Using backend LokyBackend with 28 concurrent workers.\n",
      "[Parallel(n_jobs=-1)]: Done  16 tasks      | elapsed:    1.7s\n",
      "[Parallel(n_jobs=-1)]: Done 106 tasks      | elapsed:    2.1s\n",
      "[Parallel(n_jobs=-1)]: Done 326 tasks      | elapsed:    3.1s\n",
      "[Parallel(n_jobs=-1)]: Done 900 tasks      | elapsed:    7.5s\n",
      "[Parallel(n_jobs=-1)]: Done 1025 out of 1080 | elapsed:    9.2s remaining:    0.5s\n",
      "[Parallel(n_jobs=-1)]: Done 1080 out of 1080 | elapsed:   11.5s finished\n"
     ]
    },
    {
     "name": "stdout",
     "output_type": "stream",
     "text": [
      "RandomForestRegressor(bootstrap=True, ccp_alpha=0.0, criterion='mse',\n",
      "                      max_depth=15, max_features=0.5, max_leaf_nodes=None,\n",
      "                      max_samples=None, min_impurity_decrease=0.0,\n",
      "                      min_impurity_split=None, min_samples_leaf=1,\n",
      "                      min_samples_split=2, min_weight_fraction_leaf=0.0,\n",
      "                      n_estimators=200, n_jobs=None, oob_score=False,\n",
      "                      random_state=None, verbose=0, warm_start=False)\n"
     ]
    }
   ],
   "source": [
    "param_grid={'n_estimators':[1, 2, 5, 10, 20, 35, 50, 100, 200],'max_features':[0.25, 0.5, 0.75, 1],'max_depth':[3, 6, 8, 10, 15, 25]}\n",
    "rf=GridSearchCV(RandomForestRegressor(), param_grid = param_grid, cv = 5, verbose = 5, n_jobs = -1)\n",
    "rf.fit(X_train, y_train)\n",
    "print(rf.best_estimator_)"
   ]
  },
  {
   "cell_type": "code",
   "execution_count": 105,
   "metadata": {
    "ExecuteTime": {
     "end_time": "2020-06-09T09:30:26.559919Z",
     "start_time": "2020-06-09T09:30:26.479280Z"
    }
   },
   "outputs": [
    {
     "name": "stdout",
     "output_type": "stream",
     "text": [
      "R^2: 0.3904517953148099\n",
      "MAE: 0.6474370644939246\n",
      "MAPE: 17.403141346766947\n",
      "MSE: 0.7255495142361882\n",
      "RMSE: 0.8517919430448895\n"
     ]
    }
   ],
   "source": [
    "rf_best=rf.best_estimator_\n",
    "y_pred=rf_best.predict(X_test)\n",
    "\n",
    "# Model Evaluation\n",
    "print('R^2:',metrics.r2_score(y_test,y_pred))\n",
    "#print('Adjusted R^2:',1 - (1-metrics.r2_score(train_y, y_pred))*(len(train_y)-1)/(len(train_y)-train_X.shape[1]-1))\n",
    "print('MAE:',metrics.mean_absolute_error(y_test, y_pred))\n",
    "print('MAPE:',mean_absolute_percentage_error(y_test, y_pred))\n",
    "print('MSE:',metrics.mean_squared_error(y_test, y_pred))\n",
    "print('RMSE:',np.sqrt(metrics.mean_squared_error(y_test, y_pred)))"
   ]
  },
  {
   "cell_type": "code",
   "execution_count": 107,
   "metadata": {
    "ExecuteTime": {
     "end_time": "2020-06-09T09:31:00.411064Z",
     "start_time": "2020-06-09T09:31:00.278548Z"
    }
   },
   "outputs": [
    {
     "name": "stdout",
     "output_type": "stream",
     "text": [
      "Model Performance\n",
      "imdb_score    88.602124\n",
      "dtype: float64\n"
     ]
    }
   ],
   "source": [
    "def evaluate(model, test_features, test_labels):\n",
    "    predictions = model.predict(test_features)\n",
    "    predictions=predictions.reshape(1445,1)\n",
    "    errors = abs(predictions - test_labels)\n",
    "    mape = 100 * np.mean(errors / test_labels)\n",
    "    accuracy = 100 - mape\n",
    "    print('Model Performance')\n",
    "    #print('Average Error: {:0.4f} degrees.'.format(np.mean(errors)))\n",
    "    #print('Accuracy = {:0.2f}%.'.format(accuracy))\n",
    "    \n",
    "    return accuracy\n",
    "\n",
    "rf_accuracy= evaluate(rf_best, X_test,y_test)\n",
    "print(rf_accuracy)"
   ]
  },
  {
   "cell_type": "code",
   "execution_count": 108,
   "metadata": {
    "ExecuteTime": {
     "end_time": "2020-06-09T09:31:13.749719Z",
     "start_time": "2020-06-09T09:31:04.269997Z"
    }
   },
   "outputs": [
    {
     "name": "stdout",
     "output_type": "stream",
     "text": [
      "AdaBoostRegressor(base_estimator=RandomForestRegressor(bootstrap=True,\n",
      "                                                       ccp_alpha=0.0,\n",
      "                                                       criterion='mse',\n",
      "                                                       max_depth=None,\n",
      "                                                       max_features='sqrt',\n",
      "                                                       max_leaf_nodes=None,\n",
      "                                                       max_samples=None,\n",
      "                                                       min_impurity_decrease=0.0,\n",
      "                                                       min_impurity_split=None,\n",
      "                                                       min_samples_leaf=1,\n",
      "                                                       min_samples_split=3,\n",
      "                                                       min_weight_fraction_leaf=0.0,\n",
      "                                                       n_estimators=5,\n",
      "                                                       n_jobs=None,\n",
      "                                                       oob_score=False,\n",
      "                                                       random_state=40,\n",
      "                                                       verbose=0,\n",
      "                                                       warm_start=False),\n",
      "                  learning_rate=1, loss='exponential', n_estimators=50,\n",
      "                  random_state=47)\n"
     ]
    }
   ],
   "source": [
    "base_models = [ExtraTreesRegressor(n_estimators= 5,\n",
    "                          criterion= 'mse',\n",
    "                          max_features = 'log2',\n",
    "                          random_state = 40),\n",
    "               RandomForestRegressor(n_estimators= 5,\n",
    "                               criterion= 'mse',\n",
    "                               max_features = 'sqrt',\n",
    "                               min_samples_split = 3,\n",
    "                               random_state = 40)]  \n",
    "tuned_parameters = {    'base_estimator':base_models,\n",
    "                        'loss' : ['exponential']\n",
    "                        ,'random_state' : [47]\n",
    "                        ,'learning_rate' : [1]\n",
    "                         }\n",
    "ab = GridSearchCV(AdaBoostRegressor(), tuned_parameters, cv=4)\n",
    "ab.fit(X_train, y_train)\n",
    "print(ab.best_estimator_)"
   ]
  },
  {
   "cell_type": "markdown",
   "metadata": {},
   "source": [
    "## 5.4 Adaboost Regressor - 88.36% Score\n"
   ]
  },
  {
   "cell_type": "code",
   "execution_count": 109,
   "metadata": {
    "ExecuteTime": {
     "end_time": "2020-06-09T09:31:18.025909Z",
     "start_time": "2020-06-09T09:31:17.821674Z"
    }
   },
   "outputs": [
    {
     "name": "stdout",
     "output_type": "stream",
     "text": [
      "R^2: 0.3739920711392032\n",
      "MAE: 0.664150387213709\n",
      "MAPE: 17.123985854610762\n",
      "MSE: 0.7451416396633164\n",
      "RMSE: 0.8632158708360942\n"
     ]
    }
   ],
   "source": [
    "ab_best=ab.best_estimator_\n",
    "y_pred=ab_best.predict(X_test)\n",
    "\n",
    "# Model Evaluation\n",
    "print('R^2:',metrics.r2_score(y_test,y_pred))\n",
    "#print('Adjusted R^2:',1 - (1-metrics.r2_score(train_y, y_pred))*(len(train_y)-1)/(len(train_y)-train_X.shape[1]-1))\n",
    "print('MAE:',metrics.mean_absolute_error(y_test, y_pred))\n",
    "print('MAPE:',mean_absolute_percentage_error(y_test, y_pred))\n",
    "print('MSE:',metrics.mean_squared_error(y_test, y_pred))\n",
    "print('RMSE:',np.sqrt(metrics.mean_squared_error(y_test, y_pred)))"
   ]
  },
  {
   "cell_type": "code",
   "execution_count": 111,
   "metadata": {
    "ExecuteTime": {
     "end_time": "2020-06-09T09:31:29.606253Z",
     "start_time": "2020-06-09T09:31:29.430501Z"
    }
   },
   "outputs": [
    {
     "name": "stdout",
     "output_type": "stream",
     "text": [
      "Model Performance\n",
      "imdb_score    88.368761\n",
      "dtype: float64\n"
     ]
    }
   ],
   "source": [
    "def evaluate(model, test_features, test_labels):\n",
    "    predictions = model.predict(test_features)\n",
    "    predictions=predictions.reshape(1445,1)\n",
    "    errors = abs(predictions - test_labels)\n",
    "    mape = 100 * np.mean(errors / test_labels)\n",
    "    accuracy = 100 - mape\n",
    "    print('Model Performance')\n",
    "    #print('Average Error: {:0.4f} degrees.'.format(np.mean(errors)))\n",
    "    #print('Accuracy = {:0.2f}%.'.format(accuracy))\n",
    "    \n",
    "    return accuracy\n",
    "\n",
    "ab_accuracy= evaluate(ab_best, X_test,y_test)\n",
    "print(ab_accuracy)"
   ]
  },
  {
   "cell_type": "markdown",
   "metadata": {
    "collapsed": true
   },
   "source": [
    "# 6 Conclusion"
   ]
  },
  {
   "cell_type": "markdown",
   "metadata": {
    "ExecuteTime": {
     "end_time": "2020-06-09T09:43:47.599477Z",
     "start_time": "2020-06-09T09:43:47.593115Z"
    }
   },
   "source": [
    "1. From the above analysis we can conclude that Adaboost and Random Forest regressor performed better compared to Ridge regression\n",
    "2. The highest accuracy acheived is 88.36%\n",
    "3. The most import factors that affects the imdb score are duration,facebook popularity of director,facebook popularity of top three actors."
   ]
  },
  {
   "cell_type": "code",
   "execution_count": null,
   "metadata": {
    "collapsed": true
   },
   "outputs": [],
   "source": []
  }
 ],
 "metadata": {
  "kernelspec": {
   "display_name": "Python 3",
   "language": "python",
   "name": "python3"
  },
  "language_info": {
   "codemirror_mode": {
    "name": "ipython",
    "version": 3
   },
   "file_extension": ".py",
   "mimetype": "text/x-python",
   "name": "python",
   "nbconvert_exporter": "python",
   "pygments_lexer": "ipython3",
   "version": "3.5.3"
  }
 },
 "nbformat": 4,
 "nbformat_minor": 1
}
