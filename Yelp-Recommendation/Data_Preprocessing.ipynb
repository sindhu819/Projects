{
  "nbformat": 4,
  "nbformat_minor": 0,
  "metadata": {
    "colab": {
      "name": "Copy of Data Preprocessing.ipynb",
      "provenance": [],
      "collapsed_sections": [],
      "include_colab_link": true
    },
    "kernelspec": {
      "name": "python3",
      "display_name": "Python 3"
    },
    "accelerator": "TPU"
  },
  "cells": [
    {
      "cell_type": "markdown",
      "metadata": {
        "id": "view-in-github",
        "colab_type": "text"
      },
      "source": [
        "<a href=\"https://colab.research.google.com/github/sindhu819/Projects/blob/master/Data_Preprocessing.ipynb\" target=\"_parent\"><img src=\"https://colab.research.google.com/assets/colab-badge.svg\" alt=\"Open In Colab\"/></a>"
      ]
    },
    {
      "cell_type": "markdown",
      "metadata": {
        "id": "z9yotJeE_MLO",
        "colab_type": "text"
      },
      "source": [
        "## Installing Pyspark in google collab"
      ]
    },
    {
      "cell_type": "code",
      "metadata": {
        "id": "g930zZ6lr6K5",
        "colab_type": "code",
        "colab": {}
      },
      "source": [
        "!apt-get install openjdk-8-jdk-headless -qq > /dev/null"
      ],
      "execution_count": 0,
      "outputs": []
    },
    {
      "cell_type": "code",
      "metadata": {
        "id": "r0b95cw8r-8H",
        "colab_type": "code",
        "colab": {}
      },
      "source": [
        "!wget -q https://www-us.apache.org/dist/spark/spark-2.4.4/spark-2.4.4-bin-hadoop2.7.tgz"
      ],
      "execution_count": 0,
      "outputs": []
    },
    {
      "cell_type": "code",
      "metadata": {
        "id": "igNffbztsFC5",
        "colab_type": "code",
        "colab": {}
      },
      "source": [
        "!tar xf spark-2.4.4-bin-hadoop2.7.tgz"
      ],
      "execution_count": 0,
      "outputs": []
    },
    {
      "cell_type": "code",
      "metadata": {
        "id": "HTTUKqBGsI21",
        "colab_type": "code",
        "colab": {}
      },
      "source": [
        "!pip install -q findspark"
      ],
      "execution_count": 0,
      "outputs": []
    },
    {
      "cell_type": "code",
      "metadata": {
        "id": "72DcEGCXvhCo",
        "colab_type": "code",
        "colab": {}
      },
      "source": [
        "import findspark\n",
        "findspark.init(\"spark-2.4.4-bin-hadoop2.7\")# SPARK_HOME"
      ],
      "execution_count": 0,
      "outputs": []
    },
    {
      "cell_type": "code",
      "metadata": {
        "id": "A7c_R8oluRQq",
        "colab_type": "code",
        "colab": {}
      },
      "source": [
        "import os\n",
        "os.environ[\"JAVA_HOME\"] = \"/usr/lib/jvm/java-8-openjdk-amd64\"\n",
        "os.environ[\"SPARK_HOME\"] = \"/content/spark-2.4.4-bin-hadoop2.7\""
      ],
      "execution_count": 0,
      "outputs": []
    },
    {
      "cell_type": "markdown",
      "metadata": {
        "id": "IRIaCBLa_ZOp",
        "colab_type": "text"
      },
      "source": [
        "## Importing the required libraries"
      ]
    },
    {
      "cell_type": "code",
      "metadata": {
        "id": "638Q0nwOuYEe",
        "colab_type": "code",
        "colab": {}
      },
      "source": [
        "import numpy as np\n",
        "import pandas as pd\n",
        "import matplotlib.pyplot as plt\n",
        "%matplotlib inline\n",
        "\n",
        "import seaborn as sns\n",
        "sns.set(style=\"darkgrid\")\n",
        "\n",
        "from pyspark.ml.linalg import DenseVector\n",
        "\n",
        "from pyspark.ml import Pipeline\n",
        "from pyspark.sql.functions import *\n",
        "from pyspark.sql.types import *\n",
        "\n",
        "from operator import add\n",
        "from pyspark.ml.feature import RegexTokenizer, CountVectorizer\n",
        "from pyspark.ml.feature import StopWordsRemover\n",
        "from pyspark.ml.feature import HashingTF, IDF\n",
        "from pyspark.ml.feature import Word2Vec, Word2VecModel\n",
        "\n",
        "from pyspark.ml.clustering import LDA, LDAModel, LocalLDAModel\n",
        "\n",
        "from wordcloud import WordCloud\n",
        "\n",
        "\n"
      ],
      "execution_count": 0,
      "outputs": []
    },
    {
      "cell_type": "code",
      "metadata": {
        "id": "TtNZidN0K1FQ",
        "colab_type": "code",
        "outputId": "86f16e0c-fc21-4482-b212-ffe5363f5457",
        "colab": {
          "base_uri": "https://localhost:8080/",
          "height": 122
        }
      },
      "source": [
        "from google.colab import drive\n",
        "drive.mount('/content/drive',force_remount=True)"
      ],
      "execution_count": 0,
      "outputs": [
        {
          "output_type": "stream",
          "text": [
            "Go to this URL in a browser: https://accounts.google.com/o/oauth2/auth?client_id=947318989803-6bn6qk8qdgf4n4g3pfee6491hc0brc4i.apps.googleusercontent.com&redirect_uri=urn%3Aietf%3Awg%3Aoauth%3A2.0%3Aoob&scope=email%20https%3A%2F%2Fwww.googleapis.com%2Fauth%2Fdocs.test%20https%3A%2F%2Fwww.googleapis.com%2Fauth%2Fdrive%20https%3A%2F%2Fwww.googleapis.com%2Fauth%2Fdrive.photos.readonly%20https%3A%2F%2Fwww.googleapis.com%2Fauth%2Fpeopleapi.readonly&response_type=code\n",
            "\n",
            "Enter your authorization code:\n",
            "··········\n",
            "Mounted at /content/drive\n"
          ],
          "name": "stdout"
        }
      ]
    },
    {
      "cell_type": "code",
      "metadata": {
        "id": "r7aUiVFM-SFy",
        "colab_type": "code",
        "colab": {}
      },
      "source": [
        "import findspark\n",
        "findspark.init()\n",
        "from pyspark.sql import SparkSession\n",
        "spark = SparkSession.builder.master(\"local[*]\").getOrCreate()"
      ],
      "execution_count": 0,
      "outputs": []
    },
    {
      "cell_type": "markdown",
      "metadata": {
        "id": "9QAuTCe9zALw",
        "colab_type": "text"
      },
      "source": [
        "importing the data google drive"
      ]
    },
    {
      "cell_type": "code",
      "metadata": {
        "id": "Zw6hA_l8ubyY",
        "colab_type": "code",
        "outputId": "72deab1a-7d6e-4e44-ece4-be3488aa4f60",
        "colab": {
          "base_uri": "https://localhost:8080/",
          "height": 34
        }
      },
      "source": [
        "from google.colab import drive\n",
        "drive.mount('/content/drive')\n"
      ],
      "execution_count": 0,
      "outputs": [
        {
          "output_type": "stream",
          "text": [
            "Drive already mounted at /content/drive; to attempt to forcibly remount, call drive.mount(\"/content/drive\", force_remount=True).\n"
          ],
          "name": "stdout"
        }
      ]
    },
    {
      "cell_type": "markdown",
      "metadata": {
        "id": "hjp0TJ9g3pDM",
        "colab_type": "text"
      },
      "source": [
        "## Reading the Dataset from  Google Drive to python"
      ]
    },
    {
      "cell_type": "code",
      "metadata": {
        "id": "Ltqbismmz2CS",
        "colab_type": "code",
        "colab": {}
      },
      "source": [
        "file=r'drive/My Drive/Dataset/Yelp_Business.csv'\n",
        "business=pd.read_csv(file)"
      ],
      "execution_count": 0,
      "outputs": []
    },
    {
      "cell_type": "code",
      "metadata": {
        "id": "dAEx6p8Vz5Oo",
        "colab_type": "code",
        "colab": {}
      },
      "source": [
        "file1=r'drive/My Drive/Dataset/Yelp_Users.csv'\n",
        "users=pd.read_csv(file1)"
      ],
      "execution_count": 0,
      "outputs": []
    },
    {
      "cell_type": "markdown",
      "metadata": {
        "id": "YPp_oO8--a05",
        "colab_type": "text"
      },
      "source": [
        "## Reading the CSV files inside spark"
      ]
    },
    {
      "cell_type": "markdown",
      "metadata": {
        "id": "57sVQ7_YzYUu",
        "colab_type": "text"
      },
      "source": [
        "# Business"
      ]
    },
    {
      "cell_type": "code",
      "metadata": {
        "id": "76NNqVCe7y5b",
        "colab_type": "code",
        "colab": {}
      },
      "source": [
        "business_df = spark.read.csv(file,header=True)"
      ],
      "execution_count": 0,
      "outputs": []
    },
    {
      "cell_type": "code",
      "metadata": {
        "id": "5cD635g78MXU",
        "colab_type": "code",
        "outputId": "a92df0ee-0ee8-433b-b645-1c8ea7dda31a",
        "colab": {
          "base_uri": "https://localhost:8080/",
          "height": 238
        }
      },
      "source": [
        "# check the dataframe schema\n",
        "\n",
        "business_df.printSchema()"
      ],
      "execution_count": 0,
      "outputs": [
        {
          "output_type": "stream",
          "text": [
            "root\n",
            " |-- business_id: string (nullable = true)\n",
            " |-- business_name: string (nullable = true)\n",
            " |-- address: string (nullable = true)\n",
            " |-- city: string (nullable = true)\n",
            " |-- state: string (nullable = true)\n",
            " |-- postal_code: string (nullable = true)\n",
            " |-- latitude: string (nullable = true)\n",
            " |-- longitude: string (nullable = true)\n",
            " |-- stars: string (nullable = true)\n",
            " |-- review_count: string (nullable = true)\n",
            " |-- categories: string (nullable = true)\n",
            "\n"
          ],
          "name": "stdout"
        }
      ]
    },
    {
      "cell_type": "code",
      "metadata": {
        "id": "C9X5-V1n9cpF",
        "colab_type": "code",
        "outputId": "f35df958-e78f-41d1-dee7-0d02826a2ce3",
        "colab": {
          "base_uri": "https://localhost:8080/",
          "height": 479
        }
      },
      "source": [
        "# display 10 records\n",
        "\n",
        "business_df.show(20)"
      ],
      "execution_count": 0,
      "outputs": [
        {
          "output_type": "stream",
          "text": [
            "+--------------------+--------------------+--------------------+---------+-----+-----------+-------------+---------------+-----+------------+--------------------+\n",
            "|         business_id|       business_name|             address|     city|state|postal_code|     latitude|      longitude|stars|review_count|          categories|\n",
            "+--------------------+--------------------+--------------------+---------+-----+-----------+-------------+---------------+-----+------------+--------------------+\n",
            "|PZ-LZzSlhSe9utkQY...|Carluccio's Tivol...|1775 E Tropicana ...|Las Vegas|   NV|      89119|   36.1000163|   -115.1285285|  4.0|          40|Restaurants, Italian|\n",
            "|tstimHoMcYbkSC4eB...|Maria's Mexican R...|6055 E Lake Mead ...|Las Vegas|   NV|      89156|   36.1956146|   -115.0405289|  4.5|         184|Mexican, Restaura...|\n",
            "|kANF0dbeoW34s2vwh...|         Dairy Queen|6125 Spring Mount...|Las Vegas|   NV|      89146|   36.1250311|   -115.2256202|  2.0|          33|Fast Food, Food, ...|\n",
            "|X8mtoSxY8whtmbDlj...|Imperial Asian Bu...|    4343 N Rancho Dr|Las Vegas|   NV|      89030|    36.238596|   -115.2333307|  2.0|           4|Restaurants, Chinese|\n",
            "|bJP4l_BGq2CudEu0m...|Artisan Fine Dini...|Artisan Hotel, 15...|Las Vegas|   NV|      89102|   36.1436722|   -115.1697916|  2.0|           3|Restaurants, Pizz...|\n",
            "|v7ZFEEqJBg_r8NCwH...|       Bistro Divino|241 W Charleston ...|Las Vegas|   NV|      89102|   36.1582642|   -115.1579672|  4.5|           3|Food, Pizza, Wine...|\n",
            "|6fPQJq4f_yiq1NHn0...|         La Creperie|3655 Las Vegas Bl...|Las Vegas|   NV|      89109|36.1125266402|-115.1713514328|  3.5|         535|French, Restauran...|\n",
            "|k-dDZvTeLysoJvjHI...|        Feast Buffet|   2411 W Sahara Ave|Las Vegas|   NV|      89102|36.1421161808|-115.1742515629|  3.0|         287|Buffets, Restaurants|\n",
            "|4n81G-pmC3rfhmaPs...|Vince Neil's Tatu...| 360 E Tropicana Ave|Las Vegas|   NV|      89169|36.1020497898|   -115.1562883|  4.5|           3|Bars, Sports Bars...|\n",
            "|PWjgwphd2prhtqTPW...|Stage Deli Of Las...|3500 Las Vegas Bl...|Las Vegas|   NV|      89109|   36.1173267|   -115.1765011|  3.5|          28|Sandwiches, Resta...|\n",
            "|eY98EH_PHGnJVaJ7t...|            Pita Pit|1263 Silverado Ra...|Las Vegas|   NV|      89183|    36.012764|    -115.136056|  4.0|          77|Middle Eastern, R...|\n",
            "|iwGhazq9eP51PSerT...|   Mr G's Pub & Grub|3342 E Sandhill R...|Las Vegas|   NV|      89121|   36.1290404|   -115.0912939|  4.0|          27|Dive Bars, Food, ...|\n",
            "|0G83H_zoum-Q4bWU2...|Bonjour Bakery & ...|4012 S Rainbow Bl...|Las Vegas|   NV|      89103|   36.1161693|   -115.2418516|  4.5|          39|Restaurants, Food...|\n",
            "|xXtWrRKn8A708BfaN...|  Coffee, Tea, or Me|2600 W Sahara Ave...|Las Vegas|   NV|      89102|   36.1452198|   -115.1766512|  4.0|          19|Sandwiches, Juice...|\n",
            "|wdsGP5rJinx0J5GcG...|     TJ's Steakhouse|    3000 Paradise Rd|Las Vegas|   NV|      89109|   36.1362575|   -115.1512526|  4.0|          60|Steakhouses, Rest...|\n",
            "|SZ5KO1KNiwtrktKo5...|       Empress Court| 3570 Las Vegas Blvd|Las Vegas|   NV|      89109|   36.1161559|   -115.1750576|  3.5|          21|Seafood, Chinese,...|\n",
            "|LEOvXK3lMEfjnex3C...|Albinas Italian A...|3035 E Tropicana Ave|Las Vegas|   NV|      89121|   36.0992176|   -115.1096599|  4.5|          11|Food, Bakeries, R...|\n",
            "|k2b3niokS_tosjah_...|         Metro Pizza|  6720 Sky Pointe Dr|Las Vegas|   NV|      89131|   36.2836689|   -115.2702841|  3.5|         303|  Restaurants, Pizza|\n",
            "|dusNIzdCaH6EoLl2h...|Chipotle Mexican ...|3475 Las Vegas Bl...|Las Vegas|   NV|      89109|    36.120095|    -115.171769|  3.5|         115|Fast Food, Mexica...|\n",
            "|CTN5Z3fs3jFHfyma8...|Paradise Boba Tea...|1910 Village Cent...|Las Vegas|   NV|      89134|   36.1931903|   -115.3037626|  3.5|          21|Restaurants, Food...|\n",
            "+--------------------+--------------------+--------------------+---------+-----+-----------+-------------+---------------+-----+------------+--------------------+\n",
            "only showing top 20 rows\n",
            "\n"
          ],
          "name": "stdout"
        }
      ]
    },
    {
      "cell_type": "code",
      "metadata": {
        "id": "G3Dw38wHzPuL",
        "colab_type": "code",
        "outputId": "a0f38d65-23c6-4e2c-d9fc-6f951eaacb03",
        "colab": {
          "base_uri": "https://localhost:8080/",
          "height": 34
        }
      },
      "source": [
        "business_df.count()\n"
      ],
      "execution_count": 0,
      "outputs": [
        {
          "output_type": "execute_result",
          "data": {
            "text/plain": [
              "5909"
            ]
          },
          "metadata": {
            "tags": []
          },
          "execution_count": 17
        }
      ]
    },
    {
      "cell_type": "code",
      "metadata": {
        "id": "DJ0t2eIpztKV",
        "colab_type": "code",
        "colab": {}
      },
      "source": [
        "#creating the rdd\n",
        "business_rdd = business_df.rdd"
      ],
      "execution_count": 0,
      "outputs": []
    },
    {
      "cell_type": "code",
      "metadata": {
        "id": "WgylPxksz3D-",
        "colab_type": "code",
        "outputId": "cf953d4b-cdb9-4c4f-8da6-f1160e708f88",
        "colab": {
          "base_uri": "https://localhost:8080/",
          "height": 71
        }
      },
      "source": [
        "#display two records from rdd\n",
        "business_rdd.take(2)"
      ],
      "execution_count": 0,
      "outputs": [
        {
          "output_type": "execute_result",
          "data": {
            "text/plain": [
              "[Row(business_id='PZ-LZzSlhSe9utkQYU8pFg', business_name=\"Carluccio's Tivoli Gardens\", address='1775 E Tropicana Ave, Ste 29', city='Las Vegas', state='NV', postal_code='89119', latitude='36.1000163', longitude='-115.1285285', stars='4.0', review_count='40', categories='Restaurants, Italian'),\n",
              " Row(business_id='tstimHoMcYbkSC4eBA1wEg', business_name=\"Maria's Mexican Restaurant & Bakery\", address='6055 E Lake Mead Blvd', city='Las Vegas', state='NV', postal_code='89156', latitude='36.1956146', longitude='-115.0405289', stars='4.5', review_count='184', categories='Mexican, Restaurants, Patisserie/Cake Shop, Food, Bars, Nightlife')]"
            ]
          },
          "metadata": {
            "tags": []
          },
          "execution_count": 19
        }
      ]
    },
    {
      "cell_type": "code",
      "metadata": {
        "id": "GyWEabQP0OXR",
        "colab_type": "code",
        "colab": {}
      },
      "source": [
        "# create a temporary view to be used in SQL queries\n",
        "business_df.createOrReplaceTempView(\"businesses\")"
      ],
      "execution_count": 0,
      "outputs": []
    },
    {
      "cell_type": "code",
      "metadata": {
        "id": "wL0wXj3R2cqD",
        "colab_type": "code",
        "outputId": "a82d1d60-fa94-45ca-e1f9-9ea478912c7e",
        "colab": {
          "base_uri": "https://localhost:8080/",
          "height": 1000
        }
      },
      "source": [
        "\n",
        "# test SQL query: check some best reviewed restaurants\n",
        "\n",
        "query = \"\"\"\n",
        "SELECT * FROM businesses ORDER BY stars DESC, review_count DESC LIMIT 30\n",
        "\"\"\"\n",
        "\n",
        "# convert the result to Pandas dataframe\n",
        "spark.sql(query).toPandas()"
      ],
      "execution_count": 0,
      "outputs": [
        {
          "output_type": "execute_result",
          "data": {
            "text/html": [
              "<div>\n",
              "<style scoped>\n",
              "    .dataframe tbody tr th:only-of-type {\n",
              "        vertical-align: middle;\n",
              "    }\n",
              "\n",
              "    .dataframe tbody tr th {\n",
              "        vertical-align: top;\n",
              "    }\n",
              "\n",
              "    .dataframe thead th {\n",
              "        text-align: right;\n",
              "    }\n",
              "</style>\n",
              "<table border=\"1\" class=\"dataframe\">\n",
              "  <thead>\n",
              "    <tr style=\"text-align: right;\">\n",
              "      <th></th>\n",
              "      <th>business_id</th>\n",
              "      <th>business_name</th>\n",
              "      <th>address</th>\n",
              "      <th>city</th>\n",
              "      <th>state</th>\n",
              "      <th>postal_code</th>\n",
              "      <th>latitude</th>\n",
              "      <th>longitude</th>\n",
              "      <th>stars</th>\n",
              "      <th>review_count</th>\n",
              "      <th>categories</th>\n",
              "    </tr>\n",
              "  </thead>\n",
              "  <tbody>\n",
              "    <tr>\n",
              "      <th>0</th>\n",
              "      <td>k9b96JXlNewj36ddrce9Jw</td>\n",
              "      <td>Garden Grill</td>\n",
              "      <td>302 S Rampart Blvd</td>\n",
              "      <td>Las Vegas</td>\n",
              "      <td>NV</td>\n",
              "      <td>89145</td>\n",
              "      <td>36.1667834</td>\n",
              "      <td>-115.2861968</td>\n",
              "      <td>5.0</td>\n",
              "      <td>94</td>\n",
              "      <td>Restaurants, Farmers Market, Street Vendors, M...</td>\n",
              "    </tr>\n",
              "    <tr>\n",
              "      <th>1</th>\n",
              "      <td>J0PP9Yfzzw4-WyiZQ0JTwA</td>\n",
              "      <td>Arepa Xpress</td>\n",
              "      <td>2535 S Torrey Pines Dr</td>\n",
              "      <td>Las Vegas</td>\n",
              "      <td>NV</td>\n",
              "      <td>89146</td>\n",
              "      <td>36.143203</td>\n",
              "      <td>-115.2344</td>\n",
              "      <td>5.0</td>\n",
              "      <td>9</td>\n",
              "      <td>Restaurants, Food Stands, Street Vendors, Colo...</td>\n",
              "    </tr>\n",
              "    <tr>\n",
              "      <th>2</th>\n",
              "      <td>hllCtf6_B6D5JhM_dOK81A</td>\n",
              "      <td>Stage LV</td>\n",
              "      <td>9010 W Flamingo Rd</td>\n",
              "      <td>Las Vegas</td>\n",
              "      <td>NV</td>\n",
              "      <td>89147</td>\n",
              "      <td>36.115461</td>\n",
              "      <td>-115.2885276</td>\n",
              "      <td>5.0</td>\n",
              "      <td>9</td>\n",
              "      <td>Food Trucks, Food, Restaurants, Breakfast &amp; Br...</td>\n",
              "    </tr>\n",
              "    <tr>\n",
              "      <th>3</th>\n",
              "      <td>ZkJRO4nYlINnXpNlR-jN6A</td>\n",
              "      <td>The Green Regime</td>\n",
              "      <td>8751 W Charleston, Ste 120</td>\n",
              "      <td>Las Vegas</td>\n",
              "      <td>NV</td>\n",
              "      <td>89117</td>\n",
              "      <td>36.1576031</td>\n",
              "      <td>-115.2860645</td>\n",
              "      <td>5.0</td>\n",
              "      <td>9</td>\n",
              "      <td>Juice Bars &amp; Smoothies, Restaurants, Sandwiche...</td>\n",
              "    </tr>\n",
              "    <tr>\n",
              "      <th>4</th>\n",
              "      <td>7hWNnAj4VwK6FAUBN8E8lg</td>\n",
              "      <td>EDO Gastro Tapas &amp; Wine</td>\n",
              "      <td>3400 S Jones Blvd, Ste 11A</td>\n",
              "      <td>Las Vegas</td>\n",
              "      <td>NV</td>\n",
              "      <td>89146</td>\n",
              "      <td>36.1273969</td>\n",
              "      <td>-115.2240685</td>\n",
              "      <td>5.0</td>\n",
              "      <td>85</td>\n",
              "      <td>Spanish, Tapas/Small Plates, Restaurants</td>\n",
              "    </tr>\n",
              "    <tr>\n",
              "      <th>5</th>\n",
              "      <td>L_rnF5qiCYSu9d1yIv5Cvw</td>\n",
              "      <td>Soul Food Cafe Express</td>\n",
              "      <td>None</td>\n",
              "      <td>Las Vegas</td>\n",
              "      <td>NV</td>\n",
              "      <td>89120</td>\n",
              "      <td>36.0833352</td>\n",
              "      <td>-115.0999753</td>\n",
              "      <td>5.0</td>\n",
              "      <td>8</td>\n",
              "      <td>Specialty Food, Soul Food, Food Trucks, Ethnic...</td>\n",
              "    </tr>\n",
              "    <tr>\n",
              "      <th>6</th>\n",
              "      <td>BW8xfC2Vxd-DnjB7UNpJ-Q</td>\n",
              "      <td>Yummy Chinese restaurant</td>\n",
              "      <td>4825 S Rainbow Blvd, Ste 205</td>\n",
              "      <td>Las Vegas</td>\n",
              "      <td>NV</td>\n",
              "      <td>89103</td>\n",
              "      <td>36.1008769</td>\n",
              "      <td>-115.2445968</td>\n",
              "      <td>5.0</td>\n",
              "      <td>8</td>\n",
              "      <td>Restaurants, Chinese</td>\n",
              "    </tr>\n",
              "    <tr>\n",
              "      <th>7</th>\n",
              "      <td>EUskCVPgHoIGl3Ao0VUNLA</td>\n",
              "      <td>Fernandez Hot-Dogs</td>\n",
              "      <td>1959 E Charleston Blvd</td>\n",
              "      <td>Las Vegas</td>\n",
              "      <td>NV</td>\n",
              "      <td>89104</td>\n",
              "      <td>36.1589789702</td>\n",
              "      <td>-115.1222431032</td>\n",
              "      <td>5.0</td>\n",
              "      <td>8</td>\n",
              "      <td>Food, Hot Dogs, Restaurants, Food Trucks</td>\n",
              "    </tr>\n",
              "    <tr>\n",
              "      <th>8</th>\n",
              "      <td>OWkS1FXNJbozn-qPg3LWxg</td>\n",
              "      <td>Mama Napoli Pizza</td>\n",
              "      <td>None</td>\n",
              "      <td>Las Vegas</td>\n",
              "      <td>NV</td>\n",
              "      <td>89109</td>\n",
              "      <td>36.128561</td>\n",
              "      <td>-115.1711298</td>\n",
              "      <td>5.0</td>\n",
              "      <td>8</td>\n",
              "      <td>Food, Food Trucks, Restaurants, Pizza</td>\n",
              "    </tr>\n",
              "    <tr>\n",
              "      <th>9</th>\n",
              "      <td>WhYep5bRqXpaejOTH6ukbw</td>\n",
              "      <td>Subwich Alley</td>\n",
              "      <td>9010 W Flamingo Rd, Ste A</td>\n",
              "      <td>Las Vegas</td>\n",
              "      <td>NV</td>\n",
              "      <td>89147</td>\n",
              "      <td>36.1155109</td>\n",
              "      <td>-115.2885083</td>\n",
              "      <td>5.0</td>\n",
              "      <td>7</td>\n",
              "      <td>Burgers, Restaurants, Sandwiches, Chicken Wings</td>\n",
              "    </tr>\n",
              "    <tr>\n",
              "      <th>10</th>\n",
              "      <td>GP7_e6cbOd17ASWcJ0_FSQ</td>\n",
              "      <td>Assa Karaoke</td>\n",
              "      <td>953 E Sahara Ave, Ste 21</td>\n",
              "      <td>Las Vegas</td>\n",
              "      <td>NV</td>\n",
              "      <td>89104</td>\n",
              "      <td>36.1436635477</td>\n",
              "      <td>-115.1418907195</td>\n",
              "      <td>5.0</td>\n",
              "      <td>7</td>\n",
              "      <td>Food, Nightlife, Karaoke, Restaurants, Korean</td>\n",
              "    </tr>\n",
              "    <tr>\n",
              "      <th>11</th>\n",
              "      <td>9qAGif3XfRlJ83GJBbDNOQ</td>\n",
              "      <td>Viet Kitchen</td>\n",
              "      <td>4821 Spring Mountain Rd, Ste C</td>\n",
              "      <td>Las Vegas</td>\n",
              "      <td>NV</td>\n",
              "      <td>89102</td>\n",
              "      <td>36.1262617</td>\n",
              "      <td>-115.2070894</td>\n",
              "      <td>5.0</td>\n",
              "      <td>7</td>\n",
              "      <td>Vietnamese, Food, Restaurants</td>\n",
              "    </tr>\n",
              "    <tr>\n",
              "      <th>12</th>\n",
              "      <td>QCbptr697vAb630rIq9gUQ</td>\n",
              "      <td>Winter In July - A Pop-Up Lunch with Yonaka an...</td>\n",
              "      <td>4983 W Flamingo Rd</td>\n",
              "      <td>Las Vegas</td>\n",
              "      <td>NV</td>\n",
              "      <td>89103</td>\n",
              "      <td>36.1149052</td>\n",
              "      <td>-115.2097436</td>\n",
              "      <td>5.0</td>\n",
              "      <td>7</td>\n",
              "      <td>Chinese, Local Flavor, Japanese, Restaurants</td>\n",
              "    </tr>\n",
              "    <tr>\n",
              "      <th>13</th>\n",
              "      <td>hFT3HuxVZJb1uYEsYfp-0A</td>\n",
              "      <td>Blaqcat Ultra Hookah Lounge</td>\n",
              "      <td>6340 W Charleston Blvd, Ste 140</td>\n",
              "      <td>Las Vegas</td>\n",
              "      <td>NV</td>\n",
              "      <td>89146</td>\n",
              "      <td>36.1597422739</td>\n",
              "      <td>-115.2327381201</td>\n",
              "      <td>5.0</td>\n",
              "      <td>68</td>\n",
              "      <td>Mediterranean, Restaurants, Bars, Nightlife, A...</td>\n",
              "    </tr>\n",
              "    <tr>\n",
              "      <th>14</th>\n",
              "      <td>VONg0lyHm7fUdARWjkkjCQ</td>\n",
              "      <td>Las Enchiladas Demama</td>\n",
              "      <td>2250 E Tropicana Ave, Ste 20</td>\n",
              "      <td>Las Vegas</td>\n",
              "      <td>NV</td>\n",
              "      <td>89119</td>\n",
              "      <td>36.1013621</td>\n",
              "      <td>-115.1203282</td>\n",
              "      <td>5.0</td>\n",
              "      <td>66</td>\n",
              "      <td>Restaurants, Mexican</td>\n",
              "    </tr>\n",
              "    <tr>\n",
              "      <th>15</th>\n",
              "      <td>Fmij544FE1iOruoxI41kew</td>\n",
              "      <td>Pepito Shack</td>\n",
              "      <td>1516 S Las Vegas Blvd</td>\n",
              "      <td>Las Vegas</td>\n",
              "      <td>NV</td>\n",
              "      <td>89104</td>\n",
              "      <td>36.1524769658</td>\n",
              "      <td>-115.1519448544</td>\n",
              "      <td>5.0</td>\n",
              "      <td>65</td>\n",
              "      <td>Hot Dogs, Restaurants, Burgers, Food Stands, S...</td>\n",
              "    </tr>\n",
              "    <tr>\n",
              "      <th>16</th>\n",
              "      <td>dNqGe41LcgctWZbV5uerog</td>\n",
              "      <td>J Sake Bar</td>\n",
              "      <td>4459 W Flamingo Rd</td>\n",
              "      <td>Las Vegas</td>\n",
              "      <td>NV</td>\n",
              "      <td>89103</td>\n",
              "      <td>36.114876405</td>\n",
              "      <td>-115.2014500798</td>\n",
              "      <td>5.0</td>\n",
              "      <td>6</td>\n",
              "      <td>Japanese, Bars, Nightlife, Restaurants</td>\n",
              "    </tr>\n",
              "    <tr>\n",
              "      <th>17</th>\n",
              "      <td>e53Fsnz4uf6seDeU7Q328g</td>\n",
              "      <td>El Camaron Jarocho</td>\n",
              "      <td>4005 E Desert Inn Rd</td>\n",
              "      <td>Las Vegas</td>\n",
              "      <td>NV</td>\n",
              "      <td>89121</td>\n",
              "      <td>36.1292023</td>\n",
              "      <td>-115.0875118</td>\n",
              "      <td>5.0</td>\n",
              "      <td>6</td>\n",
              "      <td>Seafood, Restaurants, Mexican</td>\n",
              "    </tr>\n",
              "    <tr>\n",
              "      <th>18</th>\n",
              "      <td>fs5MuKWT28LAa8ql_mq43g</td>\n",
              "      <td>Bar Sake &amp; Robata Grill</td>\n",
              "      <td>3000 Paradise Rd</td>\n",
              "      <td>Las Vegas</td>\n",
              "      <td>NV</td>\n",
              "      <td>89109</td>\n",
              "      <td>36.1362611</td>\n",
              "      <td>-115.1512539</td>\n",
              "      <td>5.0</td>\n",
              "      <td>6</td>\n",
              "      <td>Sushi Bars, Nightlife, Cocktail Bars, Bars, Ja...</td>\n",
              "    </tr>\n",
              "    <tr>\n",
              "      <th>19</th>\n",
              "      <td>ix1F1ekB5RrFG3FRe0_zpA</td>\n",
              "      <td>Lloyd George U.S. Courthouse</td>\n",
              "      <td>333 Las Vegas Blvd S, Ste 2058</td>\n",
              "      <td>Las Vegas</td>\n",
              "      <td>NV</td>\n",
              "      <td>89101</td>\n",
              "      <td>36.166357</td>\n",
              "      <td>-115.1427173</td>\n",
              "      <td>5.0</td>\n",
              "      <td>6</td>\n",
              "      <td>Courthouses, American (Traditional), Restauran...</td>\n",
              "    </tr>\n",
              "    <tr>\n",
              "      <th>20</th>\n",
              "      <td>kGqNxTmtKoax_jaStzAuWA</td>\n",
              "      <td>Vegas Veg Fest</td>\n",
              "      <td>Clark County Amphitheater</td>\n",
              "      <td>Las Vegas</td>\n",
              "      <td>NV</td>\n",
              "      <td>89155</td>\n",
              "      <td>36.1660823087</td>\n",
              "      <td>-115.1532251247</td>\n",
              "      <td>5.0</td>\n",
              "      <td>6</td>\n",
              "      <td>Restaurants, Arts &amp; Entertainment, Vegetarian,...</td>\n",
              "    </tr>\n",
              "    <tr>\n",
              "      <th>21</th>\n",
              "      <td>EhdkogSUSDLx5JufCAtm8A</td>\n",
              "      <td>Yellowfin Sushi &amp; Grill</td>\n",
              "      <td>3025 Industrial Rd</td>\n",
              "      <td>Las Vegas</td>\n",
              "      <td>NV</td>\n",
              "      <td>89109</td>\n",
              "      <td>36.135076</td>\n",
              "      <td>-115.17135</td>\n",
              "      <td>5.0</td>\n",
              "      <td>6</td>\n",
              "      <td>Japanese, Seafood, Restaurants, Sushi Bars</td>\n",
              "    </tr>\n",
              "    <tr>\n",
              "      <th>22</th>\n",
              "      <td>tfg08x88Mr4nEr8_bVal7w</td>\n",
              "      <td>Restaurante Guadalajara</td>\n",
              "      <td>1725 N Nellis Blvd</td>\n",
              "      <td>Las Vegas</td>\n",
              "      <td>NV</td>\n",
              "      <td>89115</td>\n",
              "      <td>36.190844065</td>\n",
              "      <td>-115.0624061587</td>\n",
              "      <td>5.0</td>\n",
              "      <td>6</td>\n",
              "      <td>Restaurants, Vegetarian, Seafood, Mexican</td>\n",
              "    </tr>\n",
              "    <tr>\n",
              "      <th>23</th>\n",
              "      <td>B7wVtgjOxkFNOoD6S11Urw</td>\n",
              "      <td>Flowing Tide Pub 6</td>\n",
              "      <td>4680 S Decatur Blvd</td>\n",
              "      <td>Las Vegas</td>\n",
              "      <td>NV</td>\n",
              "      <td>89103</td>\n",
              "      <td>36.1045481</td>\n",
              "      <td>-115.2074885</td>\n",
              "      <td>5.0</td>\n",
              "      <td>53</td>\n",
              "      <td>Pubs, Breakfast &amp; Brunch, Sandwiches, Restaura...</td>\n",
              "    </tr>\n",
              "    <tr>\n",
              "      <th>24</th>\n",
              "      <td>YD0hmHv_DaREDENhTb2Pnw</td>\n",
              "      <td>La Cantine</td>\n",
              "      <td>3250 N Tenaya Way, Ste 104</td>\n",
              "      <td>Las Vegas</td>\n",
              "      <td>NV</td>\n",
              "      <td>89129</td>\n",
              "      <td>36.2198750347</td>\n",
              "      <td>-115.2506966928</td>\n",
              "      <td>5.0</td>\n",
              "      <td>50</td>\n",
              "      <td>Bakeries, Sandwiches, Vegan, Cafes, Fast Food,...</td>\n",
              "    </tr>\n",
              "    <tr>\n",
              "      <th>25</th>\n",
              "      <td>893VryJbZcCm5V9xon_aLA</td>\n",
              "      <td>Those Guys Pies</td>\n",
              "      <td>3369 Thom Blvd, rose grilled</td>\n",
              "      <td>Las Vegas</td>\n",
              "      <td>NV</td>\n",
              "      <td>89130</td>\n",
              "      <td>36.2200387</td>\n",
              "      <td>-115.2123514</td>\n",
              "      <td>5.0</td>\n",
              "      <td>5</td>\n",
              "      <td>Pizza, Restaurants, Sandwiches, American (New)...</td>\n",
              "    </tr>\n",
              "    <tr>\n",
              "      <th>26</th>\n",
              "      <td>Y-a5L1u8jAuoJLdh25UnQA</td>\n",
              "      <td>702 Karaoke</td>\n",
              "      <td>4240 Spring Mt Rd Suit 104</td>\n",
              "      <td>Las Vegas</td>\n",
              "      <td>NV</td>\n",
              "      <td>89102</td>\n",
              "      <td>36.1268216</td>\n",
              "      <td>-115.196836</td>\n",
              "      <td>5.0</td>\n",
              "      <td>5</td>\n",
              "      <td>Restaurants, Korean, Karaoke, Nightlife</td>\n",
              "    </tr>\n",
              "    <tr>\n",
              "      <th>27</th>\n",
              "      <td>crGdKSRKi25R2vorZ7skzg</td>\n",
              "      <td>Tortilleria San Diego</td>\n",
              "      <td>235 N Eastern Ave</td>\n",
              "      <td>Las Vegas</td>\n",
              "      <td>NV</td>\n",
              "      <td>89101</td>\n",
              "      <td>36.1655739</td>\n",
              "      <td>-115.1169315</td>\n",
              "      <td>5.0</td>\n",
              "      <td>5</td>\n",
              "      <td>Mexican, Restaurants</td>\n",
              "    </tr>\n",
              "    <tr>\n",
              "      <th>28</th>\n",
              "      <td>d4Mw96Hb6ZoHEL2AxqGrbg</td>\n",
              "      <td>Ice House America</td>\n",
              "      <td>1735 E Warm Springs Rd</td>\n",
              "      <td>Las Vegas</td>\n",
              "      <td>NV</td>\n",
              "      <td>89119</td>\n",
              "      <td>36.0571893991</td>\n",
              "      <td>-115.1285106099</td>\n",
              "      <td>5.0</td>\n",
              "      <td>5</td>\n",
              "      <td>Food, Restaurants, American (New), Local Services</td>\n",
              "    </tr>\n",
              "    <tr>\n",
              "      <th>29</th>\n",
              "      <td>JDv3HcmwK0cPkRa0-2aP4Q</td>\n",
              "      <td>B's Smokehouse Bbq</td>\n",
              "      <td>9316 S Durango Dr</td>\n",
              "      <td>Las Vegas</td>\n",
              "      <td>NV</td>\n",
              "      <td>89178</td>\n",
              "      <td>36.0194241518</td>\n",
              "      <td>-115.2792438778</td>\n",
              "      <td>5.0</td>\n",
              "      <td>5</td>\n",
              "      <td>Food, Barbeque, Street Vendors, Restaurants, F...</td>\n",
              "    </tr>\n",
              "  </tbody>\n",
              "</table>\n",
              "</div>"
            ],
            "text/plain": [
              "               business_id  ...                                         categories\n",
              "0   k9b96JXlNewj36ddrce9Jw  ...  Restaurants, Farmers Market, Street Vendors, M...\n",
              "1   J0PP9Yfzzw4-WyiZQ0JTwA  ...  Restaurants, Food Stands, Street Vendors, Colo...\n",
              "2   hllCtf6_B6D5JhM_dOK81A  ...  Food Trucks, Food, Restaurants, Breakfast & Br...\n",
              "3   ZkJRO4nYlINnXpNlR-jN6A  ...  Juice Bars & Smoothies, Restaurants, Sandwiche...\n",
              "4   7hWNnAj4VwK6FAUBN8E8lg  ...           Spanish, Tapas/Small Plates, Restaurants\n",
              "5   L_rnF5qiCYSu9d1yIv5Cvw  ...  Specialty Food, Soul Food, Food Trucks, Ethnic...\n",
              "6   BW8xfC2Vxd-DnjB7UNpJ-Q  ...                               Restaurants, Chinese\n",
              "7   EUskCVPgHoIGl3Ao0VUNLA  ...           Food, Hot Dogs, Restaurants, Food Trucks\n",
              "8   OWkS1FXNJbozn-qPg3LWxg  ...              Food, Food Trucks, Restaurants, Pizza\n",
              "9   WhYep5bRqXpaejOTH6ukbw  ...    Burgers, Restaurants, Sandwiches, Chicken Wings\n",
              "10  GP7_e6cbOd17ASWcJ0_FSQ  ...      Food, Nightlife, Karaoke, Restaurants, Korean\n",
              "11  9qAGif3XfRlJ83GJBbDNOQ  ...                      Vietnamese, Food, Restaurants\n",
              "12  QCbptr697vAb630rIq9gUQ  ...       Chinese, Local Flavor, Japanese, Restaurants\n",
              "13  hFT3HuxVZJb1uYEsYfp-0A  ...  Mediterranean, Restaurants, Bars, Nightlife, A...\n",
              "14  VONg0lyHm7fUdARWjkkjCQ  ...                               Restaurants, Mexican\n",
              "15  Fmij544FE1iOruoxI41kew  ...  Hot Dogs, Restaurants, Burgers, Food Stands, S...\n",
              "16  dNqGe41LcgctWZbV5uerog  ...             Japanese, Bars, Nightlife, Restaurants\n",
              "17  e53Fsnz4uf6seDeU7Q328g  ...                      Seafood, Restaurants, Mexican\n",
              "18  fs5MuKWT28LAa8ql_mq43g  ...  Sushi Bars, Nightlife, Cocktail Bars, Bars, Ja...\n",
              "19  ix1F1ekB5RrFG3FRe0_zpA  ...  Courthouses, American (Traditional), Restauran...\n",
              "20  kGqNxTmtKoax_jaStzAuWA  ...  Restaurants, Arts & Entertainment, Vegetarian,...\n",
              "21  EhdkogSUSDLx5JufCAtm8A  ...         Japanese, Seafood, Restaurants, Sushi Bars\n",
              "22  tfg08x88Mr4nEr8_bVal7w  ...          Restaurants, Vegetarian, Seafood, Mexican\n",
              "23  B7wVtgjOxkFNOoD6S11Urw  ...  Pubs, Breakfast & Brunch, Sandwiches, Restaura...\n",
              "24  YD0hmHv_DaREDENhTb2Pnw  ...  Bakeries, Sandwiches, Vegan, Cafes, Fast Food,...\n",
              "25  893VryJbZcCm5V9xon_aLA  ...  Pizza, Restaurants, Sandwiches, American (New)...\n",
              "26  Y-a5L1u8jAuoJLdh25UnQA  ...            Restaurants, Korean, Karaoke, Nightlife\n",
              "27  crGdKSRKi25R2vorZ7skzg  ...                               Mexican, Restaurants\n",
              "28  d4Mw96Hb6ZoHEL2AxqGrbg  ...  Food, Restaurants, American (New), Local Services\n",
              "29  JDv3HcmwK0cPkRa0-2aP4Q  ...  Food, Barbeque, Street Vendors, Restaurants, F...\n",
              "\n",
              "[30 rows x 11 columns]"
            ]
          },
          "metadata": {
            "tags": []
          },
          "execution_count": 21
        }
      ]
    },
    {
      "cell_type": "markdown",
      "metadata": {
        "id": "b-bRDuI24BcU",
        "colab_type": "text"
      },
      "source": [
        "# Loading the user data"
      ]
    },
    {
      "cell_type": "code",
      "metadata": {
        "id": "cWtmFuCN_I4y",
        "colab_type": "code",
        "colab": {}
      },
      "source": [
        "users=spark.read.csv(file1,header=True)"
      ],
      "execution_count": 0,
      "outputs": []
    },
    {
      "cell_type": "code",
      "metadata": {
        "id": "x3XrTnxJ-sqk",
        "colab_type": "code",
        "outputId": "e35d8b95-674e-49c9-a6fd-b60cb401bb0f",
        "colab": {
          "base_uri": "https://localhost:8080/",
          "height": 204
        }
      },
      "source": [
        "users.printSchema()"
      ],
      "execution_count": 0,
      "outputs": [
        {
          "output_type": "stream",
          "text": [
            "root\n",
            " |-- user_id: string (nullable = true)\n",
            " |-- user_name: string (nullable = true)\n",
            " |-- review_count: string (nullable = true)\n",
            " |-- yelping_since: string (nullable = true)\n",
            " |-- useful: string (nullable = true)\n",
            " |-- funny: string (nullable = true)\n",
            " |-- cool: string (nullable = true)\n",
            " |-- fans: string (nullable = true)\n",
            " |-- average_stars: string (nullable = true)\n",
            "\n"
          ],
          "name": "stdout"
        }
      ]
    },
    {
      "cell_type": "code",
      "metadata": {
        "id": "M4ntP4P2s2yL",
        "colab_type": "code",
        "outputId": "492ee3e7-f33c-4c40-bbc5-f41274883e4b",
        "colab": {
          "base_uri": "https://localhost:8080/",
          "height": 459
        }
      },
      "source": [
        "users.show()"
      ],
      "execution_count": 0,
      "outputs": [
        {
          "output_type": "stream",
          "text": [
            "+--------------------+---------+------------+-------------------+------+-----+-----+----+-------------+\n",
            "|             user_id|user_name|review_count|      yelping_since|useful|funny| cool|fans|average_stars|\n",
            "+--------------------+---------+------------+-------------------+------+-----+-----+----+-------------+\n",
            "|-1zQA2f_syMAdA04P...|     Zach|           7|2014-06-22 02:44:41|     7|    3|    0|   0|         3.29|\n",
            "|-2Pb5d2WBPtbyGT_b...|    mindy|           6|2009-04-29 14:35:45|     6|    0|    0|   0|          3.5|\n",
            "|-3bsS2i9xqjNnIA1f...|      Kim|          16|2012-04-10 22:25:58|    22|    5|    1|   1|         2.39|\n",
            "|-3i9bhfvrM3F1wsC9...|    Linda|         652|2005-08-07 03:08:12|  3494| 2204| 2974|  97|         4.07|\n",
            "|-47g7LR58tpHlm7Bm...|     Kady|          36|2013-12-21 19:26:35|    13|    0|    1|   0|         4.55|\n",
            "|-4xyc3OgPwrLshmqH...|     Sean|          45|2016-06-05 19:18:07|    14|    3|    4|   2|         4.66|\n",
            "|-7V6r0PLuBlFVjbLJ...|  Michael|           4|2015-01-01 04:19:08|    12|    0|    0|   0|          4.0|\n",
            "|-8_yETBp70WiqqN-A...|     Lisa|          33|2008-09-29 22:35:54|    63|    6|   12|   1|         4.33|\n",
            "|-9da1xk7zgnnfO1uT...|     Fran|        1085|2012-04-05 01:01:05| 14824|10064|13647| 205|          4.1|\n",
            "|-CXUQegqiilOy--6T...|    Couri|           2|2011-10-17 19:18:24|     0|    2|    0|   0|          4.5|\n",
            "|-Dw7oVN6O0zmMPF_X...|        D|           1|2013-07-03 04:14:16|     0|    0|    0|   0|          5.0|\n",
            "|-EZmRD-HXHz8G7D5R...|    James|         193|2011-12-20 23:58:59|   141|   42|   31|   5|         3.19|\n",
            "|-GKEFg_92pp0q842c...|     Jeff|         314|2011-07-18 20:16:27|   377|  185|  129|  18|          3.9|\n",
            "|-LZv41t-_J7vugTRj...| Michelle|           3|2016-06-28 09:33:09|     0|    0|    1|   0|          5.0|\n",
            "|-N5VgSTjfMesBW3tP...|   George|          17|2018-01-31 11:26:03|     4|    0|    2|   0|         4.61|\n",
            "|-QiFLgn_jBdTFcwka...|      Lee|          12|2016-04-21 00:54:26|     1|    0|    0|   0|         4.62|\n",
            "|-V4O06nWQzzFlvlOK...|    Marie|          14|2014-05-22 05:34:45|    19|    2|    1|   0|         3.44|\n",
            "|-X-jwVP89CGEkv2fF...|Gabriella|           7|2014-07-03 05:48:18|     1|    1|    2|   1|         3.29|\n",
            "|-ZShsfuOUcqw2JNBa...|   Joseph|           5|2013-12-31 02:27:32|     3|    0|    1|   0|          3.4|\n",
            "|-dJ6_TOaGy289si_g...|   Rachel|           4|2013-06-29 20:46:14|    20|    5|    6|   0|         3.75|\n",
            "+--------------------+---------+------------+-------------------+------+-----+-----+----+-------------+\n",
            "only showing top 20 rows\n",
            "\n"
          ],
          "name": "stdout"
        }
      ]
    },
    {
      "cell_type": "code",
      "metadata": {
        "id": "syQiZ9Yl4HRr",
        "colab_type": "code",
        "outputId": "8d48eb77-4233-4b8c-b298-b671abd21592",
        "colab": {
          "base_uri": "https://localhost:8080/",
          "height": 34
        }
      },
      "source": [
        "users.count()"
      ],
      "execution_count": 0,
      "outputs": [
        {
          "output_type": "execute_result",
          "data": {
            "text/plain": [
              "395843"
            ]
          },
          "metadata": {
            "tags": []
          },
          "execution_count": 25
        }
      ]
    },
    {
      "cell_type": "code",
      "metadata": {
        "id": "P2idaC5g4O0N",
        "colab_type": "code",
        "colab": {}
      },
      "source": [
        "# create a user view for SQL queries\n",
        "\n",
        "users.createOrReplaceTempView(\"users\")"
      ],
      "execution_count": 0,
      "outputs": []
    },
    {
      "cell_type": "code",
      "metadata": {
        "id": "dIt5KsHy4U9a",
        "colab_type": "code",
        "outputId": "2df2dbfd-b5de-4e45-a932-58c0ad6b3bf0",
        "colab": {
          "base_uri": "https://localhost:8080/",
          "height": 359
        }
      },
      "source": [
        "# get top 10 users based in their useful reviews\n",
        "\n",
        "query = \"\"\"\n",
        "SELECT user_id, user_name, review_count, yelping_since, useful, funny,  cool, fans, average_stars\n",
        "FROM users\n",
        "ORDER BY useful DESC\n",
        "LIMIT 10\n",
        "\"\"\"\n",
        "\n",
        "spark.sql(query).toPandas()\n",
        "\n"
      ],
      "execution_count": 0,
      "outputs": [
        {
          "output_type": "execute_result",
          "data": {
            "text/html": [
              "<div>\n",
              "<style scoped>\n",
              "    .dataframe tbody tr th:only-of-type {\n",
              "        vertical-align: middle;\n",
              "    }\n",
              "\n",
              "    .dataframe tbody tr th {\n",
              "        vertical-align: top;\n",
              "    }\n",
              "\n",
              "    .dataframe thead th {\n",
              "        text-align: right;\n",
              "    }\n",
              "</style>\n",
              "<table border=\"1\" class=\"dataframe\">\n",
              "  <thead>\n",
              "    <tr style=\"text-align: right;\">\n",
              "      <th></th>\n",
              "      <th>user_id</th>\n",
              "      <th>user_name</th>\n",
              "      <th>review_count</th>\n",
              "      <th>yelping_since</th>\n",
              "      <th>useful</th>\n",
              "      <th>funny</th>\n",
              "      <th>cool</th>\n",
              "      <th>fans</th>\n",
              "      <th>average_stars</th>\n",
              "    </tr>\n",
              "  </thead>\n",
              "  <tbody>\n",
              "    <tr>\n",
              "      <th>0</th>\n",
              "      <td>rC2PCfLaztmkZSx_VeVkxQ</td>\n",
              "      <td>Jojo</td>\n",
              "      <td>503</td>\n",
              "      <td>2007-12-04 18:30:28</td>\n",
              "      <td>999</td>\n",
              "      <td>384</td>\n",
              "      <td>462</td>\n",
              "      <td>34</td>\n",
              "      <td>3.97</td>\n",
              "    </tr>\n",
              "    <tr>\n",
              "      <th>1</th>\n",
              "      <td>Vq4QTo36pZSu3yNLm7BT0w</td>\n",
              "      <td>Isabel</td>\n",
              "      <td>410</td>\n",
              "      <td>2008-11-04 18:48:27</td>\n",
              "      <td>999</td>\n",
              "      <td>395</td>\n",
              "      <td>648</td>\n",
              "      <td>52</td>\n",
              "      <td>3.65</td>\n",
              "    </tr>\n",
              "    <tr>\n",
              "      <th>2</th>\n",
              "      <td>W7iLDP6GY4joKZ1zSCOEfA</td>\n",
              "      <td>Janine</td>\n",
              "      <td>644</td>\n",
              "      <td>2011-06-30 09:02:39</td>\n",
              "      <td>999</td>\n",
              "      <td>221</td>\n",
              "      <td>433</td>\n",
              "      <td>26</td>\n",
              "      <td>3.85</td>\n",
              "    </tr>\n",
              "    <tr>\n",
              "      <th>3</th>\n",
              "      <td>NJVvh5XZwb7x4pVcNlcFSg</td>\n",
              "      <td>Noel</td>\n",
              "      <td>371</td>\n",
              "      <td>2012-09-05 00:12:16</td>\n",
              "      <td>999</td>\n",
              "      <td>166</td>\n",
              "      <td>682</td>\n",
              "      <td>14</td>\n",
              "      <td>3.57</td>\n",
              "    </tr>\n",
              "    <tr>\n",
              "      <th>4</th>\n",
              "      <td>RhM7uTY_KwlQyq9tzP7GFA</td>\n",
              "      <td>Sean</td>\n",
              "      <td>314</td>\n",
              "      <td>2009-12-06 23:01:40</td>\n",
              "      <td>999</td>\n",
              "      <td>664</td>\n",
              "      <td>830</td>\n",
              "      <td>54</td>\n",
              "      <td>4.1</td>\n",
              "    </tr>\n",
              "    <tr>\n",
              "      <th>5</th>\n",
              "      <td>2tAVBVwMF2KqQNVfpT_Ulw</td>\n",
              "      <td>Jenny</td>\n",
              "      <td>314</td>\n",
              "      <td>2009-03-22 04:48:17</td>\n",
              "      <td>999</td>\n",
              "      <td>452</td>\n",
              "      <td>358</td>\n",
              "      <td>23</td>\n",
              "      <td>3.38</td>\n",
              "    </tr>\n",
              "    <tr>\n",
              "      <th>6</th>\n",
              "      <td>glCZpRr0LSMssbkOYGXpbQ</td>\n",
              "      <td>Kemi</td>\n",
              "      <td>711</td>\n",
              "      <td>2012-01-31 13:09:49</td>\n",
              "      <td>999</td>\n",
              "      <td>325</td>\n",
              "      <td>413</td>\n",
              "      <td>28</td>\n",
              "      <td>4.14</td>\n",
              "    </tr>\n",
              "    <tr>\n",
              "      <th>7</th>\n",
              "      <td>ElFXwD7NXiucNzTC-LY8eQ</td>\n",
              "      <td>Karen</td>\n",
              "      <td>224</td>\n",
              "      <td>2011-12-26 08:48:47</td>\n",
              "      <td>999</td>\n",
              "      <td>437</td>\n",
              "      <td>764</td>\n",
              "      <td>52</td>\n",
              "      <td>4.21</td>\n",
              "    </tr>\n",
              "    <tr>\n",
              "      <th>8</th>\n",
              "      <td>rCx7tb3toOJUsvdOeqYY0g</td>\n",
              "      <td>Sharon</td>\n",
              "      <td>1126</td>\n",
              "      <td>2009-01-20 00:35:09</td>\n",
              "      <td>9972</td>\n",
              "      <td>5384</td>\n",
              "      <td>7588</td>\n",
              "      <td>167</td>\n",
              "      <td>3.75</td>\n",
              "    </tr>\n",
              "    <tr>\n",
              "      <th>9</th>\n",
              "      <td>Vparw0ZG22k1s7Xhc02nxw</td>\n",
              "      <td>Jon</td>\n",
              "      <td>275</td>\n",
              "      <td>2007-09-25 20:19:12</td>\n",
              "      <td>997</td>\n",
              "      <td>429</td>\n",
              "      <td>801</td>\n",
              "      <td>28</td>\n",
              "      <td>3.28</td>\n",
              "    </tr>\n",
              "  </tbody>\n",
              "</table>\n",
              "</div>"
            ],
            "text/plain": [
              "                  user_id user_name review_count  ...  cool fans average_stars\n",
              "0  rC2PCfLaztmkZSx_VeVkxQ      Jojo          503  ...   462   34          3.97\n",
              "1  Vq4QTo36pZSu3yNLm7BT0w    Isabel          410  ...   648   52          3.65\n",
              "2  W7iLDP6GY4joKZ1zSCOEfA    Janine          644  ...   433   26          3.85\n",
              "3  NJVvh5XZwb7x4pVcNlcFSg      Noel          371  ...   682   14          3.57\n",
              "4  RhM7uTY_KwlQyq9tzP7GFA      Sean          314  ...   830   54           4.1\n",
              "5  2tAVBVwMF2KqQNVfpT_Ulw     Jenny          314  ...   358   23          3.38\n",
              "6  glCZpRr0LSMssbkOYGXpbQ      Kemi          711  ...   413   28          4.14\n",
              "7  ElFXwD7NXiucNzTC-LY8eQ     Karen          224  ...   764   52          4.21\n",
              "8  rCx7tb3toOJUsvdOeqYY0g    Sharon         1126  ...  7588  167          3.75\n",
              "9  Vparw0ZG22k1s7Xhc02nxw       Jon          275  ...   801   28          3.28\n",
              "\n",
              "[10 rows x 9 columns]"
            ]
          },
          "metadata": {
            "tags": []
          },
          "execution_count": 27
        }
      ]
    },
    {
      "cell_type": "markdown",
      "metadata": {
        "id": "Du8M7wOq7d3S",
        "colab_type": "text"
      },
      "source": [
        "## Loading  the friends data"
      ]
    },
    {
      "cell_type": "code",
      "metadata": {
        "id": "mX58j6dKvNqx",
        "colab_type": "code",
        "outputId": "1c75e4aa-2501-4f9b-9541-5ce0b8c7878a",
        "colab": {
          "base_uri": "https://localhost:8080/",
          "height": 34
        }
      },
      "source": [
        "file3=r'drive/My Drive/Dataset/Friends_Data/Yelp_Friends1.csv'\n",
        "file4=r'drive/My Drive/Dataset/Friends_Data/Yelp_Friends2.csv'\n",
        "file5=r'drive/My Drive/Dataset/Friends_Data/Yelp_Friends3.csv'\n",
        "file6=r'drive/My Drive/Dataset/Friends_Data/Yelp_Friends4.csv'\n",
        "\n",
        "friends1=spark.read.csv(file3,header=True)\n",
        "friends2=spark.read.csv(file4,header=True)\n",
        "friends3=spark.read.csv(file5,header=True)\n",
        "friends4=spark.read.csv(file6,header=True)\n",
        "\n",
        "friends1.count()"
      ],
      "execution_count": 0,
      "outputs": [
        {
          "output_type": "execute_result",
          "data": {
            "text/plain": [
              "7291668"
            ]
          },
          "metadata": {
            "tags": []
          },
          "execution_count": 28
        }
      ]
    },
    {
      "cell_type": "code",
      "metadata": {
        "id": "HrIcIK_17jz2",
        "colab_type": "code",
        "colab": {}
      },
      "source": [
        "friends_1 = friends1.union(friends2)\n",
        "friends_2=friends3.union(friends4)"
      ],
      "execution_count": 0,
      "outputs": []
    },
    {
      "cell_type": "code",
      "metadata": {
        "id": "sz4vnlWI8YHJ",
        "colab_type": "code",
        "outputId": "4b480a7f-65b5-49ee-c602-1b147386ca56",
        "colab": {
          "base_uri": "https://localhost:8080/",
          "height": 34
        }
      },
      "source": [
        "friends=friends_1.union(friends_2)\n",
        "friends.count()"
      ],
      "execution_count": 0,
      "outputs": [
        {
          "output_type": "execute_result",
          "data": {
            "text/plain": [
              "29166583"
            ]
          },
          "metadata": {
            "tags": []
          },
          "execution_count": 30
        }
      ]
    },
    {
      "cell_type": "code",
      "metadata": {
        "id": "ytfpVgQO8gGI",
        "colab_type": "code",
        "outputId": "986aff03-316b-4101-c8aa-108e98d77957",
        "colab": {
          "base_uri": "https://localhost:8080/",
          "height": 85
        }
      },
      "source": [
        "friends.printSchema()"
      ],
      "execution_count": 0,
      "outputs": [
        {
          "output_type": "stream",
          "text": [
            "root\n",
            " |-- user_id: string (nullable = true)\n",
            " |-- friend_id: string (nullable = true)\n",
            "\n"
          ],
          "name": "stdout"
        }
      ]
    },
    {
      "cell_type": "code",
      "metadata": {
        "id": "0Gn1rF698j47",
        "colab_type": "code",
        "outputId": "b3d7b067-dd90-4179-ea6f-b3b0a0a53681",
        "colab": {
          "base_uri": "https://localhost:8080/",
          "height": 459
        }
      },
      "source": [
        "friends.show()"
      ],
      "execution_count": 0,
      "outputs": [
        {
          "output_type": "stream",
          "text": [
            "+--------------------+--------------------+\n",
            "|             user_id|           friend_id|\n",
            "+--------------------+--------------------+\n",
            "|bytuN2o7fmHug9GZX...|6m3e_Oo_pdpA-rCxv...|\n",
            "|4ZfcCa4m5RWvO4EFz...|vhDXdBeje8e7xYIIF...|\n",
            "|bMOTnVsvHkVEzSBlN...|bwsFjXKJAdXPMzaj1...|\n",
            "|BNuPibT74jf8Kp47b...|-BevLRnJhh9JeIT2g...|\n",
            "|4mkYPmYB3AthX1FBC...|2BxskQsdpxHvCSdRD...|\n",
            "|uh0Q3_oH6i7ZGN8wg...|zkIuzFo3NdPby17Zw...|\n",
            "|0AlnetQ_-a4f7kY0S...|mFwRTTDW0Yr-rFkTF...|\n",
            "|C2YRjTezIGFYVO0JZ...|3ZYUbNKFfg_BX3fyr...|\n",
            "|9zEcqne6y-tYLDiJw...|E6jMRNIPeaIktSbxE...|\n",
            "|V7LRNklGj_YAOIU5H...|jc0qzH7mcxvY4cGJf...|\n",
            "|Zratk2K3CMsgLusfn...|Bnmxb2ZKLipdwcOam...|\n",
            "|RQTO4aWxWEgkgjVtN...|xYgo3qYXcYlHJ84Tg...|\n",
            "|okmjuDrjoFiyBTGow...|QwkydNiT4gsNUUIDP...|\n",
            "|UEf2XkLwnIj4nEZyn...|XN2FoIQoh4LtoNCmk...|\n",
            "|Ha5bMb0SfRcvX7CS0...|qXdOCZwY2Wi8ECIDi...|\n",
            "|P6E64WfXgZpBzxKNp...|LGulEhJyXF3Lgk-_Z...|\n",
            "|vzNR_IEiK4hckOIrr...|G1xLdynxZ2C4ss2zd...|\n",
            "|zzEqxNW1tepmH4rl8...|pXORVE1eeGvTGycLl...|\n",
            "|H7_QmS05uaYPOuwqn...|8f-9Dicz6rcurpDMq...|\n",
            "|jytR6GWHr2LEO39hI...|kifkFiU8Yw4HfV360...|\n",
            "+--------------------+--------------------+\n",
            "only showing top 20 rows\n",
            "\n"
          ],
          "name": "stdout"
        }
      ]
    },
    {
      "cell_type": "markdown",
      "metadata": {
        "id": "stNJiJMk4hze",
        "colab_type": "text"
      },
      "source": [
        "## Loading the reviews data"
      ]
    },
    {
      "cell_type": "code",
      "metadata": {
        "colab_type": "code",
        "id": "p0Ph5JrAJhDi",
        "colab": {}
      },
      "source": [
        "review_file=r'drive/My Drive/Dataset/Yelp_Reviews.parquet'\n",
        "reviews=spark.read.parquet(review_file)"
      ],
      "execution_count": 0,
      "outputs": []
    },
    {
      "cell_type": "code",
      "metadata": {
        "id": "PBTYIjMDvLTj",
        "colab_type": "code",
        "outputId": "7a11f9d7-ce28-4710-e366-4ce7bf5705b7",
        "colab": {
          "base_uri": "https://localhost:8080/",
          "height": 204
        }
      },
      "source": [
        "reviews.printSchema()"
      ],
      "execution_count": 0,
      "outputs": [
        {
          "output_type": "stream",
          "text": [
            "root\n",
            " |-- review_id: string (nullable = true)\n",
            " |-- user_id: string (nullable = true)\n",
            " |-- business_id: string (nullable = true)\n",
            " |-- stars: double (nullable = true)\n",
            " |-- review_date: string (nullable = true)\n",
            " |-- review_text: string (nullable = true)\n",
            " |-- useful: long (nullable = true)\n",
            " |-- funny: long (nullable = true)\n",
            " |-- cool: long (nullable = true)\n",
            "\n"
          ],
          "name": "stdout"
        }
      ]
    },
    {
      "cell_type": "code",
      "metadata": {
        "id": "8XjNwTorxdql",
        "colab_type": "code",
        "outputId": "b035efdb-146c-4cd0-b1c7-fb8df204b360",
        "colab": {
          "base_uri": "https://localhost:8080/",
          "height": 459
        }
      },
      "source": [
        "reviews.show()"
      ],
      "execution_count": 0,
      "outputs": [
        {
          "output_type": "stream",
          "text": [
            "+--------------------+--------------------+--------------------+-----+-------------------+--------------------+------+-----+----+\n",
            "|           review_id|             user_id|         business_id|stars|        review_date|         review_text|useful|funny|cool|\n",
            "+--------------------+--------------------+--------------------+-----+-------------------+--------------------+------+-----+----+\n",
            "|IByf6mVY0WA838XNS...|3CJUJILq7CLHk_9Or...|I4Nr-MVc26qWr08-S...|  4.0|2016-01-17 05:26:22|The food is alway...|     0|    0|   0|\n",
            "|S337tATeouQJdoPYy...|2mxBNBeFrgDszqGS5...|d_L-rfS1vT3JMzgCU...|  5.0|2016-07-25 03:57:19|Pick any meat on ...|     0|    0|   0|\n",
            "|D_UvaenM25iNd6aeh...|8NwU4TRsD3S6gIfBq...|Sfc8Haz2Yri8Mo1L0...|  5.0|2012-11-06 03:41:43|Great food, great...|     0|    0|   0|\n",
            "|qm97yMwREr7BKkexl...|TTRVdTXKcq-xn6-1I...|Gyrez6K8f1AyR7dzW...|  5.0|2013-12-28 22:28:08|their pettuccine ...|     0|    0|   1|\n",
            "|0AsmPiAQduxh5jE_s...|C_hUvw2z0R-Rv0yZb...|dm6sO_Y8JdKTE1ZM9...|  5.0|2014-12-17 19:04:33|ended up here bec...|     0|    0|   0|\n",
            "|wOv7JiO0EGcJ61P2J...|en0xQXlvRk-ZtKlaW...|N0apJkxIem2E8irTB...|  2.0|2015-01-18 15:30:50|Went here last we...|     0|    0|   0|\n",
            "|JIC8qNMbcAPAzQMPr...|fxrQSMhHlBv6eJVRd...|IMLrj2klosTFvPRLv...|  4.0|2014-10-11 03:50:27|Dinner Was Fantas...|     1|    1|   1|\n",
            "|f0B9-r14-bLudyu5S...|SvMGr_Oih7ivtzmnC...|ujHiaprwCQ5ewziu0...|  1.0|2013-12-07 00:14:06|We had dinner at ...|     1|    0|   0|\n",
            "|u1jQX0KfnG3AHty4i...|8vIK6ndl8yzIdmSDn...|OVTZNSkSfbl3gVB9X...|  4.0|2010-01-08 04:28:23|notes: 1 visit, b...|     0|    0|   0|\n",
            "|bvEdkl-weZGMLLRF9...|0nTJWagRU8_-KS1x7...|X5uxdU9GHoUAqo2wm...|  5.0|2015-11-06 00:02:50|Best Wonton soup ...|     0|    0|   1|\n",
            "|7Jy730ib54YKYgZRv...|ROsjOYL8Jwv-q78mN...|eoyvbnRYQe-z85e8R...|  4.0|2013-08-15 15:00:14|We had dinner her...|     1|    0|   0|\n",
            "|VqZMgUf4wQMTeCWg2...|POr1NTWV45OaNCOLf...|OVTZNSkSfbl3gVB9X...|  3.0|2014-09-09 19:15:26|We went here Satu...|     0|    0|   0|\n",
            "|E4LqIZ7DJd_R4ZHSN...|DoRCeCcJbrsM2BiAK...|SU56w479vUfFHsvmv...|  4.0|2016-07-25 03:55:20|So good! They did...|     7|    5|   6|\n",
            "|XAm4_-lUxzF_Y449c...|ABUt9wCHRsSpa8i7r...|aNe8ofTYrealxqv7V...|  1.0|2015-07-16 07:31:28|Th service here i...|     0|    2|   0|\n",
            "|QSe9EqmiImbguDVIr...|II8eB5mYk200GW-m-...|z9aXGRH8xtqpNDFE5...|  4.0|2015-06-21 00:56:28|received a  maile...|     0|    0|   0|\n",
            "|VeJppsRLTWRKh4Pkm...|eJEcCIzJ5bqc0QpRG...|6xgcHeLad-VaoTIQe...|  4.0|2006-04-14 04:37:51|ooooooh yummy.  i...|     0|    0|   1|\n",
            "|29S2A-Q8Vt4a-Z6St...|J6YedGZVdhagKKaIq...|HhVmDybpU7L50Kb5A...|  4.0|2015-03-06 07:24:15|Wonderful experie...|     0|    0|   0|\n",
            "|DmlGGWLHPAQl2v9qM...|8fpiTkK4MO5jJIXHF...|5n2dA_QqO4c_7pSK0...|  1.0|2015-07-28 09:33:12|I was told so man...|     3|    1|   1|\n",
            "|l7KB334CXThAcmZPO...|N6zhXHPIrCXommDEg...|Gyrez6K8f1AyR7dzW...|  2.0|2017-01-02 03:48:03|Normally, I give ...|     3|    1|   1|\n",
            "|kQAHUQ89fIZVCf1cF...|dL1qnksdX2LW4DbNI...|XXW_OFaYQkkGOGniu...|  4.0|2018-02-23 23:07:48|\"Good morning, co...|     0|    0|   0|\n",
            "+--------------------+--------------------+--------------------+-----+-------------------+--------------------+------+-----+----+\n",
            "only showing top 20 rows\n",
            "\n"
          ],
          "name": "stdout"
        }
      ]
    },
    {
      "cell_type": "code",
      "metadata": {
        "id": "G8OuAUcFxz0m",
        "colab_type": "code",
        "outputId": "c7174f12-2984-4599-fbfc-12e7d32d0805",
        "colab": {
          "base_uri": "https://localhost:8080/",
          "height": 34
        }
      },
      "source": [
        "reviews.count()"
      ],
      "execution_count": 0,
      "outputs": [
        {
          "output_type": "execute_result",
          "data": {
            "text/plain": [
              "1076129"
            ]
          },
          "metadata": {
            "tags": []
          },
          "execution_count": 36
        }
      ]
    },
    {
      "cell_type": "code",
      "metadata": {
        "id": "O_mDtMoI4VA_",
        "colab_type": "code",
        "outputId": "d1b75c2c-b75d-46b9-8b61-04140472079b",
        "colab": {
          "base_uri": "https://localhost:8080/",
          "height": 80
        }
      },
      "source": [
        "\n",
        "reviews.createOrReplaceTempView(\"reviews\")\n",
        "\n",
        "\n",
        "query = \"\"\"\n",
        "select sum(stars_count) from (SELECT\n",
        "    r.business_id, b.business_name,\n",
        "    COUNT(*) as stars_count\n",
        "FROM reviews r \n",
        "INNER JOIN businesses b ON b.business_id = r.business_id\n",
        "GROUP BY r.business_id, b.business_name\n",
        "ORDER BY COUNT(*) ASC\n",
        "LIMIT 3200)\n",
        "\"\"\"\n",
        "k=spark.sql(query).toPandas()\n",
        "k"
      ],
      "execution_count": 0,
      "outputs": [
        {
          "output_type": "execute_result",
          "data": {
            "text/html": [
              "<div>\n",
              "<style scoped>\n",
              "    .dataframe tbody tr th:only-of-type {\n",
              "        vertical-align: middle;\n",
              "    }\n",
              "\n",
              "    .dataframe tbody tr th {\n",
              "        vertical-align: top;\n",
              "    }\n",
              "\n",
              "    .dataframe thead th {\n",
              "        text-align: right;\n",
              "    }\n",
              "</style>\n",
              "<table border=\"1\" class=\"dataframe\">\n",
              "  <thead>\n",
              "    <tr style=\"text-align: right;\">\n",
              "      <th></th>\n",
              "      <th>sum(stars_count)</th>\n",
              "    </tr>\n",
              "  </thead>\n",
              "  <tbody>\n",
              "    <tr>\n",
              "      <th>0</th>\n",
              "      <td>74774</td>\n",
              "    </tr>\n",
              "  </tbody>\n",
              "</table>\n",
              "</div>"
            ],
            "text/plain": [
              "   sum(stars_count)\n",
              "0             74774"
            ]
          },
          "metadata": {
            "tags": []
          },
          "execution_count": 66
        }
      ]
    },
    {
      "cell_type": "code",
      "metadata": {
        "id": "FnUnnLK0IuR5",
        "colab_type": "code",
        "outputId": "804bd278-a21f-4d64-b483-5db12528d7c7",
        "colab": {
          "base_uri": "https://localhost:8080/",
          "height": 566
        }
      },
      "source": [
        "fig, ax = plt.subplots(figsize=(12, 6))\n",
        "sns.barplot(x='business_name', y='stars_count', data=k, ax=ax)\n",
        "ax.set_xlabel('review rating')\n",
        "ax.set_ylabel('count')\n",
        "ax.set_title('Review Rating Count')"
      ],
      "execution_count": 0,
      "outputs": [
        {
          "output_type": "execute_result",
          "data": {
            "text/plain": [
              "Text(0.5, 1.0, 'Review Rating Count')"
            ]
          },
          "metadata": {
            "tags": []
          },
          "execution_count": 44
        },
        {
          "output_type": "stream",
          "text": [
            "/usr/local/lib/python3.6/dist-packages/matplotlib/backends/backend_agg.py:211: RuntimeWarning: Glyph 21213 missing from current font.\n",
            "  font.set_text(s, 0.0, flags=flags)\n",
            "/usr/local/lib/python3.6/dist-packages/matplotlib/backends/backend_agg.py:211: RuntimeWarning: Glyph 35352 missing from current font.\n",
            "  font.set_text(s, 0.0, flags=flags)\n",
            "/usr/local/lib/python3.6/dist-packages/matplotlib/backends/backend_agg.py:180: RuntimeWarning: Glyph 21213 missing from current font.\n",
            "  font.set_text(s, 0, flags=flags)\n",
            "/usr/local/lib/python3.6/dist-packages/matplotlib/backends/backend_agg.py:180: RuntimeWarning: Glyph 35352 missing from current font.\n",
            "  font.set_text(s, 0, flags=flags)\n"
          ],
          "name": "stderr"
        },
        {
          "output_type": "display_data",
          "data": {
            "image/png": "[encoded data removed]",
            "text/plain": [
              "<Figure size 864x432 with 1 Axes>"
            ]
          },
          "metadata": {
            "tags": []
          }
        }
      ]
    },
    {
      "cell_type": "code",
      "metadata": {
        "id": "U5ruyuL6laAz",
        "colab_type": "code",
        "colab": {}
      },
      "source": [
        "#"
      ],
      "execution_count": 0,
      "outputs": []
    },
    {
      "cell_type": "code",
      "metadata": {
        "id": "n9KO_mBS4-aP",
        "colab_type": "code",
        "colab": {}
      },
      "source": [
        "# create a review view to be used in SQL queries\n",
        "\n",
        "reviews.createOrReplaceTempView(\"reviews\")"
      ],
      "execution_count": 0,
      "outputs": []
    },
    {
      "cell_type": "code",
      "metadata": {
        "id": "BjHwUJkQXw3F",
        "colab_type": "code",
        "colab": {}
      },
      "source": [
        ""
      ],
      "execution_count": 0,
      "outputs": []
    },
    {
      "cell_type": "code",
      "metadata": {
        "id": "e-dzAoBT5BOk",
        "colab_type": "code",
        "outputId": "83d3fbea-9b4e-4a53-cee6-8928aaf9d892",
        "colab": {
          "base_uri": "https://localhost:8080/",
          "height": 363
        }
      },
      "source": [
        "query = \"\"\"\n",
        "SELECT\n",
        "    r.business_id, b.business_name,\n",
        "    COUNT(*) as 5_stars_count\n",
        "FROM reviews r \n",
        "INNER JOIN businesses b ON b.business_id = r.business_id\n",
        "WHERE r.stars = '5' and review_date >= '2018-02-23 23:07:48'\n",
        "GROUP BY r.business_id, b.business_name\n",
        "ORDER BY COUNT(*) DESC\n",
        "LIMIT 10\n",
        "\"\"\"\n",
        "\n",
        "\n",
        "# run the query and convert the results into Pandas dataframe\n",
        "spark.sql(query).toPandas()"
      ],
      "execution_count": 0,
      "outputs": [
        {
          "output_type": "execute_result",
          "data": {
            "text/html": [
              "<div>\n",
              "<style scoped>\n",
              "    .dataframe tbody tr th:only-of-type {\n",
              "        vertical-align: middle;\n",
              "    }\n",
              "\n",
              "    .dataframe tbody tr th {\n",
              "        vertical-align: top;\n",
              "    }\n",
              "\n",
              "    .dataframe thead th {\n",
              "        text-align: right;\n",
              "    }\n",
              "</style>\n",
              "<table border=\"1\" class=\"dataframe\">\n",
              "  <thead>\n",
              "    <tr style=\"text-align: right;\">\n",
              "      <th></th>\n",
              "      <th>business_id</th>\n",
              "      <th>business_name</th>\n",
              "      <th>5_stars_count</th>\n",
              "    </tr>\n",
              "  </thead>\n",
              "  <tbody>\n",
              "    <tr>\n",
              "      <th>0</th>\n",
              "      <td>vHz2RLtfUMVRPFmd7VBEHA</td>\n",
              "      <td>Gordon Ramsay Hell's Kitchen</td>\n",
              "      <td>1175</td>\n",
              "    </tr>\n",
              "    <tr>\n",
              "      <th>1</th>\n",
              "      <td>QXV3L_QFGj8r6nWX2kS2hA</td>\n",
              "      <td>Nacho Daddy</td>\n",
              "      <td>744</td>\n",
              "    </tr>\n",
              "    <tr>\n",
              "      <th>2</th>\n",
              "      <td>faPVqws-x-5k2CQKDNtHxw</td>\n",
              "      <td>Yardbird Southern Table &amp; Bar</td>\n",
              "      <td>726</td>\n",
              "    </tr>\n",
              "    <tr>\n",
              "      <th>3</th>\n",
              "      <td>mDR12Hafvr84ctpsV6YLag</td>\n",
              "      <td>Mr Mamas</td>\n",
              "      <td>516</td>\n",
              "    </tr>\n",
              "    <tr>\n",
              "      <th>4</th>\n",
              "      <td>4JNXUYY8wbaaDmk3BPzlWw</td>\n",
              "      <td>Mon Ami Gabi</td>\n",
              "      <td>439</td>\n",
              "    </tr>\n",
              "    <tr>\n",
              "      <th>5</th>\n",
              "      <td>RESDUcs7fIiihp38-d6_6g</td>\n",
              "      <td>Bacchanal Buffet</td>\n",
              "      <td>428</td>\n",
              "    </tr>\n",
              "    <tr>\n",
              "      <th>6</th>\n",
              "      <td>hihud--QRriCYZw1zZvW4g</td>\n",
              "      <td>Gangnam Asian BBQ Dining</td>\n",
              "      <td>403</td>\n",
              "    </tr>\n",
              "    <tr>\n",
              "      <th>7</th>\n",
              "      <td>IWN2heYitkg-D4UdqfxcMA</td>\n",
              "      <td>HEXX kitchen + bar</td>\n",
              "      <td>402</td>\n",
              "    </tr>\n",
              "    <tr>\n",
              "      <th>8</th>\n",
              "      <td>xfWdUmrz2ha3rcigyITV0g</td>\n",
              "      <td>Gordon Ramsay Burger</td>\n",
              "      <td>355</td>\n",
              "    </tr>\n",
              "    <tr>\n",
              "      <th>9</th>\n",
              "      <td>N0CoaG3cBrTGm2ecLYSzqA</td>\n",
              "      <td>Lotus of Siam</td>\n",
              "      <td>355</td>\n",
              "    </tr>\n",
              "  </tbody>\n",
              "</table>\n",
              "</div>"
            ],
            "text/plain": [
              "              business_id                  business_name  5_stars_count\n",
              "0  vHz2RLtfUMVRPFmd7VBEHA   Gordon Ramsay Hell's Kitchen           1175\n",
              "1  QXV3L_QFGj8r6nWX2kS2hA                    Nacho Daddy            744\n",
              "2  faPVqws-x-5k2CQKDNtHxw  Yardbird Southern Table & Bar            726\n",
              "3  mDR12Hafvr84ctpsV6YLag                       Mr Mamas            516\n",
              "4  4JNXUYY8wbaaDmk3BPzlWw                   Mon Ami Gabi            439\n",
              "5  RESDUcs7fIiihp38-d6_6g               Bacchanal Buffet            428\n",
              "6  hihud--QRriCYZw1zZvW4g       Gangnam Asian BBQ Dining            403\n",
              "7  IWN2heYitkg-D4UdqfxcMA             HEXX kitchen + bar            402\n",
              "8  xfWdUmrz2ha3rcigyITV0g           Gordon Ramsay Burger            355\n",
              "9  N0CoaG3cBrTGm2ecLYSzqA                  Lotus of Siam            355"
            ]
          },
          "metadata": {
            "tags": []
          },
          "execution_count": 39
        }
      ]
    },
    {
      "cell_type": "code",
      "metadata": {
        "id": "a6qZQ1Fn6Cup",
        "colab_type": "code",
        "outputId": "7c803ccc-324f-4765-a4da-fbbb835763ce",
        "colab": {
          "base_uri": "https://localhost:8080/",
          "height": 363
        }
      },
      "source": [
        "query = \"\"\"\n",
        "SELECT date_format(review_date, 'yyyy-MM') review_month,\n",
        "stars, COUNT(*) stars_count\n",
        "FROM reviews\n",
        "GROUP BY date_format(review_date, 'yyyy-MM'), stars\n",
        "ORDER BY 1,2\n",
        "\"\"\"\n",
        "\n",
        "# run the query and convert the results into Pandas dataframe\n",
        "df_review_summary = spark.sql(query).toPandas()\n",
        "df_review_summary.tail(10)\n"
      ],
      "execution_count": 0,
      "outputs": [
        {
          "output_type": "execute_result",
          "data": {
            "text/html": [
              "<div>\n",
              "<style scoped>\n",
              "    .dataframe tbody tr th:only-of-type {\n",
              "        vertical-align: middle;\n",
              "    }\n",
              "\n",
              "    .dataframe tbody tr th {\n",
              "        vertical-align: top;\n",
              "    }\n",
              "\n",
              "    .dataframe thead th {\n",
              "        text-align: right;\n",
              "    }\n",
              "</style>\n",
              "<table border=\"1\" class=\"dataframe\">\n",
              "  <thead>\n",
              "    <tr style=\"text-align: right;\">\n",
              "      <th></th>\n",
              "      <th>review_month</th>\n",
              "      <th>stars</th>\n",
              "      <th>stars_count</th>\n",
              "    </tr>\n",
              "  </thead>\n",
              "  <tbody>\n",
              "    <tr>\n",
              "      <th>793</th>\n",
              "      <td>2018-10</td>\n",
              "      <td>1.0</td>\n",
              "      <td>2095</td>\n",
              "    </tr>\n",
              "    <tr>\n",
              "      <th>794</th>\n",
              "      <td>2018-10</td>\n",
              "      <td>2.0</td>\n",
              "      <td>1081</td>\n",
              "    </tr>\n",
              "    <tr>\n",
              "      <th>795</th>\n",
              "      <td>2018-10</td>\n",
              "      <td>3.0</td>\n",
              "      <td>1493</td>\n",
              "    </tr>\n",
              "    <tr>\n",
              "      <th>796</th>\n",
              "      <td>2018-10</td>\n",
              "      <td>4.0</td>\n",
              "      <td>2914</td>\n",
              "    </tr>\n",
              "    <tr>\n",
              "      <th>797</th>\n",
              "      <td>2018-10</td>\n",
              "      <td>5.0</td>\n",
              "      <td>8253</td>\n",
              "    </tr>\n",
              "    <tr>\n",
              "      <th>798</th>\n",
              "      <td>2018-11</td>\n",
              "      <td>1.0</td>\n",
              "      <td>1100</td>\n",
              "    </tr>\n",
              "    <tr>\n",
              "      <th>799</th>\n",
              "      <td>2018-11</td>\n",
              "      <td>2.0</td>\n",
              "      <td>518</td>\n",
              "    </tr>\n",
              "    <tr>\n",
              "      <th>800</th>\n",
              "      <td>2018-11</td>\n",
              "      <td>3.0</td>\n",
              "      <td>678</td>\n",
              "    </tr>\n",
              "    <tr>\n",
              "      <th>801</th>\n",
              "      <td>2018-11</td>\n",
              "      <td>4.0</td>\n",
              "      <td>1359</td>\n",
              "    </tr>\n",
              "    <tr>\n",
              "      <th>802</th>\n",
              "      <td>2018-11</td>\n",
              "      <td>5.0</td>\n",
              "      <td>4030</td>\n",
              "    </tr>\n",
              "  </tbody>\n",
              "</table>\n",
              "</div>"
            ],
            "text/plain": [
              "    review_month  stars  stars_count\n",
              "793      2018-10    1.0         2095\n",
              "794      2018-10    2.0         1081\n",
              "795      2018-10    3.0         1493\n",
              "796      2018-10    4.0         2914\n",
              "797      2018-10    5.0         8253\n",
              "798      2018-11    1.0         1100\n",
              "799      2018-11    2.0          518\n",
              "800      2018-11    3.0          678\n",
              "801      2018-11    4.0         1359\n",
              "802      2018-11    5.0         4030"
            ]
          },
          "metadata": {
            "tags": []
          },
          "execution_count": 40
        }
      ]
    },
    {
      "cell_type": "code",
      "metadata": {
        "id": "-ROEkvqvwILc",
        "colab_type": "code",
        "outputId": "63c09cd7-2d08-4a0c-8fa6-5ed08b21988d",
        "colab": {
          "base_uri": "https://localhost:8080/",
          "height": 156
        }
      },
      "source": [
        "df_review_summary.info()"
      ],
      "execution_count": 0,
      "outputs": [
        {
          "output_type": "stream",
          "text": [
            "<class 'pandas.core.frame.DataFrame'>\n",
            "RangeIndex: 803 entries, 0 to 802\n",
            "Data columns (total 3 columns):\n",
            "review_month    803 non-null object\n",
            "stars           803 non-null float64\n",
            "stars_count     803 non-null int64\n",
            "dtypes: float64(1), int64(1), object(1)\n",
            "memory usage: 18.9+ KB\n"
          ],
          "name": "stdout"
        }
      ]
    },
    {
      "cell_type": "code",
      "metadata": {
        "id": "4m3iNvbqWqHz",
        "colab_type": "code",
        "colab": {}
      },
      "source": [
        "\n"
      ],
      "execution_count": 0,
      "outputs": []
    },
    {
      "cell_type": "code",
      "metadata": {
        "id": "DAU708leWxwT",
        "colab_type": "code",
        "outputId": "ad44c401-81f0-4a38-a5b9-9c4a0c764a55",
        "colab": {
          "base_uri": "https://localhost:8080/",
          "height": 49
        }
      },
      "source": [
        "df_review_summary[df_review_summary.review_month.isnull()]"
      ],
      "execution_count": 0,
      "outputs": [
        {
          "output_type": "execute_result",
          "data": {
            "text/html": [
              "<div>\n",
              "<style scoped>\n",
              "    .dataframe tbody tr th:only-of-type {\n",
              "        vertical-align: middle;\n",
              "    }\n",
              "\n",
              "    .dataframe tbody tr th {\n",
              "        vertical-align: top;\n",
              "    }\n",
              "\n",
              "    .dataframe thead th {\n",
              "        text-align: right;\n",
              "    }\n",
              "</style>\n",
              "<table border=\"1\" class=\"dataframe\">\n",
              "  <thead>\n",
              "    <tr style=\"text-align: right;\">\n",
              "      <th></th>\n",
              "      <th>review_month</th>\n",
              "      <th>stars</th>\n",
              "      <th>stars_count</th>\n",
              "    </tr>\n",
              "  </thead>\n",
              "  <tbody>\n",
              "  </tbody>\n",
              "</table>\n",
              "</div>"
            ],
            "text/plain": [
              "Empty DataFrame\n",
              "Columns: [review_month, stars, stars_count]\n",
              "Index: []"
            ]
          },
          "metadata": {
            "tags": []
          },
          "execution_count": 42
        }
      ]
    },
    {
      "cell_type": "code",
      "metadata": {
        "id": "ezpmM39lwkE0",
        "colab_type": "code",
        "outputId": "b8604851-cc98-4977-f28d-c9adc4f4a570",
        "colab": {
          "base_uri": "https://localhost:8080/",
          "height": 156
        }
      },
      "source": [
        "# change the review_month data type to Date\n",
        "df_review_summary[\"review_date\"] = df_review_summary.review_month + '-01'\n",
        "df_review_summary[\"review_month\"] = df_review_summary.review_date.astype('datetime64[ns]')\n",
        "df_review_summary.drop('review_date', axis=1, inplace=True)\n",
        "df_review_summary.info()"
      ],
      "execution_count": 0,
      "outputs": [
        {
          "output_type": "stream",
          "text": [
            "<class 'pandas.core.frame.DataFrame'>\n",
            "RangeIndex: 803 entries, 0 to 802\n",
            "Data columns (total 3 columns):\n",
            "review_month    803 non-null datetime64[ns]\n",
            "stars           803 non-null float64\n",
            "stars_count     803 non-null int64\n",
            "dtypes: datetime64[ns](1), float64(1), int64(1)\n",
            "memory usage: 18.9 KB\n"
          ],
          "name": "stdout"
        }
      ]
    },
    {
      "cell_type": "code",
      "metadata": {
        "id": "mOBua0Enw6gd",
        "colab_type": "code",
        "outputId": "b9fc63e9-5d86-403e-e1bb-eaf70b1561c0",
        "colab": {
          "base_uri": "https://localhost:8080/",
          "height": 427
        }
      },
      "source": [
        "fig, ax = plt.subplots(figsize=(12, 6))\n",
        "sns.barplot(x='stars', y='stars_count', data=df_review_summary, ax=ax)\n",
        "ax.set_xlabel('review rating')\n",
        "ax.set_ylabel('count')\n",
        "ax.set_title('Review Rating Count')\n"
      ],
      "execution_count": 0,
      "outputs": [
        {
          "output_type": "execute_result",
          "data": {
            "text/plain": [
              "Text(0.5, 1.0, 'Review Rating Count')"
            ]
          },
          "metadata": {
            "tags": []
          },
          "execution_count": 44
        },
        {
          "output_type": "display_data",
          "data": {
            "image/png": "[encoded data removed]",
            "text/plain": [
              "<Figure size 864x432 with 1 Axes>"
            ]
          },
          "metadata": {
            "tags": []
          }
        }
      ]
    },
    {
      "cell_type": "markdown",
      "metadata": {
        "id": "1xHAdSOgYSMd",
        "colab_type": "text"
      },
      "source": [
        "___people tend to rate in the range of 4 an 5 stars___"
      ]
    },
    {
      "cell_type": "code",
      "metadata": {
        "id": "3QccXtvOxGvg",
        "colab_type": "code",
        "outputId": "19aded3d-1172-4b4b-c8f8-115952ed960d",
        "colab": {
          "base_uri": "https://localhost:8080/",
          "height": 407
        }
      },
      "source": [
        "fig, ax = plt.subplots(figsize=(13, 6))\n",
        "\n",
        "df_review_summary.plot(kind='line', x='review_month', y='stars_count', legend=False, ax=ax)\n",
        "ax.set_xlabel('review date')\n",
        "ax.set_ylabel('review count')\n",
        "ax.set_title('Review Count History')\n"
      ],
      "execution_count": 0,
      "outputs": [
        {
          "output_type": "execute_result",
          "data": {
            "text/plain": [
              "Text(0.5, 1.0, 'Review Count History')"
            ]
          },
          "metadata": {
            "tags": []
          },
          "execution_count": 45
        },
        {
          "output_type": "display_data",
          "data": {
            "image/png": "[encoded data removed]",
            "text/plain": [
              "<Figure size 936x432 with 1 Axes>"
            ]
          },
          "metadata": {
            "tags": []
          }
        }
      ]
    },
    {
      "cell_type": "markdown",
      "metadata": {
        "id": "VVXVmBFzYjXk",
        "colab_type": "text"
      },
      "source": [
        "## Reviews are increasing over time ... more people are using the Yelp system \n"
      ]
    },
    {
      "cell_type": "code",
      "metadata": {
        "id": "CHV5ewEXxbV6",
        "colab_type": "code",
        "outputId": "eecb09ae-b20e-431a-bbda-29f3f7a87d93",
        "colab": {
          "base_uri": "https://localhost:8080/",
          "height": 407
        }
      },
      "source": [
        "fig, ax = plt.subplots(figsize=(13, 6))\n",
        "\n",
        "labels = []\n",
        "for key, grp in df_review_summary.groupby(['stars']):\n",
        "    ax = grp.plot(ax=ax, kind='line', x='review_month', y='stars_count')\n",
        "    labels.append(key)\n",
        "lines, _ = ax.get_legend_handles_labels()\n",
        "ax.legend(lines, labels, loc='best')\n",
        "ax.set_xlabel('review date')\n",
        "ax.set_ylabel('review count')\n",
        "ax.set_title('Review Ratings History')\n",
        "\n"
      ],
      "execution_count": 0,
      "outputs": [
        {
          "output_type": "execute_result",
          "data": {
            "text/plain": [
              "Text(0.5, 1.0, 'Review Ratings History')"
            ]
          },
          "metadata": {
            "tags": []
          },
          "execution_count": 46
        },
        {
          "output_type": "display_data",
          "data": {
            "image/png": "[encoded data removed]",
            "text/plain": [
              "<Figure size 936x432 with 1 Axes>"
            ]
          },
          "metadata": {
            "tags": []
          }
        }
      ]
    },
    {
      "cell_type": "code",
      "metadata": {
        "id": "x-e15OdFYuCG",
        "colab_type": "code",
        "outputId": "2bcada45-3873-4aad-b1a8-94abdcc3acdf",
        "colab": {
          "base_uri": "https://localhost:8080/",
          "height": 89
        }
      },
      "source": [
        "# show some bad review text from the SQL view\n",
        "\n",
        "query = \"\"\"\n",
        "SELECT\n",
        "    review_text\n",
        "FROM reviews\n",
        "WHERE stars = 1\n",
        "LIMIT 10\n",
        "\"\"\"\n",
        "\n",
        "bad_review_sample = spark.sql(query).rdd.take(1)[0][0]\n",
        "print('bad review sample: \\n\\n' + bad_review_sample)"
      ],
      "execution_count": 0,
      "outputs": [
        {
          "output_type": "stream",
          "text": [
            "bad review sample: \n",
            "\n",
            "We had dinner at the Bellagio Buffet last night. The service was OK. Our server was great but kind of forgot about us towards the end of our visit. The food was cold. The only good thing there was the crab legs because they're suppose to be cold and the tacos because it was freshly made. The food was under a single lamp that didn't heat the food at all. We let the server know that the food was cold and he told the manager that was in charge. All she did was come over to ask what the problem was and said she was going to talk to the chief. Have no idea what actually happened though because we didn't see her after that. Half the buffet was closed as well so there wasn't that many options. I must say i rather go to the Rio buffet. For a high end casino this was a horrible experience.\n"
          ],
          "name": "stdout"
        }
      ]
    },
    {
      "cell_type": "code",
      "metadata": {
        "id": "7x0Kpx1IZWqY",
        "colab_type": "code",
        "outputId": "70c238b3-e07c-47f4-a1b9-7f6f0b3d0fd2",
        "colab": {
          "base_uri": "https://localhost:8080/",
          "height": 69
        }
      },
      "source": [
        "# show some good review text from the SQL view\n",
        "\n",
        "query = \"\"\"\n",
        "SELECT\n",
        "    review_text\n",
        "FROM reviews\n",
        "WHERE stars = 5\n",
        "LIMIT 10\n",
        "\"\"\"\n",
        "\n",
        "good_review_sample = spark.sql(query).rdd.take(1)[0][0]\n",
        "print('good review sample: \\n\\n' + good_review_sample)"
      ],
      "execution_count": 0,
      "outputs": [
        {
          "output_type": "stream",
          "text": [
            "good review sample: \n",
            "\n",
            "Pick any meat on the planet and the chef will make a Mexican style dish with amazing flavor! Wow, fish and lamb tacos to die for. Drinks are great as well.\n"
          ],
          "name": "stdout"
        }
      ]
    },
    {
      "cell_type": "markdown",
      "metadata": {
        "id": "3tFV_n5Ad1Hr",
        "colab_type": "text"
      },
      "source": [
        "## Text Preprocessing and Analysis"
      ]
    },
    {
      "cell_type": "markdown",
      "metadata": {
        "id": "6PXdp_ktd--_",
        "colab_type": "text"
      },
      "source": [
        "Since the review text will be used to build the features for the content-filtering based recommendation, the following steps will be performed to analyse the reviews:\n",
        "\n",
        "- Concatenate review text for each business\n",
        "- Tokenize concatenated text\n",
        "- Remove stop words from the Tokens\n",
        "- Perform some Topic Modeling\n",
        "- Word cloud\n"
      ]
    },
    {
      "cell_type": "markdown",
      "metadata": {
        "id": "30Lj-NkIeRzQ",
        "colab_type": "text"
      },
      "source": [
        "##### Concatenate review text for each business"
      ]
    },
    {
      "cell_type": "code",
      "metadata": {
        "id": "rIPX6uHpeSgY",
        "colab_type": "code",
        "colab": {}
      },
      "source": [
        "# create review text dataframe\n",
        "\n",
        "reviews_text = spark.sql(\"SELECT business_id, review_text FROM reviews\")"
      ],
      "execution_count": 0,
      "outputs": []
    },
    {
      "cell_type": "code",
      "metadata": {
        "id": "p_GZIjGfeZbJ",
        "colab_type": "code",
        "outputId": "5d7576d7-bd0b-42ff-d74a-7d4cf689d725",
        "colab": {
          "base_uri": "https://localhost:8080/",
          "height": 170
        }
      },
      "source": [
        "reviews_text.show(3)\n"
      ],
      "execution_count": 0,
      "outputs": [
        {
          "output_type": "stream",
          "text": [
            "+--------------------+--------------------+\n",
            "|         business_id|         review_text|\n",
            "+--------------------+--------------------+\n",
            "|I4Nr-MVc26qWr08-S...|The food is alway...|\n",
            "|d_L-rfS1vT3JMzgCU...|Pick any meat on ...|\n",
            "|Sfc8Haz2Yri8Mo1L0...|Great food, great...|\n",
            "+--------------------+--------------------+\n",
            "only showing top 3 rows\n",
            "\n"
          ],
          "name": "stdout"
        }
      ]
    },
    {
      "cell_type": "code",
      "metadata": {
        "id": "tgdUan8KeePi",
        "colab_type": "code",
        "outputId": "5fd11d7d-2387-4db5-ddba-22ea411c14d7",
        "colab": {
          "base_uri": "https://localhost:8080/",
          "height": 34
        }
      },
      "source": [
        "# create RDD from review text dataframe and use it to concatenate the text for each business\n",
        "\n",
        "reviews_text_rdd = reviews_text.rdd\n",
        "reviews_by_business_rdd = reviews_text_rdd.map(tuple).reduceByKey(add)  \n",
        "reviews_by_business_df = spark.createDataFrame(reviews_by_business_rdd)\n",
        "reviews_by_business_df = reviews_by_business_df \\\n",
        "                            .withColumnRenamed('_1', 'business_id') \\\n",
        "                            .withColumnRenamed('_2', 'text')\n",
        "reviews_by_business_df.count()   "
      ],
      "execution_count": 0,
      "outputs": [
        {
          "output_type": "execute_result",
          "data": {
            "text/plain": [
              "5909"
            ]
          },
          "metadata": {
            "tags": []
          },
          "execution_count": 69
        }
      ]
    },
    {
      "cell_type": "code",
      "metadata": {
        "id": "63H07HNYk9Wx",
        "colab_type": "code",
        "outputId": "5d937ede-8369-4d62-958c-6f24c181900d",
        "colab": {
          "base_uri": "https://localhost:8080/",
          "height": 173
        }
      },
      "source": [
        "reviews_by_business_df.show(3)"
      ],
      "execution_count": 0,
      "outputs": [
        {
          "output_type": "stream",
          "text": [
            "+--------------------+--------------------+\n",
            "|         business_id|                text|\n",
            "+--------------------+--------------------+\n",
            "|eoyvbnRYQe-z85e8R...|We had dinner her...|\n",
            "|6xgcHeLad-VaoTIQe...|ooooooh yummy.  i...|\n",
            "|YF4QJ_j-PM7cMZja6...|What an awesome p...|\n",
            "+--------------------+--------------------+\n",
            "only showing top 3 rows\n",
            "\n"
          ],
          "name": "stdout"
        }
      ]
    },
    {
      "cell_type": "code",
      "metadata": {
        "id": "C60yHuRElY--",
        "colab_type": "code",
        "outputId": "370a31ea-fe4b-48db-a838-2116ad4450d5",
        "colab": {
          "base_uri": "https://localhost:8080/",
          "height": 170
        }
      },
      "source": [
        "# create tokens from review text\n",
        "\n",
        "\n",
        "regexTokenizer = RegexTokenizer(gaps = False, pattern = '\\w+', inputCol = 'text', outputCol = 'token')\n",
        "\n",
        "reviews_by_business_token_df = regexTokenizer.transform(reviews_by_business_df)\n",
        "reviews_by_business_token_df.show(3)"
      ],
      "execution_count": 0,
      "outputs": [
        {
          "output_type": "stream",
          "text": [
            "+--------------------+--------------------+--------------------+\n",
            "|         business_id|                text|               token|\n",
            "+--------------------+--------------------+--------------------+\n",
            "|eoyvbnRYQe-z85e8R...|We had dinner her...|[we, had, dinner,...|\n",
            "|6xgcHeLad-VaoTIQe...|ooooooh yummy.  i...|[ooooooh, yummy, ...|\n",
            "|YF4QJ_j-PM7cMZja6...|What an awesome p...|[what, an, awesom...|\n",
            "+--------------------+--------------------+--------------------+\n",
            "only showing top 3 rows\n",
            "\n"
          ],
          "name": "stdout"
        }
      ]
    },
    {
      "cell_type": "code",
      "metadata": {
        "id": "DJTSIHm4BUjm",
        "colab_type": "code",
        "outputId": "2a62d780-251a-45ce-c176-af9439f396e9",
        "colab": {
          "base_uri": "https://localhost:8080/",
          "height": 170
        }
      },
      "source": [
        "# remove stop words from tokens\n",
        "\n",
        "stopWordsRemover = StopWordsRemover(inputCol = 'token', outputCol = 'nostopwrd')\n",
        "\n",
        "reviews_by_business_token_nostopwrd_df = stopWordsRemover.transform(reviews_by_business_token_df)\n",
        "reviews_by_business_token_nostopwrd_df.show(3)"
      ],
      "execution_count": 0,
      "outputs": [
        {
          "output_type": "stream",
          "text": [
            "+--------------------+--------------------+--------------------+--------------------+\n",
            "|         business_id|                text|               token|           nostopwrd|\n",
            "+--------------------+--------------------+--------------------+--------------------+\n",
            "|eoyvbnRYQe-z85e8R...|We had dinner her...|[we, had, dinner,...|[dinner, food, ex...|\n",
            "|6xgcHeLad-VaoTIQe...|ooooooh yummy.  i...|[ooooooh, yummy, ...|[ooooooh, yummy, ...|\n",
            "|YF4QJ_j-PM7cMZja6...|What an awesome p...|[what, an, awesom...|[awesome, pool, p...|\n",
            "+--------------------+--------------------+--------------------+--------------------+\n",
            "only showing top 3 rows\n",
            "\n"
          ],
          "name": "stdout"
        }
      ]
    },
    {
      "cell_type": "markdown",
      "metadata": {
        "id": "sB7pzfJMBaSR",
        "colab_type": "text"
      },
      "source": [
        "##### TF-IDF Featurization"
      ]
    },
    {
      "cell_type": "code",
      "metadata": {
        "id": "Y2IEnnJUBa6x",
        "colab_type": "code",
        "outputId": "7fe6a64c-50a7-4ce1-bff6-c97319e2d101",
        "colab": {
          "base_uri": "https://localhost:8080/",
          "height": 170
        }
      },
      "source": [
        "# create vectors (features)\n",
        "\n",
        "countVectorizer = CountVectorizer(inputCol=\"nostopwrd\", outputCol=\"rawFeature\")\n",
        "cv_model = countVectorizer.fit(reviews_by_business_token_nostopwrd_df)\n",
        "reviews_by_business_featurized_df = cv_model.transform(reviews_by_business_token_nostopwrd_df)\n",
        "\n",
        "# get the vovablary  (all words)\n",
        "vocab = cv_model.vocabulary\n",
        "\n",
        "reviews_by_business_featurized_df.show(3)"
      ],
      "execution_count": 0,
      "outputs": [
        {
          "output_type": "stream",
          "text": [
            "+--------------------+--------------------+--------------------+--------------------+--------------------+\n",
            "|         business_id|                text|               token|           nostopwrd|          rawFeature|\n",
            "+--------------------+--------------------+--------------------+--------------------+--------------------+\n",
            "|eoyvbnRYQe-z85e8R...|We had dinner her...|[we, had, dinner,...|[dinner, food, ex...|(260453,[0,1,2,3,...|\n",
            "|6xgcHeLad-VaoTIQe...|ooooooh yummy.  i...|[ooooooh, yummy, ...|[ooooooh, yummy, ...|(260453,[0,1,2,3,...|\n",
            "|YF4QJ_j-PM7cMZja6...|What an awesome p...|[what, an, awesom...|[awesome, pool, p...|(260453,[0,1,2,3,...|\n",
            "+--------------------+--------------------+--------------------+--------------------+--------------------+\n",
            "only showing top 3 rows\n",
            "\n"
          ],
          "name": "stdout"
        }
      ]
    },
    {
      "cell_type": "code",
      "metadata": {
        "id": "ML_EeN8EBgVV",
        "colab_type": "code",
        "colab": {}
      },
      "source": [
        "# create features using IDF (Inverse Document Frequency)\n",
        "\n",
        "iDF = IDF(inputCol=\"rawFeature\", outputCol=\"idf_vec\")\n",
        "idf_model = iDF.fit(reviews_by_business_featurized_df)\n",
        "reviews_by_business_rescaled_df = idf_model.transform(reviews_by_business_featurized_df) \n",
        "\n",
        "reviews_by_business_rescaled_df.select('business_id','nostopwrd','rawFeature', 'idf_vec').show(3)"
      ],
      "execution_count": 0,
      "outputs": []
    },
    {
      "cell_type": "markdown",
      "metadata": {
        "id": "crjjtVj4urwz",
        "colab_type": "text"
      },
      "source": [
        "##### Word2Vec Featurization"
      ]
    },
    {
      "cell_type": "code",
      "metadata": {
        "id": "xufUHZWID1m8",
        "colab_type": "code",
        "colab": {}
      },
      "source": [
        "# create features using Word2Vec -- very resource intensive operation\n",
        "model_path='drive/My Drive/Dataset/Model'\n",
        "word2Vec = Word2Vec(vectorSize = 100, minCount = 5, inputCol = 'nostopwrd', outputCol = 'word_vec')\n",
        "word2Vec_model = word2Vec.fit(reviews_by_business_token_nostopwrd_df)\n",
        "\n",
        "# save the word2vec model\n",
        "word2Vec_model.write().overwrite().save(model_path + 'word2Vec')\n"
      ],
      "execution_count": 0,
      "outputs": []
    },
    {
      "cell_type": "code",
      "metadata": {
        "id": "qgKlkMLt0LrJ",
        "colab_type": "code",
        "colab": {}
      },
      "source": [
        "# load the word2vec trained model\n",
        "\n",
        "word2Vec_mdl = Word2VecModel.load(model_path + 'word2Vec')"
      ],
      "execution_count": 0,
      "outputs": []
    },
    {
      "cell_type": "code",
      "metadata": {
        "id": "SGpo06Gb0LvJ",
        "colab_type": "code",
        "colab": {}
      },
      "source": [
        "# create word2vec vectors from nostopwrd\n",
        "\n",
        "reviews_by_business_vec_df = word2Vec_mdl.transform(reviews_by_business_rescaled_df)\n",
        "reviews_by_business_vec_df.select('business_id','nostopwrd','rawFeature', 'idf_vec', 'word_vec').show(3)\n"
      ],
      "execution_count": 0,
      "outputs": []
    },
    {
      "cell_type": "code",
      "metadata": {
        "id": "qkAwW0sG0L1S",
        "colab_type": "code",
        "colab": {}
      },
      "source": [
        "reviews_by_business_vec_df.select('business_id','text', 'token','nostopwrd', 'idf_vec', 'word_vec').limit(3).toPandas()"
      ],
      "execution_count": 0,
      "outputs": []
    },
    {
      "cell_type": "markdown",
      "metadata": {
        "id": "67_fSiz_EVhA",
        "colab_type": "text"
      },
      "source": [
        "##### Test Word2Vec\n"
      ]
    },
    {
      "cell_type": "code",
      "metadata": {
        "id": "LHFjtkRT0L4u",
        "colab_type": "code",
        "colab": {}
      },
      "source": [
        "word2Vec_mdl.findSynonyms('chinese', 5).show()"
      ],
      "execution_count": 0,
      "outputs": []
    },
    {
      "cell_type": "code",
      "metadata": {
        "id": "JueBFisG0L71",
        "colab_type": "code",
        "colab": {}
      },
      "source": [
        "word2Vec_mdl.findSynonyms('good', 5).show()"
      ],
      "execution_count": 0,
      "outputs": []
    },
    {
      "cell_type": "code",
      "metadata": {
        "id": "xLsrdITV0L_M",
        "colab_type": "code",
        "colab": {}
      },
      "source": [
        "word2Vec_mdl.findSynonyms('tacos', 5).show()"
      ],
      "execution_count": 0,
      "outputs": []
    },
    {
      "cell_type": "markdown",
      "metadata": {
        "id": "bjw2qrdRE1pz",
        "colab_type": "text"
      },
      "source": [
        "### Topic Modelling\n"
      ]
    },
    {
      "cell_type": "code",
      "metadata": {
        "id": "sISsvIgL0MCF",
        "colab_type": "code",
        "colab": {}
      },
      "source": [
        "# create LDA model -- very resource intensive operation\n",
        "model_path='drive/My Drive/Dataset/Model'\n",
        "lDA = LDA(k=10, seed=123, optimizer='online', featuresCol='rawFeature')\n",
        "lda_model = lDA.fit(reviews_by_business_rescaled_df)\n",
        "\n",
        "# save the lda model\n",
        "lda_model.write().overwrite().save(model_path + 'lda')"
      ],
      "execution_count": 0,
      "outputs": []
    },
    {
      "cell_type": "code",
      "metadata": {
        "id": "-ZB_Cfb00ME9",
        "colab_type": "code",
        "colab": {}
      },
      "source": [
        "#load the LDA_model\n",
        "\n",
        "lda_mdl = LocalLDAModel.load(model_path + 'lda')\n"
      ],
      "execution_count": 0,
      "outputs": []
    },
    {
      "cell_type": "code",
      "metadata": {
        "id": "sySENids0MHm",
        "colab_type": "code",
        "colab": {}
      },
      "source": [
        "ldatopics = lda_mdl.describeTopics()\n",
        "\n",
        "ldatopics.show(10)"
      ],
      "execution_count": 0,
      "outputs": []
    },
    {
      "cell_type": "code",
      "metadata": {
        "id": "tVYi7NGW0MKs",
        "colab_type": "code",
        "colab": {}
      },
      "source": [
        "# show the topics\n",
        "\n",
        "topics = lda_mdl.describeTopics()\n",
        "topics_rdd = topics.rdd\n",
        "topics_words = topics_rdd\\\n",
        "       .map(lambda row: row['termIndices'])\\\n",
        "       .map(lambda idx_list: [vocab[idx] for idx in idx_list])\\\n",
        "       .collect()\n",
        "\n",
        "for idx, topic in enumerate(topics_words):\n",
        "\n",
        "    print(\"---------\")\n",
        "    \n",
        "    topic_words = ''\n",
        "    \n",
        "    for word in topic:\n",
        "        topic_words = topic_words + ' ' + word\n",
        "    print(\"topic: \"+ str(idx) + ': ' + topic_words)"
      ],
      "execution_count": 0,
      "outputs": []
    },
    {
      "cell_type": "code",
      "metadata": {
        "id": "7gI0Mjfw0MNi",
        "colab_type": "code",
        "colab": {}
      },
      "source": [
        "# add the token count \n",
        "\n",
        "token_len = udf(lambda s: len(s), IntegerType())\n",
        "\n",
        "reviews_by_business_vec_df = reviews_by_business_vec_df \\\n",
        "                                .withColumn(\"token_cnt\", token_len(reviews_by_business_vec_df.nostopwrd))\n",
        "reviews_by_business_vec_df.select('business_id','nostopwrd','rawFeature', 'idf_vec', 'word_vec', 'token_cnt').show(2)"
      ],
      "execution_count": 0,
      "outputs": []
    },
    {
      "cell_type": "code",
      "metadata": {
        "id": "xktG-Lc70MQh",
        "colab_type": "code",
        "colab": {}
      },
      "source": [
        "# create a business_summary dataframe to be used for furher analysis\n",
        "\n",
        "a = reviews_by_business_vec_df.alias(\"a\")\n",
        "b = business_df.alias(\"b\")\n",
        "    \n",
        "bus_summary = a.join(b, col(\"a.business_id\") == col(\"b.business_id\"), 'inner') \\\n",
        "             .select([col('a.'+xx) for xx in a.columns] + [col('b.business_name'),col('b.categories'),\n",
        "                                                           col('b.stars'),col('b.review_count'),\n",
        "                                                           col('b.latitude'),col('b.longitude')])\n",
        "\n",
        "bus_summary.select('business_id', 'business_name','nostopwrd', 'idf_vec', 'word_vec', 'token_cnt').show(10)    "
      ],
      "execution_count": 0,
      "outputs": []
    },
    {
      "cell_type": "code",
      "metadata": {
        "id": "3xwx15az0MTM",
        "colab_type": "code",
        "colab": {}
      },
      "source": [
        ""
      ],
      "execution_count": 0,
      "outputs": []
    },
    {
      "cell_type": "code",
      "metadata": {
        "id": "Lein3hZ80MVr",
        "colab_type": "code",
        "colab": {}
      },
      "source": [
        ""
      ],
      "execution_count": 0,
      "outputs": []
    },
    {
      "cell_type": "code",
      "metadata": {
        "id": "Uz_5WyMs0MYD",
        "colab_type": "code",
        "colab": {}
      },
      "source": [
        ""
      ],
      "execution_count": 0,
      "outputs": []
    },
    {
      "cell_type": "markdown",
      "metadata": {
        "id": "HxS2AnPv0NCR",
        "colab_type": "text"
      },
      "source": [
        "## Why Topic Modelling\n",
        "\n",
        "\n"
      ]
    },
    {
      "cell_type": "code",
      "metadata": {
        "id": "Q70dJyuO0RYO",
        "colab_type": "code",
        "colab": {}
      },
      "source": [
        ""
      ],
      "execution_count": 0,
      "outputs": []
    }
  ]
}
