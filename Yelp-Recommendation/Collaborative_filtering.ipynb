{
  "nbformat": 4,
  "nbformat_minor": 0,
  "metadata": {
    "colab": {
      "name": "Collaborative filtering.ipynb",
      "provenance": [],
      "include_colab_link": true
    },
    "kernelspec": {
      "name": "python3",
      "display_name": "Python 3"
    },
    "accelerator": "TPU"
  },
  "cells": [
    {
      "cell_type": "markdown",
      "metadata": {
        "id": "view-in-github",
        "colab_type": "text"
      },
      "source": [
        "<a href=\"https://colab.research.google.com/github/sindhu819/Projects/blob/master/Collaborative_filtering.ipynb\" target=\"_parent\"><img src=\"https://colab.research.google.com/assets/colab-badge.svg\" alt=\"Open In Colab\"/></a>"
      ]
    },
    {
      "cell_type": "code",
      "metadata": {
        "id": "XK9sBFInDo8K",
        "colab_type": "code",
        "colab": {}
      },
      "source": [
        "!apt-get install openjdk-8-jdk-headless -qq > /dev/null"
      ],
      "execution_count": 0,
      "outputs": []
    },
    {
      "cell_type": "code",
      "metadata": {
        "id": "A2XMbm30DCxI",
        "colab_type": "code",
        "colab": {}
      },
      "source": [
        "#!pip install databricks-connect && databricks-connect configure\n"
      ],
      "execution_count": 0,
      "outputs": []
    },
    {
      "cell_type": "markdown",
      "metadata": {
        "id": "g85NFqPcS_MM",
        "colab_type": "text"
      },
      "source": [
        "3688821027448397\n",
        "\n",
        "1110-064546-piled91\n",
        "443\n",
        "databricks-connect test\n",
        "\n",
        "https://community.cloud.databricks.com/?o=3688821027448397#/setting/clusters/1110-155822-drier250/configuration"
      ]
    },
    {
      "cell_type": "code",
      "metadata": {
        "id": "CS0Iu2vuD8_1",
        "colab_type": "code",
        "colab": {}
      },
      "source": [
        "!wget -q https://www-us.apache.org/dist/spark/spark-2.4.4/spark-2.4.4-bin-hadoop2.7.tgz"
      ],
      "execution_count": 0,
      "outputs": []
    },
    {
      "cell_type": "code",
      "metadata": {
        "id": "74cL7idvEByF",
        "colab_type": "code",
        "colab": {}
      },
      "source": [
        "!tar xf spark-2.4.4-bin-hadoop2.7.tgz"
      ],
      "execution_count": 0,
      "outputs": []
    },
    {
      "cell_type": "code",
      "metadata": {
        "id": "WmfMTDr2EFFD",
        "colab_type": "code",
        "colab": {}
      },
      "source": [
        "!pip install -q findspark"
      ],
      "execution_count": 0,
      "outputs": []
    },
    {
      "cell_type": "code",
      "metadata": {
        "id": "kChOtgd7EItf",
        "colab_type": "code",
        "colab": {}
      },
      "source": [
        "\n",
        "\n",
        "import findspark\n",
        "findspark.init(\"spark-2.4.4-bin-hadoop2.7\")# SPARK_HOME"
      ],
      "execution_count": 0,
      "outputs": []
    },
    {
      "cell_type": "code",
      "metadata": {
        "id": "YLzJjFuoEJO_",
        "colab_type": "code",
        "colab": {}
      },
      "source": [
        "import os\n",
        "os.environ[\"JAVA_HOME\"] = \"/usr/lib/jvm/java-8-openjdk-amd64\"\n",
        "os.environ[\"SPARK_HOME\"] = \"/content/spark-2.4.4-bin-hadoop2.7\""
      ],
      "execution_count": 0,
      "outputs": []
    },
    {
      "cell_type": "code",
      "metadata": {
        "id": "8oL0yLSuELay",
        "colab_type": "code",
        "colab": {}
      },
      "source": [
        "import numpy as np\n",
        "import pandas as pd\n",
        "import matplotlib.pyplot as plt\n",
        "\n",
        "from pyspark.ml import Pipeline\n",
        "from pyspark.sql.functions import *\n",
        "from pyspark.sql.types import *\n",
        "\n",
        "\n",
        "from pyspark.sql import Row\n",
        "\n",
        "from pyspark.ml.recommendation import ALS, ALSModel\n",
        "from pyspark.ml.tuning import TrainValidationSplit, ParamGridBuilder, CrossValidator\n",
        "from pyspark.ml.evaluation import RegressionEvaluator\n",
        "\n",
        "import folium\n",
        "import html"
      ],
      "execution_count": 0,
      "outputs": []
    },
    {
      "cell_type": "code",
      "metadata": {
        "id": "Q1rQvwUMEPtG",
        "colab_type": "code",
        "outputId": "12db1606-3d2b-4138-c7ae-13cf62c0563e",
        "colab": {
          "base_uri": "https://localhost:8080/",
          "height": 122
        }
      },
      "source": [
        "from google.colab import drive\n",
        "drive.mount('/content/drive')"
      ],
      "execution_count": 0,
      "outputs": [
        {
          "output_type": "stream",
          "text": [
            "Go to this URL in a browser: https://accounts.google.com/o/oauth2/auth?client_id=947318989803-6bn6qk8qdgf4n4g3pfee6491hc0brc4i.apps.googleusercontent.com&redirect_uri=urn%3aietf%3awg%3aoauth%3a2.0%3aoob&response_type=code&scope=email%20https%3a%2f%2fwww.googleapis.com%2fauth%2fdocs.test%20https%3a%2f%2fwww.googleapis.com%2fauth%2fdrive%20https%3a%2f%2fwww.googleapis.com%2fauth%2fdrive.photos.readonly%20https%3a%2f%2fwww.googleapis.com%2fauth%2fpeopleapi.readonly\n",
            "\n",
            "Enter your authorization code:\n",
            "··········\n",
            "Mounted at /content/drive\n"
          ],
          "name": "stdout"
        }
      ]
    },
    {
      "cell_type": "code",
      "metadata": {
        "id": "UIoW9xbIEV18",
        "colab_type": "code",
        "colab": {}
      },
      "source": [
        "import findspark\n",
        "findspark.init()\n",
        "from pyspark.sql import SparkSession\n",
        "spark = SparkSession.builder.getOrCreate()"
      ],
      "execution_count": 0,
      "outputs": []
    },
    {
      "cell_type": "code",
      "metadata": {
        "id": "q_vCMgwzEg3T",
        "colab_type": "code",
        "outputId": "bea08b3c-4e14-4286-c0b2-854da68aa4eb",
        "colab": {
          "base_uri": "https://localhost:8080/",
          "height": 34
        }
      },
      "source": [
        "from google.colab import drive\n",
        "drive.mount('/content/drive')\n"
      ],
      "execution_count": 0,
      "outputs": [
        {
          "output_type": "stream",
          "text": [
            "Drive already mounted at /content/drive; to attempt to forcibly remount, call drive.mount(\"/content/drive\", force_remount=True).\n"
          ],
          "name": "stdout"
        }
      ]
    },
    {
      "cell_type": "code",
      "metadata": {
        "id": "OcY51cQPEkmk",
        "colab_type": "code",
        "colab": {}
      },
      "source": [
        "file=r'/content/drive/My Drive/Project /Data Mining/Dataset/Yelp_Business.csv'\n",
        "business=pd.read_csv(file)"
      ],
      "execution_count": 0,
      "outputs": []
    },
    {
      "cell_type": "code",
      "metadata": {
        "id": "jVOEjL7HF_Nz",
        "colab_type": "code",
        "colab": {}
      },
      "source": [
        "file1=r'/content/drive/My Drive/Project /Data Mining/Dataset/Yelp_Users.csv'\n",
        "users=pd.read_csv(file1)"
      ],
      "execution_count": 0,
      "outputs": []
    },
    {
      "cell_type": "code",
      "metadata": {
        "id": "wfl0LczQEoAO",
        "colab_type": "code",
        "colab": {}
      },
      "source": [
        "business_df = spark.read.csv(file,header=True)"
      ],
      "execution_count": 0,
      "outputs": []
    },
    {
      "cell_type": "markdown",
      "metadata": {
        "id": "-b6a_SauE_7u",
        "colab_type": "text"
      },
      "source": [
        "## Data Loading"
      ]
    },
    {
      "cell_type": "markdown",
      "metadata": {
        "id": "hRbBzdHLFRF6",
        "colab_type": "text"
      },
      "source": [
        "## Business"
      ]
    },
    {
      "cell_type": "code",
      "metadata": {
        "id": "rQowyD1tEqD5",
        "colab_type": "code",
        "outputId": "660882f4-ca0d-4a77-946c-2be44fdd5a2a",
        "colab": {
          "base_uri": "https://localhost:8080/",
          "height": 238
        }
      },
      "source": [
        "# check the dataframe schema\n",
        "\n",
        "business_df.printSchema()"
      ],
      "execution_count": 0,
      "outputs": [
        {
          "output_type": "stream",
          "text": [
            "root\n",
            " |-- business_id: string (nullable = true)\n",
            " |-- business_name: string (nullable = true)\n",
            " |-- address: string (nullable = true)\n",
            " |-- city: string (nullable = true)\n",
            " |-- state: string (nullable = true)\n",
            " |-- postal_code: string (nullable = true)\n",
            " |-- latitude: string (nullable = true)\n",
            " |-- longitude: string (nullable = true)\n",
            " |-- stars: string (nullable = true)\n",
            " |-- review_count: string (nullable = true)\n",
            " |-- categories: string (nullable = true)\n",
            "\n"
          ],
          "name": "stdout"
        }
      ]
    },
    {
      "cell_type": "code",
      "metadata": {
        "id": "04paQn4LFEEf",
        "colab_type": "code",
        "outputId": "86ba6d7a-6034-46ec-972d-edacb3412620",
        "colab": {
          "base_uri": "https://localhost:8080/",
          "height": 479
        }
      },
      "source": [
        "business_df.show()"
      ],
      "execution_count": 0,
      "outputs": [
        {
          "output_type": "stream",
          "text": [
            "+--------------------+--------------------+--------------------+---------+-----+-----------+-------------+---------------+-----+------------+--------------------+\n",
            "|         business_id|       business_name|             address|     city|state|postal_code|     latitude|      longitude|stars|review_count|          categories|\n",
            "+--------------------+--------------------+--------------------+---------+-----+-----------+-------------+---------------+-----+------------+--------------------+\n",
            "|PZ-LZzSlhSe9utkQY...|Carluccio's Tivol...|1775 E Tropicana ...|Las Vegas|   NV|      89119|   36.1000163|   -115.1285285|  4.0|          40|Restaurants, Italian|\n",
            "|tstimHoMcYbkSC4eB...|Maria's Mexican R...|6055 E Lake Mead ...|Las Vegas|   NV|      89156|   36.1956146|   -115.0405289|  4.5|         184|Mexican, Restaura...|\n",
            "|kANF0dbeoW34s2vwh...|         Dairy Queen|6125 Spring Mount...|Las Vegas|   NV|      89146|   36.1250311|   -115.2256202|  2.0|          33|Fast Food, Food, ...|\n",
            "|X8mtoSxY8whtmbDlj...|Imperial Asian Bu...|    4343 N Rancho Dr|Las Vegas|   NV|      89030|    36.238596|   -115.2333307|  2.0|           4|Restaurants, Chinese|\n",
            "|bJP4l_BGq2CudEu0m...|Artisan Fine Dini...|Artisan Hotel, 15...|Las Vegas|   NV|      89102|   36.1436722|   -115.1697916|  2.0|           3|Restaurants, Pizz...|\n",
            "|v7ZFEEqJBg_r8NCwH...|       Bistro Divino|241 W Charleston ...|Las Vegas|   NV|      89102|   36.1582642|   -115.1579672|  4.5|           3|Food, Pizza, Wine...|\n",
            "|6fPQJq4f_yiq1NHn0...|         La Creperie|3655 Las Vegas Bl...|Las Vegas|   NV|      89109|36.1125266402|-115.1713514328|  3.5|         535|French, Restauran...|\n",
            "|k-dDZvTeLysoJvjHI...|        Feast Buffet|   2411 W Sahara Ave|Las Vegas|   NV|      89102|36.1421161808|-115.1742515629|  3.0|         287|Buffets, Restaurants|\n",
            "|4n81G-pmC3rfhmaPs...|Vince Neil's Tatu...| 360 E Tropicana Ave|Las Vegas|   NV|      89169|36.1020497898|   -115.1562883|  4.5|           3|Bars, Sports Bars...|\n",
            "|PWjgwphd2prhtqTPW...|Stage Deli Of Las...|3500 Las Vegas Bl...|Las Vegas|   NV|      89109|   36.1173267|   -115.1765011|  3.5|          28|Sandwiches, Resta...|\n",
            "|eY98EH_PHGnJVaJ7t...|            Pita Pit|1263 Silverado Ra...|Las Vegas|   NV|      89183|    36.012764|    -115.136056|  4.0|          77|Middle Eastern, R...|\n",
            "|iwGhazq9eP51PSerT...|   Mr G's Pub & Grub|3342 E Sandhill R...|Las Vegas|   NV|      89121|   36.1290404|   -115.0912939|  4.0|          27|Dive Bars, Food, ...|\n",
            "|0G83H_zoum-Q4bWU2...|Bonjour Bakery & ...|4012 S Rainbow Bl...|Las Vegas|   NV|      89103|   36.1161693|   -115.2418516|  4.5|          39|Restaurants, Food...|\n",
            "|xXtWrRKn8A708BfaN...|  Coffee, Tea, or Me|2600 W Sahara Ave...|Las Vegas|   NV|      89102|   36.1452198|   -115.1766512|  4.0|          19|Sandwiches, Juice...|\n",
            "|wdsGP5rJinx0J5GcG...|     TJ's Steakhouse|    3000 Paradise Rd|Las Vegas|   NV|      89109|   36.1362575|   -115.1512526|  4.0|          60|Steakhouses, Rest...|\n",
            "|SZ5KO1KNiwtrktKo5...|       Empress Court| 3570 Las Vegas Blvd|Las Vegas|   NV|      89109|   36.1161559|   -115.1750576|  3.5|          21|Seafood, Chinese,...|\n",
            "|LEOvXK3lMEfjnex3C...|Albinas Italian A...|3035 E Tropicana Ave|Las Vegas|   NV|      89121|   36.0992176|   -115.1096599|  4.5|          11|Food, Bakeries, R...|\n",
            "|k2b3niokS_tosjah_...|         Metro Pizza|  6720 Sky Pointe Dr|Las Vegas|   NV|      89131|   36.2836689|   -115.2702841|  3.5|         303|  Restaurants, Pizza|\n",
            "|dusNIzdCaH6EoLl2h...|Chipotle Mexican ...|3475 Las Vegas Bl...|Las Vegas|   NV|      89109|    36.120095|    -115.171769|  3.5|         115|Fast Food, Mexica...|\n",
            "|CTN5Z3fs3jFHfyma8...|Paradise Boba Tea...|1910 Village Cent...|Las Vegas|   NV|      89134|   36.1931903|   -115.3037626|  3.5|          21|Restaurants, Food...|\n",
            "+--------------------+--------------------+--------------------+---------+-----+-----------+-------------+---------------+-----+------------+--------------------+\n",
            "only showing top 20 rows\n",
            "\n"
          ],
          "name": "stdout"
        }
      ]
    },
    {
      "cell_type": "code",
      "metadata": {
        "id": "mzL4dhfyFF9G",
        "colab_type": "code",
        "outputId": "cbf23cbe-57ad-4287-8710-21df4bc26e19",
        "colab": {
          "base_uri": "https://localhost:8080/",
          "height": 34
        }
      },
      "source": [
        "business_df.count()"
      ],
      "execution_count": 0,
      "outputs": [
        {
          "output_type": "execute_result",
          "data": {
            "text/plain": [
              "5909"
            ]
          },
          "metadata": {
            "tags": []
          },
          "execution_count": 18
        }
      ]
    },
    {
      "cell_type": "markdown",
      "metadata": {
        "id": "jLaCp02TFTbk",
        "colab_type": "text"
      },
      "source": [
        "## User"
      ]
    },
    {
      "cell_type": "code",
      "metadata": {
        "id": "jIvAbhX3FJ3k",
        "colab_type": "code",
        "outputId": "c5d09fde-72f5-4a32-b7dc-7add05388dc0",
        "colab": {
          "base_uri": "https://localhost:8080/",
          "height": 204
        }
      },
      "source": [
        "users=spark.read.csv(file1,header=True)\n",
        "\n",
        "# print the schema of the review dataframe\n",
        "users.printSchema()"
      ],
      "execution_count": 0,
      "outputs": [
        {
          "output_type": "stream",
          "text": [
            "root\n",
            " |-- user_id: string (nullable = true)\n",
            " |-- user_name: string (nullable = true)\n",
            " |-- review_count: string (nullable = true)\n",
            " |-- yelping_since: string (nullable = true)\n",
            " |-- useful: string (nullable = true)\n",
            " |-- funny: string (nullable = true)\n",
            " |-- cool: string (nullable = true)\n",
            " |-- fans: string (nullable = true)\n",
            " |-- average_stars: string (nullable = true)\n",
            "\n"
          ],
          "name": "stdout"
        }
      ]
    },
    {
      "cell_type": "markdown",
      "metadata": {
        "id": "tIh0bqqdKMLY",
        "colab_type": "text"
      },
      "source": [
        "## Reviews"
      ]
    },
    {
      "cell_type": "code",
      "metadata": {
        "id": "s-irY5PSG30t",
        "colab_type": "code",
        "outputId": "001cd91f-6fd6-4d9d-8c92-918148b9923b",
        "colab": {
          "base_uri": "https://localhost:8080/",
          "height": 204
        }
      },
      "source": [
        "review_file=r'/content/drive/My Drive/Project /Data Mining/Dataset/Yelp_Reviews.parquet'\n",
        "reviews=spark.read.parquet(review_file)\n",
        "\n",
        "reviews.printSchema()"
      ],
      "execution_count": 0,
      "outputs": [
        {
          "output_type": "stream",
          "text": [
            "root\n",
            " |-- review_id: string (nullable = true)\n",
            " |-- user_id: string (nullable = true)\n",
            " |-- business_id: string (nullable = true)\n",
            " |-- stars: double (nullable = true)\n",
            " |-- review_date: string (nullable = true)\n",
            " |-- review_text: string (nullable = true)\n",
            " |-- useful: long (nullable = true)\n",
            " |-- funny: long (nullable = true)\n",
            " |-- cool: long (nullable = true)\n",
            "\n"
          ],
          "name": "stdout"
        }
      ]
    },
    {
      "cell_type": "code",
      "metadata": {
        "id": "7CxrxztYKzo3",
        "colab_type": "code",
        "outputId": "40449535-27a8-4721-e191-a4c204802785",
        "colab": {
          "base_uri": "https://localhost:8080/",
          "height": 153
        }
      },
      "source": [
        "# show some business records\n",
        "\n",
        "business_df.select('business_id', 'business_name').show(2)"
      ],
      "execution_count": 0,
      "outputs": [
        {
          "output_type": "stream",
          "text": [
            "+--------------------+--------------------+\n",
            "|         business_id|       business_name|\n",
            "+--------------------+--------------------+\n",
            "|PZ-LZzSlhSe9utkQY...|Carluccio's Tivol...|\n",
            "|tstimHoMcYbkSC4eB...|Maria's Mexican R...|\n",
            "+--------------------+--------------------+\n",
            "only showing top 2 rows\n",
            "\n"
          ],
          "name": "stdout"
        }
      ]
    },
    {
      "cell_type": "code",
      "metadata": {
        "id": "vHKa_i-COuWV",
        "colab_type": "code",
        "outputId": "ae72e107-a864-4ec3-f6ff-d4c83899dada",
        "colab": {
          "base_uri": "https://localhost:8080/",
          "height": 170
        }
      },
      "source": [
        "# show some user records\n",
        "\n",
        "users.select('user_id', 'user_name').show(3)"
      ],
      "execution_count": 0,
      "outputs": [
        {
          "output_type": "stream",
          "text": [
            "+--------------------+---------+\n",
            "|             user_id|user_name|\n",
            "+--------------------+---------+\n",
            "|-1zQA2f_syMAdA04P...|     Zach|\n",
            "|-2Pb5d2WBPtbyGT_b...|    mindy|\n",
            "|-3bsS2i9xqjNnIA1f...|      Kim|\n",
            "+--------------------+---------+\n",
            "only showing top 3 rows\n",
            "\n"
          ],
          "name": "stdout"
        }
      ]
    },
    {
      "cell_type": "code",
      "metadata": {
        "id": "s9M66F-KP0qW",
        "colab_type": "code",
        "outputId": "2c07b9e6-8dcb-4e82-f833-41d6cd28c8ba",
        "colab": {
          "base_uri": "https://localhost:8080/",
          "height": 153
        }
      },
      "source": [
        "# show some review records\n",
        "\n",
        "reviews.select('user_id', 'business_id', 'stars').show(2)"
      ],
      "execution_count": 0,
      "outputs": [
        {
          "output_type": "stream",
          "text": [
            "+--------------------+--------------------+-----+\n",
            "|             user_id|         business_id|stars|\n",
            "+--------------------+--------------------+-----+\n",
            "|3CJUJILq7CLHk_9Or...|I4Nr-MVc26qWr08-S...|  4.0|\n",
            "|2mxBNBeFrgDszqGS5...|d_L-rfS1vT3JMzgCU...|  5.0|\n",
            "+--------------------+--------------------+-----+\n",
            "only showing top 2 rows\n",
            "\n"
          ],
          "name": "stdout"
        }
      ]
    },
    {
      "cell_type": "markdown",
      "metadata": {
        "id": "5v1xHHCqQJW-",
        "colab_type": "text"
      },
      "source": [
        "#### Spark ALS implementation requires the rating matrix to have the following data types:"
      ]
    },
    {
      "cell_type": "code",
      "metadata": {
        "id": "-beWEk3LQCrH",
        "colab_type": "code",
        "colab": {}
      },
      "source": [
        "ratings_df_schema = StructType(\n",
        "[StructField('userId', IntegerType()),\n",
        " StructField('businessId', IntegerType()),\n",
        " StructField('rating', DoubleType())]\n",
        ")\n"
      ],
      "execution_count": 0,
      "outputs": []
    },
    {
      "cell_type": "markdown",
      "metadata": {
        "id": "ulmJqNq72Ulc",
        "colab_type": "text"
      },
      "source": [
        "So, we need to map existing string user_id, and business_id to integer values"
      ]
    },
    {
      "cell_type": "code",
      "metadata": {
        "id": "hhwHgsnb2K2E",
        "colab_type": "code",
        "outputId": "354eba42-bcd3-4e62-a8a6-1de6832da08f",
        "colab": {
          "base_uri": "https://localhost:8080/",
          "height": 170
        }
      },
      "source": [
        "# create a new userId column (integer)\n",
        "\n",
        "user_newid_df = spark.createDataFrame(users.rdd.map(lambda x: x[0]).zipWithIndex(), \\\n",
        "        StructType([StructField(\"user_id\", StringType(), True),StructField(\"userId\", IntegerType(), True)]))\n",
        "\n",
        "user_newid_df.show(3)"
      ],
      "execution_count": 0,
      "outputs": [
        {
          "output_type": "stream",
          "text": [
            "+--------------------+------+\n",
            "|             user_id|userId|\n",
            "+--------------------+------+\n",
            "|-1zQA2f_syMAdA04P...|     0|\n",
            "|-2Pb5d2WBPtbyGT_b...|     1|\n",
            "|-3bsS2i9xqjNnIA1f...|     2|\n",
            "+--------------------+------+\n",
            "only showing top 3 rows\n",
            "\n"
          ],
          "name": "stdout"
        }
      ]
    },
    {
      "cell_type": "code",
      "metadata": {
        "id": "QEY2W0Ux2kqn",
        "colab_type": "code",
        "outputId": "66a699d1-9ac5-4341-8684-4230918b681b",
        "colab": {
          "base_uri": "https://localhost:8080/",
          "height": 153
        }
      },
      "source": [
        "# add the new userId column the user dataframe\n",
        "\n",
        "a = users.alias(\"a\")\n",
        "b = user_newid_df.alias(\"b\")\n",
        "    \n",
        "user_new_df = a.join(b, col(\"a.user_id\") == col(\"b.user_id\"), 'inner') \\\n",
        "             .select([col('a.'+xx) for xx in a.columns] + [col('b.userId')])\n",
        "\n",
        "user_new_df.select('userId','user_id', 'user_name').show(2)"
      ],
      "execution_count": 0,
      "outputs": [
        {
          "output_type": "stream",
          "text": [
            "+------+--------------------+---------+\n",
            "|userId|             user_id|user_name|\n",
            "+------+--------------------+---------+\n",
            "|     0|-1zQA2f_syMAdA04P...|     Zach|\n",
            "|     1|-2Pb5d2WBPtbyGT_b...|    mindy|\n",
            "+------+--------------------+---------+\n",
            "only showing top 2 rows\n",
            "\n"
          ],
          "name": "stdout"
        }
      ]
    },
    {
      "cell_type": "code",
      "metadata": {
        "id": "RUmwEL6yEUZw",
        "colab_type": "code",
        "outputId": "89ab71ea-dbe1-480a-f92d-004c5343cce8",
        "colab": {
          "base_uri": "https://localhost:8080/",
          "height": 204
        }
      },
      "source": [
        "# create a new businessId column (integer)\n",
        "\n",
        "business_newid_df = spark.createDataFrame(business_df.rdd.map(lambda x: x[0]).zipWithIndex(), \\\n",
        "        StructType([StructField(\"business_id\", StringType(), True),StructField(\"businessId\", IntegerType(), True)]))\n",
        "\n",
        "business_newid_df.show(5)\n"
      ],
      "execution_count": 0,
      "outputs": [
        {
          "output_type": "stream",
          "text": [
            "+--------------------+----------+\n",
            "|         business_id|businessId|\n",
            "+--------------------+----------+\n",
            "|PZ-LZzSlhSe9utkQY...|         0|\n",
            "|tstimHoMcYbkSC4eB...|         1|\n",
            "|kANF0dbeoW34s2vwh...|         2|\n",
            "|X8mtoSxY8whtmbDlj...|         3|\n",
            "|bJP4l_BGq2CudEu0m...|         4|\n",
            "+--------------------+----------+\n",
            "only showing top 5 rows\n",
            "\n"
          ],
          "name": "stdout"
        }
      ]
    },
    {
      "cell_type": "code",
      "metadata": {
        "id": "I81eBX6ZEhgZ",
        "colab_type": "code",
        "outputId": "c197a9b7-cb79-4a5c-94fd-f9aaa2af5211",
        "colab": {
          "base_uri": "https://localhost:8080/",
          "height": 204
        }
      },
      "source": [
        "# add the new businessId column the business dataframe\n",
        "\n",
        "a = business_df.alias(\"a\")\n",
        "b = business_newid_df.alias(\"b\")\n",
        "    \n",
        "business_new_df = a.join(b, col(\"a.business_id\") == col(\"b.business_id\"), 'inner') \\\n",
        "             .select([col('a.'+xx) for xx in a.columns] + [col('b.businessId')])\n",
        "\n",
        "business_new_df.select('businessId','business_id', 'business_name').show(5)\n"
      ],
      "execution_count": 0,
      "outputs": [
        {
          "output_type": "stream",
          "text": [
            "+----------+--------------------+--------------------+\n",
            "|businessId|         business_id|       business_name|\n",
            "+----------+--------------------+--------------------+\n",
            "|         0|PZ-LZzSlhSe9utkQY...|Carluccio's Tivol...|\n",
            "|         1|tstimHoMcYbkSC4eB...|Maria's Mexican R...|\n",
            "|         2|kANF0dbeoW34s2vwh...|         Dairy Queen|\n",
            "|         3|X8mtoSxY8whtmbDlj...|Imperial Asian Bu...|\n",
            "|         4|bJP4l_BGq2CudEu0m...|Artisan Fine Dini...|\n",
            "+----------+--------------------+--------------------+\n",
            "only showing top 5 rows\n",
            "\n"
          ],
          "name": "stdout"
        }
      ]
    },
    {
      "cell_type": "code",
      "metadata": {
        "id": "Ecjqh7cBGz5U",
        "colab_type": "code",
        "outputId": "ed30514e-33e1-4d24-f21b-9a431ace8e4e",
        "colab": {
          "base_uri": "https://localhost:8080/",
          "height": 289
        }
      },
      "source": [
        "#map new userId and businessId in the review dataframe\n",
        "\n",
        "review_df = reviews.select('user_id', 'business_id', 'stars')\n",
        "\n",
        "\n",
        "# map the userId\n",
        "a = review_df.alias(\"a\")\n",
        "b = user_newid_df.alias(\"b\")\n",
        "    \n",
        "review_userId_df = a.join(b, col(\"a.user_id\") == col(\"b.user_id\"), 'inner') \\\n",
        "                     .select([col('a.'+xx) for xx in a.columns] + [col('b.userId')])\n",
        "\n",
        "# map the businessId\n",
        "a = review_userId_df.alias(\"a\")\n",
        "b = business_newid_df.alias(\"b\")\n",
        "\n",
        "review_userId_businessId_df = a.join(b, col(\"a.business_id\") == col(\"b.business_id\"), 'inner') \\\n",
        "                         .select([col('a.'+xx) for xx in a.columns] + [col('b.businessId')])\n",
        "\n",
        "review_userId_businessId_df.show(10)"
      ],
      "execution_count": 0,
      "outputs": [
        {
          "output_type": "stream",
          "text": [
            "+--------------------+--------------------+-----+------+----------+\n",
            "|             user_id|         business_id|stars|userId|businessId|\n",
            "+--------------------+--------------------+-----+------+----------+\n",
            "|0y8ORuC2X1i1UF6SG...|--9e1ONYQuAa-CB_R...|  5.0|    63|      5052|\n",
            "|3qz_dfwbFwTQeDRzy...|--9e1ONYQuAa-CB_R...|  5.0|   165|      5052|\n",
            "|9spixZHaqC1JeN1ld...|--9e1ONYQuAa-CB_R...|  2.0|   338|      5052|\n",
            "|A4GnBOU7ZCTcoQK4e...|--9e1ONYQuAa-CB_R...|  5.0|   349|      5052|\n",
            "|FtUDjNLhVjlIoeFKm...|--9e1ONYQuAa-CB_R...|  4.0|   522|      5052|\n",
            "|H0tfWQsGjEBuhXD4W...|--9e1ONYQuAa-CB_R...|  5.0|   561|      5052|\n",
            "|R0KVWeN9xR-F6j4z5...|--9e1ONYQuAa-CB_R...|  4.0|   910|      5052|\n",
            "|XZaCs-Gs0SXdZgfG3...|--9e1ONYQuAa-CB_R...|  4.0|  1111|      5052|\n",
            "|dSGINC_8KV6fxNjeQ...|--9e1ONYQuAa-CB_R...|  5.0|  1326|      5052|\n",
            "|n9DJHwgYflQ_ms8gB...|--9e1ONYQuAa-CB_R...|  3.0|  1618|      5052|\n",
            "+--------------------+--------------------+-----+------+----------+\n",
            "only showing top 10 rows\n",
            "\n"
          ],
          "name": "stdout"
        }
      ]
    },
    {
      "cell_type": "markdown",
      "metadata": {
        "id": "FY1v9zbmHJxl",
        "colab_type": "text"
      },
      "source": [
        "## Collaborative Fltering"
      ]
    },
    {
      "cell_type": "code",
      "metadata": {
        "id": "N3viHZwzHMTv",
        "colab_type": "code",
        "outputId": "b778599f-303e-4184-9d18-123dbedcd394",
        "colab": {
          "base_uri": "https://localhost:8080/",
          "height": 255
        }
      },
      "source": [
        "# create the rating dataframe required by the ALS model\n",
        "\n",
        "rating_df = review_userId_businessId_df.select('userId', 'businessId', review_userId_businessId_df.stars.cast('float').alias('rating'))\n",
        "rating_df.show(2)\n",
        "print(' Rating matrx no. of rows :', rating_df.count())\n",
        "rating_df.printSchema()\n"
      ],
      "execution_count": 0,
      "outputs": [
        {
          "output_type": "stream",
          "text": [
            "+------+----------+------+\n",
            "|userId|businessId|rating|\n",
            "+------+----------+------+\n",
            "|    63|      5052|   5.0|\n",
            "|   165|      5052|   5.0|\n",
            "+------+----------+------+\n",
            "only showing top 2 rows\n",
            "\n",
            " Rating matrx no. of rows : 1076129\n",
            "root\n",
            " |-- userId: integer (nullable = true)\n",
            " |-- businessId: integer (nullable = true)\n",
            " |-- rating: float (nullable = true)\n",
            "\n"
          ],
          "name": "stdout"
        }
      ]
    },
    {
      "cell_type": "code",
      "metadata": {
        "id": "W0PcL5oOHe4R",
        "colab_type": "code",
        "outputId": "73a7bab3-40bc-4e6a-8b55-592ccdd75048",
        "colab": {
          "base_uri": "https://localhost:8080/",
          "height": 204
        }
      },
      "source": [
        "rating_df.limit(5).toPandas()"
      ],
      "execution_count": 0,
      "outputs": [
        {
          "output_type": "execute_result",
          "data": {
            "text/html": [
              "<div>\n",
              "<style scoped>\n",
              "    .dataframe tbody tr th:only-of-type {\n",
              "        vertical-align: middle;\n",
              "    }\n",
              "\n",
              "    .dataframe tbody tr th {\n",
              "        vertical-align: top;\n",
              "    }\n",
              "\n",
              "    .dataframe thead th {\n",
              "        text-align: right;\n",
              "    }\n",
              "</style>\n",
              "<table border=\"1\" class=\"dataframe\">\n",
              "  <thead>\n",
              "    <tr style=\"text-align: right;\">\n",
              "      <th></th>\n",
              "      <th>userId</th>\n",
              "      <th>businessId</th>\n",
              "      <th>rating</th>\n",
              "    </tr>\n",
              "  </thead>\n",
              "  <tbody>\n",
              "    <tr>\n",
              "      <th>0</th>\n",
              "      <td>63</td>\n",
              "      <td>5052</td>\n",
              "      <td>5.0</td>\n",
              "    </tr>\n",
              "    <tr>\n",
              "      <th>1</th>\n",
              "      <td>165</td>\n",
              "      <td>5052</td>\n",
              "      <td>5.0</td>\n",
              "    </tr>\n",
              "    <tr>\n",
              "      <th>2</th>\n",
              "      <td>338</td>\n",
              "      <td>5052</td>\n",
              "      <td>2.0</td>\n",
              "    </tr>\n",
              "    <tr>\n",
              "      <th>3</th>\n",
              "      <td>349</td>\n",
              "      <td>5052</td>\n",
              "      <td>5.0</td>\n",
              "    </tr>\n",
              "    <tr>\n",
              "      <th>4</th>\n",
              "      <td>522</td>\n",
              "      <td>5052</td>\n",
              "      <td>4.0</td>\n",
              "    </tr>\n",
              "  </tbody>\n",
              "</table>\n",
              "</div>"
            ],
            "text/plain": [
              "   userId  businessId  rating\n",
              "0      63        5052     5.0\n",
              "1     165        5052     5.0\n",
              "2     338        5052     2.0\n",
              "3     349        5052     5.0\n",
              "4     522        5052     4.0"
            ]
          },
          "metadata": {
            "tags": []
          },
          "execution_count": 26
        }
      ]
    },
    {
      "cell_type": "code",
      "metadata": {
        "id": "BDhxv9e3Hm6y",
        "colab_type": "code",
        "colab": {}
      },
      "source": [
        "(train, test) = rating_df.randomSplit([0.8, 0.2], seed=123)\n"
      ],
      "execution_count": 0,
      "outputs": []
    },
    {
      "cell_type": "code",
      "metadata": {
        "id": "XRg1H1OYgb9n",
        "colab_type": "code",
        "outputId": "4a282e62-7829-4c6c-bd66-4788271682c9",
        "colab": {
          "base_uri": "https://localhost:8080/",
          "height": 51
        }
      },
      "source": [
        "# very lengthy process of Cross Validation\n",
        "\n",
        "als = ALS(userCol=\"userId\", itemCol=\"businessId\", ratingCol=\"rating\", coldStartStrategy=\"drop\")\n",
        "\n",
        "param_grid = ParamGridBuilder().addGrid(\n",
        "    als.rank,\n",
        "    [10, 15, 20],\n",
        ").addGrid(\n",
        "    als.maxIter,\n",
        "    [10, 15, 20],\n",
        ").build()\n",
        "\n",
        "evaluator = RegressionEvaluator(\n",
        "    metricName=\"rmse\",\n",
        "    labelCol=\"rating\",\n",
        ")\n",
        "\n",
        "cv = CrossValidator(estimator=als, estimatorParamMaps=param_grid, evaluator=evaluator, numFolds=5, seed=123)\n",
        "cv_als_model = cv.fit(train)\n",
        "\n",
        "# Evaluate the model by computing the RMSE on the test data\n",
        "\n",
        "als_predictions = cv_als_model.bestModel.transform(test)\n",
        "evaluator = RegressionEvaluator(metricName=\"rmse\", labelCol=\"rating\", predictionCol=\"prediction\")\n",
        "rmse = evaluator.evaluate(als_predictions)\n",
        "print(\"Root-mean-square error = \" + str(rmse))\n",
        "\n",
        "best_model = cv_als_model.bestModel\n",
        "\n",
        "#best_rank is 20\n",
        "best_model.rank\n",
        "\n",
        "#best_maxIter is 20\n",
        "(best_model\n",
        "    ._java_obj     # Get Java object\n",
        "    .parent()      # Get parent (ALS estimator)\n",
        "    .getMaxIter()) # Get maxIter\n",
        "\n",
        "# root mean-square =1.5069"
      ],
      "execution_count": 0,
      "outputs": [
        {
          "output_type": "stream",
          "text": [
            "Root-mean-square error = 1.506977878800293\n"
          ],
          "name": "stdout"
        },
        {
          "output_type": "execute_result",
          "data": {
            "text/plain": [
              "20"
            ]
          },
          "metadata": {
            "tags": []
          },
          "execution_count": 68
        }
      ]
    },
    {
      "cell_type": "code",
      "metadata": {
        "id": "MqRr3AjahRyF",
        "colab_type": "code",
        "outputId": "892fefa3-5f09-48ca-c592-6371610eaa62",
        "colab": {
          "base_uri": "https://localhost:8080/",
          "height": 34
        }
      },
      "source": [
        "# trying higher rank and maxIter need huge resources. try to tune regParam (default value = 0.1)\n",
        "model_path='drive/My Drive/Dataset.Model'\n",
        "alsb = ALS(rank=20, maxIter=20, regParam=0.3, userCol=\"userId\", itemCol=\"businessId\", ratingCol=\"rating\", \\\n",
        "               coldStartStrategy=\"drop\", seed=123)\n",
        "alsb_model = alsb.fit(train)\n",
        "\n",
        "alsb_predictions = alsb_model.transform(test)\n",
        "evaluator = RegressionEvaluator(metricName=\"rmse\", labelCol=\"rating\", predictionCol=\"prediction\")\n",
        "rmse = evaluator.evaluate(alsb_predictions)\n",
        "print(\"Root-mean-square error = \" + str(rmse))\n",
        "\n",
        "# save the ALS model\n",
        "alsb_model.write().overwrite().save(model_path + 'als')\n"
      ],
      "execution_count": 0,
      "outputs": [
        {
          "output_type": "stream",
          "text": [
            "Root-mean-square error = 1.3855887240262401\n"
          ],
          "name": "stdout"
        }
      ]
    },
    {
      "cell_type": "code",
      "metadata": {
        "id": "hWI6QAkGhVds",
        "colab_type": "code",
        "colab": {}
      },
      "source": [
        "# load a new instance of the saved ALS model\n",
        "model_path='/content/drive/My Drive/Project /Data Mining/Dataset/Result/Dataset.Model'\n",
        "alsn_model = ALSModel.load(model_path + 'als')"
      ],
      "execution_count": 0,
      "outputs": []
    },
    {
      "cell_type": "code",
      "metadata": {
        "id": "L_L99oRQhsJG",
        "colab_type": "code",
        "colab": {}
      },
      "source": [
        "# generate top 10 business recommendations for each user\n",
        "\n",
        "userRecoms = alsn_model.recommendForAllUsers(10)\n",
        "#userRecoms.repartition(3).write.parquet(\"/content/drive/My Drive/Dataset/Result/collaborative.parquet\")"
      ],
      "execution_count": 0,
      "outputs": []
    },
    {
      "cell_type": "code",
      "metadata": {
        "id": "_CowW0myV8dN",
        "colab_type": "code",
        "outputId": "eff00718-6327-4280-9b7e-83718805b980",
        "colab": {
          "base_uri": "https://localhost:8080/",
          "height": 136
        }
      },
      "source": [
        "userRecoms.printSchema()"
      ],
      "execution_count": 0,
      "outputs": [
        {
          "output_type": "stream",
          "text": [
            "root\n",
            " |-- userId: integer (nullable = false)\n",
            " |-- recommendations: array (nullable = true)\n",
            " |    |-- element: struct (containsNull = true)\n",
            " |    |    |-- businessId: integer (nullable = true)\n",
            " |    |    |-- rating: float (nullable = true)\n",
            "\n"
          ],
          "name": "stdout"
        }
      ]
    },
    {
      "cell_type": "code",
      "metadata": {
        "id": "xah5U3LShvD_",
        "colab_type": "code",
        "outputId": "4ae11479-9e11-4cb5-ce46-dc3249b557ed",
        "colab": {
          "base_uri": "https://localhost:8080/",
          "height": 156
        }
      },
      "source": [
        "# add the column user_id, cache the recommendaton dataframe and show recommedations sample\n",
        "\n",
        "a = userRecoms.alias(\"a\")\n",
        "b = user_newid_df.alias(\"b\")\n",
        "    \n",
        "all_userRecoms = a.join(b, col(\"a.userId\") == col(\"b.userId\"), 'inner') \\\n",
        "             .select([col('a.'+xx) for xx in a.columns] + [col('b.user_id')])\n",
        "\n",
        "all_userRecoms.cache()   \n",
        "all_userRecoms.show(1, truncate=False)"
      ],
      "execution_count": 0,
      "outputs": [
        {
          "output_type": "stream",
          "text": [
            "+------+-------------------------------------------------------------------------------------------------------------------------------------------------------------------------------------+----------------------+\n",
            "|userId|recommendations                                                                                                                                                                      |user_id               |\n",
            "+------+-------------------------------------------------------------------------------------------------------------------------------------------------------------------------------------+----------------------+\n",
            "|148   |[[2916, 4.981251], [928, 4.7634716], [5880, 4.713999], [4000, 4.625043], [3550, 4.61011], [5396, 4.6098495], [1892, 4.5809016], [882, 4.561146], [1807, 4.520158], [3256, 4.5194893]]|3IBIIaiOrzVP-LTOLPBqRw|\n",
            "+------+-------------------------------------------------------------------------------------------------------------------------------------------------------------------------------------+----------------------+\n",
            "only showing top 1 row\n",
            "\n"
          ],
          "name": "stdout"
        }
      ]
    },
    {
      "cell_type": "code",
      "metadata": {
        "id": "c27UW9Pghy8_",
        "colab_type": "code",
        "outputId": "00e2dc69-1a33-4fff-952e-9d83f40e36fb",
        "colab": {
          "base_uri": "https://localhost:8080/",
          "height": 272
        }
      },
      "source": [
        "# show recommendations for soem user id\n",
        "\n",
        "u_id = 'ZWD8UH1T7QXQr0Eq-mcWYg'\n",
        "\n",
        "userFlatRec =  spark.createDataFrame(all_userRecoms.filter(col('user_id') == u_id).rdd.flatMap(lambda p: p[1]))\n",
        "userFlatRec.show()"
      ],
      "execution_count": 0,
      "outputs": [
        {
          "output_type": "stream",
          "text": [
            "+----------+------------------+\n",
            "|businessId|            rating|\n",
            "+----------+------------------+\n",
            "|      4000| 5.249392509460449|\n",
            "|       882|5.2168402671813965|\n",
            "|       928| 5.196783065795898|\n",
            "|      1892| 5.143679618835449|\n",
            "|      4707| 5.118048191070557|\n",
            "|      3189| 5.077023029327393|\n",
            "|      5853| 5.013651371002197|\n",
            "|      1807| 4.991521835327148|\n",
            "|      3340| 4.989435195922852|\n",
            "|       418| 4.921987056732178|\n",
            "+----------+------------------+\n",
            "\n"
          ],
          "name": "stdout"
        }
      ]
    },
    {
      "cell_type": "code",
      "metadata": {
        "id": "laJzx6wFh2HW",
        "colab_type": "code",
        "outputId": "726b3084-f772-4697-f235-25d3452303b0",
        "colab": {
          "base_uri": "https://localhost:8080/",
          "height": 359
        }
      },
      "source": [
        "# show the recommeded restaurants details\n",
        "\n",
        "a = business_new_df.alias(\"a\")\n",
        "b = userFlatRec.alias(\"b\")\n",
        "\n",
        "user_collab_df = a.join(b, col(\"a.businessId\") == col(\"b.businessId\"), 'inner') \\\n",
        "                         .select([col('a.'+xx) for xx in a.columns] + [col('b.rating')])\n",
        "    \n",
        "user_collab_df.select('business_id', 'business_name', 'rating', 'categories').toPandas()"
      ],
      "execution_count": 0,
      "outputs": [
        {
          "output_type": "execute_result",
          "data": {
            "text/html": [
              "<div>\n",
              "<style scoped>\n",
              "    .dataframe tbody tr th:only-of-type {\n",
              "        vertical-align: middle;\n",
              "    }\n",
              "\n",
              "    .dataframe tbody tr th {\n",
              "        vertical-align: top;\n",
              "    }\n",
              "\n",
              "    .dataframe thead th {\n",
              "        text-align: right;\n",
              "    }\n",
              "</style>\n",
              "<table border=\"1\" class=\"dataframe\">\n",
              "  <thead>\n",
              "    <tr style=\"text-align: right;\">\n",
              "      <th></th>\n",
              "      <th>business_id</th>\n",
              "      <th>business_name</th>\n",
              "      <th>rating</th>\n",
              "      <th>categories</th>\n",
              "    </tr>\n",
              "  </thead>\n",
              "  <tbody>\n",
              "    <tr>\n",
              "      <th>0</th>\n",
              "      <td>AkdyGTQX8gO3J24nPlww_w</td>\n",
              "      <td>The Steakhouse at Treasures</td>\n",
              "      <td>4.921987</td>\n",
              "      <td>Cocktail Bars, Food, Wineries, Nightlife, Rest...</td>\n",
              "    </tr>\n",
              "    <tr>\n",
              "      <th>1</th>\n",
              "      <td>QCbptr697vAb630rIq9gUQ</td>\n",
              "      <td>Winter In July - A Pop-Up Lunch with Yonaka an...</td>\n",
              "      <td>5.216840</td>\n",
              "      <td>Chinese, Local Flavor, Japanese, Restaurants</td>\n",
              "    </tr>\n",
              "    <tr>\n",
              "      <th>2</th>\n",
              "      <td>JDv3HcmwK0cPkRa0-2aP4Q</td>\n",
              "      <td>B's Smokehouse Bbq</td>\n",
              "      <td>4.991522</td>\n",
              "      <td>Food, Barbeque, Street Vendors, Restaurants, F...</td>\n",
              "    </tr>\n",
              "    <tr>\n",
              "      <th>3</th>\n",
              "      <td>XiVHxG2nUSp_bn4dBbs4Cg</td>\n",
              "      <td>Sushi House Manda</td>\n",
              "      <td>5.196783</td>\n",
              "      <td>Restaurants, Japanese</td>\n",
              "    </tr>\n",
              "    <tr>\n",
              "      <th>4</th>\n",
              "      <td>Mw1Q04VtMm3vG3pBByXRtQ</td>\n",
              "      <td>Taqueria Los Parados</td>\n",
              "      <td>5.077023</td>\n",
              "      <td>Mexican, Restaurants</td>\n",
              "    </tr>\n",
              "    <tr>\n",
              "      <th>5</th>\n",
              "      <td>YB7WIh2S_-nQFAK58a0MlA</td>\n",
              "      <td>Tetsuro's Sayonara, Aloha, Going Away Uye At J...</td>\n",
              "      <td>5.249393</td>\n",
              "      <td>Japanese, Restaurants</td>\n",
              "    </tr>\n",
              "    <tr>\n",
              "      <th>6</th>\n",
              "      <td>CmBnas2zg5JyigmXclc4JQ</td>\n",
              "      <td>Mama Luigi's Pizzeria</td>\n",
              "      <td>5.013651</td>\n",
              "      <td>Restaurants, Pizza</td>\n",
              "    </tr>\n",
              "    <tr>\n",
              "      <th>7</th>\n",
              "      <td>V4E09shHwjNdiclExeiYLg</td>\n",
              "      <td>Tower Suite Cafe</td>\n",
              "      <td>5.143680</td>\n",
              "      <td>American (New), Restaurants</td>\n",
              "    </tr>\n",
              "    <tr>\n",
              "      <th>8</th>\n",
              "      <td>FZQ3O3sxICy1HaJLhPbGYA</td>\n",
              "      <td>Bon Breads Baking Company</td>\n",
              "      <td>4.989435</td>\n",
              "      <td>Bakeries, Restaurants, Food</td>\n",
              "    </tr>\n",
              "    <tr>\n",
              "      <th>9</th>\n",
              "      <td>2ZZmVT4Y8Rk3OIzu18PvFQ</td>\n",
              "      <td>Steve-O's New York Pizza</td>\n",
              "      <td>5.118048</td>\n",
              "      <td>Restaurants, Pizza</td>\n",
              "    </tr>\n",
              "  </tbody>\n",
              "</table>\n",
              "</div>"
            ],
            "text/plain": [
              "              business_id  ...                                         categories\n",
              "0  AkdyGTQX8gO3J24nPlww_w  ...  Cocktail Bars, Food, Wineries, Nightlife, Rest...\n",
              "1  QCbptr697vAb630rIq9gUQ  ...       Chinese, Local Flavor, Japanese, Restaurants\n",
              "2  JDv3HcmwK0cPkRa0-2aP4Q  ...  Food, Barbeque, Street Vendors, Restaurants, F...\n",
              "3  XiVHxG2nUSp_bn4dBbs4Cg  ...                              Restaurants, Japanese\n",
              "4  Mw1Q04VtMm3vG3pBByXRtQ  ...                               Mexican, Restaurants\n",
              "5  YB7WIh2S_-nQFAK58a0MlA  ...                              Japanese, Restaurants\n",
              "6  CmBnas2zg5JyigmXclc4JQ  ...                                 Restaurants, Pizza\n",
              "7  V4E09shHwjNdiclExeiYLg  ...                        American (New), Restaurants\n",
              "8  FZQ3O3sxICy1HaJLhPbGYA  ...                        Bakeries, Restaurants, Food\n",
              "9  2ZZmVT4Y8Rk3OIzu18PvFQ  ...                                 Restaurants, Pizza\n",
              "\n",
              "[10 rows x 4 columns]"
            ]
          },
          "metadata": {
            "tags": []
          },
          "execution_count": 32
        }
      ]
    },
    {
      "cell_type": "code",
      "metadata": {
        "id": "xRzTqJ7ph5Hp",
        "colab_type": "code",
        "colab": {}
      },
      "source": [
        "def showInMap(df):\n",
        "    \n",
        "    mp = folium.Map(location=[36.1699, -115.1398], zoom_start=12)\n",
        "\n",
        "    for i, r in df.toPandas().iterrows():\n",
        "        folium.Marker(\n",
        "                    location =[r.latitude, r.longitude], \n",
        "                    popup = html.escape(r[\"business_name\"]) + '<br>' + 'Stars: ' + str(r.stars) + '<br>' + 'Reviews: ' + str(r.review_count),    \n",
        "                    icon = folium.Icon(color='blue')).add_to(mp)\n",
        "\n",
        "    return mp"
      ],
      "execution_count": 0,
      "outputs": []
    },
    {
      "cell_type": "code",
      "metadata": {
        "id": "3CoX5LyATnWL",
        "colab_type": "code",
        "outputId": "5160c44a-0e19-4190-b52d-42a94510b2f3",
        "colab": {
          "base_uri": "https://localhost:8080/",
          "height": 153
        }
      },
      "source": [
        "all_userRecoms.printSchema()"
      ],
      "execution_count": 0,
      "outputs": [
        {
          "output_type": "stream",
          "text": [
            "root\n",
            " |-- userId: integer (nullable = false)\n",
            " |-- recommendations: array (nullable = true)\n",
            " |    |-- element: struct (containsNull = true)\n",
            " |    |    |-- businessId: integer (nullable = true)\n",
            " |    |    |-- rating: float (nullable = true)\n",
            " |-- user_id: string (nullable = true)\n",
            "\n"
          ],
          "name": "stdout"
        }
      ]
    },
    {
      "cell_type": "code",
      "metadata": {
        "id": "c-5QVzbkVT8Q",
        "colab_type": "code",
        "colab": {}
      },
      "source": [
        "userFlatRec =  spark.createDataFrame(all_userRecoms.filter(col('user_id') == '3nDUQBjKyVor5wV0reJChg').rdd.map(lambda x:(x[2],x[1])))\n"
      ],
      "execution_count": 0,
      "outputs": []
    },
    {
      "cell_type": "code",
      "metadata": {
        "id": "jjp1ZwiLZt4g",
        "colab_type": "code",
        "colab": {}
      },
      "source": [
        "all_userRecoms.createOrReplaceTempView(\"all_userRecoms\")"
      ],
      "execution_count": 0,
      "outputs": []
    },
    {
      "cell_type": "code",
      "metadata": {
        "id": "8DGx4vXpZr1y",
        "colab_type": "code",
        "colab": {}
      },
      "source": [
        "temp=spark.sql(\"SELECt user_id , explode(recommendations) as r from all_userRecoms\")"
      ],
      "execution_count": 0,
      "outputs": []
    },
    {
      "cell_type": "code",
      "metadata": {
        "id": "Ci1YZOjwazun",
        "colab_type": "code",
        "colab": {}
      },
      "source": [
        "all_userRecoms = temp.withColumn(\"business_id\", col(\"r\").getItem('businessId')).withColumn(\"rating\",col(\"r\").getItem('rating')).drop('r')"
      ],
      "execution_count": 0,
      "outputs": []
    },
    {
      "cell_type": "code",
      "metadata": {
        "id": "G05aRlDNeDNN",
        "colab_type": "code",
        "outputId": "36ea4112-55fb-4073-f496-d312dba4f69b",
        "colab": {
          "base_uri": "https://localhost:8080/",
          "height": 102
        }
      },
      "source": [
        "userFlatRec.printSchema()"
      ],
      "execution_count": 0,
      "outputs": [
        {
          "output_type": "stream",
          "text": [
            "root\n",
            " |-- user_id: string (nullable = true)\n",
            " |-- business_id: integer (nullable = true)\n",
            " |-- rating: float (nullable = true)\n",
            "\n"
          ],
          "name": "stdout"
        }
      ]
    },
    {
      "cell_type": "code",
      "metadata": {
        "id": "DMCGTQg_Yxpb",
        "colab_type": "code",
        "outputId": "0c365668-7caf-4a1f-a0eb-e68310d2086b",
        "colab": {
          "base_uri": "https://localhost:8080/",
          "height": 51
        }
      },
      "source": [
        "(all_userRecoms.filter(col('user_id') == '3nDUQBjKyVor5wV0reJChg').rdd.map(lambda x:(x[2],x[1])).flatMap(lambda z: z[1])).take(2)"
      ],
      "execution_count": 0,
      "outputs": [
        {
          "output_type": "execute_result",
          "data": {
            "text/plain": [
              "[Row(businessId=4000, rating=4.658333778381348),\n",
              " Row(businessId=882, rating=4.644845485687256)]"
            ]
          },
          "metadata": {
            "tags": []
          },
          "execution_count": 54
        }
      ]
    },
    {
      "cell_type": "code",
      "metadata": {
        "id": "qkmbLPs8XBxx",
        "colab_type": "code",
        "outputId": "8b1d95d1-77cb-43cd-b8ef-6c7233a126c6",
        "colab": {
          "base_uri": "https://localhost:8080/",
          "height": 136
        }
      },
      "source": [
        "userFlatRec.printSchema()"
      ],
      "execution_count": 0,
      "outputs": [
        {
          "output_type": "stream",
          "text": [
            "root\n",
            " |-- _1: string (nullable = true)\n",
            " |-- _2: array (nullable = true)\n",
            " |    |-- element: struct (containsNull = true)\n",
            " |    |    |-- businessId: long (nullable = true)\n",
            " |    |    |-- rating: double (nullable = true)\n",
            "\n"
          ],
          "name": "stdout"
        }
      ]
    },
    {
      "cell_type": "code",
      "metadata": {
        "id": "2btN8qAEVPOb",
        "colab_type": "code",
        "colab": {}
      },
      "source": [
        "userFlatRec =  spark.createDataFrame(all_userRecoms.filter(col('user_id') == '3nDUQBjKyVor5wV0reJChg').rdd.flatMap(lambda p: p[0]))\n",
        "print(userFlatRec.take(1))\n",
        "a = userFlatRec.alias(\"a\")\n",
        "b = business_new_df.alias(\"b\")\n",
        "\n",
        "return a.join(b, col(\"a.businessId\") == col(\"b.businessId\"), 'inner') \\\n",
        "          .select([col('b.business_id'), col('a.rating'), col('b.business_name'),col('b.categories'),\n",
        "                                                        col('b.stars'),col('b.review_count'),\n",
        "                                                        col('b.latitude'),col('b.longitude')]) \\\n",
        "          .orderBy(\"rating\", ascending = False)"
      ],
      "execution_count": 0,
      "outputs": []
    },
    {
      "cell_type": "code",
      "metadata": {
        "id": "sKwbatKDh8PE",
        "colab_type": "code",
        "colab": {}
      },
      "source": [
        "def getCollabRecom(u_id):\n",
        "    \n",
        "\n",
        "    userFlatRec =  all_userRecoms.filter(col('user_id') == u_id)\n",
        "    print(userFlatRec.show(1,False))\n",
        "    a = userFlatRec.alias(\"a\")\n",
        "    b = business_new_df.alias(\"b\")\n",
        "    \n",
        "    return a.join(b, col(\"a.business_id\") == col(\"b.businessId\"), 'inner') \\\n",
        "             .select([col('b.business_id'), col('a.rating'),col('a.user_id'), col('b.business_name'),col('b.categories'),\n",
        "                                                           col('b.stars'),col('b.review_count'),\n",
        "                                                           col('b.latitude'),col('b.longitude')]) \\\n",
        "             .orderBy(\"rating\", ascending = False)"
      ],
      "execution_count": 0,
      "outputs": []
    },
    {
      "cell_type": "code",
      "metadata": {
        "id": "Tne9rlZCQeDD",
        "colab_type": "code",
        "outputId": "57550e5b-7383-4bee-eef9-485fcc34e51c",
        "colab": {
          "base_uri": "https://localhost:8080/",
          "height": 170
        }
      },
      "source": [
        "u_id= '3nDUQBjKyVor5wV0reJChg' \n",
        "result_df = getCollabRecom(u_id)\n",
        "print(result_df.count())"
      ],
      "execution_count": 0,
      "outputs": [
        {
          "output_type": "stream",
          "text": [
            "+----------------------+-----------+--------+\n",
            "|user_id               |business_id|rating  |\n",
            "+----------------------+-----------+--------+\n",
            "|3nDUQBjKyVor5wV0reJChg|4000       |4.658334|\n",
            "+----------------------+-----------+--------+\n",
            "only showing top 1 row\n",
            "\n",
            "None\n",
            "10\n"
          ],
          "name": "stdout"
        }
      ]
    },
    {
      "cell_type": "code",
      "metadata": {
        "id": "w4OypWufTEcT",
        "colab_type": "code",
        "outputId": "cab20e58-c282-4dbe-848a-c633fb4d5755",
        "colab": {
          "base_uri": "https://localhost:8080/",
          "height": 204
        }
      },
      "source": [
        "result_df.printSchema()"
      ],
      "execution_count": 0,
      "outputs": [
        {
          "output_type": "stream",
          "text": [
            "root\n",
            " |-- business_id: string (nullable = true)\n",
            " |-- rating: float (nullable = true)\n",
            " |-- user_id: string (nullable = true)\n",
            " |-- business_name: string (nullable = true)\n",
            " |-- categories: string (nullable = true)\n",
            " |-- stars: string (nullable = true)\n",
            " |-- review_count: string (nullable = true)\n",
            " |-- latitude: string (nullable = true)\n",
            " |-- longitude: string (nullable = true)\n",
            "\n"
          ],
          "name": "stdout"
        }
      ]
    },
    {
      "cell_type": "code",
      "metadata": {
        "id": "aMYFXigJSiXC",
        "colab_type": "code",
        "colab": {}
      },
      "source": [
        "result_df.coalesce(1).write.parquet(\"/content/drive/My Drive/Project /Data Mining/Dataset/Result/Final/collabrative_result.parquet\")"
      ],
      "execution_count": 0,
      "outputs": []
    }
  ]
}
