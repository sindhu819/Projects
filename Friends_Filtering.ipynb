{
  "nbformat": 4,
  "nbformat_minor": 0,
  "metadata": {
    "colab": {
      "name": "Friends_Filtering.ipynb",
      "provenance": [],
      "include_colab_link": true
    },
    "kernelspec": {
      "name": "python3",
      "display_name": "Python 3"
    }
  },
  "cells": [
    {
      "cell_type": "markdown",
      "metadata": {
        "id": "view-in-github",
        "colab_type": "text"
      },
      "source": [
        "<a href=\"https://colab.research.google.com/github/sindhu819/Projects/blob/master/Friends_Filtering.ipynb\" target=\"_parent\"><img src=\"https://colab.research.google.com/assets/colab-badge.svg\" alt=\"Open In Colab\"/></a>"
      ]
    },
    {
      "cell_type": "code",
      "metadata": {
        "id": "NLynaCgZJkin",
        "colab_type": "code",
        "colab": {}
      },
      "source": [
        "!apt-get install openjdk-8-jdk-headless -qq > /dev/null\n",
        "!wget -q https://www-us.apache.org/dist/spark/spark-2.4.4/spark-2.4.4-bin-hadoop2.7.tgz\n",
        "!tar xf spark-2.4.4-bin-hadoop2.7.tgz\n",
        "!pip install -q findspark\n",
        "import findspark\n",
        "findspark.init(\"spark-2.4.4-bin-hadoop2.7\")# SPARK_HOME\n",
        "import os\n",
        "os.environ[\"JAVA_HOME\"] = \"/usr/lib/jvm/java-8-openjdk-amd64\"\n",
        "os.environ[\"SPARK_HOME\"] = \"/content/spark-2.4.4-bin-hadoop2.7\""
      ],
      "execution_count": 0,
      "outputs": []
    },
    {
      "cell_type": "code",
      "metadata": {
        "id": "LalJlUGlJvDC",
        "colab_type": "code",
        "colab": {}
      },
      "source": [
        "import numpy as np\n",
        "import pandas as pd\n",
        "\n",
        "from operator import add\n",
        "from pyspark.ml.feature import RegexTokenizer, CountVectorizer\n",
        "from pyspark.ml.feature import StopWordsRemover, VectorAssembler\n",
        "from pyspark.ml.feature import Word2Vec, Word2VecModel\n",
        "from pyspark.ml.feature import IDF\n",
        "\n",
        "from pyspark.ml import Pipeline, PipelineModel\n",
        "\n",
        "\n",
        "from pyspark.sql.functions import *\n",
        "\n",
        "from pyspark.sql.types import *\n",
        "\n",
        "import folium\n",
        "import html"
      ],
      "execution_count": 0,
      "outputs": []
    },
    {
      "cell_type": "code",
      "metadata": {
        "id": "Ppu0ok8UKKT0",
        "colab_type": "code",
        "colab": {}
      },
      "source": [
        "\n",
        "import numpy as np\n",
        "import pandas as pd\n",
        "import matplotlib.pyplot as plt\n",
        "%matplotlib inline\n",
        "\n",
        "import seaborn as sns\n",
        "sns.set(style=\"darkgrid\")\n",
        "\n",
        "\n",
        "from pyspark.sql.functions import *\n",
        "from pyspark.sql.types import *\n",
        "\n",
        "\n",
        "\n",
        "import folium\n",
        "import html"
      ],
      "execution_count": 0,
      "outputs": []
    },
    {
      "cell_type": "code",
      "metadata": {
        "id": "8c9JEo_7J2Hh",
        "colab_type": "code",
        "outputId": "4390e99c-2650-40c9-d359-ce3495157aa2",
        "colab": {
          "base_uri": "https://localhost:8080/",
          "height": 122
        }
      },
      "source": [
        "from google.colab import drive\n",
        "drive.mount('/content/drive')"
      ],
      "execution_count": 0,
      "outputs": [
        {
          "output_type": "stream",
          "text": [
            "Go to this URL in a browser: https://accounts.google.com/o/oauth2/auth?client_id=947318989803-6bn6qk8qdgf4n4g3pfee6491hc0brc4i.apps.googleusercontent.com&redirect_uri=urn%3aietf%3awg%3aoauth%3a2.0%3aoob&response_type=code&scope=email%20https%3a%2f%2fwww.googleapis.com%2fauth%2fdocs.test%20https%3a%2f%2fwww.googleapis.com%2fauth%2fdrive%20https%3a%2f%2fwww.googleapis.com%2fauth%2fdrive.photos.readonly%20https%3a%2f%2fwww.googleapis.com%2fauth%2fpeopleapi.readonly\n",
            "\n",
            "Enter your authorization code:\n",
            "··········\n",
            "Mounted at /content/drive\n"
          ],
          "name": "stdout"
        }
      ]
    },
    {
      "cell_type": "code",
      "metadata": {
        "id": "BY5H99pgJ3-L",
        "colab_type": "code",
        "colab": {}
      },
      "source": [
        "import findspark\n",
        "findspark.init()\n",
        "from pyspark.sql import SparkSession\n",
        "spark = SparkSession.builder.master(\"local[*]\").getOrCreate()"
      ],
      "execution_count": 0,
      "outputs": []
    },
    {
      "cell_type": "code",
      "metadata": {
        "id": "7JoFe2zPJ9Fh",
        "colab_type": "code",
        "colab": {}
      },
      "source": [
        "users_file=r'/content/drive/My Drive/Project /Data Mining/Dataset/Yelp_Users.csv'\n",
        "users=spark.read.csv(users_file,header=True)"
      ],
      "execution_count": 0,
      "outputs": []
    },
    {
      "cell_type": "code",
      "metadata": {
        "id": "FQxmDnmYJ_F5",
        "colab_type": "code",
        "colab": {}
      },
      "source": [
        "business_file=r'/content/drive/My Drive/Project /Data Mining/Dataset/Yelp_Business.csv'\n",
        "business=spark.read.csv(business_file,header=True)\n"
      ],
      "execution_count": 0,
      "outputs": []
    },
    {
      "cell_type": "code",
      "metadata": {
        "id": "4FyBIKB0KBPQ",
        "colab_type": "code",
        "colab": {}
      },
      "source": [
        "review_file=r'/content/drive/My Drive/Project /Data Mining/Dataset/Yelp_Reviews.parquet'\n",
        "reviews=spark.read.parquet(review_file)"
      ],
      "execution_count": 0,
      "outputs": []
    },
    {
      "cell_type": "code",
      "metadata": {
        "id": "JFAyM432KC6o",
        "colab_type": "code",
        "outputId": "13534a72-4046-42c2-cada-17eaa99b19b3",
        "colab": {
          "base_uri": "https://localhost:8080/",
          "height": 34
        }
      },
      "source": [
        "friends_file=r'/content/drive/My Drive/Project /Data Mining/Dataset/Yelp_Friends*'\n",
        "friends=spark.read.parquet(friends_file)\n",
        "print(friends_file)"
      ],
      "execution_count": 0,
      "outputs": [
        {
          "output_type": "stream",
          "text": [
            "/content/drive/My Drive/Project /Data Mining/Dataset/Yelp_Friends*\n"
          ],
          "name": "stdout"
        }
      ]
    },
    {
      "cell_type": "code",
      "metadata": {
        "id": "x4opGjEOKl3J",
        "colab_type": "code",
        "outputId": "60b7c2f8-9809-4bae-c182-8ba9aa88b52e",
        "colab": {
          "base_uri": "https://localhost:8080/",
          "height": 34
        }
      },
      "source": [
        "friends.count()"
      ],
      "execution_count": 0,
      "outputs": [
        {
          "output_type": "execute_result",
          "data": {
            "text/plain": [
              "29166583"
            ]
          },
          "metadata": {
            "tags": []
          },
          "execution_count": 10
        }
      ]
    },
    {
      "cell_type": "code",
      "metadata": {
        "id": "lVgkB9kaQJfy",
        "colab_type": "code",
        "outputId": "09aa5167-7f2d-4251-e0fa-13e63588db2f",
        "colab": {
          "base_uri": "https://localhost:8080/",
          "height": 119
        }
      },
      "source": [
        "friends.take(6)"
      ],
      "execution_count": 0,
      "outputs": [
        {
          "output_type": "execute_result",
          "data": {
            "text/plain": [
              "[Row(user_id='bGAMUHYGMIzc30ydvD3v5w', friend_id=' sIf39JI3PibwqpTr0ErFEg'),\n",
              " Row(user_id='fFGs67RhFZEsSPEXT_5wpQ', friend_id=' 4H0YYvHsabRrpTG4xUpV-A'),\n",
              " Row(user_id='BNuPibT74jf8Kp47bZb7DQ', friend_id=' -DmqnhW4Omr3YhmnigaqHg'),\n",
              " Row(user_id='1yAa95hjob9E7ii-J0d_CQ', friend_id=' aqs1fjYP4xzRy6QPynDSDQ'),\n",
              " Row(user_id='4ZfcCa4m5RWvO4EFzfYm1A', friend_id=' 6rzu9rpASB3GCmt9Gm7jkw'),\n",
              " Row(user_id='-ia1ApLFMIbMjF4r3aaraQ', friend_id='9W3FNHyvrrIplqIucAB2ag')]"
            ]
          },
          "metadata": {
            "tags": []
          },
          "execution_count": 11
        }
      ]
    },
    {
      "cell_type": "code",
      "metadata": {
        "id": "sPbi9l3eKntX",
        "colab_type": "code",
        "colab": {}
      },
      "source": [
        "business.createOrReplaceTempView(\"business\")\n",
        "users.createOrReplaceTempView(\"users\")\n",
        "reviews.createOrReplaceTempView(\"reviews\")\n",
        "friends.createOrReplaceTempView(\"friends\")"
      ],
      "execution_count": 0,
      "outputs": []
    },
    {
      "cell_type": "code",
      "metadata": {
        "id": "-n9JMFRZZAb4",
        "colab_type": "code",
        "outputId": "ca91248f-c0cd-49d6-c14f-65bf2b61cdfe",
        "colab": {
          "base_uri": "https://localhost:8080/",
          "height": 1000
        }
      },
      "source": [
        "spark.sql(\"select user_id,count(*) from reviews group by user_id order by count(*) desc limit 100\").show(100,False)"
      ],
      "execution_count": 0,
      "outputs": [
        {
          "output_type": "stream",
          "text": [
            "+----------------------+--------+\n",
            "|user_id               |count(1)|\n",
            "+----------------------+--------+\n",
            "|bLbSNkLggFnqwNNzzq-Ijw|1247    |\n",
            "|PKEzKWv_FktMm2mGPjwd0Q|851     |\n",
            "|U4INQZOPSUaj8hMjLlZ3KA|694     |\n",
            "|UYcmGbelzRa0Q6JqzLoguw|636     |\n",
            "|n86B7IkbU20AkxlFX_5aew|585     |\n",
            "|3nDUQBjKyVor5wV0reJChg|536     |\n",
            "|L8P5OWO1Jh4B2HLa1Fnbng|508     |\n",
            "|C2C0GPKvzWWnP57Os9eQ0w|503     |\n",
            "|qewG3X2O4X6JKskxyyqFwQ|460     |\n",
            "|8DEyKVyplnOcSKx39vatbg|439     |\n",
            "|N3oNEwh0qgPqPP3Em6wJXw|414     |\n",
            "|JaqcCU3nxReTW2cBLHounA|393     |\n",
            "|tH0uKD-vNwMoEc3Xk3Cbdg|382     |\n",
            "|oeAhRa8yFa9jtrhaHnOyxQ|356     |\n",
            "|s2o_JsABvrZVm_T03qrBUw|351     |\n",
            "|_VMGbmIeK71rQGwOBWt_Kg|340     |\n",
            "|48vRThjhuhiSQINQ2KV8Sw|318     |\n",
            "|eZZyuJDouIg4p-GYB3PV_A|313     |\n",
            "|rt3PC7WCgCKsoufmQJELfw|308     |\n",
            "|FIk4lQQu1eTe2EpzQ4xhBA|307     |\n",
            "|y3FcL4bLy0eLlkb0SDPnBQ|306     |\n",
            "|iSC96O2NjQc3JExGUHQG0Q|301     |\n",
            "|hZfzVrhsCQ9JDAb2jYoJNQ|299     |\n",
            "|RQlnSCjuqMnhR3Qk6j4KoA|292     |\n",
            "|o68A_3bAJTge-ioGXHdxKA|291     |\n",
            "|3Vd_ATdvvuVVgn_YCpz8fw|290     |\n",
            "|YMgZqBUAddmFErxLtCfK_w|287     |\n",
            "|B1829_hxXSEpDPEDJtYeIw|285     |\n",
            "|QJI9OSEn6ujRCtrX06vs1w|278     |\n",
            "|kmE8w5Y785eZmodsx0V6Ag|275     |\n",
            "|qPVtjjp8sNQ32p9860SR9Q|272     |\n",
            "|JYcCYNWs8Ul6ewG5kCYW4Q|271     |\n",
            "|Fv0e9RIV9jw5TX3ctA1WbA|268     |\n",
            "|YwaKGmRNnSa3R3N4Hf9jLw|267     |\n",
            "|ZsUSGU1-L1ImomLZjXxxTg|263     |\n",
            "|TdYKJgSgY2GF_YJnwsi5yQ|260     |\n",
            "|sa5zd7bwBQzajQB48Y9SUw|260     |\n",
            "|vWP8-aQX0rYJszqkWVL7Ew|259     |\n",
            "|N044aCKJv3G5WuvwT5AJcA|258     |\n",
            "|deL6e_z9xqZTIODKqnvRXQ|258     |\n",
            "|HJj82f-csBI7jjgenwqhvw|256     |\n",
            "|Ksp1e9Dw0Jcog_ZBD3-45g|249     |\n",
            "|1O638BDK_fWuxgTVJwff-A|245     |\n",
            "|DoRCeCcJbrsM2BiAKj3trA|243     |\n",
            "|eOIMO2wT_WbNqmavhnCRxw|243     |\n",
            "|zBi_JWB5uUdVuz3JLoAxGQ|242     |\n",
            "|wtNopFY2ybprzk4FuEbWJQ|240     |\n",
            "|m-BZLIIh5PCAKnzH0qj_0Q|239     |\n",
            "|QCtHk02W_Asu2LFfdmGQDA|238     |\n",
            "|I-4KVZ9lqHhk8469X9FvhA|235     |\n",
            "|8dxkcmAXY4ttrVFD1GhbdQ|234     |\n",
            "|o4tYl3Hz0oDfpNn4k02DCw|233     |\n",
            "|WM7MFrRP-7YFuGBAJ6quRQ|232     |\n",
            "|HRyFtrmf19GTKEM_kOa2pg|231     |\n",
            "|3nIuSCZk5f_2WWYMLN7h3w|230     |\n",
            "|5wT0vDycEzgq95yVCZ60Aw|227     |\n",
            "|8OeTLey-p-WaL9ErNEci1Q|227     |\n",
            "|OXSJCjKtvZPf-YPDCXcWZg|226     |\n",
            "|ObQl16Vuc4sHPGKtzSGNUw|226     |\n",
            "|kzRq4H_nSf4b3F_sdymWSw|226     |\n",
            "|7Oe6ikklTjVBbEFw9emLcA|220     |\n",
            "|0tvCcnfJnSs55iB6mqPk3w|214     |\n",
            "|wXZS42D0L8hoCiSh2Krc_A|213     |\n",
            "|YE54kKTuqJJPNYWIKIpOEQ|213     |\n",
            "|Xb4aKpOlHkp9dmgTa__Q4g|213     |\n",
            "|fiGqQ7pIGKyZ9G0RqWLMpg|213     |\n",
            "|A5A34ixb-yy6nwL42iZsnw|210     |\n",
            "|keBv05MsMFBd0Hu98vXThQ|209     |\n",
            "|erJ1HQwavgZx4996SMIxrA|206     |\n",
            "|_7PfR6Tvh2xTbiVi1GELoQ|206     |\n",
            "|u_wqt9RshdZsoj8ikLqoEQ|204     |\n",
            "|aWXGwath_dSGPwNdFiy9BQ|203     |\n",
            "|FEwPxhjdVKxSPVQQAHX2gg|199     |\n",
            "|h9RUaaHa5kcQKqtJ-sgS0Q|199     |\n",
            "|k4M43lXJuQMpQW65DTqzIQ|199     |\n",
            "|Q7IoE5m2heQKThuVq3SYFA|198     |\n",
            "|zgV0ZroIF956gw4cul8MHA|198     |\n",
            "|_ykg4Fp8j_tU83q2tYC2FQ|196     |\n",
            "|DPtOaWemjBPvFiZJBi0m8A|192     |\n",
            "|0FMte0z-repSVWSJ_BaQTg|189     |\n",
            "|PomQayG1WhMxeSl1zohAUA|189     |\n",
            "|fVILhIglx6RNOXQba5t4kQ|188     |\n",
            "|SfY0jEFqBkrqq9bVi6P31Q|188     |\n",
            "|53bZ_EsXH71L7iFs5MP9_w|187     |\n",
            "|lQBZo8_mm80dbwI5bo5c_w|186     |\n",
            "|9ks-80ZxeCZWNObzEbW4-Q|186     |\n",
            "|iAevEfcmtCr2cpd6IRqnTA|185     |\n",
            "|OLn8EvPsu4hNug8V5PF2jA|184     |\n",
            "|owlUazXSDLaxlOV7z8181g|183     |\n",
            "|WaAOt_eG0_-yLpG3fI--3g|181     |\n",
            "|Tdv7HZa4Hyjm-X0MtNmeag|180     |\n",
            "|DeVGAiOf2mHVUDfxvuhVlQ|178     |\n",
            "|wnO99pBbGqwqOoTQM25iCw|178     |\n",
            "|ywEB0MB_2U11NIGPs35pew|177     |\n",
            "|LwVUO_5jjHuJRhvl6hlHVg|177     |\n",
            "|Kp5KHBSmV-Htc9NeSjJfPA|177     |\n",
            "|pZ6P_1V-bTSoYG1fg1TXzw|175     |\n",
            "|renPzRDqMZpMaHiCD_e1_A|175     |\n",
            "|uERlyO-ASZag6XXouCrkhg|174     |\n",
            "|lQGJcwX105k17081f6pulg|174     |\n",
            "+----------------------+--------+\n",
            "\n"
          ],
          "name": "stdout"
        }
      ]
    },
    {
      "cell_type": "code",
      "metadata": {
        "id": "hjBFQnD0ZhbT",
        "colab_type": "code",
        "outputId": "8ffd0087-abfd-4b88-c168-24cc00c85b06",
        "colab": {
          "base_uri": "https://localhost:8080/",
          "height": 85
        }
      },
      "source": [
        "friends.printSchema()"
      ],
      "execution_count": 0,
      "outputs": [
        {
          "output_type": "stream",
          "text": [
            "root\n",
            " |-- user_id: string (nullable = true)\n",
            " |-- friend_id: string (nullable = true)\n",
            "\n"
          ],
          "name": "stdout"
        }
      ]
    },
    {
      "cell_type": "code",
      "metadata": {
        "id": "Ofq9JbiGZckX",
        "colab_type": "code",
        "outputId": "d2b46c59-49a4-43f7-9e05-4ae428e33132",
        "colab": {
          "base_uri": "https://localhost:8080/",
          "height": 289
        }
      },
      "source": [
        "spark.sql(\"select user_id from friends where friend_id='bLbSNkLggFnqwNNzzq-Ijw'\").show(10,False)"
      ],
      "execution_count": 0,
      "outputs": [
        {
          "output_type": "stream",
          "text": [
            "+----------------------+\n",
            "|user_id               |\n",
            "+----------------------+\n",
            "|5sNyAM0gX8pZyS867k6vdw|\n",
            "|Hhmwl8u4ZxkBW1mGnJEUxw|\n",
            "|FbN4sKq9n6j00st25Mc1PA|\n",
            "|KP29qdHjCwXKFNVjrT-G2Q|\n",
            "|swC93y0l10W-Sz8HxRSU0A|\n",
            "|WMhgjmJPSuTFL381tVEZRg|\n",
            "|iBtIOf5SrJdV0UPg4sxoEg|\n",
            "|c7fMALatVC5_lzgeP88FlQ|\n",
            "|IPGCGImT5tsLWWpLbvmLZQ|\n",
            "|qzz9Q-hKfOqgqoNncXr7MQ|\n",
            "+----------------------+\n",
            "only showing top 10 rows\n",
            "\n"
          ],
          "name": "stdout"
        }
      ]
    },
    {
      "cell_type": "code",
      "metadata": {
        "id": "YvT4V4hIK_KS",
        "colab_type": "code",
        "outputId": "dbd530d9-eb4b-4aa0-c5e0-916c41b1ab9e",
        "colab": {
          "base_uri": "https://localhost:8080/",
          "height": 419
        }
      },
      "source": [
        "u_id = '5sNyAM0gX8pZyS867k6vdw'\n",
        "\n",
        "query = \"\"\"\n",
        "select business_id, count(*) as 4_5_stars_count \n",
        "from reviews\n",
        "where user_id in\n",
        "    (select f.friend_id from friends f\n",
        "    inner join users u on f.friend_id = u.user_id\n",
        "    where f.user_id = \"{}\") \n",
        "and stars >= 4\n",
        "and business_id not in (select business_id from reviews where user_id = \"{}\")\n",
        "group by business_id\n",
        "order by count(*) desc limit 100\n",
        "\"\"\".format(u_id, u_id)\n",
        "\n",
        "friend_recoms_df = spark.sql(query)\n",
        "\n",
        "friend_recoms_df.toPandas()"
      ],
      "execution_count": 0,
      "outputs": [
        {
          "output_type": "execute_result",
          "data": {
            "text/html": [
              "<div>\n",
              "<style scoped>\n",
              "    .dataframe tbody tr th:only-of-type {\n",
              "        vertical-align: middle;\n",
              "    }\n",
              "\n",
              "    .dataframe tbody tr th {\n",
              "        vertical-align: top;\n",
              "    }\n",
              "\n",
              "    .dataframe thead th {\n",
              "        text-align: right;\n",
              "    }\n",
              "</style>\n",
              "<table border=\"1\" class=\"dataframe\">\n",
              "  <thead>\n",
              "    <tr style=\"text-align: right;\">\n",
              "      <th></th>\n",
              "      <th>business_id</th>\n",
              "      <th>4_5_stars_count</th>\n",
              "    </tr>\n",
              "  </thead>\n",
              "  <tbody>\n",
              "    <tr>\n",
              "      <th>0</th>\n",
              "      <td>mz1zD5_eqyCQNuzAqB_iKg</td>\n",
              "      <td>2</td>\n",
              "    </tr>\n",
              "    <tr>\n",
              "      <th>1</th>\n",
              "      <td>zpoZ6WyQUYff18-z4ZU1mA</td>\n",
              "      <td>2</td>\n",
              "    </tr>\n",
              "    <tr>\n",
              "      <th>2</th>\n",
              "      <td>O_C-2kZMHGnq3ZDL_OaG6Q</td>\n",
              "      <td>2</td>\n",
              "    </tr>\n",
              "    <tr>\n",
              "      <th>3</th>\n",
              "      <td>D6K3VT6S8FwFm4u5uN8T8g</td>\n",
              "      <td>2</td>\n",
              "    </tr>\n",
              "    <tr>\n",
              "      <th>4</th>\n",
              "      <td>OHFH6ALQqq35NiEbD1eXuw</td>\n",
              "      <td>2</td>\n",
              "    </tr>\n",
              "    <tr>\n",
              "      <th>...</th>\n",
              "      <td>...</td>\n",
              "      <td>...</td>\n",
              "    </tr>\n",
              "    <tr>\n",
              "      <th>95</th>\n",
              "      <td>LklWSvyLZXN3tEGxT8rIfg</td>\n",
              "      <td>1</td>\n",
              "    </tr>\n",
              "    <tr>\n",
              "      <th>96</th>\n",
              "      <td>CSaVK9wgqe2_tQuuCDINyQ</td>\n",
              "      <td>1</td>\n",
              "    </tr>\n",
              "    <tr>\n",
              "      <th>97</th>\n",
              "      <td>vL9L9NZ-LOVXeA4XuwNz1g</td>\n",
              "      <td>1</td>\n",
              "    </tr>\n",
              "    <tr>\n",
              "      <th>98</th>\n",
              "      <td>dzKDFiWLkspVBJKGfT0M2g</td>\n",
              "      <td>1</td>\n",
              "    </tr>\n",
              "    <tr>\n",
              "      <th>99</th>\n",
              "      <td>h19bR52xQ9fQWGMTSbjnbw</td>\n",
              "      <td>1</td>\n",
              "    </tr>\n",
              "  </tbody>\n",
              "</table>\n",
              "<p>100 rows × 2 columns</p>\n",
              "</div>"
            ],
            "text/plain": [
              "               business_id  4_5_stars_count\n",
              "0   mz1zD5_eqyCQNuzAqB_iKg                2\n",
              "1   zpoZ6WyQUYff18-z4ZU1mA                2\n",
              "2   O_C-2kZMHGnq3ZDL_OaG6Q                2\n",
              "3   D6K3VT6S8FwFm4u5uN8T8g                2\n",
              "4   OHFH6ALQqq35NiEbD1eXuw                2\n",
              "..                     ...              ...\n",
              "95  LklWSvyLZXN3tEGxT8rIfg                1\n",
              "96  CSaVK9wgqe2_tQuuCDINyQ                1\n",
              "97  vL9L9NZ-LOVXeA4XuwNz1g                1\n",
              "98  dzKDFiWLkspVBJKGfT0M2g                1\n",
              "99  h19bR52xQ9fQWGMTSbjnbw                1\n",
              "\n",
              "[100 rows x 2 columns]"
            ]
          },
          "metadata": {
            "tags": []
          },
          "execution_count": 32
        }
      ]
    },
    {
      "cell_type": "code",
      "metadata": {
        "id": "ATQJEbgtLCff",
        "colab_type": "code",
        "outputId": "5ac397cf-7d60-46b8-b037-76e179b8aa9c",
        "colab": {
          "base_uri": "https://localhost:8080/",
          "height": 359
        }
      },
      "source": [
        "\n",
        "friend_recoms_df = friend_recoms_df.sample(False, 0.5).limit(10)\n",
        "friend_recoms_df.toPandas()"
      ],
      "execution_count": 0,
      "outputs": [
        {
          "output_type": "execute_result",
          "data": {
            "text/html": [
              "<div>\n",
              "<style scoped>\n",
              "    .dataframe tbody tr th:only-of-type {\n",
              "        vertical-align: middle;\n",
              "    }\n",
              "\n",
              "    .dataframe tbody tr th {\n",
              "        vertical-align: top;\n",
              "    }\n",
              "\n",
              "    .dataframe thead th {\n",
              "        text-align: right;\n",
              "    }\n",
              "</style>\n",
              "<table border=\"1\" class=\"dataframe\">\n",
              "  <thead>\n",
              "    <tr style=\"text-align: right;\">\n",
              "      <th></th>\n",
              "      <th>business_id</th>\n",
              "      <th>4_5_stars_count</th>\n",
              "    </tr>\n",
              "  </thead>\n",
              "  <tbody>\n",
              "    <tr>\n",
              "      <th>0</th>\n",
              "      <td>PYrA0thkuLCVAknUHYhVEQ</td>\n",
              "      <td>2</td>\n",
              "    </tr>\n",
              "    <tr>\n",
              "      <th>1</th>\n",
              "      <td>D6K3VT6S8FwFm4u5uN8T8g</td>\n",
              "      <td>2</td>\n",
              "    </tr>\n",
              "    <tr>\n",
              "      <th>2</th>\n",
              "      <td>mz1zD5_eqyCQNuzAqB_iKg</td>\n",
              "      <td>2</td>\n",
              "    </tr>\n",
              "    <tr>\n",
              "      <th>3</th>\n",
              "      <td>OHFH6ALQqq35NiEbD1eXuw</td>\n",
              "      <td>2</td>\n",
              "    </tr>\n",
              "    <tr>\n",
              "      <th>4</th>\n",
              "      <td>364hhL5st0LV16UcBHRJ3A</td>\n",
              "      <td>2</td>\n",
              "    </tr>\n",
              "    <tr>\n",
              "      <th>5</th>\n",
              "      <td>8SwMaPL6AJIs1ZPSZ3NJ4w</td>\n",
              "      <td>2</td>\n",
              "    </tr>\n",
              "    <tr>\n",
              "      <th>6</th>\n",
              "      <td>MgSd4P3ATkiywbbraFygHg</td>\n",
              "      <td>1</td>\n",
              "    </tr>\n",
              "    <tr>\n",
              "      <th>7</th>\n",
              "      <td>rbH0HuTcBvZBbiAnqufRqQ</td>\n",
              "      <td>1</td>\n",
              "    </tr>\n",
              "    <tr>\n",
              "      <th>8</th>\n",
              "      <td>FS0SA_ysgXsQEe6aCaIrKQ</td>\n",
              "      <td>1</td>\n",
              "    </tr>\n",
              "    <tr>\n",
              "      <th>9</th>\n",
              "      <td>0YG_kM5caZhtwd6nbnei6A</td>\n",
              "      <td>1</td>\n",
              "    </tr>\n",
              "  </tbody>\n",
              "</table>\n",
              "</div>"
            ],
            "text/plain": [
              "              business_id  4_5_stars_count\n",
              "0  PYrA0thkuLCVAknUHYhVEQ                2\n",
              "1  D6K3VT6S8FwFm4u5uN8T8g                2\n",
              "2  mz1zD5_eqyCQNuzAqB_iKg                2\n",
              "3  OHFH6ALQqq35NiEbD1eXuw                2\n",
              "4  364hhL5st0LV16UcBHRJ3A                2\n",
              "5  8SwMaPL6AJIs1ZPSZ3NJ4w                2\n",
              "6  MgSd4P3ATkiywbbraFygHg                1\n",
              "7  rbH0HuTcBvZBbiAnqufRqQ                1\n",
              "8  FS0SA_ysgXsQEe6aCaIrKQ                1\n",
              "9  0YG_kM5caZhtwd6nbnei6A                1"
            ]
          },
          "metadata": {
            "tags": []
          },
          "execution_count": 33
        }
      ]
    },
    {
      "cell_type": "code",
      "metadata": {
        "id": "ULk6Beg3YXiY",
        "colab_type": "code",
        "colab": {}
      },
      "source": [
        "def getBusinessDetails(in_bus):\n",
        "    \n",
        "    a = in_bus.alias(\"a\")\n",
        "    b = business.alias(\"b\")\n",
        "    \n",
        "    return a.join(b, col(\"a.business_id\") == col(\"b.business_id\"), 'inner') \\\n",
        "             .select([col('a.'+xx) for xx in a.columns] + [col('b.business_name'),col('b.categories'),\n",
        "                                                           col('b.stars'),col('b.review_count'),\n",
        "                                                           col('b.latitude'),col('b.longitude')])"
      ],
      "execution_count": 0,
      "outputs": []
    },
    {
      "cell_type": "code",
      "metadata": {
        "id": "zxRGwViCYed_",
        "colab_type": "code",
        "colab": {}
      },
      "source": [
        "def showInMap(df):\n",
        "    \n",
        "    mp = folium.Map(location=[36.1699, -115.1398], zoom_start=12)\n",
        "\n",
        "    for i, r in df.toPandas().iterrows():\n",
        "        folium.Marker(\n",
        "                    location =[float(r.latitude), float(r.longitude)], \n",
        "                    popup = html.escape(r[\"business_name\"]) + '<br>' + 'Stars: ' + str(r.stars) + '<br>' + 'Reviews: ' + str(r.review_count),    \n",
        "                    icon = folium.Icon(color='orange')).add_to(mp)\n",
        "    return mp"
      ],
      "execution_count": 0,
      "outputs": []
    },
    {
      "cell_type": "code",
      "metadata": {
        "id": "xxGEt4UiM4TF",
        "colab_type": "code",
        "outputId": "92bc7b4b-002c-4c3e-cc2a-725ec6cdc4cc",
        "colab": {
          "base_uri": "https://localhost:8080/",
          "height": 136
        }
      },
      "source": [
        "query = \"\"\"\n",
        "select business_id,user_id, count(*) as 4_5_stars_count\n",
        "from reviews\n",
        "where user_id in\n",
        "    (select f.friend_id from friends f\n",
        "    inner join users u on f.friend_id = u.user_id\n",
        "    where f.user_id = \"{}\") \n",
        "and stars >= 4 \n",
        "and business_id not in (select business_id from reviews where user_id = \"{}\")\n",
        "group by business_id,user_id\n",
        "order by count(*) desc limit 100\n",
        "\"\"\".format(u_id, u_id)\n",
        "\n",
        "friend_recoms_df = spark.sql(query)\n",
        "print(friend_recoms_df.printSchema())\n",
        "#friend_recoms_df = friend_recoms_df.withColumn(col('user_id'),u_id).limit(sim_bus_limit)\n",
        "print(friend_recoms_df.count())"
      ],
      "execution_count": 0,
      "outputs": [
        {
          "output_type": "stream",
          "text": [
            "root\n",
            " |-- business_id: string (nullable = true)\n",
            " |-- user_id: string (nullable = true)\n",
            " |-- 4_5_stars_count: long (nullable = false)\n",
            "\n",
            "None\n",
            "26\n"
          ],
          "name": "stdout"
        }
      ]
    },
    {
      "cell_type": "code",
      "metadata": {
        "id": "FrsyYdWMaK_o",
        "colab_type": "code",
        "colab": {}
      },
      "source": [
        "def getFriendRecoms(u_id, sim_bus_limit=10):\n",
        "    \n",
        "    query = \"\"\"\n",
        "    select business_id, user_id,count(*) as 4_5_stars_count\n",
        "    from reviews\n",
        "    where user_id in\n",
        "        (select f.friend_id from friends f\n",
        "        inner join users u on f.friend_id = u.user_id\n",
        "        where f.user_id = \"{}\") \n",
        "    and stars >= 4 \n",
        "    and business_id not in (select business_id from reviews where user_id = \"{}\")\n",
        "    group by business_id,user_id\n",
        "    order by count(*) desc limit 100\n",
        "    \"\"\".format(u_id, u_id)\n",
        "\n",
        "    friend_recoms_df = spark.sql(query).limit(sim_bus_limit)\n",
        "    \n",
        "    return getBusinessDetails(friend_recoms_df)"
      ],
      "execution_count": 0,
      "outputs": []
    },
    {
      "cell_type": "code",
      "metadata": {
        "id": "dqULHhkLfSAv",
        "colab_type": "code",
        "outputId": "1d489b1c-e7c4-4a60-ac39-e4fb4d2fe958",
        "colab": {
          "base_uri": "https://localhost:8080/",
          "height": 289
        }
      },
      "source": [
        "\n",
        "u_id = 'ObQl16Vuc4sHPGKtzSGNUw'\n",
        "result_df1 = getFriendRecoms(u_id)\n",
        "print(result_df1.show())"
      ],
      "execution_count": 0,
      "outputs": [
        {
          "output_type": "stream",
          "text": [
            "+--------------------+--------------------+---------------+--------------------+--------------------+-----+------------+-------------+---------------+\n",
            "|         business_id|             user_id|4_5_stars_count|       business_name|          categories|stars|review_count|     latitude|      longitude|\n",
            "+--------------------+--------------------+---------------+--------------------+--------------------+-----+------------+-------------+---------------+\n",
            "|d_L-rfS1vT3JMzgCU...|s-591-mtIyP7F1Lff...|              1|        Border Grill|Breakfast & Brunc...|  4.0|        1623|36.0900669068|-115.1769728974|\n",
            "|XZbuPXdyA0ZtTu3Az...|s-591-mtIyP7F1Lff...|              1|          Mesa Grill|American (Traditi...|  4.0|        3268|36.1171245659| -115.174792707|\n",
            "|K0j_Znzin0jShXVnp...|s-591-mtIyP7F1Lff...|              1|               Jaleo|American (New), R...|  3.5|        1221|    36.109889|    -115.174144|\n",
            "|RESDUcs7fIiihp38-...|s-591-mtIyP7F1Lff...|              1|    Bacchanal Buffet|Restaurants, Buff...|  4.0|        8339|    36.116113|    -115.176222|\n",
            "|wX1ORSDKPkA5ftE7F...|s-591-mtIyP7F1Lff...|              1|Strip N Dip Chick...|Chicken Shop, Res...|  4.5|         787|   36.1714234|   -115.2452456|\n",
            "|pHA8wyVcrkhI4wQ3m...|s-591-mtIyP7F1Lff...|              1|Which Wich Superi...|Sandwiches, Resta...|  3.5|         209|36.1991721483|-115.2418087957|\n",
            "|wlQCPszSqUi2xpGqZ...|s-591-mtIyP7F1Lff...|              1|       Biscuits Cafe|Cafes, Restaurant...|  3.5|         263|    36.143431|    -115.275792|\n",
            "|cYwJA2A6I12KNkm2r...|s-591-mtIyP7F1Lff...|              1| Gordon Ramsay BurGR|Restaurants, Burg...|  4.0|        5484|    36.110724|    -115.172169|\n",
            "|pKk7jCFIm96qDdk0l...|s-591-mtIyP7F1Lff...|              1|          StripSteak|American (New), R...|  4.0|        1169|36.0911934011|-115.1765743919|\n",
            "|-YCd2_DdJUeZx3RRc...|s-591-mtIyP7F1Lff...|              1|           Taco Bell|Tex-Mex, Mexican,...|  2.5|          29|36.1244924541|-115.2793863377|\n",
            "+--------------------+--------------------+---------------+--------------------+--------------------+-----+------------+-------------+---------------+\n",
            "\n",
            "None\n"
          ],
          "name": "stdout"
        }
      ]
    },
    {
      "cell_type": "code",
      "metadata": {
        "id": "md68Q3kkPQhF",
        "colab_type": "code",
        "outputId": "2a2cfb80-502d-439b-f59e-60d04fc318d7",
        "colab": {
          "base_uri": "https://localhost:8080/",
          "height": 204
        }
      },
      "source": [
        "result_df.printSchema()"
      ],
      "execution_count": 0,
      "outputs": [
        {
          "output_type": "stream",
          "text": [
            "root\n",
            " |-- business_id: string (nullable = true)\n",
            " |-- user_id: string (nullable = true)\n",
            " |-- 4_5_stars_count: long (nullable = false)\n",
            " |-- business_name: string (nullable = true)\n",
            " |-- categories: string (nullable = true)\n",
            " |-- stars: string (nullable = true)\n",
            " |-- review_count: string (nullable = true)\n",
            " |-- latitude: string (nullable = true)\n",
            " |-- longitude: string (nullable = true)\n",
            "\n"
          ],
          "name": "stdout"
        }
      ]
    },
    {
      "cell_type": "code",
      "metadata": {
        "id": "b3Igvb_IfuOG",
        "colab_type": "code",
        "colab": {}
      },
      "source": [
        "result_df.coalesce(1).write.parquet(\"/content/drive/My Drive/Project /Data Mining/Dataset/Result/Final/friend_result.parquet\")"
      ],
      "execution_count": 0,
      "outputs": []
    },
    {
      "cell_type": "code",
      "metadata": {
        "id": "9hjG0YtDaZli",
        "colab_type": "code",
        "outputId": "078ff276-aed8-44e9-9647-1eedc147ab50",
        "colab": {
          "base_uri": "https://localhost:8080/",
          "height": 799
        }
      },
      "source": [
        "showInMap(friend_recom_df)"
      ],
      "execution_count": 0,
      "outputs": [
        {
          "output_type": "execute_result",
          "data": {
            "text/html": [
              "<div style=\"width:100%;\"><div style=\"position:relative;width:100%;height:0;padding-bottom:60%;\"><iframe src=\"data:text/html;charset=utf-8;base64,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\" style=\"position:absolute;width:100%;height:100%;left:0;top:0;border:none !important;\" allowfullscreen webkitallowfullscreen mozallowfullscreen></iframe></div></div>"
            ],
            "text/plain": [
              "<folium.folium.Map at 0x7f03a28e5ba8>"
            ]
          },
          "metadata": {
            "tags": []
          },
          "execution_count": 44
        }
      ]
    },
    {
      "cell_type": "code",
      "metadata": {
        "id": "MKfBcT9malXX",
        "colab_type": "code",
        "colab": {}
      },
      "source": [
        ""
      ],
      "execution_count": 0,
      "outputs": []
    }
  ]
}